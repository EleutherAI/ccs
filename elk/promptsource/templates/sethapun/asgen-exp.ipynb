{
 "cells": [
  {
   "cell_type": "code",
   "execution_count": 17,
   "metadata": {},
   "outputs": [],
   "source": [
    "import os\n",
    "import yaml\n",
    "\n",
    "jinja_str = [\n",
    "    'The following is a math problem. You will need to answer correctly. {% if label == 1 %}Is {{expression}} = {{answer}}?{% else %}Is {{expression}} != {{answer}}?{% endif %}',\n",
    "    'Please answer the following math problem correctly. {% if label == 1 %}Is {{expression}} the result of answer {{answer}}?{% else %}Is {{expression}} not the result of {{answer}}?{% endif %}',\n",
    "    'The following is a math problem. You will need to answer correctly. {% if label = 1 %}The answer to {{expression}} is {{answer}}. {% else %}The answer to {{expression}} is not {{answer}}. {% endif %}',\n",
    "    'Please answer the following math problem correctly. {% if label = 1 %}{{expression}} = {{answer}}. {% else %}{{expression}} ≠ {{answer}}.{% endif %}',\n",
    "    'The following is a math problem. You will need to answer correctly. {% if label == 1 %}{{answer}} is the result of {{expression}}. {% else %}{{answer}} is not the result of {{expression}}.{% endif %}', \n",
    "    'Please answer the following math problem correctly. {% if label == 1 %}Is {{answer}} = {{expression}}. {% else %}Is {{answer}} ≠ {{expression}}? {% endif %}',\n",
    "    'The following is a math problem. You will need to answer correctly. {% if label == 1 %}{{answer}} = {{expression}}. {% else %}{{answer}} ≠ {{expression}} {% endif %}',\n",
    "    'Please answer the following math problem correctly. {% if label == 1 %}{{expression}} evaluates to {{answer}}. {% else %}{{expression}} does not evaluate to {{answer}}. {% endif %}',\n",
    "    'The following is a math problem. You will need to answer correctly. {% if label == 1 %}The result of {{expression}} is {{answer}}. {% else %}.The result of {{expression}} is not {{answer}}.{% endif %}'\n",
    "]\n",
    "\n",
    "for x in [1, 5, 10, 50, 100, 500, 1000]:\n",
    "    folder_name = f'arithmetic_2as_1to{x}'\n",
    "    os.makedirs(folder_name, exist_ok=True)\n",
    "\n",
    "    with open(os.path.join(folder_name, 'templates.yaml'), 'w') as f:\n",
    "        f.write(\"dataset: sethapun/arithmetic_2as_1to\" + str(x) + \"\\n\")\n",
    "        f.write(\"templates:\\n\")\n",
    "        for i in range(len(jinja_str)):\n",
    "            template_id = f'a{x:07d}-f0b3-3bcc-a821-f280d3ee{i:04d}'\n",
    "            template_name = f'aras{x}_{i}'\n",
    "            answer_choices = 'False ||| True' if \"true or false\" in jinja_str[i] else 'No ||| Yes'\n",
    "            f.write(f\"  {template_id}: !Template\\n\")\n",
    "            f.write(f\"    answer_choices: {answer_choices}\\n\")\n",
    "            f.write(f\"    id: a{x:07d}-f0b3-3bcc-a821-f280d3ee{i:04d}\\n\")\n",
    "            f.write(f\"    jinja: '{jinja_str[i]}'\\n\")\n",
    "            f.write(\"    metadata: !TemplateMetadata\\n\")\n",
    "            f.write(\"      choices_in_prompt: false\\n\")\n",
    "            f.write(\"      languages:\\n\")\n",
    "            f.write(\"      - en\\n\")\n",
    "            f.write(\"      metrics:\\n\")\n",
    "            f.write(\"      - Accuracy\\n\")\n",
    "            f.write(\"      original_task: true\\n\")\n",
    "            f.write(f\"    name: {template_name}\\n\")\n",
    "            f.write(\"    reference: ''\\n\")\n"
   ]
  }
 ],
 "metadata": {
  "kernelspec": {
   "display_name": "base",
   "language": "python",
   "name": "python3"
  },
  "language_info": {
   "codemirror_mode": {
    "name": "ipython",
    "version": 3
   },
   "file_extension": ".py",
   "mimetype": "text/x-python",
   "name": "python",
   "nbconvert_exporter": "python",
   "pygments_lexer": "ipython3",
   "version": "3.10.9"
  },
  "orig_nbformat": 4
 },
 "nbformat": 4,
 "nbformat_minor": 2
}
