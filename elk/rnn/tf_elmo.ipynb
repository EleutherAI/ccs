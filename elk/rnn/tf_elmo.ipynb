{
 "cells": [
  {
   "cell_type": "code",
   "execution_count": 10,
   "metadata": {},
   "outputs": [
    {
     "name": "stderr",
     "output_type": "stream",
     "text": [
      "2023-04-15 22:27:55.454101: I tensorflow/core/common_runtime/executor.cc:1197] [/device:CPU:0] (DEBUG INFO) Executor start aborting (this does not indicate an error and you can ignore this message): INVALID_ARGUMENT: You must feed a value for placeholder tensor 'unused_control_flow_input_91' with dtype int32\n",
      "\t [[{{node unused_control_flow_input_91}}]]\n",
      "2023-04-15 22:27:55.972729: I tensorflow/core/common_runtime/executor.cc:1197] [/device:CPU:0] (DEBUG INFO) Executor start aborting (this does not indicate an error and you can ignore this message): INVALID_ARGUMENT: You must feed a value for placeholder tensor 'unused_control_flow_input_93' with dtype int32\n",
      "\t [[{{node unused_control_flow_input_93}}]]\n",
      "2023-04-15 22:27:56.478043: I tensorflow/core/common_runtime/executor.cc:1197] [/device:CPU:0] (DEBUG INFO) Executor start aborting (this does not indicate an error and you can ignore this message): INVALID_ARGUMENT: You must feed a value for placeholder tensor 'unused_control_flow_input_81' with dtype int32\n",
      "\t [[{{node unused_control_flow_input_81}}]]\n",
      "2023-04-15 22:27:56.515127: I tensorflow/core/common_runtime/executor.cc:1197] [/device:CPU:0] (DEBUG INFO) Executor start aborting (this does not indicate an error and you can ignore this message): INVALID_ARGUMENT: You must feed a value for placeholder tensor 'unused_control_flow_input_98' with dtype int32\n",
      "\t [[{{node unused_control_flow_input_98}}]]\n"
     ]
    }
   ],
   "source": [
    "import tensorflow_hub as hub\n",
    "import tensorflow as tf\n",
    "elmo = hub.load(\"https://tfhub.dev/google/elmo/3\").signatures[\"default\"]"
   ]
  },
  {
   "cell_type": "code",
   "execution_count": 13,
   "metadata": {},
   "outputs": [
    {
     "data": {
      "text/plain": [
       "<tf.Tensor: shape=(1, 9, 1024), dtype=float32, numpy=\n",
       "array([[[-0.05932228, -0.1326235 , -0.12817797, ...,  0.05492053,\n",
       "          0.55205786, -0.15840803],\n",
       "        [ 0.06928135,  0.28926367,  0.3717891 , ..., -0.22099999,\n",
       "          0.6793192 ,  1.0836272 ],\n",
       "        [ 0.0262635 ,  0.169811  , -0.1404518 , ..., -0.5370391 ,\n",
       "          0.96461594,  0.7538884 ],\n",
       "        ...,\n",
       "        [-0.09166455,  0.19069326, -0.14435157, ..., -0.8409722 ,\n",
       "          0.3632321 , -0.41222334],\n",
       "        [ 0.400427  , -0.02149598,  0.38504004, ...,  0.4986915 ,\n",
       "          0.07260805, -0.35825977],\n",
       "        [ 0.10684166,  0.23578395, -0.43084237, ...,  0.06925954,\n",
       "         -0.14734796,  0.13421628]]], dtype=float32)>"
      ]
     },
     "execution_count": 13,
     "metadata": {},
     "output_type": "execute_result"
    }
   ],
   "source": [
    "\n",
    "# Provide input tensor and create embeddings\n",
    "input_tensor = [\"my birthday is the best day of the year\"]\n",
    "embeddings_tensor = elmo(tf.constant(input_tensor))\n",
    "embeddings_tensor[\"elmo\"]\n",
    "\n",
    "#, signature=\"default\", as_dict=True)\n",
    "\n",
    "# #with tf.Session() as sess:\n",
    "#    # sess.run(tf.global_variables_initializer())\n",
    "#     #embeddings = sess.run(embeddings_tensor)\n",
    "# print(embeddings_tensor.shape)\n",
    "# print(embeddings_tensor)\n"
   ]
  },
  {
   "cell_type": "code",
   "execution_count": 21,
   "metadata": {},
   "outputs": [
    {
     "data": {
      "text/plain": [
       "torch.Size([1, 9, 1024])"
      ]
     },
     "execution_count": 21,
     "metadata": {},
     "output_type": "execute_result"
    }
   ],
   "source": [
    "import torch\n",
    "torch.tensor(embeddings_tensor[\"elmo\"].numpy().tolist()).shape"
   ]
  },
  {
   "cell_type": "code",
   "execution_count": 19,
   "metadata": {},
   "outputs": [
    {
     "data": {
      "text/plain": [
       "torch.Size([1, 1024])"
      ]
     },
     "execution_count": 19,
     "metadata": {},
     "output_type": "execute_result"
    }
   ],
   "source": [
    "torch.tensor(embeddings_tensor[\"elmo\"].numpy()).mean(dim=1).shape"
   ]
  },
  {
   "cell_type": "code",
   "execution_count": 36,
   "metadata": {},
   "outputs": [
    {
     "name": "stderr",
     "output_type": "stream",
     "text": [
      "2023-04-15 22:46:14.007433: I tensorflow/core/common_runtime/executor.cc:1197] [/device:CPU:0] (DEBUG INFO) Executor start aborting (this does not indicate an error and you can ignore this message): INVALID_ARGUMENT: You must feed a value for placeholder tensor 'unused_control_flow_input_104' with dtype int32\n",
      "\t [[{{node unused_control_flow_input_104}}]]\n"
     ]
    },
    {
     "data": {
      "text/plain": [
       "tensor([[[-0.0593, -0.1326, -0.1282,  ..., -0.0418,  0.5802, -0.1217],\n",
       "         [ 0.0693,  0.2893,  0.3718,  ..., -0.2552,  0.7405,  1.0352],\n",
       "         [ 0.0263,  0.1698, -0.1405,  ..., -0.5142,  0.9700,  0.7551],\n",
       "         ...,\n",
       "         [ 0.4004, -0.0215,  0.3850,  ...,  0.4602, -0.0890, -0.2614],\n",
       "         [ 0.3009,  0.3644, -0.3623,  ..., -0.0338, -0.0043,  0.4348],\n",
       "         [-0.2264,  0.3154, -0.5068,  ..., -0.0725, -0.3217, -0.1728]],\n",
       "\n",
       "        [[-0.0593, -0.1326, -0.1282,  ..., -0.0325,  0.5926, -0.1301],\n",
       "         [ 0.0693,  0.2893,  0.3718,  ..., -0.2438,  0.7836,  1.0701],\n",
       "         [ 0.0263,  0.1698, -0.1405,  ..., -0.5472,  0.9500,  0.7168],\n",
       "         ...,\n",
       "         [ 0.4004, -0.0215,  0.3850,  ...,  0.3660, -0.0391, -0.2327],\n",
       "         [ 0.3009,  0.3644, -0.3623,  ...,  0.1528, -0.1047,  0.2576],\n",
       "         [ 0.1797, -0.0323, -0.7010,  ..., -0.1090, -0.0245,  0.2997]]])"
      ]
     },
     "execution_count": 36,
     "metadata": {},
     "output_type": "execute_result"
    }
   ],
   "source": [
    "from transformers import (\n",
    "    PretrainedConfig,\n",
    "    PreTrainedModel,\n",
    "    PreTrainedTokenizer,\n",
    ")\n",
    "\n",
    "class ElmoConfig(PretrainedConfig):\n",
    "    def __init__(self, **kwargs):\n",
    "        super().__init__(**kwargs)\n",
    "        self.hidden_size = 1024\n",
    "        self.num_hidden_layers = 1\n",
    "        self.is_encoder_decoder = False\n",
    "        self.architectures = [\"Elmo\"]\n",
    "\n",
    "class TfElmoTokenizer(PreTrainedTokenizer):\n",
    "\n",
    "    def __call__(\n",
    "        self, text, return_tensors, truncation, return_offsets_mapping, text_target\n",
    "    ):\n",
    "        return text\n",
    "\n",
    "    @staticmethod\n",
    "    def from_pretrained(path):\n",
    "        return TfElmoTokenizer()\n",
    "\n",
    "\n",
    "class TfElmoModel(PreTrainedModel):\n",
    "    def __init__(self):\n",
    "        super().__init__(config=ElmoConfig())\n",
    "        self.elmo_model = hub.load(\"https://tfhub.dev/google/elmo/3\").signatures[\"default\"]\n",
    "\n",
    "    def forward(\n",
    "        self,\n",
    "        input_ids,\n",
    "        attention_mask=None,\n",
    "        token_type_ids=None,\n",
    "        position_ids=None,\n",
    "        head_mask=None,\n",
    "        labels=None,\n",
    "    ):\n",
    "        embeddings_tensor = self.elmo_model(tf.constant(input_ids))\n",
    "        elmo_embeddings = embeddings_tensor[\"elmo\"]\n",
    "        return torch.tensor(elmo_embeddings.numpy())\n",
    "\n",
    "\n",
    "    @staticmethod\n",
    "    def from_pretrained(path):\n",
    "        return TfElmoModel()\n",
    "\n",
    "sequences = [\n",
    "    \"my birthday is the best day of the year: yes\",\n",
    "    \"my birthday is the best day of the year: no\",\n",
    "]\n",
    "\n",
    "tokenizer = TfElmoTokenizer.from_pretrained(\"\")\n",
    "model = TfElmoModel.from_pretrained(\"\")\n",
    "input = tokenizer(sequences, True, None, None, None)\n",
    "model(input)"
   ]
  },
  {
   "cell_type": "code",
   "execution_count": 37,
   "metadata": {},
   "outputs": [
    {
     "data": {
      "text/plain": [
       "torch.Size([2, 10, 1024])"
      ]
     },
     "execution_count": 37,
     "metadata": {},
     "output_type": "execute_result"
    }
   ],
   "source": [
    "model(input).shape"
   ]
  },
  {
   "cell_type": "code",
   "execution_count": 38,
   "metadata": {},
   "outputs": [
    {
     "data": {
      "text/plain": [
       "torch.Size([2, 1024])"
      ]
     },
     "execution_count": 38,
     "metadata": {},
     "output_type": "execute_result"
    }
   ],
   "source": [
    "torch.mean(model(input), dim=1).shape"
   ]
  },
  {
   "cell_type": "code",
   "execution_count": null,
   "metadata": {},
   "outputs": [],
   "source": []
  }
 ],
 "metadata": {
  "kernelspec": {
   "display_name": "kyle-elk",
   "language": "python",
   "name": "python3"
  },
  "language_info": {
   "codemirror_mode": {
    "name": "ipython",
    "version": 3
   },
   "file_extension": ".py",
   "mimetype": "text/x-python",
   "name": "python",
   "nbconvert_exporter": "python",
   "pygments_lexer": "ipython3",
   "version": "3.10.10"
  },
  "orig_nbformat": 4
 },
 "nbformat": 4,
 "nbformat_minor": 2
}
