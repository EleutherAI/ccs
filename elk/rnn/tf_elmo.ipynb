{
 "cells": [
  {
   "cell_type": "code",
   "execution_count": null,
   "metadata": {},
   "outputs": [],
   "source": [
    "import tensorflow_hub as hub\n",
    "import tensorflow as tf\n",
    "elmo = hub.load(\"https://tfhub.dev/google/elmo/3\").signatures[\"default\"]"
   ]
  },
  {
   "cell_type": "code",
   "execution_count": null,
   "metadata": {},
   "outputs": [],
   "source": [
    "\n",
    "# Provide input tensor and create embeddings\n",
    "bad_review_text = 'George P. Cosmatos\\' \"Rambo: First Blood Part II\" is pure wish-fulfillment. The United States clearly didn\\'t win the war in Vietnam. They caused damage to this country beyond the imaginable and this movie continues the fairy story of the oh-so innocent soldiers. The only bad guys were the leaders of the nation, who made this war happen. The character of Rambo is perfect to notice this. He is extremely patriotic, bemoans that US-Americans didn\\'t appreciate and celebrate the achievements of the single soldier, but has nothing but distrust for leading officers and politicians. Like every film that defends the war (e.g. \"We Were Soldiers\") also this one avoids the need to give a comprehensible reason for the engagement in South Asia. And for that matter also the reason for every single US-American soldier that was there. Instead, Rambo gets to take revenge for the wounds of a whole nation. It would have been better to work on how to deal with the memories, rather than suppressing them. \"Do we get to win this time?\" Yes, you do.\\n\\nDid the reviewer find this movie good or bad? bad'\n",
    "good_review_text = 'George P. Cosmatos\\' \"Rambo: First Blood Part II\" is pure wish-fulfillment. The United States clearly didn\\'t win the war in Vietnam. They caused damage to this country beyond the imaginable and this movie continues the fairy story of the oh-so innocent soldiers. The only bad guys were the leaders of the nation, who made this war happen. The character of Rambo is perfect to notice this. He is extremely patriotic, bemoans that US-Americans didn\\'t appreciate and celebrate the achievements of the single soldier, but has nothing but distrust for leading officers and politicians. Like every film that defends the war (e.g. \"We Were Soldiers\") also this one avoids the need to give a comprehensible reason for the engagement in South Asia. And for that matter also the reason for every single US-American soldier that was there. Instead, Rambo gets to take revenge for the wounds of a whole nation. It would have been better to work on how to deal with the memories, rather than suppressing them. \"Do we get to win this time?\" Yes, you do.\\n\\nDid the reviewer find this movie good or bad? good'\n",
    "\n",
    "# input_tensor = [\"my birthday is the best day of the year\"]\n",
    "input_tensor = [bad_review_text, good_review_text]\n",
    "embeddings_tensor = elmo(tf.constant(input_tensor))\n",
    "embeddings_tensor[\"lstm_outputs1\"].shape\n",
    "\n",
    "#, signature=\"default\", as_dict=True)\n",
    "\n",
    "# #with tf.Session() as sess:\n",
    "#    # sess.run(tf.global_variables_initializer())\n",
    "#     #embeddings = sess.run(embeddings_tensor)\n",
    "# print(embeddings_tensor.shape)\n",
    "# print(embeddings_tensor)\n"
   ]
  },
  {
   "cell_type": "code",
   "execution_count": null,
   "metadata": {},
   "outputs": [],
   "source": [
    "import torch\n",
    "torch.tensor(embeddings_tensor[\"elmo\"].numpy().tolist()).shape"
   ]
  },
  {
   "cell_type": "code",
   "execution_count": null,
   "metadata": {},
   "outputs": [],
   "source": [
    "torch.tensor(embeddings_tensor[\"elmo\"].numpy()).mean(dim=1).shape"
   ]
  },
  {
   "cell_type": "code",
   "execution_count": null,
   "metadata": {},
   "outputs": [],
   "source": [
    "from transformers import (\n",
    "    PretrainedConfig,\n",
    "    PreTrainedModel,\n",
    "    PreTrainedTokenizer,\n",
    ")\n",
    "\n",
    "class ElmoConfig(PretrainedConfig):\n",
    "    def __init__(self, **kwargs):\n",
    "        super().__init__(**kwargs)\n",
    "        self.hidden_size = 1024\n",
    "        self.num_hidden_layers = 1\n",
    "        self.is_encoder_decoder = False\n",
    "        self.architectures = [\"Elmo\"]\n",
    "\n",
    "class TfElmoTokenizer(PreTrainedTokenizer):\n",
    "\n",
    "    def __call__(\n",
    "        self, text, return_tensors, truncation, return_offsets_mapping, text_target\n",
    "    ):\n",
    "        return text\n",
    "\n",
    "    @staticmethod\n",
    "    def from_pretrained(path):\n",
    "        return TfElmoTokenizer()\n",
    "\n",
    "\n",
    "class TfElmoModel(PreTrainedModel):\n",
    "    def __init__(self):\n",
    "        super().__init__(config=ElmoConfig())\n",
    "        self.elmo_model = hub.load(\"https://tfhub.dev/google/elmo/3\").signatures[\"default\"]\n",
    "\n",
    "    def forward(\n",
    "        self,\n",
    "        input_ids,\n",
    "        attention_mask=None,\n",
    "        token_type_ids=None,\n",
    "        position_ids=None,\n",
    "        head_mask=None,\n",
    "        labels=None,\n",
    "    ):\n",
    "        embeddings_tensor = self.elmo_model(tf.constant(input_ids))\n",
    "        elmo_embeddings = embeddings_tensor[\"elmo\"]\n",
    "        return torch.tensor(elmo_embeddings.numpy())\n",
    "\n",
    "\n",
    "    @staticmethod\n",
    "    def from_pretrained(path):\n",
    "        return TfElmoModel()\n",
    "\n",
    "sequences = [\n",
    "    \"my birthday is the best day of the year: yes\",\n",
    "    \"my birthday is the best day of the year: no\",\n",
    "]\n",
    "\n",
    "tokenizer = TfElmoTokenizer.from_pretrained(\"\")\n",
    "model = TfElmoModel.from_pretrained(\"\")\n",
    "input = tokenizer(sequences, True, None, None, None)\n",
    "model(input)"
   ]
  },
  {
   "cell_type": "code",
   "execution_count": null,
   "metadata": {},
   "outputs": [],
   "source": [
    "model(input).shape"
   ]
  },
  {
   "cell_type": "code",
   "execution_count": null,
   "metadata": {},
   "outputs": [],
   "source": [
    "torch.mean(model(input), dim=1).shape"
   ]
  },
  {
   "cell_type": "code",
   "execution_count": null,
   "metadata": {},
   "outputs": [],
   "source": []
  }
 ],
 "metadata": {
  "kernelspec": {
   "display_name": "kyle-elk",
   "language": "python",
   "name": "python3"
  },
  "language_info": {
   "codemirror_mode": {
    "name": "ipython",
    "version": 3
   },
   "file_extension": ".py",
   "mimetype": "text/x-python",
   "name": "python",
   "nbconvert_exporter": "python",
   "pygments_lexer": "ipython3",
   "version": "3.10.10"
  },
  "orig_nbformat": 4
 },
 "nbformat": 4,
 "nbformat_minor": 2
}
