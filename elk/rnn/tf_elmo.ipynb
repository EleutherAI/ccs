{
 "cells": [
  {
   "cell_type": "code",
   "execution_count": 1,
   "metadata": {},
   "outputs": [
    {
     "name": "stderr",
     "output_type": "stream",
     "text": [
      "2023-04-16 00:27:29.776675: I tensorflow/core/platform/cpu_feature_guard.cc:182] This TensorFlow binary is optimized to use available CPU instructions in performance-critical operations.\n",
      "To enable the following instructions: AVX2 FMA, in other operations, rebuild TensorFlow with the appropriate compiler flags.\n",
      "2023-04-16 00:27:30.560038: W tensorflow/compiler/tf2tensorrt/utils/py_utils.cc:38] TF-TRT Warning: Could not find TensorRT\n",
      "2023-04-16 00:27:36.495638: I tensorflow/core/common_runtime/gpu/gpu_device.cc:1635] Created device /job:localhost/replica:0/task:0/device:GPU:0 with 46450 MB memory:  -> device: 0, name: NVIDIA A40, pci bus id: 0000:01:00.0, compute capability: 8.6\n",
      "2023-04-16 00:27:36.497133: I tensorflow/core/common_runtime/gpu/gpu_device.cc:1635] Created device /job:localhost/replica:0/task:0/device:GPU:1 with 46450 MB memory:  -> device: 1, name: NVIDIA A40, pci bus id: 0000:21:00.0, compute capability: 8.6\n",
      "2023-04-16 00:27:36.498334: I tensorflow/core/common_runtime/gpu/gpu_device.cc:1635] Created device /job:localhost/replica:0/task:0/device:GPU:2 with 46450 MB memory:  -> device: 2, name: NVIDIA A40, pci bus id: 0000:22:00.0, compute capability: 8.6\n",
      "2023-04-16 00:27:36.499551: I tensorflow/core/common_runtime/gpu/gpu_device.cc:1635] Created device /job:localhost/replica:0/task:0/device:GPU:3 with 46443 MB memory:  -> device: 3, name: NVIDIA A40, pci bus id: 0000:41:00.0, compute capability: 8.6\n",
      "2023-04-16 00:27:36.500776: I tensorflow/core/common_runtime/gpu/gpu_device.cc:1635] Created device /job:localhost/replica:0/task:0/device:GPU:4 with 46450 MB memory:  -> device: 4, name: NVIDIA A40, pci bus id: 0000:81:00.0, compute capability: 8.6\n",
      "2023-04-16 00:27:36.501971: I tensorflow/core/common_runtime/gpu/gpu_device.cc:1635] Created device /job:localhost/replica:0/task:0/device:GPU:5 with 38361 MB memory:  -> device: 5, name: NVIDIA A40, pci bus id: 0000:a1:00.0, compute capability: 8.6\n",
      "2023-04-16 00:27:36.503207: I tensorflow/core/common_runtime/gpu/gpu_device.cc:1635] Created device /job:localhost/replica:0/task:0/device:GPU:6 with 46450 MB memory:  -> device: 6, name: NVIDIA A40, pci bus id: 0000:c1:00.0, compute capability: 8.6\n",
      "2023-04-16 00:27:36.504396: I tensorflow/core/common_runtime/gpu/gpu_device.cc:1635] Created device /job:localhost/replica:0/task:0/device:GPU:7 with 46450 MB memory:  -> device: 7, name: NVIDIA A40, pci bus id: 0000:c2:00.0, compute capability: 8.6\n",
      "2023-04-16 00:27:38.539901: I tensorflow/core/common_runtime/executor.cc:1197] [/device:CPU:0] (DEBUG INFO) Executor start aborting (this does not indicate an error and you can ignore this message): INVALID_ARGUMENT: You must feed a value for placeholder tensor 'unused_control_flow_input_90' with dtype int32\n",
      "\t [[{{node unused_control_flow_input_90}}]]\n"
     ]
    }
   ],
   "source": [
    "import tensorflow_hub as hub\n",
    "import tensorflow as tf\n",
    "elmo = hub.load(\"https://tfhub.dev/google/elmo/3\").signatures[\"default\"]"
   ]
  },
  {
   "cell_type": "code",
   "execution_count": 2,
   "metadata": {},
   "outputs": [
    {
     "name": "stderr",
     "output_type": "stream",
     "text": [
      "2023-04-16 00:27:41.039352: I tensorflow/compiler/xla/stream_executor/cuda/cuda_blas.cc:637] TensorFloat-32 will be used for the matrix multiplication. This will only be logged once.\n",
      "2023-04-16 00:27:41.301856: I tensorflow/compiler/xla/stream_executor/cuda/cuda_dnn.cc:424] Loaded cuDNN version 8600\n",
      "2023-04-16 00:27:42.781362: I tensorflow/tsl/platform/default/subprocess.cc:304] Start cannot spawn child process: No such file or directory\n"
     ]
    },
    {
     "data": {
      "text/plain": [
       "<tf.Tensor: shape=(1, 9, 1024), dtype=float32, numpy=\n",
       "array([[[-0.05932376, -0.13270235, -0.12809725, ...,  0.05498327,\n",
       "          0.5519335 , -0.15849958],\n",
       "        [ 0.06924757,  0.2892886 ,  0.37162474, ..., -0.2211055 ,\n",
       "          0.67915773,  1.0837383 ],\n",
       "        [ 0.02628956,  0.1699    , -0.14044148, ..., -0.5370636 ,\n",
       "          0.9645198 ,  0.7539367 ],\n",
       "        ...,\n",
       "        [-0.09164497,  0.19059905, -0.14441213, ..., -0.84102106,\n",
       "          0.36322337, -0.4123026 ],\n",
       "        [ 0.40041718, -0.021569  ,  0.38504004, ...,  0.49860597,\n",
       "          0.07257305, -0.35831073],\n",
       "        [ 0.10679698,  0.23584764, -0.43082234, ...,  0.0692614 ,\n",
       "         -0.1473843 ,  0.13418657]]], dtype=float32)>"
      ]
     },
     "execution_count": 2,
     "metadata": {},
     "output_type": "execute_result"
    }
   ],
   "source": [
    "\n",
    "# Provide input tensor and create embeddings\n",
    "input_tensor = [\"my birthday is the best day of the year\"]\n",
    "embeddings_tensor = elmo(tf.constant(input_tensor))\n",
    "embeddings_tensor[\"elmo\"]\n",
    "\n",
    "#, signature=\"default\", as_dict=True)\n",
    "\n",
    "# #with tf.Session() as sess:\n",
    "#    # sess.run(tf.global_variables_initializer())\n",
    "#     #embeddings = sess.run(embeddings_tensor)\n",
    "# print(embeddings_tensor.shape)\n",
    "# print(embeddings_tensor)\n"
   ]
  },
  {
   "cell_type": "code",
   "execution_count": 3,
   "metadata": {},
   "outputs": [
    {
     "data": {
      "text/plain": [
       "torch.Size([1, 9, 1024])"
      ]
     },
     "execution_count": 3,
     "metadata": {},
     "output_type": "execute_result"
    }
   ],
   "source": [
    "import torch\n",
    "torch.tensor(embeddings_tensor[\"elmo\"].numpy().tolist()).shape"
   ]
  },
  {
   "cell_type": "code",
   "execution_count": 4,
   "metadata": {},
   "outputs": [
    {
     "data": {
      "text/plain": [
       "torch.Size([1, 1024])"
      ]
     },
     "execution_count": 4,
     "metadata": {},
     "output_type": "execute_result"
    }
   ],
   "source": [
    "torch.tensor(embeddings_tensor[\"elmo\"].numpy()).mean(dim=1).shape"
   ]
  },
  {
   "cell_type": "code",
   "execution_count": 5,
   "metadata": {},
   "outputs": [
    {
     "name": "stderr",
     "output_type": "stream",
     "text": [
      "/home/kyle/miniconda3/envs/kyle-elk/lib/python3.10/site-packages/tqdm/auto.py:21: TqdmWarning: IProgress not found. Please update jupyter and ipywidgets. See https://ipywidgets.readthedocs.io/en/stable/user_install.html\n",
      "  from .autonotebook import tqdm as notebook_tqdm\n",
      "2023-04-16 00:27:46.558311: I tensorflow/core/common_runtime/executor.cc:1197] [/device:CPU:0] (DEBUG INFO) Executor start aborting (this does not indicate an error and you can ignore this message): INVALID_ARGUMENT: You must feed a value for placeholder tensor 'unused_control_flow_input_36' with dtype int32\n",
      "\t [[{{node unused_control_flow_input_36}}]]\n",
      "2023-04-16 00:27:47.099551: I tensorflow/core/common_runtime/executor.cc:1197] [/device:CPU:0] (DEBUG INFO) Executor start aborting (this does not indicate an error and you can ignore this message): INVALID_ARGUMENT: You must feed a value for placeholder tensor 'unused_control_flow_input_36' with dtype int32\n",
      "\t [[{{node unused_control_flow_input_36}}]]\n",
      "2023-04-16 00:27:47.337327: I tensorflow/core/common_runtime/executor.cc:1197] [/device:CPU:0] (DEBUG INFO) Executor start aborting (this does not indicate an error and you can ignore this message): INVALID_ARGUMENT: You must feed a value for placeholder tensor 'unused_control_flow_input_116' with dtype int32\n",
      "\t [[{{node unused_control_flow_input_116}}]]\n",
      "2023-04-16 00:27:47.647743: I tensorflow/core/common_runtime/executor.cc:1197] [/device:CPU:0] (DEBUG INFO) Executor start aborting (this does not indicate an error and you can ignore this message): INVALID_ARGUMENT: You must feed a value for placeholder tensor 'unused_control_flow_input_36' with dtype int32\n",
      "\t [[{{node unused_control_flow_input_36}}]]\n"
     ]
    },
    {
     "data": {
      "text/plain": [
       "tensor([[[-0.0593, -0.1325, -0.1278,  ..., -0.0417,  0.5802, -0.1217],\n",
       "         [ 0.0691,  0.2894,  0.3716,  ..., -0.2550,  0.7404,  1.0348],\n",
       "         [ 0.0263,  0.1700, -0.1403,  ..., -0.5139,  0.9700,  0.7554],\n",
       "         ...,\n",
       "         [ 0.4005, -0.0213,  0.3851,  ...,  0.4600, -0.0890, -0.2617],\n",
       "         [ 0.3011,  0.3643, -0.3625,  ..., -0.0338, -0.0043,  0.4346],\n",
       "         [-0.2268,  0.3152, -0.5071,  ..., -0.0724, -0.3216, -0.1728]],\n",
       "\n",
       "        [[-0.0593, -0.1325, -0.1278,  ..., -0.0324,  0.5929, -0.1303],\n",
       "         [ 0.0691,  0.2894,  0.3716,  ..., -0.2435,  0.7835,  1.0698],\n",
       "         [ 0.0263,  0.1700, -0.1403,  ..., -0.5469,  0.9499,  0.7168],\n",
       "         ...,\n",
       "         [ 0.4005, -0.0213,  0.3851,  ...,  0.3658, -0.0392, -0.2328],\n",
       "         [ 0.3011,  0.3643, -0.3625,  ...,  0.1529, -0.1047,  0.2572],\n",
       "         [ 0.1795, -0.0323, -0.7006,  ..., -0.1090, -0.0246,  0.2996]]])"
      ]
     },
     "execution_count": 5,
     "metadata": {},
     "output_type": "execute_result"
    }
   ],
   "source": [
    "from transformers import (\n",
    "    PretrainedConfig,\n",
    "    PreTrainedModel,\n",
    "    PreTrainedTokenizer,\n",
    ")\n",
    "\n",
    "class ElmoConfig(PretrainedConfig):\n",
    "    def __init__(self, **kwargs):\n",
    "        super().__init__(**kwargs)\n",
    "        self.hidden_size = 1024\n",
    "        self.num_hidden_layers = 1\n",
    "        self.is_encoder_decoder = False\n",
    "        self.architectures = [\"Elmo\"]\n",
    "\n",
    "class TfElmoTokenizer(PreTrainedTokenizer):\n",
    "\n",
    "    def __call__(\n",
    "        self, text, return_tensors, truncation, return_offsets_mapping, text_target\n",
    "    ):\n",
    "        return text\n",
    "\n",
    "    @staticmethod\n",
    "    def from_pretrained(path):\n",
    "        return TfElmoTokenizer()\n",
    "\n",
    "\n",
    "class TfElmoModel(PreTrainedModel):\n",
    "    def __init__(self):\n",
    "        super().__init__(config=ElmoConfig())\n",
    "        self.elmo_model = hub.load(\"https://tfhub.dev/google/elmo/3\").signatures[\"default\"]\n",
    "\n",
    "    def forward(\n",
    "        self,\n",
    "        input_ids,\n",
    "        attention_mask=None,\n",
    "        token_type_ids=None,\n",
    "        position_ids=None,\n",
    "        head_mask=None,\n",
    "        labels=None,\n",
    "    ):\n",
    "        embeddings_tensor = self.elmo_model(tf.constant(input_ids))\n",
    "        elmo_embeddings = embeddings_tensor[\"elmo\"]\n",
    "        return torch.tensor(elmo_embeddings.numpy())\n",
    "\n",
    "\n",
    "    @staticmethod\n",
    "    def from_pretrained(path):\n",
    "        return TfElmoModel()\n",
    "\n",
    "sequences = [\n",
    "    \"my birthday is the best day of the year: yes\",\n",
    "    \"my birthday is the best day of the year: no\",\n",
    "]\n",
    "\n",
    "tokenizer = TfElmoTokenizer.from_pretrained(\"\")\n",
    "model = TfElmoModel.from_pretrained(\"\")\n",
    "input = tokenizer(sequences, True, None, None, None)\n",
    "model(input)"
   ]
  },
  {
   "cell_type": "code",
   "execution_count": 6,
   "metadata": {},
   "outputs": [
    {
     "data": {
      "text/plain": [
       "torch.Size([2, 10, 1024])"
      ]
     },
     "execution_count": 6,
     "metadata": {},
     "output_type": "execute_result"
    }
   ],
   "source": [
    "model(input).shape"
   ]
  },
  {
   "cell_type": "code",
   "execution_count": 7,
   "metadata": {},
   "outputs": [
    {
     "data": {
      "text/plain": [
       "torch.Size([2, 1024])"
      ]
     },
     "execution_count": 7,
     "metadata": {},
     "output_type": "execute_result"
    },
    {
     "ename": "",
     "evalue": "",
     "output_type": "error",
     "traceback": [
      "\u001b[1;31mThe Kernel crashed while executing code in the the current cell or a previous cell. Please review the code in the cell(s) to identify a possible cause of the failure. Click <a href='https://aka.ms/vscodeJupyterKernelCrash'>here</a> for more info. View Jupyter <a href='command:jupyter.viewOutput'>log</a> for further details."
     ]
    }
   ],
   "source": [
    "torch.mean(model(input), dim=1).shape"
   ]
  },
  {
   "cell_type": "code",
   "execution_count": null,
   "metadata": {},
   "outputs": [],
   "source": []
  }
 ],
 "metadata": {
  "kernelspec": {
   "display_name": "kyle-elk",
   "language": "python",
   "name": "python3"
  },
  "language_info": {
   "codemirror_mode": {
    "name": "ipython",
    "version": 3
   },
   "file_extension": ".py",
   "mimetype": "text/x-python",
   "name": "python",
   "nbconvert_exporter": "python",
   "pygments_lexer": "ipython3",
   "version": "3.10.10"
  },
  "orig_nbformat": 4
 },
 "nbformat": 4,
 "nbformat_minor": 2
}
