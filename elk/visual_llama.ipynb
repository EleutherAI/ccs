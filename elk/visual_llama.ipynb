{
 "cells": [
  {
   "cell_type": "code",
   "execution_count": 1,
   "metadata": {},
   "outputs": [
    {
     "name": "stderr",
     "output_type": "stream",
     "text": [
      "/mnt/ssd-1/spar/jon/elk/venv/lib/python3.10/site-packages/tqdm/auto.py:21: TqdmWarning: IProgress not found. Please update jupyter and ipywidgets. See https://ipywidgets.readthedocs.io/en/stable/user_install.html\n",
      "  from .autonotebook import tqdm as notebook_tqdm\n"
     ]
    }
   ],
   "source": [
    "import torch\n",
    "from transformers import AutoTokenizer, AutoModel\n",
    "from pathlib import Path\n",
    "from einops import rearrange, repeat\n",
    "import os\n",
    "import numpy as np"
   ]
  },
  {
   "cell_type": "code",
   "execution_count": 2,
   "metadata": {},
   "outputs": [
    {
     "name": "stdout",
     "output_type": "stream",
     "text": [
      "['This', 'Ġfilm', 'Ġis', 'Ġterrible', ',', 'Ġbest', 'Ġto', 'Ġpass', '.']\n",
      "['<bos>', 'This', 'Ġfilm', 'Ġis', 'Ġterrible', ',', 'Ġbest', 'Ġto', 'Ġpass', '.']\n",
      "tensor([[1212, 2646,  318, 7818,   11, 1266,  284, 1208,   13]])\n"
     ]
    }
   ],
   "source": [
    "# Load pre-trained model and tokenizer\n",
    "# model_name = \"huggyllama/llama-13b\"\n",
    "model_name = \"gpt2\"\n",
    "tokenizer = AutoTokenizer.from_pretrained(model_name)\n",
    "model = AutoModel.from_pretrained(model_name)\n",
    "\n",
    "# Tokenize input sequence\n",
    "input_sequence = \"This film is terrible, best to pass.\"\n",
    "input_tokens = tokenizer.tokenize(input_sequence)\n",
    "print(input_tokens)\n",
    "input_tokens.insert(0, \"<bos>\") # beginning of sentence\n",
    "print(input_tokens)\n",
    "\n",
    "# Encode input sequence\n",
    "input_ids = tokenizer.encode(input_sequence, return_tensors=\"pt\")\n",
    "print(input_ids)\n",
    "\n",
    "# Generate hidden states\n",
    "outputs = model(input_ids, output_hidden_states=True)"
   ]
  },
  {
   "cell_type": "code",
   "execution_count": 3,
   "metadata": {},
   "outputs": [
    {
     "name": "stdout",
     "output_type": "stream",
     "text": [
      "torch.Size([1, 9, 768])\n",
      "13\n",
      "torch.Size([12, 9, 768])\n"
     ]
    }
   ],
   "source": [
    "hidden_states = outputs.hidden_states\n",
    "print(hidden_states[0].shape)\n",
    "print(len(hidden_states))\n",
    "cat_hidden_states = torch.cat(hidden_states[:-1], dim=0)\n",
    "print(cat_hidden_states.shape)"
   ]
  },
  {
   "cell_type": "code",
   "execution_count": 4,
   "metadata": {},
   "outputs": [
    {
     "name": "stdout",
     "output_type": "stream",
     "text": [
      "torch.Size([12, 768])\n"
     ]
    }
   ],
   "source": [
    "def load_all_reporters(num_layers: int, prefix_path: str) -> torch.Tensor:\n",
    "    reporters_weights = []\n",
    "    for i in range(num_layers):\n",
    "        reporter_path = f\"{prefix_path}/layer_{i}.pt\"\n",
    "        reporter = torch.load(reporter_path)\n",
    "        reporters_weights.append(reporter['weight'].cpu())\n",
    "    stacked = torch.cat(reporters_weights, dim=0)\n",
    "    return stacked\n",
    "\n",
    "# path = '/home/waree/elk-reporters/huggyllama/llama-13b/sethapun/imdb_misspelled_0/llama13b-imdb0/reporters'\n",
    "path = '/mnt/ssd-1/spar/jon/elk-reporters/gpt2/imdb/agitated-driscoll/reporters'\n",
    "reporter_weights = load_all_reporters(model.config.num_hidden_layers, path)\n",
    "print(reporter_weights.shape)"
   ]
  },
  {
   "cell_type": "code",
   "execution_count": 5,
   "metadata": {},
   "outputs": [
    {
     "name": "stdout",
     "output_type": "stream",
     "text": [
      "tensor([ 0.5020, -0.2215, -0.1510, -0.2354, -0.3721, -0.5517, -0.5882, -0.6715,\n",
      "        -0.7445], grad_fn=<SelectBackward0>)\n",
      "torch.Size([12, 9])\n"
     ]
    }
   ],
   "source": [
    "# Use einsum to do multiplication \n",
    "result = torch.einsum('bse,be->bs', cat_hidden_states, reporter_weights)\n",
    "print(result[0])\n",
    "print(result.shape)\n",
    "\n",
    "sigmoid_result = torch.sigmoid(result)\n",
    "softmax_result = torch.softmax(result, dim = -1)\n",
    "torch.set_printoptions(precision=1)"
   ]
  },
  {
   "cell_type": "code",
   "execution_count": 6,
   "metadata": {},
   "outputs": [
    {
     "name": "stdout",
     "output_type": "stream",
     "text": [
      "tensor([[ 5.0e-01, -2.2e-01, -1.5e-01, -2.4e-01, -3.7e-01, -5.5e-01, -5.9e-01,\n",
      "         -6.7e-01, -7.4e-01],\n",
      "        [ 5.5e+00,  7.0e-01,  3.4e+00,  3.6e+00,  2.7e+00,  4.7e+00,  2.8e+00,\n",
      "          1.8e+00,  3.2e+00],\n",
      "        [-3.7e+01, -5.8e+00, -8.0e+00, -9.5e+00, -8.5e+00, -7.3e+00, -6.6e+00,\n",
      "         -5.1e+00, -9.6e+00],\n",
      "        [-7.0e+02, -9.8e+00, -7.8e+00, -1.1e+01, -6.9e+00, -5.0e+00, -7.2e+00,\n",
      "         -4.8e+00, -1.0e+01],\n",
      "        [ 3.4e+02,  6.8e+00,  4.8e+00,  2.4e+00,  3.3e+00,  3.0e+00,  3.3e+00,\n",
      "          3.8e+00,  4.8e+00],\n",
      "        [-2.5e+02, -8.0e+00, -4.3e+00, -4.0e+00, -3.3e+00, -2.4e+00, -2.6e+00,\n",
      "         -3.9e+00, -3.9e+00],\n",
      "        [-9.3e+02, -2.4e+01, -1.9e+01, -2.7e+01, -1.8e+01, -1.0e+01, -1.0e+01,\n",
      "         -9.2e+00, -1.6e+01],\n",
      "        [-8.2e+02, -2.5e+01, -2.1e+01, -3.2e+01, -2.1e+01, -1.6e+01, -1.4e+01,\n",
      "         -1.4e+01, -1.8e+01],\n",
      "        [-8.0e+02, -3.3e+01, -2.9e+01, -4.2e+01, -3.0e+01, -2.4e+01, -2.1e+01,\n",
      "         -2.1e+01, -2.9e+01],\n",
      "        [ 4.3e+02,  3.2e+01,  2.8e+01,  4.2e+01,  3.4e+01,  3.0e+01,  2.6e+01,\n",
      "          2.3e+01,  3.1e+01],\n",
      "        [ 4.0e+02,  2.1e+01,  2.4e+01,  3.6e+01,  3.0e+01,  2.8e+01,  1.9e+01,\n",
      "          2.2e+01,  2.6e+01],\n",
      "        [-5.4e+02, -6.9e+01, -8.1e+01, -8.4e+01, -7.9e+01, -7.1e+01, -6.3e+01,\n",
      "         -5.4e+01, -7.6e+01]], grad_fn=<ViewBackward0>)\n"
     ]
    }
   ],
   "source": [
    "print(result)"
   ]
  },
  {
   "cell_type": "code",
   "execution_count": 7,
   "metadata": {},
   "outputs": [
    {
     "name": "stdout",
     "output_type": "stream",
     "text": [
      "tensor([[6.2e-01, 4.4e-01, 4.6e-01, 4.4e-01, 4.1e-01, 3.7e-01, 3.6e-01, 3.4e-01,\n",
      "         3.2e-01],\n",
      "        [1.0e+00, 6.7e-01, 9.7e-01, 9.7e-01, 9.4e-01, 9.9e-01, 9.4e-01, 8.6e-01,\n",
      "         9.6e-01],\n",
      "        [1.4e-16, 2.9e-03, 3.3e-04, 7.4e-05, 2.1e-04, 7.0e-04, 1.3e-03, 6.2e-03,\n",
      "         6.5e-05],\n",
      "        [0.0e+00, 5.6e-05, 4.1e-04, 1.3e-05, 1.0e-03, 6.5e-03, 7.1e-04, 8.2e-03,\n",
      "         4.4e-05],\n",
      "        [1.0e+00, 1.0e+00, 9.9e-01, 9.2e-01, 9.6e-01, 9.5e-01, 9.6e-01, 9.8e-01,\n",
      "         9.9e-01],\n",
      "        [0.0e+00, 3.5e-04, 1.3e-02, 1.7e-02, 3.5e-02, 8.6e-02, 7.0e-02, 2.0e-02,\n",
      "         2.0e-02],\n",
      "        [0.0e+00, 5.4e-11, 5.4e-09, 2.0e-12, 1.9e-08, 3.3e-05, 3.0e-05, 1.0e-04,\n",
      "         1.3e-07],\n",
      "        [0.0e+00, 9.3e-12, 1.1e-09, 1.7e-14, 5.2e-10, 1.5e-07, 8.4e-07, 1.2e-06,\n",
      "         1.1e-08],\n",
      "        [0.0e+00, 4.7e-15, 2.2e-13, 6.3e-19, 9.1e-14, 3.5e-11, 1.1e-09, 5.1e-10,\n",
      "         2.5e-13],\n",
      "        [1.0e+00, 1.0e+00, 1.0e+00, 1.0e+00, 1.0e+00, 1.0e+00, 1.0e+00, 1.0e+00,\n",
      "         1.0e+00],\n",
      "        [1.0e+00, 1.0e+00, 1.0e+00, 1.0e+00, 1.0e+00, 1.0e+00, 1.0e+00, 1.0e+00,\n",
      "         1.0e+00],\n",
      "        [0.0e+00, 9.5e-31, 4.1e-36, 5.0e-37, 5.6e-35, 1.6e-31, 4.9e-28, 2.6e-24,\n",
      "         7.4e-34]], grad_fn=<SigmoidBackward0>)\n"
     ]
    }
   ],
   "source": [
    "print(sigmoid_result)"
   ]
  },
  {
   "cell_type": "code",
   "execution_count": 8,
   "metadata": {},
   "outputs": [
    {
     "name": "stdout",
     "output_type": "stream",
     "text": [
      "tensor([[2.4e-01, 1.2e-01, 1.2e-01, 1.1e-01, 1.0e-01, 8.3e-02, 8.0e-02, 7.4e-02,\n",
      "         6.9e-02],\n",
      "        [5.0e-01, 4.1e-03, 6.5e-02, 7.6e-02, 3.2e-02, 2.2e-01, 3.4e-02, 1.3e-02,\n",
      "         5.2e-02],\n",
      "        [1.2e-14, 2.5e-01, 2.8e-02, 6.2e-03, 1.7e-02, 5.9e-02, 1.1e-01, 5.2e-01,\n",
      "         5.4e-03],\n",
      "        [0.0e+00, 3.3e-03, 2.4e-02, 7.4e-04, 6.0e-02, 3.8e-01, 4.2e-02, 4.8e-01,\n",
      "         2.6e-03],\n",
      "        [1.0e+00, 0.0e+00, 0.0e+00, 0.0e+00, 0.0e+00, 0.0e+00, 0.0e+00, 0.0e+00,\n",
      "         0.0e+00],\n",
      "        [0.0e+00, 1.2e-03, 4.9e-02, 6.4e-02, 1.3e-01, 3.4e-01, 2.7e-01, 7.5e-02,\n",
      "         7.2e-02],\n",
      "        [0.0e+00, 3.3e-07, 3.3e-05, 1.2e-08, 1.1e-04, 2.0e-01, 1.8e-01, 6.2e-01,\n",
      "         7.8e-04],\n",
      "        [0.0e+00, 4.2e-06, 4.8e-04, 8.0e-09, 2.4e-04, 6.7e-02, 3.9e-01, 5.4e-01,\n",
      "         5.0e-03],\n",
      "        [0.0e+00, 2.9e-06, 1.3e-04, 3.9e-10, 5.6e-05, 2.2e-02, 6.6e-01, 3.2e-01,\n",
      "         1.5e-04],\n",
      "        [1.0e+00, 0.0e+00, 0.0e+00, 0.0e+00, 0.0e+00, 0.0e+00, 0.0e+00, 0.0e+00,\n",
      "         0.0e+00],\n",
      "        [1.0e+00, 0.0e+00, 0.0e+00, 0.0e+00, 0.0e+00, 0.0e+00, 0.0e+00, 0.0e+00,\n",
      "         0.0e+00],\n",
      "        [0.0e+00, 3.7e-07, 1.6e-12, 2.0e-13, 2.2e-11, 6.3e-08, 1.9e-04, 1.0e+00,\n",
      "         2.9e-10]], grad_fn=<SoftmaxBackward0>)\n"
     ]
    }
   ],
   "source": [
    "print(softmax_result)"
   ]
  },
  {
   "cell_type": "code",
   "execution_count": 9,
   "metadata": {},
   "outputs": [
    {
     "data": {
      "text/plain": [
       "torch.Size([12, 9])"
      ]
     },
     "execution_count": 9,
     "metadata": {},
     "output_type": "execute_result"
    }
   ],
   "source": [
    "result.shape"
   ]
  },
  {
   "cell_type": "code",
   "execution_count": 36,
   "metadata": {},
   "outputs": [
    {
     "data": {
      "text/html": [
       "        <script type=\"text/javascript\">\n",
       "        window.PlotlyConfig = {MathJaxConfig: 'local'};\n",
       "        if (window.MathJax && window.MathJax.Hub && window.MathJax.Hub.Config) {window.MathJax.Hub.Config({SVG: {font: \"STIX-Web\"}});}\n",
       "        if (typeof require !== 'undefined') {\n",
       "        require.undef(\"plotly\");\n",
       "        requirejs.config({\n",
       "            paths: {\n",
       "                'plotly': ['https://cdn.plot.ly/plotly-2.20.0.min']\n",
       "            }\n",
       "        });\n",
       "        require(['plotly'], function(Plotly) {\n",
       "            window._Plotly = Plotly;\n",
       "        });\n",
       "        }\n",
       "        </script>\n",
       "        "
      ]
     },
     "metadata": {},
     "output_type": "display_data"
    },
    {
     "data": {
      "application/vnd.plotly.v1+json": {
       "config": {
        "linkText": "Export to plot.ly",
        "plotlyServerURL": "https://plot.ly",
        "showLink": false
       },
       "data": [
        {
         "colorscale": [
          [
           0,
           "#FFFFFF"
          ],
          [
           1,
           "#FF0000"
          ]
         ],
         "text": [
          [
           "  0.50  ",
           "  -0.22  ",
           "  -0.15  ",
           "  -0.24  ",
           "  -0.37  ",
           "  -0.55  ",
           "  -0.59  ",
           "  -0.67  ",
           "  -0.74  "
          ],
          [
           "  5.50  ",
           "  0.70  ",
           "  3.44  ",
           "  3.60  ",
           "  2.73  ",
           "  4.67  ",
           "  2.81  ",
           "  1.83  ",
           "  3.22  "
          ],
          [
           "  -36.51  ",
           "  -5.82  ",
           "  -8.02  ",
           "  -9.51  ",
           "  -8.48  ",
           "  -7.26  ",
           "  -6.62  ",
           "  -5.08  ",
           "  -9.65  "
          ],
          [
           "  -699.81  ",
           "  -9.79  ",
           "  -7.79  ",
           "  -11.28  ",
           "  -6.89  ",
           "  -5.03  ",
           "  -7.25  ",
           "  -4.79  ",
           "  -10.04  "
          ],
          [
           "  342.76  ",
           "  6.78  ",
           "  4.84  ",
           "  2.44  ",
           "  3.30  ",
           "  2.98  ",
           "  3.31  ",
           "  3.77  ",
           "  4.85  "
          ],
          [
           "  -250.82  ",
           "  -7.97  ",
           "  -4.30  ",
           "  -4.03  ",
           "  -3.33  ",
           "  -2.36  ",
           "  -2.59  ",
           "  -3.87  ",
           "  -3.91  "
          ],
          [
           "  -932.29  ",
           "  -23.64  ",
           "  -19.04  ",
           "  -26.95  ",
           "  -17.80  ",
           "  -10.33  ",
           "  -10.40  ",
           "  -9.20  ",
           "  -15.87  "
          ],
          [
           "  -818.09  ",
           "  -25.40  ",
           "  -20.67  ",
           "  -31.68  ",
           "  -21.38  ",
           "  -15.73  ",
           "  -13.99  ",
           "  -13.65  ",
           "  -18.33  "
          ],
          [
           "  -804.60  ",
           "  -32.98  ",
           "  -29.17  ",
           "  -41.90  ",
           "  -30.03  ",
           "  -24.08  ",
           "  -20.65  ",
           "  -21.39  ",
           "  -29.02  "
          ],
          [
           "  426.18  ",
           "  31.99  ",
           "  28.09  ",
           "  41.87  ",
           "  34.44  ",
           "  29.90  ",
           "  26.22  ",
           "  22.68  ",
           "  31.35  "
          ],
          [
           "  398.51  ",
           "  20.92  ",
           "  23.64  ",
           "  35.77  ",
           "  30.25  ",
           "  27.86  ",
           "  18.61  ",
           "  21.50  ",
           "  25.73  "
          ],
          [
           "  -542.89  ",
           "  -69.13  ",
           "  -81.49  ",
           "  -83.58  ",
           "  -78.87  ",
           "  -70.90  ",
           "  -62.88  ",
           "  -54.32  ",
           "  -76.29  "
          ]
         ],
         "textfont": {
          "color": "black",
          "size": 12
         },
         "texttemplate": "%{text}",
         "type": "heatmap",
         "z": [
          [
           0.5020468235015869,
           -0.22147750854492188,
           -0.1509588211774826,
           -0.23544315993785858,
           -0.37205439805984497,
           -0.5517398715019226,
           -0.5881605744361877,
           -0.6715076565742493,
           -0.7445042729377747
          ],
          [
           5.497678279876709,
           0.6959137916564941,
           3.442176580429077,
           3.5997414588928223,
           2.7302937507629395,
           4.671848773956299,
           2.8087098598480225,
           1.8271639347076416,
           3.2176826000213623
          ],
          [
           -36.50701141357422,
           -5.824863433837891,
           -8.021722793579102,
           -9.506632804870605,
           -8.48106861114502,
           -7.262537479400635,
           -6.619003772735596,
           -5.077050685882568,
           -9.645851135253906
          ],
          [
           -699.8090209960938,
           -9.787178039550781,
           -7.791315078735352,
           -11.277552604675293,
           -6.8877272605896,
           -5.030523300170898,
           -7.24690580368042,
           -4.794089317321777,
           -10.040631294250488
          ],
          [
           342.7603759765625,
           6.781123161315918,
           4.835515975952148,
           2.43782114982605,
           3.3027145862579346,
           2.9757301807403564,
           3.3054616451263428,
           3.7686257362365723,
           4.8450703620910645
          ],
          [
           -250.8212432861328,
           -7.969202518463135,
           -4.301056861877441,
           -4.030577182769775,
           -3.3268892765045166,
           -2.3641819953918457,
           -2.587613821029663,
           -3.871546983718872,
           -3.9102256298065186
          ],
          [
           -932.2938842773438,
           -23.63993263244629,
           -19.042280197143555,
           -26.952552795410156,
           -17.804765701293945,
           -10.33132553100586,
           -10.404622077941895,
           -9.197325706481934,
           -15.866914749145508
          ],
          [
           -818.0899047851562,
           -25.40383529663086,
           -20.670095443725586,
           -31.68287467956543,
           -21.37606430053711,
           -15.731378555297852,
           -13.986588478088379,
           -13.646472930908203,
           -18.32902717590332
          ],
          [
           -804.6029052734375,
           -32.98423767089844,
           -29.16661834716797,
           -41.901939392089844,
           -30.026371002197266,
           -24.07799530029297,
           -20.654964447021484,
           -21.394977569580078,
           -29.017108917236328
          ],
          [
           426.1773986816406,
           31.993572235107422,
           28.089183807373047,
           41.87158203125,
           34.43775939941406,
           29.89580726623535,
           26.222597122192383,
           22.67681312561035,
           31.345861434936523
          ],
          [
           398.5132141113281,
           20.917285919189453,
           23.64017677307129,
           35.76744842529297,
           30.245840072631836,
           27.861461639404297,
           18.60836410522461,
           21.50324249267578,
           25.726713180541992
          ],
          [
           -542.892822265625,
           -69.12540435791016,
           -81.49188232421875,
           -83.57676696777344,
           -78.87007904052734,
           -70.89543151855469,
           -62.88469696044922,
           -54.321163177490234,
           -76.28931427001953
          ]
         ]
        }
       ],
       "layout": {
        "height": 800,
        "template": {
         "data": {
          "bar": [
           {
            "error_x": {
             "color": "#2a3f5f"
            },
            "error_y": {
             "color": "#2a3f5f"
            },
            "marker": {
             "line": {
              "color": "#E5ECF6",
              "width": 0.5
             },
             "pattern": {
              "fillmode": "overlay",
              "size": 10,
              "solidity": 0.2
             }
            },
            "type": "bar"
           }
          ],
          "barpolar": [
           {
            "marker": {
             "line": {
              "color": "#E5ECF6",
              "width": 0.5
             },
             "pattern": {
              "fillmode": "overlay",
              "size": 10,
              "solidity": 0.2
             }
            },
            "type": "barpolar"
           }
          ],
          "carpet": [
           {
            "aaxis": {
             "endlinecolor": "#2a3f5f",
             "gridcolor": "white",
             "linecolor": "white",
             "minorgridcolor": "white",
             "startlinecolor": "#2a3f5f"
            },
            "baxis": {
             "endlinecolor": "#2a3f5f",
             "gridcolor": "white",
             "linecolor": "white",
             "minorgridcolor": "white",
             "startlinecolor": "#2a3f5f"
            },
            "type": "carpet"
           }
          ],
          "choropleth": [
           {
            "colorbar": {
             "outlinewidth": 0,
             "ticks": ""
            },
            "type": "choropleth"
           }
          ],
          "contour": [
           {
            "colorbar": {
             "outlinewidth": 0,
             "ticks": ""
            },
            "colorscale": [
             [
              0,
              "#0d0887"
             ],
             [
              0.1111111111111111,
              "#46039f"
             ],
             [
              0.2222222222222222,
              "#7201a8"
             ],
             [
              0.3333333333333333,
              "#9c179e"
             ],
             [
              0.4444444444444444,
              "#bd3786"
             ],
             [
              0.5555555555555556,
              "#d8576b"
             ],
             [
              0.6666666666666666,
              "#ed7953"
             ],
             [
              0.7777777777777778,
              "#fb9f3a"
             ],
             [
              0.8888888888888888,
              "#fdca26"
             ],
             [
              1,
              "#f0f921"
             ]
            ],
            "type": "contour"
           }
          ],
          "contourcarpet": [
           {
            "colorbar": {
             "outlinewidth": 0,
             "ticks": ""
            },
            "type": "contourcarpet"
           }
          ],
          "heatmap": [
           {
            "colorbar": {
             "outlinewidth": 0,
             "ticks": ""
            },
            "colorscale": [
             [
              0,
              "#0d0887"
             ],
             [
              0.1111111111111111,
              "#46039f"
             ],
             [
              0.2222222222222222,
              "#7201a8"
             ],
             [
              0.3333333333333333,
              "#9c179e"
             ],
             [
              0.4444444444444444,
              "#bd3786"
             ],
             [
              0.5555555555555556,
              "#d8576b"
             ],
             [
              0.6666666666666666,
              "#ed7953"
             ],
             [
              0.7777777777777778,
              "#fb9f3a"
             ],
             [
              0.8888888888888888,
              "#fdca26"
             ],
             [
              1,
              "#f0f921"
             ]
            ],
            "type": "heatmap"
           }
          ],
          "heatmapgl": [
           {
            "colorbar": {
             "outlinewidth": 0,
             "ticks": ""
            },
            "colorscale": [
             [
              0,
              "#0d0887"
             ],
             [
              0.1111111111111111,
              "#46039f"
             ],
             [
              0.2222222222222222,
              "#7201a8"
             ],
             [
              0.3333333333333333,
              "#9c179e"
             ],
             [
              0.4444444444444444,
              "#bd3786"
             ],
             [
              0.5555555555555556,
              "#d8576b"
             ],
             [
              0.6666666666666666,
              "#ed7953"
             ],
             [
              0.7777777777777778,
              "#fb9f3a"
             ],
             [
              0.8888888888888888,
              "#fdca26"
             ],
             [
              1,
              "#f0f921"
             ]
            ],
            "type": "heatmapgl"
           }
          ],
          "histogram": [
           {
            "marker": {
             "pattern": {
              "fillmode": "overlay",
              "size": 10,
              "solidity": 0.2
             }
            },
            "type": "histogram"
           }
          ],
          "histogram2d": [
           {
            "colorbar": {
             "outlinewidth": 0,
             "ticks": ""
            },
            "colorscale": [
             [
              0,
              "#0d0887"
             ],
             [
              0.1111111111111111,
              "#46039f"
             ],
             [
              0.2222222222222222,
              "#7201a8"
             ],
             [
              0.3333333333333333,
              "#9c179e"
             ],
             [
              0.4444444444444444,
              "#bd3786"
             ],
             [
              0.5555555555555556,
              "#d8576b"
             ],
             [
              0.6666666666666666,
              "#ed7953"
             ],
             [
              0.7777777777777778,
              "#fb9f3a"
             ],
             [
              0.8888888888888888,
              "#fdca26"
             ],
             [
              1,
              "#f0f921"
             ]
            ],
            "type": "histogram2d"
           }
          ],
          "histogram2dcontour": [
           {
            "colorbar": {
             "outlinewidth": 0,
             "ticks": ""
            },
            "colorscale": [
             [
              0,
              "#0d0887"
             ],
             [
              0.1111111111111111,
              "#46039f"
             ],
             [
              0.2222222222222222,
              "#7201a8"
             ],
             [
              0.3333333333333333,
              "#9c179e"
             ],
             [
              0.4444444444444444,
              "#bd3786"
             ],
             [
              0.5555555555555556,
              "#d8576b"
             ],
             [
              0.6666666666666666,
              "#ed7953"
             ],
             [
              0.7777777777777778,
              "#fb9f3a"
             ],
             [
              0.8888888888888888,
              "#fdca26"
             ],
             [
              1,
              "#f0f921"
             ]
            ],
            "type": "histogram2dcontour"
           }
          ],
          "mesh3d": [
           {
            "colorbar": {
             "outlinewidth": 0,
             "ticks": ""
            },
            "type": "mesh3d"
           }
          ],
          "parcoords": [
           {
            "line": {
             "colorbar": {
              "outlinewidth": 0,
              "ticks": ""
             }
            },
            "type": "parcoords"
           }
          ],
          "pie": [
           {
            "automargin": true,
            "type": "pie"
           }
          ],
          "scatter": [
           {
            "fillpattern": {
             "fillmode": "overlay",
             "size": 10,
             "solidity": 0.2
            },
            "type": "scatter"
           }
          ],
          "scatter3d": [
           {
            "line": {
             "colorbar": {
              "outlinewidth": 0,
              "ticks": ""
             }
            },
            "marker": {
             "colorbar": {
              "outlinewidth": 0,
              "ticks": ""
             }
            },
            "type": "scatter3d"
           }
          ],
          "scattercarpet": [
           {
            "marker": {
             "colorbar": {
              "outlinewidth": 0,
              "ticks": ""
             }
            },
            "type": "scattercarpet"
           }
          ],
          "scattergeo": [
           {
            "marker": {
             "colorbar": {
              "outlinewidth": 0,
              "ticks": ""
             }
            },
            "type": "scattergeo"
           }
          ],
          "scattergl": [
           {
            "marker": {
             "colorbar": {
              "outlinewidth": 0,
              "ticks": ""
             }
            },
            "type": "scattergl"
           }
          ],
          "scattermapbox": [
           {
            "marker": {
             "colorbar": {
              "outlinewidth": 0,
              "ticks": ""
             }
            },
            "type": "scattermapbox"
           }
          ],
          "scatterpolar": [
           {
            "marker": {
             "colorbar": {
              "outlinewidth": 0,
              "ticks": ""
             }
            },
            "type": "scatterpolar"
           }
          ],
          "scatterpolargl": [
           {
            "marker": {
             "colorbar": {
              "outlinewidth": 0,
              "ticks": ""
             }
            },
            "type": "scatterpolargl"
           }
          ],
          "scatterternary": [
           {
            "marker": {
             "colorbar": {
              "outlinewidth": 0,
              "ticks": ""
             }
            },
            "type": "scatterternary"
           }
          ],
          "surface": [
           {
            "colorbar": {
             "outlinewidth": 0,
             "ticks": ""
            },
            "colorscale": [
             [
              0,
              "#0d0887"
             ],
             [
              0.1111111111111111,
              "#46039f"
             ],
             [
              0.2222222222222222,
              "#7201a8"
             ],
             [
              0.3333333333333333,
              "#9c179e"
             ],
             [
              0.4444444444444444,
              "#bd3786"
             ],
             [
              0.5555555555555556,
              "#d8576b"
             ],
             [
              0.6666666666666666,
              "#ed7953"
             ],
             [
              0.7777777777777778,
              "#fb9f3a"
             ],
             [
              0.8888888888888888,
              "#fdca26"
             ],
             [
              1,
              "#f0f921"
             ]
            ],
            "type": "surface"
           }
          ],
          "table": [
           {
            "cells": {
             "fill": {
              "color": "#EBF0F8"
             },
             "line": {
              "color": "white"
             }
            },
            "header": {
             "fill": {
              "color": "#C8D4E3"
             },
             "line": {
              "color": "white"
             }
            },
            "type": "table"
           }
          ]
         },
         "layout": {
          "annotationdefaults": {
           "arrowcolor": "#2a3f5f",
           "arrowhead": 0,
           "arrowwidth": 1
          },
          "autotypenumbers": "strict",
          "coloraxis": {
           "colorbar": {
            "outlinewidth": 0,
            "ticks": ""
           }
          },
          "colorscale": {
           "diverging": [
            [
             0,
             "#8e0152"
            ],
            [
             0.1,
             "#c51b7d"
            ],
            [
             0.2,
             "#de77ae"
            ],
            [
             0.3,
             "#f1b6da"
            ],
            [
             0.4,
             "#fde0ef"
            ],
            [
             0.5,
             "#f7f7f7"
            ],
            [
             0.6,
             "#e6f5d0"
            ],
            [
             0.7,
             "#b8e186"
            ],
            [
             0.8,
             "#7fbc41"
            ],
            [
             0.9,
             "#4d9221"
            ],
            [
             1,
             "#276419"
            ]
           ],
           "sequential": [
            [
             0,
             "#0d0887"
            ],
            [
             0.1111111111111111,
             "#46039f"
            ],
            [
             0.2222222222222222,
             "#7201a8"
            ],
            [
             0.3333333333333333,
             "#9c179e"
            ],
            [
             0.4444444444444444,
             "#bd3786"
            ],
            [
             0.5555555555555556,
             "#d8576b"
            ],
            [
             0.6666666666666666,
             "#ed7953"
            ],
            [
             0.7777777777777778,
             "#fb9f3a"
            ],
            [
             0.8888888888888888,
             "#fdca26"
            ],
            [
             1,
             "#f0f921"
            ]
           ],
           "sequentialminus": [
            [
             0,
             "#0d0887"
            ],
            [
             0.1111111111111111,
             "#46039f"
            ],
            [
             0.2222222222222222,
             "#7201a8"
            ],
            [
             0.3333333333333333,
             "#9c179e"
            ],
            [
             0.4444444444444444,
             "#bd3786"
            ],
            [
             0.5555555555555556,
             "#d8576b"
            ],
            [
             0.6666666666666666,
             "#ed7953"
            ],
            [
             0.7777777777777778,
             "#fb9f3a"
            ],
            [
             0.8888888888888888,
             "#fdca26"
            ],
            [
             1,
             "#f0f921"
            ]
           ]
          },
          "colorway": [
           "#636efa",
           "#EF553B",
           "#00cc96",
           "#ab63fa",
           "#FFA15A",
           "#19d3f3",
           "#FF6692",
           "#B6E880",
           "#FF97FF",
           "#FECB52"
          ],
          "font": {
           "color": "#2a3f5f"
          },
          "geo": {
           "bgcolor": "white",
           "lakecolor": "white",
           "landcolor": "#E5ECF6",
           "showlakes": true,
           "showland": true,
           "subunitcolor": "white"
          },
          "hoverlabel": {
           "align": "left"
          },
          "hovermode": "closest",
          "mapbox": {
           "style": "light"
          },
          "paper_bgcolor": "white",
          "plot_bgcolor": "#E5ECF6",
          "polar": {
           "angularaxis": {
            "gridcolor": "white",
            "linecolor": "white",
            "ticks": ""
           },
           "bgcolor": "#E5ECF6",
           "radialaxis": {
            "gridcolor": "white",
            "linecolor": "white",
            "ticks": ""
           }
          },
          "scene": {
           "xaxis": {
            "backgroundcolor": "#E5ECF6",
            "gridcolor": "white",
            "gridwidth": 2,
            "linecolor": "white",
            "showbackground": true,
            "ticks": "",
            "zerolinecolor": "white"
           },
           "yaxis": {
            "backgroundcolor": "#E5ECF6",
            "gridcolor": "white",
            "gridwidth": 2,
            "linecolor": "white",
            "showbackground": true,
            "ticks": "",
            "zerolinecolor": "white"
           },
           "zaxis": {
            "backgroundcolor": "#E5ECF6",
            "gridcolor": "white",
            "gridwidth": 2,
            "linecolor": "white",
            "showbackground": true,
            "ticks": "",
            "zerolinecolor": "white"
           }
          },
          "shapedefaults": {
           "line": {
            "color": "#2a3f5f"
           }
          },
          "ternary": {
           "aaxis": {
            "gridcolor": "white",
            "linecolor": "white",
            "ticks": ""
           },
           "baxis": {
            "gridcolor": "white",
            "linecolor": "white",
            "ticks": ""
           },
           "bgcolor": "#E5ECF6",
           "caxis": {
            "gridcolor": "white",
            "linecolor": "white",
            "ticks": ""
           }
          },
          "title": {
           "x": 0.05
          },
          "xaxis": {
           "automargin": true,
           "gridcolor": "white",
           "linecolor": "white",
           "ticks": "",
           "title": {
            "standoff": 15
           },
           "zerolinecolor": "white",
           "zerolinewidth": 2
          },
          "yaxis": {
           "automargin": true,
           "gridcolor": "white",
           "linecolor": "white",
           "ticks": "",
           "title": {
            "standoff": 15
           },
           "zerolinecolor": "white",
           "zerolinewidth": 2
          }
         }
        },
        "title": {
         "text": "Credences for Input Tokens"
        },
        "width": 800,
        "xaxis": {
         "tickangle": 45,
         "ticktext": [
          "<bos>",
          "This",
          "Ġfilm",
          "Ġis",
          "Ġterrible",
          ",",
          "Ġbest",
          "Ġto",
          "Ġpass",
          "."
         ],
         "tickvals": [
          0,
          1,
          2,
          3,
          4,
          5,
          6,
          7,
          8,
          9
         ]
        }
       }
      },
      "text/html": [
       "<div>                            <div id=\"0369d653-24ae-41c5-9556-20d787ff52cd\" class=\"plotly-graph-div\" style=\"height:800px; width:800px;\"></div>            <script type=\"text/javascript\">                require([\"plotly\"], function(Plotly) {                    window.PLOTLYENV=window.PLOTLYENV || {};                                    if (document.getElementById(\"0369d653-24ae-41c5-9556-20d787ff52cd\")) {                    Plotly.newPlot(                        \"0369d653-24ae-41c5-9556-20d787ff52cd\",                        [{\"colorscale\":[[0,\"#FFFFFF\"],[1,\"#FF0000\"]],\"text\":[[\"  0.50  \",\"  -0.22  \",\"  -0.15  \",\"  -0.24  \",\"  -0.37  \",\"  -0.55  \",\"  -0.59  \",\"  -0.67  \",\"  -0.74  \"],[\"  5.50  \",\"  0.70  \",\"  3.44  \",\"  3.60  \",\"  2.73  \",\"  4.67  \",\"  2.81  \",\"  1.83  \",\"  3.22  \"],[\"  -36.51  \",\"  -5.82  \",\"  -8.02  \",\"  -9.51  \",\"  -8.48  \",\"  -7.26  \",\"  -6.62  \",\"  -5.08  \",\"  -9.65  \"],[\"  -699.81  \",\"  -9.79  \",\"  -7.79  \",\"  -11.28  \",\"  -6.89  \",\"  -5.03  \",\"  -7.25  \",\"  -4.79  \",\"  -10.04  \"],[\"  342.76  \",\"  6.78  \",\"  4.84  \",\"  2.44  \",\"  3.30  \",\"  2.98  \",\"  3.31  \",\"  3.77  \",\"  4.85  \"],[\"  -250.82  \",\"  -7.97  \",\"  -4.30  \",\"  -4.03  \",\"  -3.33  \",\"  -2.36  \",\"  -2.59  \",\"  -3.87  \",\"  -3.91  \"],[\"  -932.29  \",\"  -23.64  \",\"  -19.04  \",\"  -26.95  \",\"  -17.80  \",\"  -10.33  \",\"  -10.40  \",\"  -9.20  \",\"  -15.87  \"],[\"  -818.09  \",\"  -25.40  \",\"  -20.67  \",\"  -31.68  \",\"  -21.38  \",\"  -15.73  \",\"  -13.99  \",\"  -13.65  \",\"  -18.33  \"],[\"  -804.60  \",\"  -32.98  \",\"  -29.17  \",\"  -41.90  \",\"  -30.03  \",\"  -24.08  \",\"  -20.65  \",\"  -21.39  \",\"  -29.02  \"],[\"  426.18  \",\"  31.99  \",\"  28.09  \",\"  41.87  \",\"  34.44  \",\"  29.90  \",\"  26.22  \",\"  22.68  \",\"  31.35  \"],[\"  398.51  \",\"  20.92  \",\"  23.64  \",\"  35.77  \",\"  30.25  \",\"  27.86  \",\"  18.61  \",\"  21.50  \",\"  25.73  \"],[\"  -542.89  \",\"  -69.13  \",\"  -81.49  \",\"  -83.58  \",\"  -78.87  \",\"  -70.90  \",\"  -62.88  \",\"  -54.32  \",\"  -76.29  \"]],\"textfont\":{\"color\":\"black\",\"size\":12},\"texttemplate\":\"%{text}\",\"z\":[[0.5020468235015869,-0.22147750854492188,-0.1509588211774826,-0.23544315993785858,-0.37205439805984497,-0.5517398715019226,-0.5881605744361877,-0.6715076565742493,-0.7445042729377747],[5.497678279876709,0.6959137916564941,3.442176580429077,3.5997414588928223,2.7302937507629395,4.671848773956299,2.8087098598480225,1.8271639347076416,3.2176826000213623],[-36.50701141357422,-5.824863433837891,-8.021722793579102,-9.506632804870605,-8.48106861114502,-7.262537479400635,-6.619003772735596,-5.077050685882568,-9.645851135253906],[-699.8090209960938,-9.787178039550781,-7.791315078735352,-11.277552604675293,-6.8877272605896,-5.030523300170898,-7.24690580368042,-4.794089317321777,-10.040631294250488],[342.7603759765625,6.781123161315918,4.835515975952148,2.43782114982605,3.3027145862579346,2.9757301807403564,3.3054616451263428,3.7686257362365723,4.8450703620910645],[-250.8212432861328,-7.969202518463135,-4.301056861877441,-4.030577182769775,-3.3268892765045166,-2.3641819953918457,-2.587613821029663,-3.871546983718872,-3.9102256298065186],[-932.2938842773438,-23.63993263244629,-19.042280197143555,-26.952552795410156,-17.804765701293945,-10.33132553100586,-10.404622077941895,-9.197325706481934,-15.866914749145508],[-818.0899047851562,-25.40383529663086,-20.670095443725586,-31.68287467956543,-21.37606430053711,-15.731378555297852,-13.986588478088379,-13.646472930908203,-18.32902717590332],[-804.6029052734375,-32.98423767089844,-29.16661834716797,-41.901939392089844,-30.026371002197266,-24.07799530029297,-20.654964447021484,-21.394977569580078,-29.017108917236328],[426.1773986816406,31.993572235107422,28.089183807373047,41.87158203125,34.43775939941406,29.89580726623535,26.222597122192383,22.67681312561035,31.345861434936523],[398.5132141113281,20.917285919189453,23.64017677307129,35.76744842529297,30.245840072631836,27.861461639404297,18.60836410522461,21.50324249267578,25.726713180541992],[-542.892822265625,-69.12540435791016,-81.49188232421875,-83.57676696777344,-78.87007904052734,-70.89543151855469,-62.88469696044922,-54.321163177490234,-76.28931427001953]],\"type\":\"heatmap\"}],                        {\"height\":800,\"template\":{\"data\":{\"barpolar\":[{\"marker\":{\"line\":{\"color\":\"#E5ECF6\",\"width\":0.5},\"pattern\":{\"fillmode\":\"overlay\",\"size\":10,\"solidity\":0.2}},\"type\":\"barpolar\"}],\"bar\":[{\"error_x\":{\"color\":\"#2a3f5f\"},\"error_y\":{\"color\":\"#2a3f5f\"},\"marker\":{\"line\":{\"color\":\"#E5ECF6\",\"width\":0.5},\"pattern\":{\"fillmode\":\"overlay\",\"size\":10,\"solidity\":0.2}},\"type\":\"bar\"}],\"carpet\":[{\"aaxis\":{\"endlinecolor\":\"#2a3f5f\",\"gridcolor\":\"white\",\"linecolor\":\"white\",\"minorgridcolor\":\"white\",\"startlinecolor\":\"#2a3f5f\"},\"baxis\":{\"endlinecolor\":\"#2a3f5f\",\"gridcolor\":\"white\",\"linecolor\":\"white\",\"minorgridcolor\":\"white\",\"startlinecolor\":\"#2a3f5f\"},\"type\":\"carpet\"}],\"choropleth\":[{\"colorbar\":{\"outlinewidth\":0,\"ticks\":\"\"},\"type\":\"choropleth\"}],\"contourcarpet\":[{\"colorbar\":{\"outlinewidth\":0,\"ticks\":\"\"},\"type\":\"contourcarpet\"}],\"contour\":[{\"colorbar\":{\"outlinewidth\":0,\"ticks\":\"\"},\"colorscale\":[[0.0,\"#0d0887\"],[0.1111111111111111,\"#46039f\"],[0.2222222222222222,\"#7201a8\"],[0.3333333333333333,\"#9c179e\"],[0.4444444444444444,\"#bd3786\"],[0.5555555555555556,\"#d8576b\"],[0.6666666666666666,\"#ed7953\"],[0.7777777777777778,\"#fb9f3a\"],[0.8888888888888888,\"#fdca26\"],[1.0,\"#f0f921\"]],\"type\":\"contour\"}],\"heatmapgl\":[{\"colorbar\":{\"outlinewidth\":0,\"ticks\":\"\"},\"colorscale\":[[0.0,\"#0d0887\"],[0.1111111111111111,\"#46039f\"],[0.2222222222222222,\"#7201a8\"],[0.3333333333333333,\"#9c179e\"],[0.4444444444444444,\"#bd3786\"],[0.5555555555555556,\"#d8576b\"],[0.6666666666666666,\"#ed7953\"],[0.7777777777777778,\"#fb9f3a\"],[0.8888888888888888,\"#fdca26\"],[1.0,\"#f0f921\"]],\"type\":\"heatmapgl\"}],\"heatmap\":[{\"colorbar\":{\"outlinewidth\":0,\"ticks\":\"\"},\"colorscale\":[[0.0,\"#0d0887\"],[0.1111111111111111,\"#46039f\"],[0.2222222222222222,\"#7201a8\"],[0.3333333333333333,\"#9c179e\"],[0.4444444444444444,\"#bd3786\"],[0.5555555555555556,\"#d8576b\"],[0.6666666666666666,\"#ed7953\"],[0.7777777777777778,\"#fb9f3a\"],[0.8888888888888888,\"#fdca26\"],[1.0,\"#f0f921\"]],\"type\":\"heatmap\"}],\"histogram2dcontour\":[{\"colorbar\":{\"outlinewidth\":0,\"ticks\":\"\"},\"colorscale\":[[0.0,\"#0d0887\"],[0.1111111111111111,\"#46039f\"],[0.2222222222222222,\"#7201a8\"],[0.3333333333333333,\"#9c179e\"],[0.4444444444444444,\"#bd3786\"],[0.5555555555555556,\"#d8576b\"],[0.6666666666666666,\"#ed7953\"],[0.7777777777777778,\"#fb9f3a\"],[0.8888888888888888,\"#fdca26\"],[1.0,\"#f0f921\"]],\"type\":\"histogram2dcontour\"}],\"histogram2d\":[{\"colorbar\":{\"outlinewidth\":0,\"ticks\":\"\"},\"colorscale\":[[0.0,\"#0d0887\"],[0.1111111111111111,\"#46039f\"],[0.2222222222222222,\"#7201a8\"],[0.3333333333333333,\"#9c179e\"],[0.4444444444444444,\"#bd3786\"],[0.5555555555555556,\"#d8576b\"],[0.6666666666666666,\"#ed7953\"],[0.7777777777777778,\"#fb9f3a\"],[0.8888888888888888,\"#fdca26\"],[1.0,\"#f0f921\"]],\"type\":\"histogram2d\"}],\"histogram\":[{\"marker\":{\"pattern\":{\"fillmode\":\"overlay\",\"size\":10,\"solidity\":0.2}},\"type\":\"histogram\"}],\"mesh3d\":[{\"colorbar\":{\"outlinewidth\":0,\"ticks\":\"\"},\"type\":\"mesh3d\"}],\"parcoords\":[{\"line\":{\"colorbar\":{\"outlinewidth\":0,\"ticks\":\"\"}},\"type\":\"parcoords\"}],\"pie\":[{\"automargin\":true,\"type\":\"pie\"}],\"scatter3d\":[{\"line\":{\"colorbar\":{\"outlinewidth\":0,\"ticks\":\"\"}},\"marker\":{\"colorbar\":{\"outlinewidth\":0,\"ticks\":\"\"}},\"type\":\"scatter3d\"}],\"scattercarpet\":[{\"marker\":{\"colorbar\":{\"outlinewidth\":0,\"ticks\":\"\"}},\"type\":\"scattercarpet\"}],\"scattergeo\":[{\"marker\":{\"colorbar\":{\"outlinewidth\":0,\"ticks\":\"\"}},\"type\":\"scattergeo\"}],\"scattergl\":[{\"marker\":{\"colorbar\":{\"outlinewidth\":0,\"ticks\":\"\"}},\"type\":\"scattergl\"}],\"scattermapbox\":[{\"marker\":{\"colorbar\":{\"outlinewidth\":0,\"ticks\":\"\"}},\"type\":\"scattermapbox\"}],\"scatterpolargl\":[{\"marker\":{\"colorbar\":{\"outlinewidth\":0,\"ticks\":\"\"}},\"type\":\"scatterpolargl\"}],\"scatterpolar\":[{\"marker\":{\"colorbar\":{\"outlinewidth\":0,\"ticks\":\"\"}},\"type\":\"scatterpolar\"}],\"scatter\":[{\"fillpattern\":{\"fillmode\":\"overlay\",\"size\":10,\"solidity\":0.2},\"type\":\"scatter\"}],\"scatterternary\":[{\"marker\":{\"colorbar\":{\"outlinewidth\":0,\"ticks\":\"\"}},\"type\":\"scatterternary\"}],\"surface\":[{\"colorbar\":{\"outlinewidth\":0,\"ticks\":\"\"},\"colorscale\":[[0.0,\"#0d0887\"],[0.1111111111111111,\"#46039f\"],[0.2222222222222222,\"#7201a8\"],[0.3333333333333333,\"#9c179e\"],[0.4444444444444444,\"#bd3786\"],[0.5555555555555556,\"#d8576b\"],[0.6666666666666666,\"#ed7953\"],[0.7777777777777778,\"#fb9f3a\"],[0.8888888888888888,\"#fdca26\"],[1.0,\"#f0f921\"]],\"type\":\"surface\"}],\"table\":[{\"cells\":{\"fill\":{\"color\":\"#EBF0F8\"},\"line\":{\"color\":\"white\"}},\"header\":{\"fill\":{\"color\":\"#C8D4E3\"},\"line\":{\"color\":\"white\"}},\"type\":\"table\"}]},\"layout\":{\"annotationdefaults\":{\"arrowcolor\":\"#2a3f5f\",\"arrowhead\":0,\"arrowwidth\":1},\"autotypenumbers\":\"strict\",\"coloraxis\":{\"colorbar\":{\"outlinewidth\":0,\"ticks\":\"\"}},\"colorscale\":{\"diverging\":[[0,\"#8e0152\"],[0.1,\"#c51b7d\"],[0.2,\"#de77ae\"],[0.3,\"#f1b6da\"],[0.4,\"#fde0ef\"],[0.5,\"#f7f7f7\"],[0.6,\"#e6f5d0\"],[0.7,\"#b8e186\"],[0.8,\"#7fbc41\"],[0.9,\"#4d9221\"],[1,\"#276419\"]],\"sequential\":[[0.0,\"#0d0887\"],[0.1111111111111111,\"#46039f\"],[0.2222222222222222,\"#7201a8\"],[0.3333333333333333,\"#9c179e\"],[0.4444444444444444,\"#bd3786\"],[0.5555555555555556,\"#d8576b\"],[0.6666666666666666,\"#ed7953\"],[0.7777777777777778,\"#fb9f3a\"],[0.8888888888888888,\"#fdca26\"],[1.0,\"#f0f921\"]],\"sequentialminus\":[[0.0,\"#0d0887\"],[0.1111111111111111,\"#46039f\"],[0.2222222222222222,\"#7201a8\"],[0.3333333333333333,\"#9c179e\"],[0.4444444444444444,\"#bd3786\"],[0.5555555555555556,\"#d8576b\"],[0.6666666666666666,\"#ed7953\"],[0.7777777777777778,\"#fb9f3a\"],[0.8888888888888888,\"#fdca26\"],[1.0,\"#f0f921\"]]},\"colorway\":[\"#636efa\",\"#EF553B\",\"#00cc96\",\"#ab63fa\",\"#FFA15A\",\"#19d3f3\",\"#FF6692\",\"#B6E880\",\"#FF97FF\",\"#FECB52\"],\"font\":{\"color\":\"#2a3f5f\"},\"geo\":{\"bgcolor\":\"white\",\"lakecolor\":\"white\",\"landcolor\":\"#E5ECF6\",\"showlakes\":true,\"showland\":true,\"subunitcolor\":\"white\"},\"hoverlabel\":{\"align\":\"left\"},\"hovermode\":\"closest\",\"mapbox\":{\"style\":\"light\"},\"paper_bgcolor\":\"white\",\"plot_bgcolor\":\"#E5ECF6\",\"polar\":{\"angularaxis\":{\"gridcolor\":\"white\",\"linecolor\":\"white\",\"ticks\":\"\"},\"bgcolor\":\"#E5ECF6\",\"radialaxis\":{\"gridcolor\":\"white\",\"linecolor\":\"white\",\"ticks\":\"\"}},\"scene\":{\"xaxis\":{\"backgroundcolor\":\"#E5ECF6\",\"gridcolor\":\"white\",\"gridwidth\":2,\"linecolor\":\"white\",\"showbackground\":true,\"ticks\":\"\",\"zerolinecolor\":\"white\"},\"yaxis\":{\"backgroundcolor\":\"#E5ECF6\",\"gridcolor\":\"white\",\"gridwidth\":2,\"linecolor\":\"white\",\"showbackground\":true,\"ticks\":\"\",\"zerolinecolor\":\"white\"},\"zaxis\":{\"backgroundcolor\":\"#E5ECF6\",\"gridcolor\":\"white\",\"gridwidth\":2,\"linecolor\":\"white\",\"showbackground\":true,\"ticks\":\"\",\"zerolinecolor\":\"white\"}},\"shapedefaults\":{\"line\":{\"color\":\"#2a3f5f\"}},\"ternary\":{\"aaxis\":{\"gridcolor\":\"white\",\"linecolor\":\"white\",\"ticks\":\"\"},\"baxis\":{\"gridcolor\":\"white\",\"linecolor\":\"white\",\"ticks\":\"\"},\"bgcolor\":\"#E5ECF6\",\"caxis\":{\"gridcolor\":\"white\",\"linecolor\":\"white\",\"ticks\":\"\"}},\"title\":{\"x\":0.05},\"xaxis\":{\"automargin\":true,\"gridcolor\":\"white\",\"linecolor\":\"white\",\"ticks\":\"\",\"title\":{\"standoff\":15},\"zerolinecolor\":\"white\",\"zerolinewidth\":2},\"yaxis\":{\"automargin\":true,\"gridcolor\":\"white\",\"linecolor\":\"white\",\"ticks\":\"\",\"title\":{\"standoff\":15},\"zerolinecolor\":\"white\",\"zerolinewidth\":2}}},\"title\":{\"text\":\"Credences for Input Tokens\"},\"width\":800,\"xaxis\":{\"tickangle\":45,\"ticktext\":[\"<bos>\",\"This\",\"\\u0120film\",\"\\u0120is\",\"\\u0120terrible\",\",\",\"\\u0120best\",\"\\u0120to\",\"\\u0120pass\",\".\"],\"tickvals\":[0,1,2,3,4,5,6,7,8,9]}},                        {\"responsive\": true}                    ).then(function(){\n",
       "                            \n",
       "var gd = document.getElementById('0369d653-24ae-41c5-9556-20d787ff52cd');\n",
       "var x = new MutationObserver(function (mutations, observer) {{\n",
       "        var display = window.getComputedStyle(gd).display;\n",
       "        if (!display || display === 'none') {{\n",
       "            console.log([gd, 'removed!']);\n",
       "            Plotly.purge(gd);\n",
       "            observer.disconnect();\n",
       "        }}\n",
       "}});\n",
       "\n",
       "// Listen for the removal of the full notebook cells\n",
       "var notebookContainer = gd.closest('#notebook-container');\n",
       "if (notebookContainer) {{\n",
       "    x.observe(notebookContainer, {childList: true});\n",
       "}}\n",
       "\n",
       "// Listen for the clearing of the current output cell\n",
       "var outputEl = gd.closest('.output');\n",
       "if (outputEl) {{\n",
       "    x.observe(outputEl, {childList: true});\n",
       "}}\n",
       "\n",
       "                        })                };                });            </script>        </div>"
      ]
     },
     "metadata": {},
     "output_type": "display_data"
    }
   ],
   "source": [
    "import plotly.graph_objs as go\n",
    "import plotly.io as pio\n",
    "import torch\n",
    "from IPython.display import HTML\n",
    "from plotly.offline import init_notebook_mode, iplot\n",
    "init_notebook_mode(connected=True)\n",
    "\n",
    "# Create color scale for heatmap\n",
    "color_scale = [[0, '#FFFFFF'], [1, '#FF0000']] # white to red\n",
    "\n",
    "# Convert tensor to numpy array and detach gradients\n",
    "credences = result.detach().numpy()\n",
    "\n",
    "padded_text = np.array([[\" \" * 2 + \"{:.2f}\".format(value) + \" \" * 2 for value in row] for row in credences])\n",
    "\n",
    "# Create plotly heatmap\n",
    "heatmap = go.Heatmap(\n",
    "    z=credences, \n",
    "    colorscale=color_scale,\n",
    "    text=padded_text,  # Set the text to be equal to z\n",
    "    texttemplate=\"%{text}\", \n",
    "    textfont=dict(color='black', size=12),  # Set the text color and size\n",
    ")\n",
    "\n",
    "# Create plot layout\n",
    "layout = go.Layout(title='Credences for Input Tokens',\n",
    "                width=800,  # Set the width of the plot\n",
    "                height=800,  # Set the height of the plot\n",
    "                   xaxis=dict(tickvals=list(range(len(input_tokens))),\n",
    "                              ticktext=input_tokens,\n",
    "                              tickangle=45))\n",
    "\n",
    "# Create plotly figure\n",
    "fig = go.Figure(data=[heatmap], layout=layout)\n",
    "# fig = fig.update_traces(text=input_tokens, texttemplate=\"%{text}\", hovertemplate=None)\n",
    "\n",
    "# Display plotly figure\n",
    "iplot(fig)"
   ]
  },
  {
   "cell_type": "code",
   "execution_count": 39,
   "metadata": {},
   "outputs": [
    {
     "data": {
      "application/vnd.plotly.v1+json": {
       "config": {
        "linkText": "Export to plot.ly",
        "plotlyServerURL": "https://plot.ly",
        "showLink": false
       },
       "data": [
        {
         "colorscale": [
          [
           0,
           "#FFFFFF"
          ],
          [
           1,
           "#FF0000"
          ]
         ],
         "text": [
          [
           "  <bos>  ",
           "  This  ",
           "  Ġfilm  ",
           "  Ġis  ",
           "  Ġterrible  ",
           "  ,  ",
           "  Ġbest  ",
           "  Ġto  ",
           "  Ġpass  ",
           "  .  "
          ],
          [
           "  <bos>  ",
           "  This  ",
           "  Ġfilm  ",
           "  Ġis  ",
           "  Ġterrible  ",
           "  ,  ",
           "  Ġbest  ",
           "  Ġto  ",
           "  Ġpass  ",
           "  .  "
          ],
          [
           "  <bos>  ",
           "  This  ",
           "  Ġfilm  ",
           "  Ġis  ",
           "  Ġterrible  ",
           "  ,  ",
           "  Ġbest  ",
           "  Ġto  ",
           "  Ġpass  ",
           "  .  "
          ],
          [
           "  <bos>  ",
           "  This  ",
           "  Ġfilm  ",
           "  Ġis  ",
           "  Ġterrible  ",
           "  ,  ",
           "  Ġbest  ",
           "  Ġto  ",
           "  Ġpass  ",
           "  .  "
          ],
          [
           "  <bos>  ",
           "  This  ",
           "  Ġfilm  ",
           "  Ġis  ",
           "  Ġterrible  ",
           "  ,  ",
           "  Ġbest  ",
           "  Ġto  ",
           "  Ġpass  ",
           "  .  "
          ],
          [
           "  <bos>  ",
           "  This  ",
           "  Ġfilm  ",
           "  Ġis  ",
           "  Ġterrible  ",
           "  ,  ",
           "  Ġbest  ",
           "  Ġto  ",
           "  Ġpass  ",
           "  .  "
          ],
          [
           "  <bos>  ",
           "  This  ",
           "  Ġfilm  ",
           "  Ġis  ",
           "  Ġterrible  ",
           "  ,  ",
           "  Ġbest  ",
           "  Ġto  ",
           "  Ġpass  ",
           "  .  "
          ],
          [
           "  <bos>  ",
           "  This  ",
           "  Ġfilm  ",
           "  Ġis  ",
           "  Ġterrible  ",
           "  ,  ",
           "  Ġbest  ",
           "  Ġto  ",
           "  Ġpass  ",
           "  .  "
          ],
          [
           "  <bos>  ",
           "  This  ",
           "  Ġfilm  ",
           "  Ġis  ",
           "  Ġterrible  ",
           "  ,  ",
           "  Ġbest  ",
           "  Ġto  ",
           "  Ġpass  ",
           "  .  "
          ],
          [
           "  <bos>  ",
           "  This  ",
           "  Ġfilm  ",
           "  Ġis  ",
           "  Ġterrible  ",
           "  ,  ",
           "  Ġbest  ",
           "  Ġto  ",
           "  Ġpass  ",
           "  .  "
          ],
          [
           "  <bos>  ",
           "  This  ",
           "  Ġfilm  ",
           "  Ġis  ",
           "  Ġterrible  ",
           "  ,  ",
           "  Ġbest  ",
           "  Ġto  ",
           "  Ġpass  ",
           "  .  "
          ],
          [
           "  <bos>  ",
           "  This  ",
           "  Ġfilm  ",
           "  Ġis  ",
           "  Ġterrible  ",
           "  ,  ",
           "  Ġbest  ",
           "  Ġto  ",
           "  Ġpass  ",
           "  .  "
          ]
         ],
         "textfont": {
          "color": "black",
          "size": 12
         },
         "texttemplate": "%{text}",
         "type": "heatmap",
         "z": [
          [
           0.5020468235015869,
           -0.22147750854492188,
           -0.1509588211774826,
           -0.23544315993785858,
           -0.37205439805984497,
           -0.5517398715019226,
           -0.5881605744361877,
           -0.6715076565742493,
           -0.7445042729377747
          ],
          [
           5.497678279876709,
           0.6959137916564941,
           3.442176580429077,
           3.5997414588928223,
           2.7302937507629395,
           4.671848773956299,
           2.8087098598480225,
           1.8271639347076416,
           3.2176826000213623
          ],
          [
           -36.50701141357422,
           -5.824863433837891,
           -8.021722793579102,
           -9.506632804870605,
           -8.48106861114502,
           -7.262537479400635,
           -6.619003772735596,
           -5.077050685882568,
           -9.645851135253906
          ],
          [
           -699.8090209960938,
           -9.787178039550781,
           -7.791315078735352,
           -11.277552604675293,
           -6.8877272605896,
           -5.030523300170898,
           -7.24690580368042,
           -4.794089317321777,
           -10.040631294250488
          ],
          [
           342.7603759765625,
           6.781123161315918,
           4.835515975952148,
           2.43782114982605,
           3.3027145862579346,
           2.9757301807403564,
           3.3054616451263428,
           3.7686257362365723,
           4.8450703620910645
          ],
          [
           -250.8212432861328,
           -7.969202518463135,
           -4.301056861877441,
           -4.030577182769775,
           -3.3268892765045166,
           -2.3641819953918457,
           -2.587613821029663,
           -3.871546983718872,
           -3.9102256298065186
          ],
          [
           -932.2938842773438,
           -23.63993263244629,
           -19.042280197143555,
           -26.952552795410156,
           -17.804765701293945,
           -10.33132553100586,
           -10.404622077941895,
           -9.197325706481934,
           -15.866914749145508
          ],
          [
           -818.0899047851562,
           -25.40383529663086,
           -20.670095443725586,
           -31.68287467956543,
           -21.37606430053711,
           -15.731378555297852,
           -13.986588478088379,
           -13.646472930908203,
           -18.32902717590332
          ],
          [
           -804.6029052734375,
           -32.98423767089844,
           -29.16661834716797,
           -41.901939392089844,
           -30.026371002197266,
           -24.07799530029297,
           -20.654964447021484,
           -21.394977569580078,
           -29.017108917236328
          ],
          [
           426.1773986816406,
           31.993572235107422,
           28.089183807373047,
           41.87158203125,
           34.43775939941406,
           29.89580726623535,
           26.222597122192383,
           22.67681312561035,
           31.345861434936523
          ],
          [
           398.5132141113281,
           20.917285919189453,
           23.64017677307129,
           35.76744842529297,
           30.245840072631836,
           27.861461639404297,
           18.60836410522461,
           21.50324249267578,
           25.726713180541992
          ],
          [
           -542.892822265625,
           -69.12540435791016,
           -81.49188232421875,
           -83.57676696777344,
           -78.87007904052734,
           -70.89543151855469,
           -62.88469696044922,
           -54.321163177490234,
           -76.28931427001953
          ]
         ]
        }
       ],
       "layout": {
        "height": 800,
        "template": {
         "data": {
          "bar": [
           {
            "error_x": {
             "color": "#2a3f5f"
            },
            "error_y": {
             "color": "#2a3f5f"
            },
            "marker": {
             "line": {
              "color": "#E5ECF6",
              "width": 0.5
             },
             "pattern": {
              "fillmode": "overlay",
              "size": 10,
              "solidity": 0.2
             }
            },
            "type": "bar"
           }
          ],
          "barpolar": [
           {
            "marker": {
             "line": {
              "color": "#E5ECF6",
              "width": 0.5
             },
             "pattern": {
              "fillmode": "overlay",
              "size": 10,
              "solidity": 0.2
             }
            },
            "type": "barpolar"
           }
          ],
          "carpet": [
           {
            "aaxis": {
             "endlinecolor": "#2a3f5f",
             "gridcolor": "white",
             "linecolor": "white",
             "minorgridcolor": "white",
             "startlinecolor": "#2a3f5f"
            },
            "baxis": {
             "endlinecolor": "#2a3f5f",
             "gridcolor": "white",
             "linecolor": "white",
             "minorgridcolor": "white",
             "startlinecolor": "#2a3f5f"
            },
            "type": "carpet"
           }
          ],
          "choropleth": [
           {
            "colorbar": {
             "outlinewidth": 0,
             "ticks": ""
            },
            "type": "choropleth"
           }
          ],
          "contour": [
           {
            "colorbar": {
             "outlinewidth": 0,
             "ticks": ""
            },
            "colorscale": [
             [
              0,
              "#0d0887"
             ],
             [
              0.1111111111111111,
              "#46039f"
             ],
             [
              0.2222222222222222,
              "#7201a8"
             ],
             [
              0.3333333333333333,
              "#9c179e"
             ],
             [
              0.4444444444444444,
              "#bd3786"
             ],
             [
              0.5555555555555556,
              "#d8576b"
             ],
             [
              0.6666666666666666,
              "#ed7953"
             ],
             [
              0.7777777777777778,
              "#fb9f3a"
             ],
             [
              0.8888888888888888,
              "#fdca26"
             ],
             [
              1,
              "#f0f921"
             ]
            ],
            "type": "contour"
           }
          ],
          "contourcarpet": [
           {
            "colorbar": {
             "outlinewidth": 0,
             "ticks": ""
            },
            "type": "contourcarpet"
           }
          ],
          "heatmap": [
           {
            "colorbar": {
             "outlinewidth": 0,
             "ticks": ""
            },
            "colorscale": [
             [
              0,
              "#0d0887"
             ],
             [
              0.1111111111111111,
              "#46039f"
             ],
             [
              0.2222222222222222,
              "#7201a8"
             ],
             [
              0.3333333333333333,
              "#9c179e"
             ],
             [
              0.4444444444444444,
              "#bd3786"
             ],
             [
              0.5555555555555556,
              "#d8576b"
             ],
             [
              0.6666666666666666,
              "#ed7953"
             ],
             [
              0.7777777777777778,
              "#fb9f3a"
             ],
             [
              0.8888888888888888,
              "#fdca26"
             ],
             [
              1,
              "#f0f921"
             ]
            ],
            "type": "heatmap"
           }
          ],
          "heatmapgl": [
           {
            "colorbar": {
             "outlinewidth": 0,
             "ticks": ""
            },
            "colorscale": [
             [
              0,
              "#0d0887"
             ],
             [
              0.1111111111111111,
              "#46039f"
             ],
             [
              0.2222222222222222,
              "#7201a8"
             ],
             [
              0.3333333333333333,
              "#9c179e"
             ],
             [
              0.4444444444444444,
              "#bd3786"
             ],
             [
              0.5555555555555556,
              "#d8576b"
             ],
             [
              0.6666666666666666,
              "#ed7953"
             ],
             [
              0.7777777777777778,
              "#fb9f3a"
             ],
             [
              0.8888888888888888,
              "#fdca26"
             ],
             [
              1,
              "#f0f921"
             ]
            ],
            "type": "heatmapgl"
           }
          ],
          "histogram": [
           {
            "marker": {
             "pattern": {
              "fillmode": "overlay",
              "size": 10,
              "solidity": 0.2
             }
            },
            "type": "histogram"
           }
          ],
          "histogram2d": [
           {
            "colorbar": {
             "outlinewidth": 0,
             "ticks": ""
            },
            "colorscale": [
             [
              0,
              "#0d0887"
             ],
             [
              0.1111111111111111,
              "#46039f"
             ],
             [
              0.2222222222222222,
              "#7201a8"
             ],
             [
              0.3333333333333333,
              "#9c179e"
             ],
             [
              0.4444444444444444,
              "#bd3786"
             ],
             [
              0.5555555555555556,
              "#d8576b"
             ],
             [
              0.6666666666666666,
              "#ed7953"
             ],
             [
              0.7777777777777778,
              "#fb9f3a"
             ],
             [
              0.8888888888888888,
              "#fdca26"
             ],
             [
              1,
              "#f0f921"
             ]
            ],
            "type": "histogram2d"
           }
          ],
          "histogram2dcontour": [
           {
            "colorbar": {
             "outlinewidth": 0,
             "ticks": ""
            },
            "colorscale": [
             [
              0,
              "#0d0887"
             ],
             [
              0.1111111111111111,
              "#46039f"
             ],
             [
              0.2222222222222222,
              "#7201a8"
             ],
             [
              0.3333333333333333,
              "#9c179e"
             ],
             [
              0.4444444444444444,
              "#bd3786"
             ],
             [
              0.5555555555555556,
              "#d8576b"
             ],
             [
              0.6666666666666666,
              "#ed7953"
             ],
             [
              0.7777777777777778,
              "#fb9f3a"
             ],
             [
              0.8888888888888888,
              "#fdca26"
             ],
             [
              1,
              "#f0f921"
             ]
            ],
            "type": "histogram2dcontour"
           }
          ],
          "mesh3d": [
           {
            "colorbar": {
             "outlinewidth": 0,
             "ticks": ""
            },
            "type": "mesh3d"
           }
          ],
          "parcoords": [
           {
            "line": {
             "colorbar": {
              "outlinewidth": 0,
              "ticks": ""
             }
            },
            "type": "parcoords"
           }
          ],
          "pie": [
           {
            "automargin": true,
            "type": "pie"
           }
          ],
          "scatter": [
           {
            "fillpattern": {
             "fillmode": "overlay",
             "size": 10,
             "solidity": 0.2
            },
            "type": "scatter"
           }
          ],
          "scatter3d": [
           {
            "line": {
             "colorbar": {
              "outlinewidth": 0,
              "ticks": ""
             }
            },
            "marker": {
             "colorbar": {
              "outlinewidth": 0,
              "ticks": ""
             }
            },
            "type": "scatter3d"
           }
          ],
          "scattercarpet": [
           {
            "marker": {
             "colorbar": {
              "outlinewidth": 0,
              "ticks": ""
             }
            },
            "type": "scattercarpet"
           }
          ],
          "scattergeo": [
           {
            "marker": {
             "colorbar": {
              "outlinewidth": 0,
              "ticks": ""
             }
            },
            "type": "scattergeo"
           }
          ],
          "scattergl": [
           {
            "marker": {
             "colorbar": {
              "outlinewidth": 0,
              "ticks": ""
             }
            },
            "type": "scattergl"
           }
          ],
          "scattermapbox": [
           {
            "marker": {
             "colorbar": {
              "outlinewidth": 0,
              "ticks": ""
             }
            },
            "type": "scattermapbox"
           }
          ],
          "scatterpolar": [
           {
            "marker": {
             "colorbar": {
              "outlinewidth": 0,
              "ticks": ""
             }
            },
            "type": "scatterpolar"
           }
          ],
          "scatterpolargl": [
           {
            "marker": {
             "colorbar": {
              "outlinewidth": 0,
              "ticks": ""
             }
            },
            "type": "scatterpolargl"
           }
          ],
          "scatterternary": [
           {
            "marker": {
             "colorbar": {
              "outlinewidth": 0,
              "ticks": ""
             }
            },
            "type": "scatterternary"
           }
          ],
          "surface": [
           {
            "colorbar": {
             "outlinewidth": 0,
             "ticks": ""
            },
            "colorscale": [
             [
              0,
              "#0d0887"
             ],
             [
              0.1111111111111111,
              "#46039f"
             ],
             [
              0.2222222222222222,
              "#7201a8"
             ],
             [
              0.3333333333333333,
              "#9c179e"
             ],
             [
              0.4444444444444444,
              "#bd3786"
             ],
             [
              0.5555555555555556,
              "#d8576b"
             ],
             [
              0.6666666666666666,
              "#ed7953"
             ],
             [
              0.7777777777777778,
              "#fb9f3a"
             ],
             [
              0.8888888888888888,
              "#fdca26"
             ],
             [
              1,
              "#f0f921"
             ]
            ],
            "type": "surface"
           }
          ],
          "table": [
           {
            "cells": {
             "fill": {
              "color": "#EBF0F8"
             },
             "line": {
              "color": "white"
             }
            },
            "header": {
             "fill": {
              "color": "#C8D4E3"
             },
             "line": {
              "color": "white"
             }
            },
            "type": "table"
           }
          ]
         },
         "layout": {
          "annotationdefaults": {
           "arrowcolor": "#2a3f5f",
           "arrowhead": 0,
           "arrowwidth": 1
          },
          "autotypenumbers": "strict",
          "coloraxis": {
           "colorbar": {
            "outlinewidth": 0,
            "ticks": ""
           }
          },
          "colorscale": {
           "diverging": [
            [
             0,
             "#8e0152"
            ],
            [
             0.1,
             "#c51b7d"
            ],
            [
             0.2,
             "#de77ae"
            ],
            [
             0.3,
             "#f1b6da"
            ],
            [
             0.4,
             "#fde0ef"
            ],
            [
             0.5,
             "#f7f7f7"
            ],
            [
             0.6,
             "#e6f5d0"
            ],
            [
             0.7,
             "#b8e186"
            ],
            [
             0.8,
             "#7fbc41"
            ],
            [
             0.9,
             "#4d9221"
            ],
            [
             1,
             "#276419"
            ]
           ],
           "sequential": [
            [
             0,
             "#0d0887"
            ],
            [
             0.1111111111111111,
             "#46039f"
            ],
            [
             0.2222222222222222,
             "#7201a8"
            ],
            [
             0.3333333333333333,
             "#9c179e"
            ],
            [
             0.4444444444444444,
             "#bd3786"
            ],
            [
             0.5555555555555556,
             "#d8576b"
            ],
            [
             0.6666666666666666,
             "#ed7953"
            ],
            [
             0.7777777777777778,
             "#fb9f3a"
            ],
            [
             0.8888888888888888,
             "#fdca26"
            ],
            [
             1,
             "#f0f921"
            ]
           ],
           "sequentialminus": [
            [
             0,
             "#0d0887"
            ],
            [
             0.1111111111111111,
             "#46039f"
            ],
            [
             0.2222222222222222,
             "#7201a8"
            ],
            [
             0.3333333333333333,
             "#9c179e"
            ],
            [
             0.4444444444444444,
             "#bd3786"
            ],
            [
             0.5555555555555556,
             "#d8576b"
            ],
            [
             0.6666666666666666,
             "#ed7953"
            ],
            [
             0.7777777777777778,
             "#fb9f3a"
            ],
            [
             0.8888888888888888,
             "#fdca26"
            ],
            [
             1,
             "#f0f921"
            ]
           ]
          },
          "colorway": [
           "#636efa",
           "#EF553B",
           "#00cc96",
           "#ab63fa",
           "#FFA15A",
           "#19d3f3",
           "#FF6692",
           "#B6E880",
           "#FF97FF",
           "#FECB52"
          ],
          "font": {
           "color": "#2a3f5f"
          },
          "geo": {
           "bgcolor": "white",
           "lakecolor": "white",
           "landcolor": "#E5ECF6",
           "showlakes": true,
           "showland": true,
           "subunitcolor": "white"
          },
          "hoverlabel": {
           "align": "left"
          },
          "hovermode": "closest",
          "mapbox": {
           "style": "light"
          },
          "paper_bgcolor": "white",
          "plot_bgcolor": "#E5ECF6",
          "polar": {
           "angularaxis": {
            "gridcolor": "white",
            "linecolor": "white",
            "ticks": ""
           },
           "bgcolor": "#E5ECF6",
           "radialaxis": {
            "gridcolor": "white",
            "linecolor": "white",
            "ticks": ""
           }
          },
          "scene": {
           "xaxis": {
            "backgroundcolor": "#E5ECF6",
            "gridcolor": "white",
            "gridwidth": 2,
            "linecolor": "white",
            "showbackground": true,
            "ticks": "",
            "zerolinecolor": "white"
           },
           "yaxis": {
            "backgroundcolor": "#E5ECF6",
            "gridcolor": "white",
            "gridwidth": 2,
            "linecolor": "white",
            "showbackground": true,
            "ticks": "",
            "zerolinecolor": "white"
           },
           "zaxis": {
            "backgroundcolor": "#E5ECF6",
            "gridcolor": "white",
            "gridwidth": 2,
            "linecolor": "white",
            "showbackground": true,
            "ticks": "",
            "zerolinecolor": "white"
           }
          },
          "shapedefaults": {
           "line": {
            "color": "#2a3f5f"
           }
          },
          "ternary": {
           "aaxis": {
            "gridcolor": "white",
            "linecolor": "white",
            "ticks": ""
           },
           "baxis": {
            "gridcolor": "white",
            "linecolor": "white",
            "ticks": ""
           },
           "bgcolor": "#E5ECF6",
           "caxis": {
            "gridcolor": "white",
            "linecolor": "white",
            "ticks": ""
           }
          },
          "title": {
           "x": 0.05
          },
          "xaxis": {
           "automargin": true,
           "gridcolor": "white",
           "linecolor": "white",
           "ticks": "",
           "title": {
            "standoff": 15
           },
           "zerolinecolor": "white",
           "zerolinewidth": 2
          },
          "yaxis": {
           "automargin": true,
           "gridcolor": "white",
           "linecolor": "white",
           "ticks": "",
           "title": {
            "standoff": 15
           },
           "zerolinecolor": "white",
           "zerolinewidth": 2
          }
         }
        },
        "title": {
         "text": "Credences for Input Tokens"
        },
        "width": 800,
        "xaxis": {
         "tickangle": 45,
         "ticktext": [
          "<bos>",
          "This",
          "Ġfilm",
          "Ġis",
          "Ġterrible",
          ",",
          "Ġbest",
          "Ġto",
          "Ġpass",
          "."
         ],
         "tickvals": [
          0,
          1,
          2,
          3,
          4,
          5,
          6,
          7,
          8,
          9
         ]
        }
       }
      },
      "text/html": [
       "<div>                            <div id=\"503d0842-753c-445e-8a29-7630cf429ff8\" class=\"plotly-graph-div\" style=\"height:800px; width:800px;\"></div>            <script type=\"text/javascript\">                require([\"plotly\"], function(Plotly) {                    window.PLOTLYENV=window.PLOTLYENV || {};                                    if (document.getElementById(\"503d0842-753c-445e-8a29-7630cf429ff8\")) {                    Plotly.newPlot(                        \"503d0842-753c-445e-8a29-7630cf429ff8\",                        [{\"colorscale\":[[0,\"#FFFFFF\"],[1,\"#FF0000\"]],\"text\":[[\"  <bos>  \",\"  This  \",\"  \\u0120film  \",\"  \\u0120is  \",\"  \\u0120terrible  \",\"  ,  \",\"  \\u0120best  \",\"  \\u0120to  \",\"  \\u0120pass  \",\"  .  \"],[\"  <bos>  \",\"  This  \",\"  \\u0120film  \",\"  \\u0120is  \",\"  \\u0120terrible  \",\"  ,  \",\"  \\u0120best  \",\"  \\u0120to  \",\"  \\u0120pass  \",\"  .  \"],[\"  <bos>  \",\"  This  \",\"  \\u0120film  \",\"  \\u0120is  \",\"  \\u0120terrible  \",\"  ,  \",\"  \\u0120best  \",\"  \\u0120to  \",\"  \\u0120pass  \",\"  .  \"],[\"  <bos>  \",\"  This  \",\"  \\u0120film  \",\"  \\u0120is  \",\"  \\u0120terrible  \",\"  ,  \",\"  \\u0120best  \",\"  \\u0120to  \",\"  \\u0120pass  \",\"  .  \"],[\"  <bos>  \",\"  This  \",\"  \\u0120film  \",\"  \\u0120is  \",\"  \\u0120terrible  \",\"  ,  \",\"  \\u0120best  \",\"  \\u0120to  \",\"  \\u0120pass  \",\"  .  \"],[\"  <bos>  \",\"  This  \",\"  \\u0120film  \",\"  \\u0120is  \",\"  \\u0120terrible  \",\"  ,  \",\"  \\u0120best  \",\"  \\u0120to  \",\"  \\u0120pass  \",\"  .  \"],[\"  <bos>  \",\"  This  \",\"  \\u0120film  \",\"  \\u0120is  \",\"  \\u0120terrible  \",\"  ,  \",\"  \\u0120best  \",\"  \\u0120to  \",\"  \\u0120pass  \",\"  .  \"],[\"  <bos>  \",\"  This  \",\"  \\u0120film  \",\"  \\u0120is  \",\"  \\u0120terrible  \",\"  ,  \",\"  \\u0120best  \",\"  \\u0120to  \",\"  \\u0120pass  \",\"  .  \"],[\"  <bos>  \",\"  This  \",\"  \\u0120film  \",\"  \\u0120is  \",\"  \\u0120terrible  \",\"  ,  \",\"  \\u0120best  \",\"  \\u0120to  \",\"  \\u0120pass  \",\"  .  \"],[\"  <bos>  \",\"  This  \",\"  \\u0120film  \",\"  \\u0120is  \",\"  \\u0120terrible  \",\"  ,  \",\"  \\u0120best  \",\"  \\u0120to  \",\"  \\u0120pass  \",\"  .  \"],[\"  <bos>  \",\"  This  \",\"  \\u0120film  \",\"  \\u0120is  \",\"  \\u0120terrible  \",\"  ,  \",\"  \\u0120best  \",\"  \\u0120to  \",\"  \\u0120pass  \",\"  .  \"],[\"  <bos>  \",\"  This  \",\"  \\u0120film  \",\"  \\u0120is  \",\"  \\u0120terrible  \",\"  ,  \",\"  \\u0120best  \",\"  \\u0120to  \",\"  \\u0120pass  \",\"  .  \"]],\"textfont\":{\"color\":\"black\",\"size\":12},\"texttemplate\":\"%{text}\",\"z\":[[0.5020468235015869,-0.22147750854492188,-0.1509588211774826,-0.23544315993785858,-0.37205439805984497,-0.5517398715019226,-0.5881605744361877,-0.6715076565742493,-0.7445042729377747],[5.497678279876709,0.6959137916564941,3.442176580429077,3.5997414588928223,2.7302937507629395,4.671848773956299,2.8087098598480225,1.8271639347076416,3.2176826000213623],[-36.50701141357422,-5.824863433837891,-8.021722793579102,-9.506632804870605,-8.48106861114502,-7.262537479400635,-6.619003772735596,-5.077050685882568,-9.645851135253906],[-699.8090209960938,-9.787178039550781,-7.791315078735352,-11.277552604675293,-6.8877272605896,-5.030523300170898,-7.24690580368042,-4.794089317321777,-10.040631294250488],[342.7603759765625,6.781123161315918,4.835515975952148,2.43782114982605,3.3027145862579346,2.9757301807403564,3.3054616451263428,3.7686257362365723,4.8450703620910645],[-250.8212432861328,-7.969202518463135,-4.301056861877441,-4.030577182769775,-3.3268892765045166,-2.3641819953918457,-2.587613821029663,-3.871546983718872,-3.9102256298065186],[-932.2938842773438,-23.63993263244629,-19.042280197143555,-26.952552795410156,-17.804765701293945,-10.33132553100586,-10.404622077941895,-9.197325706481934,-15.866914749145508],[-818.0899047851562,-25.40383529663086,-20.670095443725586,-31.68287467956543,-21.37606430053711,-15.731378555297852,-13.986588478088379,-13.646472930908203,-18.32902717590332],[-804.6029052734375,-32.98423767089844,-29.16661834716797,-41.901939392089844,-30.026371002197266,-24.07799530029297,-20.654964447021484,-21.394977569580078,-29.017108917236328],[426.1773986816406,31.993572235107422,28.089183807373047,41.87158203125,34.43775939941406,29.89580726623535,26.222597122192383,22.67681312561035,31.345861434936523],[398.5132141113281,20.917285919189453,23.64017677307129,35.76744842529297,30.245840072631836,27.861461639404297,18.60836410522461,21.50324249267578,25.726713180541992],[-542.892822265625,-69.12540435791016,-81.49188232421875,-83.57676696777344,-78.87007904052734,-70.89543151855469,-62.88469696044922,-54.321163177490234,-76.28931427001953]],\"type\":\"heatmap\"}],                        {\"height\":800,\"template\":{\"data\":{\"barpolar\":[{\"marker\":{\"line\":{\"color\":\"#E5ECF6\",\"width\":0.5},\"pattern\":{\"fillmode\":\"overlay\",\"size\":10,\"solidity\":0.2}},\"type\":\"barpolar\"}],\"bar\":[{\"error_x\":{\"color\":\"#2a3f5f\"},\"error_y\":{\"color\":\"#2a3f5f\"},\"marker\":{\"line\":{\"color\":\"#E5ECF6\",\"width\":0.5},\"pattern\":{\"fillmode\":\"overlay\",\"size\":10,\"solidity\":0.2}},\"type\":\"bar\"}],\"carpet\":[{\"aaxis\":{\"endlinecolor\":\"#2a3f5f\",\"gridcolor\":\"white\",\"linecolor\":\"white\",\"minorgridcolor\":\"white\",\"startlinecolor\":\"#2a3f5f\"},\"baxis\":{\"endlinecolor\":\"#2a3f5f\",\"gridcolor\":\"white\",\"linecolor\":\"white\",\"minorgridcolor\":\"white\",\"startlinecolor\":\"#2a3f5f\"},\"type\":\"carpet\"}],\"choropleth\":[{\"colorbar\":{\"outlinewidth\":0,\"ticks\":\"\"},\"type\":\"choropleth\"}],\"contourcarpet\":[{\"colorbar\":{\"outlinewidth\":0,\"ticks\":\"\"},\"type\":\"contourcarpet\"}],\"contour\":[{\"colorbar\":{\"outlinewidth\":0,\"ticks\":\"\"},\"colorscale\":[[0.0,\"#0d0887\"],[0.1111111111111111,\"#46039f\"],[0.2222222222222222,\"#7201a8\"],[0.3333333333333333,\"#9c179e\"],[0.4444444444444444,\"#bd3786\"],[0.5555555555555556,\"#d8576b\"],[0.6666666666666666,\"#ed7953\"],[0.7777777777777778,\"#fb9f3a\"],[0.8888888888888888,\"#fdca26\"],[1.0,\"#f0f921\"]],\"type\":\"contour\"}],\"heatmapgl\":[{\"colorbar\":{\"outlinewidth\":0,\"ticks\":\"\"},\"colorscale\":[[0.0,\"#0d0887\"],[0.1111111111111111,\"#46039f\"],[0.2222222222222222,\"#7201a8\"],[0.3333333333333333,\"#9c179e\"],[0.4444444444444444,\"#bd3786\"],[0.5555555555555556,\"#d8576b\"],[0.6666666666666666,\"#ed7953\"],[0.7777777777777778,\"#fb9f3a\"],[0.8888888888888888,\"#fdca26\"],[1.0,\"#f0f921\"]],\"type\":\"heatmapgl\"}],\"heatmap\":[{\"colorbar\":{\"outlinewidth\":0,\"ticks\":\"\"},\"colorscale\":[[0.0,\"#0d0887\"],[0.1111111111111111,\"#46039f\"],[0.2222222222222222,\"#7201a8\"],[0.3333333333333333,\"#9c179e\"],[0.4444444444444444,\"#bd3786\"],[0.5555555555555556,\"#d8576b\"],[0.6666666666666666,\"#ed7953\"],[0.7777777777777778,\"#fb9f3a\"],[0.8888888888888888,\"#fdca26\"],[1.0,\"#f0f921\"]],\"type\":\"heatmap\"}],\"histogram2dcontour\":[{\"colorbar\":{\"outlinewidth\":0,\"ticks\":\"\"},\"colorscale\":[[0.0,\"#0d0887\"],[0.1111111111111111,\"#46039f\"],[0.2222222222222222,\"#7201a8\"],[0.3333333333333333,\"#9c179e\"],[0.4444444444444444,\"#bd3786\"],[0.5555555555555556,\"#d8576b\"],[0.6666666666666666,\"#ed7953\"],[0.7777777777777778,\"#fb9f3a\"],[0.8888888888888888,\"#fdca26\"],[1.0,\"#f0f921\"]],\"type\":\"histogram2dcontour\"}],\"histogram2d\":[{\"colorbar\":{\"outlinewidth\":0,\"ticks\":\"\"},\"colorscale\":[[0.0,\"#0d0887\"],[0.1111111111111111,\"#46039f\"],[0.2222222222222222,\"#7201a8\"],[0.3333333333333333,\"#9c179e\"],[0.4444444444444444,\"#bd3786\"],[0.5555555555555556,\"#d8576b\"],[0.6666666666666666,\"#ed7953\"],[0.7777777777777778,\"#fb9f3a\"],[0.8888888888888888,\"#fdca26\"],[1.0,\"#f0f921\"]],\"type\":\"histogram2d\"}],\"histogram\":[{\"marker\":{\"pattern\":{\"fillmode\":\"overlay\",\"size\":10,\"solidity\":0.2}},\"type\":\"histogram\"}],\"mesh3d\":[{\"colorbar\":{\"outlinewidth\":0,\"ticks\":\"\"},\"type\":\"mesh3d\"}],\"parcoords\":[{\"line\":{\"colorbar\":{\"outlinewidth\":0,\"ticks\":\"\"}},\"type\":\"parcoords\"}],\"pie\":[{\"automargin\":true,\"type\":\"pie\"}],\"scatter3d\":[{\"line\":{\"colorbar\":{\"outlinewidth\":0,\"ticks\":\"\"}},\"marker\":{\"colorbar\":{\"outlinewidth\":0,\"ticks\":\"\"}},\"type\":\"scatter3d\"}],\"scattercarpet\":[{\"marker\":{\"colorbar\":{\"outlinewidth\":0,\"ticks\":\"\"}},\"type\":\"scattercarpet\"}],\"scattergeo\":[{\"marker\":{\"colorbar\":{\"outlinewidth\":0,\"ticks\":\"\"}},\"type\":\"scattergeo\"}],\"scattergl\":[{\"marker\":{\"colorbar\":{\"outlinewidth\":0,\"ticks\":\"\"}},\"type\":\"scattergl\"}],\"scattermapbox\":[{\"marker\":{\"colorbar\":{\"outlinewidth\":0,\"ticks\":\"\"}},\"type\":\"scattermapbox\"}],\"scatterpolargl\":[{\"marker\":{\"colorbar\":{\"outlinewidth\":0,\"ticks\":\"\"}},\"type\":\"scatterpolargl\"}],\"scatterpolar\":[{\"marker\":{\"colorbar\":{\"outlinewidth\":0,\"ticks\":\"\"}},\"type\":\"scatterpolar\"}],\"scatter\":[{\"fillpattern\":{\"fillmode\":\"overlay\",\"size\":10,\"solidity\":0.2},\"type\":\"scatter\"}],\"scatterternary\":[{\"marker\":{\"colorbar\":{\"outlinewidth\":0,\"ticks\":\"\"}},\"type\":\"scatterternary\"}],\"surface\":[{\"colorbar\":{\"outlinewidth\":0,\"ticks\":\"\"},\"colorscale\":[[0.0,\"#0d0887\"],[0.1111111111111111,\"#46039f\"],[0.2222222222222222,\"#7201a8\"],[0.3333333333333333,\"#9c179e\"],[0.4444444444444444,\"#bd3786\"],[0.5555555555555556,\"#d8576b\"],[0.6666666666666666,\"#ed7953\"],[0.7777777777777778,\"#fb9f3a\"],[0.8888888888888888,\"#fdca26\"],[1.0,\"#f0f921\"]],\"type\":\"surface\"}],\"table\":[{\"cells\":{\"fill\":{\"color\":\"#EBF0F8\"},\"line\":{\"color\":\"white\"}},\"header\":{\"fill\":{\"color\":\"#C8D4E3\"},\"line\":{\"color\":\"white\"}},\"type\":\"table\"}]},\"layout\":{\"annotationdefaults\":{\"arrowcolor\":\"#2a3f5f\",\"arrowhead\":0,\"arrowwidth\":1},\"autotypenumbers\":\"strict\",\"coloraxis\":{\"colorbar\":{\"outlinewidth\":0,\"ticks\":\"\"}},\"colorscale\":{\"diverging\":[[0,\"#8e0152\"],[0.1,\"#c51b7d\"],[0.2,\"#de77ae\"],[0.3,\"#f1b6da\"],[0.4,\"#fde0ef\"],[0.5,\"#f7f7f7\"],[0.6,\"#e6f5d0\"],[0.7,\"#b8e186\"],[0.8,\"#7fbc41\"],[0.9,\"#4d9221\"],[1,\"#276419\"]],\"sequential\":[[0.0,\"#0d0887\"],[0.1111111111111111,\"#46039f\"],[0.2222222222222222,\"#7201a8\"],[0.3333333333333333,\"#9c179e\"],[0.4444444444444444,\"#bd3786\"],[0.5555555555555556,\"#d8576b\"],[0.6666666666666666,\"#ed7953\"],[0.7777777777777778,\"#fb9f3a\"],[0.8888888888888888,\"#fdca26\"],[1.0,\"#f0f921\"]],\"sequentialminus\":[[0.0,\"#0d0887\"],[0.1111111111111111,\"#46039f\"],[0.2222222222222222,\"#7201a8\"],[0.3333333333333333,\"#9c179e\"],[0.4444444444444444,\"#bd3786\"],[0.5555555555555556,\"#d8576b\"],[0.6666666666666666,\"#ed7953\"],[0.7777777777777778,\"#fb9f3a\"],[0.8888888888888888,\"#fdca26\"],[1.0,\"#f0f921\"]]},\"colorway\":[\"#636efa\",\"#EF553B\",\"#00cc96\",\"#ab63fa\",\"#FFA15A\",\"#19d3f3\",\"#FF6692\",\"#B6E880\",\"#FF97FF\",\"#FECB52\"],\"font\":{\"color\":\"#2a3f5f\"},\"geo\":{\"bgcolor\":\"white\",\"lakecolor\":\"white\",\"landcolor\":\"#E5ECF6\",\"showlakes\":true,\"showland\":true,\"subunitcolor\":\"white\"},\"hoverlabel\":{\"align\":\"left\"},\"hovermode\":\"closest\",\"mapbox\":{\"style\":\"light\"},\"paper_bgcolor\":\"white\",\"plot_bgcolor\":\"#E5ECF6\",\"polar\":{\"angularaxis\":{\"gridcolor\":\"white\",\"linecolor\":\"white\",\"ticks\":\"\"},\"bgcolor\":\"#E5ECF6\",\"radialaxis\":{\"gridcolor\":\"white\",\"linecolor\":\"white\",\"ticks\":\"\"}},\"scene\":{\"xaxis\":{\"backgroundcolor\":\"#E5ECF6\",\"gridcolor\":\"white\",\"gridwidth\":2,\"linecolor\":\"white\",\"showbackground\":true,\"ticks\":\"\",\"zerolinecolor\":\"white\"},\"yaxis\":{\"backgroundcolor\":\"#E5ECF6\",\"gridcolor\":\"white\",\"gridwidth\":2,\"linecolor\":\"white\",\"showbackground\":true,\"ticks\":\"\",\"zerolinecolor\":\"white\"},\"zaxis\":{\"backgroundcolor\":\"#E5ECF6\",\"gridcolor\":\"white\",\"gridwidth\":2,\"linecolor\":\"white\",\"showbackground\":true,\"ticks\":\"\",\"zerolinecolor\":\"white\"}},\"shapedefaults\":{\"line\":{\"color\":\"#2a3f5f\"}},\"ternary\":{\"aaxis\":{\"gridcolor\":\"white\",\"linecolor\":\"white\",\"ticks\":\"\"},\"baxis\":{\"gridcolor\":\"white\",\"linecolor\":\"white\",\"ticks\":\"\"},\"bgcolor\":\"#E5ECF6\",\"caxis\":{\"gridcolor\":\"white\",\"linecolor\":\"white\",\"ticks\":\"\"}},\"title\":{\"x\":0.05},\"xaxis\":{\"automargin\":true,\"gridcolor\":\"white\",\"linecolor\":\"white\",\"ticks\":\"\",\"title\":{\"standoff\":15},\"zerolinecolor\":\"white\",\"zerolinewidth\":2},\"yaxis\":{\"automargin\":true,\"gridcolor\":\"white\",\"linecolor\":\"white\",\"ticks\":\"\",\"title\":{\"standoff\":15},\"zerolinecolor\":\"white\",\"zerolinewidth\":2}}},\"title\":{\"text\":\"Credences for Input Tokens\"},\"width\":800,\"xaxis\":{\"tickangle\":45,\"ticktext\":[\"<bos>\",\"This\",\"\\u0120film\",\"\\u0120is\",\"\\u0120terrible\",\",\",\"\\u0120best\",\"\\u0120to\",\"\\u0120pass\",\".\"],\"tickvals\":[0,1,2,3,4,5,6,7,8,9]}},                        {\"responsive\": true}                    ).then(function(){\n",
       "                            \n",
       "var gd = document.getElementById('503d0842-753c-445e-8a29-7630cf429ff8');\n",
       "var x = new MutationObserver(function (mutations, observer) {{\n",
       "        var display = window.getComputedStyle(gd).display;\n",
       "        if (!display || display === 'none') {{\n",
       "            console.log([gd, 'removed!']);\n",
       "            Plotly.purge(gd);\n",
       "            observer.disconnect();\n",
       "        }}\n",
       "}});\n",
       "\n",
       "// Listen for the removal of the full notebook cells\n",
       "var notebookContainer = gd.closest('#notebook-container');\n",
       "if (notebookContainer) {{\n",
       "    x.observe(notebookContainer, {childList: true});\n",
       "}}\n",
       "\n",
       "// Listen for the clearing of the current output cell\n",
       "var outputEl = gd.closest('.output');\n",
       "if (outputEl) {{\n",
       "    x.observe(outputEl, {childList: true});\n",
       "}}\n",
       "\n",
       "                        })                };                });            </script>        </div>"
      ]
     },
     "metadata": {},
     "output_type": "display_data"
    }
   ],
   "source": [
    "words_corresponding_to_credences = np.array([[\" \" * 2 + word + \" \" * 2 for word in input_tokens] for layer_num in range(len(credences))])\n",
    "\n",
    "heatmap = go.Heatmap(\n",
    "    z=credences,\n",
    "    colorscale=color_scale,\n",
    "    text=words_corresponding_to_credences,  # Set the text to be equal to z\n",
    "    texttemplate=\"%{text}\",\n",
    "    textfont=dict(color='black', size=12),  # Set the text color and size\n",
    ")\n",
    "\n",
    "# Create plot layout\n",
    "layout = go.Layout(title='Credences for Input Tokens',\n",
    "                width=800,  # Set the width of the plot\n",
    "                height=800,  # Set the height of the plot\n",
    "\n",
    "                     xaxis=dict(tickvals=list(range(len(input_tokens))),\n",
    "                                ticktext=input_tokens,\n",
    "                                tickangle=45))\n",
    "\n",
    "# Create plotly figure\n",
    "fig = go.Figure(data=[heatmap], layout=layout)\n",
    "\n",
    "# Display plotly figure\n",
    "iplot(fig)\n"
   ]
  },
  {
   "attachments": {},
   "cell_type": "markdown",
   "metadata": {},
   "source": [
    "# Sanity Checks"
   ]
  },
  {
   "cell_type": "code",
   "execution_count": 12,
   "metadata": {},
   "outputs": [
    {
     "ename": "RuntimeError",
     "evalue": "einsum(): subscript s has size 11 for operand 1 which does not broadcast with previously seen size 9",
     "output_type": "error",
     "traceback": [
      "\u001B[0;31m---------------------------------------------------------------------------\u001B[0m",
      "\u001B[0;31mRuntimeError\u001B[0m                              Traceback (most recent call last)",
      "Cell \u001B[0;32mIn[12], line 4\u001B[0m\n\u001B[1;32m      1\u001B[0m \u001B[39m# Use einsum to do multiplication \u001B[39;00m\n\u001B[1;32m      3\u001B[0m reporter_weights_repeat \u001B[39m=\u001B[39m repeat(reporter_weights, \u001B[39m'\u001B[39m\u001B[39mb e -> b c e\u001B[39m\u001B[39m'\u001B[39m, c\u001B[39m=\u001B[39m\u001B[39mlen\u001B[39m(input_tokens) \u001B[39m+\u001B[39m \u001B[39m1\u001B[39m)\n\u001B[0;32m----> 4\u001B[0m result \u001B[39m=\u001B[39m torch\u001B[39m.\u001B[39;49meinsum(\u001B[39m'\u001B[39;49m\u001B[39mbse,bse->bs\u001B[39;49m\u001B[39m'\u001B[39;49m, cat_hidden_states, reporter_weights_repeat)\n\u001B[1;32m      5\u001B[0m \u001B[39mprint\u001B[39m(result\u001B[39m.\u001B[39mshape)\n\u001B[1;32m      7\u001B[0m sigmoid_result \u001B[39m=\u001B[39m torch\u001B[39m.\u001B[39msigmoid(result)\n",
      "File \u001B[0;32m/mnt/ssd-1/spar/jon/elk/venv/lib/python3.10/site-packages/torch/functional.py:378\u001B[0m, in \u001B[0;36meinsum\u001B[0;34m(*args)\u001B[0m\n\u001B[1;32m    373\u001B[0m     \u001B[39mreturn\u001B[39;00m einsum(equation, \u001B[39m*\u001B[39m_operands)\n\u001B[1;32m    375\u001B[0m \u001B[39mif\u001B[39;00m \u001B[39mlen\u001B[39m(operands) \u001B[39m<\u001B[39m\u001B[39m=\u001B[39m \u001B[39m2\u001B[39m \u001B[39mor\u001B[39;00m \u001B[39mnot\u001B[39;00m opt_einsum\u001B[39m.\u001B[39menabled:\n\u001B[1;32m    376\u001B[0m     \u001B[39m# the path for contracting 0 or 1 time(s) is already optimized\u001B[39;00m\n\u001B[1;32m    377\u001B[0m     \u001B[39m# or the user has disabled using opt_einsum\u001B[39;00m\n\u001B[0;32m--> 378\u001B[0m     \u001B[39mreturn\u001B[39;00m _VF\u001B[39m.\u001B[39;49meinsum(equation, operands)  \u001B[39m# type: ignore[attr-defined]\u001B[39;00m\n\u001B[1;32m    380\u001B[0m path \u001B[39m=\u001B[39m \u001B[39mNone\u001B[39;00m\n\u001B[1;32m    381\u001B[0m \u001B[39mif\u001B[39;00m opt_einsum\u001B[39m.\u001B[39mis_available():\n",
      "\u001B[0;31mRuntimeError\u001B[0m: einsum(): subscript s has size 11 for operand 1 which does not broadcast with previously seen size 9"
     ]
    }
   ],
   "source": [
    "# Use einsum to do multiplication \n",
    "\n",
    "reporter_weights_repeat = repeat(reporter_weights, 'b e -> b c e', c=len(input_tokens) + 1)\n",
    "result = torch.einsum('bse,bse->bs', cat_hidden_states, reporter_weights_repeat)\n",
    "print(result.shape)\n",
    "\n",
    "sigmoid_result = torch.sigmoid(result)\n",
    "softmax_result = torch.softmax(result, dim = -1)\n",
    "torch.set_printoptions(precision=1)"
   ]
  },
  {
   "cell_type": "code",
   "execution_count": null,
   "metadata": {},
   "outputs": [
    {
     "name": "stdout",
     "output_type": "stream",
     "text": [
      "tensor([[ 6.2e-03,  5.5e-03, -2.2e-02, -9.1e-03, -4.4e-02, -7.0e-03,  6.1e-02,\n",
      "         -7.1e-04, -9.6e-03,  4.9e-03],\n",
      "        [-1.2e+00, -5.9e-01, -1.8e-01, -6.5e-01, -3.5e-01, -9.4e-01, -2.4e-01,\n",
      "         -4.6e-01, -1.8e-01, -9.0e-01],\n",
      "        [-6.9e-01, -2.9e-01, -1.6e-01, -2.5e-01, -4.1e-01, -2.7e-01, -1.7e-01,\n",
      "         -7.4e-02,  5.3e-02, -2.7e-01],\n",
      "        [ 3.3e+01,  8.6e-02, -1.0e-01,  1.9e-02,  3.1e-01,  6.0e-03, -1.1e-01,\n",
      "         -1.5e-01, -2.3e-01, -1.5e-01],\n",
      "        [-3.5e+01, -8.6e-03,  7.5e-01,  2.8e-01, -4.6e-01, -1.6e-01,  2.4e-01,\n",
      "          2.7e-01,  2.4e-01,  1.0e-01],\n",
      "        [ 2.8e+01,  1.7e-01, -3.2e-01, -1.5e-01,  6.5e-01,  3.0e-01, -3.1e-01,\n",
      "         -6.8e-02, -2.5e-01, -1.6e-02],\n",
      "        [ 3.2e+01,  3.4e-01, -3.5e-01,  8.9e-02,  3.6e-01,  2.3e-01, -6.3e-01,\n",
      "         -4.9e-01, -3.1e-01, -1.8e-01],\n",
      "        [ 2.5e+01,  3.1e-01, -1.1e+00,  3.1e-02,  2.3e-01,  3.5e-01, -9.6e-01,\n",
      "         -5.5e-01, -4.7e-01,  2.8e-01],\n",
      "        [-2.7e+01,  4.0e-01,  1.0e+00,  3.1e-01,  2.2e-01,  4.7e-01,  1.6e+00,\n",
      "          6.0e-01,  2.2e-01, -5.2e-01],\n",
      "        [-7.7e+00, -1.0e+00, -6.7e-01, -8.3e-01, -9.4e-01, -8.0e-01,  9.2e-01,\n",
      "         -6.7e-03, -3.7e-01, -1.5e+00],\n",
      "        [-1.5e+00,  7.8e-01, -2.1e-01,  3.0e-01, -7.2e-01, -3.9e-01, -1.2e+00,\n",
      "         -4.1e-01, -2.0e-01,  1.3e+00],\n",
      "        [-1.5e+01,  8.0e-01, -1.8e-01,  3.6e-01, -5.4e-01, -1.4e-02, -1.1e+00,\n",
      "         -2.3e-01,  1.1e+00,  1.9e+00],\n",
      "        [-2.4e+01,  1.8e+00,  8.7e-01,  1.1e+00, -2.7e-01,  3.8e-02,  1.3e-01,\n",
      "          6.9e-01,  1.7e+00,  2.1e+00],\n",
      "        [-3.9e+01,  1.9e+00,  1.6e+00,  1.7e+00,  3.7e-01,  9.5e-01, -1.1e-01,\n",
      "          8.2e-01,  1.8e+00,  1.6e+00],\n",
      "        [-3.7e+01,  2.0e+00,  1.3e+00,  1.6e+00,  5.7e-01,  1.9e+00, -5.4e-01,\n",
      "          1.3e+00,  2.9e+00,  2.0e+00],\n",
      "        [-4.2e+01,  2.1e+00,  1.6e+00,  1.9e+00,  1.1e+00,  2.4e+00, -5.3e-01,\n",
      "          1.3e+00,  2.8e+00,  1.6e+00],\n",
      "        [-4.9e+01,  5.4e-01,  2.5e-01,  9.1e-01, -4.0e-01,  2.3e+00, -8.3e-01,\n",
      "          1.4e+00,  4.1e+00,  1.1e+00],\n",
      "        [-5.7e+01, -1.9e-02,  5.1e-02,  4.0e-01,  2.4e-01,  2.9e+00, -1.7e+00,\n",
      "          1.7e+00,  4.5e+00,  8.3e-01],\n",
      "        [-4.5e+01, -1.4e+00, -1.5e+00, -5.1e-01, -1.6e+00,  8.3e-01, -3.9e+00,\n",
      "          2.0e-01,  4.3e+00, -9.0e-01],\n",
      "        [-5.7e+01, -1.6e+00, -2.1e+00, -1.3e+00, -1.2e+00,  1.4e+00, -5.2e+00,\n",
      "         -8.1e-03,  6.0e+00, -4.2e-01],\n",
      "        [-3.9e+01, -2.1e+00, -2.4e+00, -2.2e+00, -2.1e+00,  9.2e-01, -5.7e+00,\n",
      "         -3.0e-03,  7.5e+00, -1.3e+00],\n",
      "        [-2.4e+01, -4.7e+00, -4.4e+00, -3.6e+00, -3.3e+00,  1.6e-01, -6.9e+00,\n",
      "         -1.8e+00,  8.5e+00, -3.5e+00],\n",
      "        [-2.3e+01, -5.5e+00, -5.3e+00, -4.5e+00, -3.6e+00,  3.0e-01, -8.1e+00,\n",
      "         -2.9e+00,  8.4e+00, -4.3e+00],\n",
      "        [-2.7e+01, -5.7e+00, -5.9e+00, -4.1e+00, -4.0e+00, -2.8e-02, -9.0e+00,\n",
      "         -3.8e+00,  8.4e+00, -4.6e+00],\n",
      "        [-4.0e+01, -3.3e+00, -3.9e+00, -2.0e+00, -1.8e+00,  2.5e+00, -9.2e+00,\n",
      "         -2.1e+00,  8.3e+00, -4.0e+00],\n",
      "        [-4.0e+01, -3.8e+00, -3.3e+00, -2.2e+00, -1.4e+00,  3.0e+00, -1.1e+01,\n",
      "         -5.1e+00,  6.9e+00, -4.5e+00],\n",
      "        [-3.1e+01, -3.3e+00, -3.0e+00, -3.0e+00, -6.2e-01,  3.6e+00, -1.2e+01,\n",
      "         -6.0e+00,  6.6e+00, -4.9e+00],\n",
      "        [-2.5e+01, -2.9e+00, -3.5e+00, -2.5e+00,  8.6e-01,  5.4e+00, -1.1e+01,\n",
      "         -6.4e+00,  6.0e+00, -4.2e+00],\n",
      "        [-3.2e+01, -2.8e+00, -2.6e+00, -2.4e+00,  1.1e+00,  6.0e+00, -1.1e+01,\n",
      "         -6.2e+00,  6.3e+00, -2.9e+00],\n",
      "        [-3.2e+01, -2.9e+00, -3.3e+00, -3.2e+00,  5.5e-01,  4.8e+00, -1.3e+01,\n",
      "         -8.2e+00,  5.9e+00, -3.7e+00],\n",
      "        [-3.8e+01, -2.9e+00, -3.8e+00, -4.1e+00, -8.0e-01,  3.6e+00, -1.4e+01,\n",
      "         -9.1e+00,  6.0e+00, -4.9e+00],\n",
      "        [-3.8e+01, -1.6e+00, -2.6e+00, -4.1e+00, -7.4e-01,  2.5e+00, -1.5e+01,\n",
      "         -9.0e+00,  6.4e+00, -5.5e+00],\n",
      "        [-2.8e+01, -1.8e+00, -3.3e+00, -4.4e+00, -1.2e+00,  2.6e+00, -1.5e+01,\n",
      "         -8.6e+00,  6.2e+00, -6.3e+00],\n",
      "        [-2.3e+01, -2.5e+00, -2.9e+00, -4.7e+00, -3.1e-01,  3.3e+00, -1.4e+01,\n",
      "         -7.4e+00,  7.1e+00, -5.5e+00],\n",
      "        [-3.1e+01, -2.8e+00, -2.8e+00, -3.6e+00, -5.7e-01,  3.0e+00, -1.2e+01,\n",
      "         -6.7e+00,  6.4e+00, -6.1e+00],\n",
      "        [-3.3e+01, -3.5e+00, -2.9e+00, -5.0e+00, -1.1e+00,  2.1e+00, -1.3e+01,\n",
      "         -7.2e+00,  6.9e+00, -7.1e+00],\n",
      "        [-1.6e+01, -4.5e+00, -3.1e+00, -5.9e+00, -1.7e+00,  1.6e+00, -1.4e+01,\n",
      "         -9.0e+00,  6.8e+00, -7.3e+00],\n",
      "        [-6.2e+01, -4.3e+00, -3.0e+00, -5.2e+00, -4.4e-01,  1.2e+00, -1.5e+01,\n",
      "         -9.3e+00,  7.5e+00, -8.0e+00],\n",
      "        [-2.6e+01, -2.6e+00, -1.8e+00, -4.9e+00, -5.0e-02, -1.4e-01, -1.6e+01,\n",
      "         -1.3e+01,  5.8e+00, -8.6e+00],\n",
      "        [-4.8e-01,  9.5e+00,  3.7e+00,  4.2e+00,  6.7e+00,  7.3e+00, -1.4e+01,\n",
      "         -5.3e+00,  1.3e+01, -1.1e+00]], grad_fn=<ViewBackward0>)\n"
     ]
    }
   ],
   "source": [
    "print(result)"
   ]
  }
 ],
 "metadata": {
  "kernelspec": {
   "display_name": "Python 3 (ipykernel)",
   "language": "python",
   "name": "python3"
  },
  "language_info": {
   "codemirror_mode": {
    "name": "ipython",
    "version": 3
   },
   "file_extension": ".py",
   "mimetype": "text/x-python",
   "name": "python",
   "nbconvert_exporter": "python",
   "pygments_lexer": "ipython3",
   "version": "3.10.9"
  }
 },
 "nbformat": 4,
 "nbformat_minor": 2
}
