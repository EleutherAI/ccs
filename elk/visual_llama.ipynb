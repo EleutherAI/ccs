{
 "cells": [
  {
   "cell_type": "code",
   "execution_count": 26,
   "metadata": {},
   "outputs": [],
   "source": [
    "import torch\n",
    "from transformers import AutoTokenizer, AutoModel\n",
    "from pathlib import Path\n",
    "from einops import rearrange, repeat\n",
    "import os\n",
    "import numpy as np\n",
    "from dataclasses import dataclass\n",
    "import re\n",
    "import csv\n",
    "import json\n"
   ]
  },
  {
   "cell_type": "code",
   "execution_count": 3,
   "metadata": {},
   "outputs": [
    {
     "name": "stderr",
     "output_type": "stream",
     "text": [
      "Loading checkpoint shards: 100%|██████████| 3/3 [00:19<00:00,  6.49s/it]\n",
      "Some weights of the model checkpoint at huggyllama/llama-13b were not used when initializing LlamaModel: ['lm_head.weight']\n",
      "- This IS expected if you are initializing LlamaModel from the checkpoint of a model trained on another task or with another architecture (e.g. initializing a BertForSequenceClassification model from a BertForPreTraining model).\n",
      "- This IS NOT expected if you are initializing LlamaModel from the checkpoint of a model that you expect to be exactly identical (initializing a BertForSequenceClassification model from a BertForSequenceClassification model).\n"
     ]
    }
   ],
   "source": [
    "model_name = \"huggyllama/llama-13b\"\n",
    "# model_name = \"gpt2\"\n",
    "tokenizer = AutoTokenizer.from_pretrained(model_name)\n",
    "model = AutoModel.from_pretrained(model_name)"
   ]
  },
  {
   "cell_type": "code",
   "execution_count": 4,
   "metadata": {},
   "outputs": [],
   "source": [
    "def load_all_reporters(num_layers: int, prefix_path: str) -> torch.Tensor:\n",
    "    reporters_weights = []\n",
    "    for i in range(num_layers):\n",
    "        reporter_path = f\"{prefix_path}/layer_{i}.pt\"\n",
    "        reporter = torch.load(reporter_path)\n",
    "        reporters_weights.append(reporter['weight'].cpu())\n",
    "    stacked = torch.cat(reporters_weights, dim=0)\n",
    "    return stacked\n",
    "\n"
   ]
  },
  {
   "cell_type": "code",
   "execution_count": 41,
   "metadata": {},
   "outputs": [],
   "source": [
    "@dataclass\n",
    "class Reporter:\n",
    "    path: str\n",
    "    weights: torch.Tensor\n",
    "    desc: str\n",
    "\n",
    "    @staticmethod\n",
    "    def from_path(path):\n",
    "        weights = load_all_reporters(model.config.num_hidden_layers, path)\n",
    "        desc = path.split('/')[-2]\n",
    "        return Reporter(path, weights, desc)\n",
    "\n",
    "reporter_paths = [\n",
    "    ('/home/jon/elk-reporters/huggyllama/llama-13b/azhx/counterfact-easy/stoic-jang/reporters', 'lm negation'), # lm negation\n",
    "    ('/home/jon/elk-reporters/huggyllama/llama-13b/azhx/counterfact-filtered-gptj6b/trusting-cori/reporters', 'dumb nots'), # dumb nots\n",
    "    ('/home/jon/elk-reporters/huggyllama/llama-13b/azhx/counterfact-simple/jovial-lederberg/reporters', 'counterfact pairs') # counterfact pairs\n",
    "]"
   ]
  },
  {
   "cell_type": "code",
   "execution_count": 6,
   "metadata": {},
   "outputs": [
    {
     "name": "stdout",
     "output_type": "stream",
     "text": [
      "['▁This', '▁film', '▁is', '▁terrible', ',', '▁best', '▁to', '▁pass', '.']\n",
      "['<bos>', '▁This', '▁film', '▁is', '▁terrible', ',', '▁best', '▁to', '▁pass', '.']\n",
      "tensor([[    1,   910,  2706,   338, 16403, 29892,  1900,   304,  1209, 29889]])\n",
      "['<s>', '▁This', '▁film', '▁is', '▁terrible', ',', '▁best', '▁to', '▁pass', '.']\n"
     ]
    }
   ],
   "source": [
    "# Tokenize input sequence\n",
    "input_sequence = \"This film is terrible, best to pass.\"\n",
    "input_tokens = tokenizer.tokenize(input_sequence)\n",
    "print(input_tokens)\n",
    "input_tokens.insert(0, \"<bos>\") # beginning of sentence\n",
    "print(input_tokens)\n",
    "\n",
    "# Encode input sequence\n",
    "input_ids = tokenizer.encode(input_sequence, return_tensors=\"pt\")\n",
    "print(input_ids)\n",
    "\n",
    "decoded = tokenizer.convert_ids_to_tokens(input_ids[0])\n",
    "print(decoded)\n",
    "\n",
    "# Generate hidden states\n",
    "outputs = model(input_ids, output_hidden_states=True)"
   ]
  },
  {
   "cell_type": "code",
   "execution_count": 7,
   "metadata": {},
   "outputs": [
    {
     "name": "stdout",
     "output_type": "stream",
     "text": [
      "torch.Size([1, 10, 5120])\n",
      "41\n",
      "torch.Size([40, 10, 5120])\n"
     ]
    }
   ],
   "source": [
    "hidden_states = outputs.hidden_states\n",
    "print(hidden_states[0].shape)\n",
    "print(len(hidden_states))\n",
    "cat_hidden_states = torch.cat(hidden_states[:-1], dim=0)\n",
    "print(cat_hidden_states.shape)"
   ]
  },
  {
   "cell_type": "code",
   "execution_count": 8,
   "metadata": {},
   "outputs": [
    {
     "name": "stdout",
     "output_type": "stream",
     "text": [
      "torch.Size([40, 5120])\n"
     ]
    }
   ],
   "source": [
    "# path = '/home/waree/elk-reporters/huggyllama/llama-13b/sethapun/imdb_misspelled_0/llama13b-imdb0/reporters'\n",
    "# path = '/mnt/ssd-1/spar/jon/elk-reporters/gpt2/imdb/agitated-driscoll/reporters'\n",
    "# reporter_weights = load_all_reporters(model.config.num_hidden_layers, path)\n",
    "# print(reporter_weights.shape)\n",
    "for path in reporter_paths:\n",
    "    reporter_weights = load_all_reporters(model.config.num_hidden_layers, path)\n",
    "    print(reporter_weights.shape)"
   ]
  },
  {
   "cell_type": "code",
   "execution_count": 9,
   "metadata": {},
   "outputs": [
    {
     "name": "stdout",
     "output_type": "stream",
     "text": [
      "tensor([-0.0051,  0.0150,  0.0182,  0.0131,  0.0048, -0.0068, -0.0019, -0.0270,\n",
      "         0.0224, -0.0266], grad_fn=<SelectBackward0>)\n",
      "torch.Size([40, 10])\n"
     ]
    }
   ],
   "source": [
    "# Use einsum to do multiplication \n",
    "result = torch.einsum('bse,be->bs', cat_hidden_states, reporter_weights)\n",
    "print(result[0])\n",
    "print(result.shape)\n",
    "\n",
    "sigmoid_result = torch.sigmoid(result)\n",
    "softmax_result = torch.softmax(result, dim = -1)\n",
    "torch.set_printoptions(precision=1)"
   ]
  },
  {
   "cell_type": "code",
   "execution_count": 10,
   "metadata": {},
   "outputs": [
    {
     "name": "stdout",
     "output_type": "stream",
     "text": [
      "torch.Size([40, 10])\n"
     ]
    }
   ],
   "source": [
    "print(result.shape)"
   ]
  },
  {
   "cell_type": "code",
   "execution_count": 11,
   "metadata": {},
   "outputs": [
    {
     "name": "stdout",
     "output_type": "stream",
     "text": [
      "torch.Size([40, 10])\n"
     ]
    }
   ],
   "source": [
    "print(sigmoid_result.shape)"
   ]
  },
  {
   "cell_type": "code",
   "execution_count": 12,
   "metadata": {},
   "outputs": [
    {
     "name": "stdout",
     "output_type": "stream",
     "text": [
      "torch.Size([40, 10])\n"
     ]
    }
   ],
   "source": [
    "print(softmax_result.shape)"
   ]
  },
  {
   "cell_type": "code",
   "execution_count": 13,
   "metadata": {},
   "outputs": [
    {
     "data": {
      "text/html": [
       "        <script type=\"text/javascript\">\n",
       "        window.PlotlyConfig = {MathJaxConfig: 'local'};\n",
       "        if (window.MathJax && window.MathJax.Hub && window.MathJax.Hub.Config) {window.MathJax.Hub.Config({SVG: {font: \"STIX-Web\"}});}\n",
       "        if (typeof require !== 'undefined') {\n",
       "        require.undef(\"plotly\");\n",
       "        requirejs.config({\n",
       "            paths: {\n",
       "                'plotly': ['https://cdn.plot.ly/plotly-2.20.0.min']\n",
       "            }\n",
       "        });\n",
       "        require(['plotly'], function(Plotly) {\n",
       "            window._Plotly = Plotly;\n",
       "        });\n",
       "        }\n",
       "        </script>\n",
       "        "
      ]
     },
     "metadata": {},
     "output_type": "display_data"
    },
    {
     "data": {
      "text/plain": [
       "['<bos>',\n",
       " '▁This',\n",
       " '▁film',\n",
       " '▁is',\n",
       " '▁terrible',\n",
       " ',',\n",
       " '▁best',\n",
       " '▁to',\n",
       " '▁pass',\n",
       " '.']"
      ]
     },
     "execution_count": 13,
     "metadata": {},
     "output_type": "execute_result"
    }
   ],
   "source": [
    "import plotly.graph_objs as go\n",
    "import plotly.io as pio\n",
    "import torch\n",
    "from IPython.display import HTML\n",
    "from plotly.offline import init_notebook_mode, iplot\n",
    "init_notebook_mode(connected=True)\n",
    "\n",
    "# Create color scale for heatmap\n",
    "color_scale = [[0, '#FFFFFF'], [1, '#FF0000']] # white to red\n",
    "\n",
    "# Convert tensor to numpy array and detach gradients\n",
    "credences = result.detach().numpy()\n",
    "\n",
    "padded_text = np.array([[\" \" * 2 + \"{:.2f}\".format(value) + \" \" * 2 for value in row] for row in credences])\n",
    "\n",
    "# Create plotly heatmap\n",
    "heatmap = go.Heatmap(\n",
    "    z=credences, \n",
    "    colorscale=color_scale,\n",
    "    text=padded_text,  # Set the text to be equal to z\n",
    "    texttemplate=\"%{text}\", \n",
    "    textfont=dict(color='black', size=12),  # Set the text color and size\n",
    ")\n",
    "\n",
    "# Create plot layout\n",
    "layout = go.Layout(title='Credences for Input Tokens',\n",
    "                width=800,  # Set the width of the plot\n",
    "                height=800,  # Set the height of the plot\n",
    "                   xaxis=dict(tickvals=list(range(len(input_tokens))),\n",
    "                              ticktext=input_tokens,\n",
    "                              tickangle=45))\n",
    "\n",
    "# Create plotly figure\n",
    "fig = go.Figure(data=[heatmap], layout=layout)\n",
    "# fig = fig.update_traces(text=input_tokens, texttemplate=\"%{text}\", hovertemplate=None)\n",
    "\n",
    "# Display plotly figure\n",
    "# iplot(fig)\n",
    "\n",
    "# print(padded_text)\n",
    "input_tokens"
   ]
  },
  {
   "cell_type": "code",
   "execution_count": 14,
   "metadata": {},
   "outputs": [
    {
     "name": "stdout",
     "output_type": "stream",
     "text": [
      "(10,)\n"
     ]
    },
    {
     "data": {
      "application/vnd.plotly.v1+json": {
       "config": {
        "linkText": "Export to plot.ly",
        "plotlyServerURL": "https://plot.ly",
        "showLink": false
       },
       "data": [
        {
         "colorscale": [
          [
           0,
           "#FFFFFF"
          ],
          [
           1,
           "#FF0000"
          ]
         ],
         "text": [
          [
           "  <bos>  ",
           "  ▁This  ",
           "  ▁film  ",
           "  ▁is  ",
           "  ▁terrible  ",
           "  ,  ",
           "  ▁best  ",
           "  ▁to  ",
           "  ▁pass  ",
           "  .  "
          ],
          [
           "  <bos>  ",
           "  ▁This  ",
           "  ▁film  ",
           "  ▁is  ",
           "  ▁terrible  ",
           "  ,  ",
           "  ▁best  ",
           "  ▁to  ",
           "  ▁pass  ",
           "  .  "
          ],
          [
           "  <bos>  ",
           "  ▁This  ",
           "  ▁film  ",
           "  ▁is  ",
           "  ▁terrible  ",
           "  ,  ",
           "  ▁best  ",
           "  ▁to  ",
           "  ▁pass  ",
           "  .  "
          ],
          [
           "  <bos>  ",
           "  ▁This  ",
           "  ▁film  ",
           "  ▁is  ",
           "  ▁terrible  ",
           "  ,  ",
           "  ▁best  ",
           "  ▁to  ",
           "  ▁pass  ",
           "  .  "
          ],
          [
           "  <bos>  ",
           "  ▁This  ",
           "  ▁film  ",
           "  ▁is  ",
           "  ▁terrible  ",
           "  ,  ",
           "  ▁best  ",
           "  ▁to  ",
           "  ▁pass  ",
           "  .  "
          ],
          [
           "  <bos>  ",
           "  ▁This  ",
           "  ▁film  ",
           "  ▁is  ",
           "  ▁terrible  ",
           "  ,  ",
           "  ▁best  ",
           "  ▁to  ",
           "  ▁pass  ",
           "  .  "
          ],
          [
           "  <bos>  ",
           "  ▁This  ",
           "  ▁film  ",
           "  ▁is  ",
           "  ▁terrible  ",
           "  ,  ",
           "  ▁best  ",
           "  ▁to  ",
           "  ▁pass  ",
           "  .  "
          ],
          [
           "  <bos>  ",
           "  ▁This  ",
           "  ▁film  ",
           "  ▁is  ",
           "  ▁terrible  ",
           "  ,  ",
           "  ▁best  ",
           "  ▁to  ",
           "  ▁pass  ",
           "  .  "
          ],
          [
           "  <bos>  ",
           "  ▁This  ",
           "  ▁film  ",
           "  ▁is  ",
           "  ▁terrible  ",
           "  ,  ",
           "  ▁best  ",
           "  ▁to  ",
           "  ▁pass  ",
           "  .  "
          ],
          [
           "  <bos>  ",
           "  ▁This  ",
           "  ▁film  ",
           "  ▁is  ",
           "  ▁terrible  ",
           "  ,  ",
           "  ▁best  ",
           "  ▁to  ",
           "  ▁pass  ",
           "  .  "
          ],
          [
           "  <bos>  ",
           "  ▁This  ",
           "  ▁film  ",
           "  ▁is  ",
           "  ▁terrible  ",
           "  ,  ",
           "  ▁best  ",
           "  ▁to  ",
           "  ▁pass  ",
           "  .  "
          ],
          [
           "  <bos>  ",
           "  ▁This  ",
           "  ▁film  ",
           "  ▁is  ",
           "  ▁terrible  ",
           "  ,  ",
           "  ▁best  ",
           "  ▁to  ",
           "  ▁pass  ",
           "  .  "
          ],
          [
           "  <bos>  ",
           "  ▁This  ",
           "  ▁film  ",
           "  ▁is  ",
           "  ▁terrible  ",
           "  ,  ",
           "  ▁best  ",
           "  ▁to  ",
           "  ▁pass  ",
           "  .  "
          ],
          [
           "  <bos>  ",
           "  ▁This  ",
           "  ▁film  ",
           "  ▁is  ",
           "  ▁terrible  ",
           "  ,  ",
           "  ▁best  ",
           "  ▁to  ",
           "  ▁pass  ",
           "  .  "
          ],
          [
           "  <bos>  ",
           "  ▁This  ",
           "  ▁film  ",
           "  ▁is  ",
           "  ▁terrible  ",
           "  ,  ",
           "  ▁best  ",
           "  ▁to  ",
           "  ▁pass  ",
           "  .  "
          ],
          [
           "  <bos>  ",
           "  ▁This  ",
           "  ▁film  ",
           "  ▁is  ",
           "  ▁terrible  ",
           "  ,  ",
           "  ▁best  ",
           "  ▁to  ",
           "  ▁pass  ",
           "  .  "
          ],
          [
           "  <bos>  ",
           "  ▁This  ",
           "  ▁film  ",
           "  ▁is  ",
           "  ▁terrible  ",
           "  ,  ",
           "  ▁best  ",
           "  ▁to  ",
           "  ▁pass  ",
           "  .  "
          ],
          [
           "  <bos>  ",
           "  ▁This  ",
           "  ▁film  ",
           "  ▁is  ",
           "  ▁terrible  ",
           "  ,  ",
           "  ▁best  ",
           "  ▁to  ",
           "  ▁pass  ",
           "  .  "
          ],
          [
           "  <bos>  ",
           "  ▁This  ",
           "  ▁film  ",
           "  ▁is  ",
           "  ▁terrible  ",
           "  ,  ",
           "  ▁best  ",
           "  ▁to  ",
           "  ▁pass  ",
           "  .  "
          ],
          [
           "  <bos>  ",
           "  ▁This  ",
           "  ▁film  ",
           "  ▁is  ",
           "  ▁terrible  ",
           "  ,  ",
           "  ▁best  ",
           "  ▁to  ",
           "  ▁pass  ",
           "  .  "
          ],
          [
           "  <bos>  ",
           "  ▁This  ",
           "  ▁film  ",
           "  ▁is  ",
           "  ▁terrible  ",
           "  ,  ",
           "  ▁best  ",
           "  ▁to  ",
           "  ▁pass  ",
           "  .  "
          ],
          [
           "  <bos>  ",
           "  ▁This  ",
           "  ▁film  ",
           "  ▁is  ",
           "  ▁terrible  ",
           "  ,  ",
           "  ▁best  ",
           "  ▁to  ",
           "  ▁pass  ",
           "  .  "
          ],
          [
           "  <bos>  ",
           "  ▁This  ",
           "  ▁film  ",
           "  ▁is  ",
           "  ▁terrible  ",
           "  ,  ",
           "  ▁best  ",
           "  ▁to  ",
           "  ▁pass  ",
           "  .  "
          ],
          [
           "  <bos>  ",
           "  ▁This  ",
           "  ▁film  ",
           "  ▁is  ",
           "  ▁terrible  ",
           "  ,  ",
           "  ▁best  ",
           "  ▁to  ",
           "  ▁pass  ",
           "  .  "
          ],
          [
           "  <bos>  ",
           "  ▁This  ",
           "  ▁film  ",
           "  ▁is  ",
           "  ▁terrible  ",
           "  ,  ",
           "  ▁best  ",
           "  ▁to  ",
           "  ▁pass  ",
           "  .  "
          ],
          [
           "  <bos>  ",
           "  ▁This  ",
           "  ▁film  ",
           "  ▁is  ",
           "  ▁terrible  ",
           "  ,  ",
           "  ▁best  ",
           "  ▁to  ",
           "  ▁pass  ",
           "  .  "
          ],
          [
           "  <bos>  ",
           "  ▁This  ",
           "  ▁film  ",
           "  ▁is  ",
           "  ▁terrible  ",
           "  ,  ",
           "  ▁best  ",
           "  ▁to  ",
           "  ▁pass  ",
           "  .  "
          ],
          [
           "  <bos>  ",
           "  ▁This  ",
           "  ▁film  ",
           "  ▁is  ",
           "  ▁terrible  ",
           "  ,  ",
           "  ▁best  ",
           "  ▁to  ",
           "  ▁pass  ",
           "  .  "
          ],
          [
           "  <bos>  ",
           "  ▁This  ",
           "  ▁film  ",
           "  ▁is  ",
           "  ▁terrible  ",
           "  ,  ",
           "  ▁best  ",
           "  ▁to  ",
           "  ▁pass  ",
           "  .  "
          ],
          [
           "  <bos>  ",
           "  ▁This  ",
           "  ▁film  ",
           "  ▁is  ",
           "  ▁terrible  ",
           "  ,  ",
           "  ▁best  ",
           "  ▁to  ",
           "  ▁pass  ",
           "  .  "
          ],
          [
           "  <bos>  ",
           "  ▁This  ",
           "  ▁film  ",
           "  ▁is  ",
           "  ▁terrible  ",
           "  ,  ",
           "  ▁best  ",
           "  ▁to  ",
           "  ▁pass  ",
           "  .  "
          ],
          [
           "  <bos>  ",
           "  ▁This  ",
           "  ▁film  ",
           "  ▁is  ",
           "  ▁terrible  ",
           "  ,  ",
           "  ▁best  ",
           "  ▁to  ",
           "  ▁pass  ",
           "  .  "
          ],
          [
           "  <bos>  ",
           "  ▁This  ",
           "  ▁film  ",
           "  ▁is  ",
           "  ▁terrible  ",
           "  ,  ",
           "  ▁best  ",
           "  ▁to  ",
           "  ▁pass  ",
           "  .  "
          ],
          [
           "  <bos>  ",
           "  ▁This  ",
           "  ▁film  ",
           "  ▁is  ",
           "  ▁terrible  ",
           "  ,  ",
           "  ▁best  ",
           "  ▁to  ",
           "  ▁pass  ",
           "  .  "
          ],
          [
           "  <bos>  ",
           "  ▁This  ",
           "  ▁film  ",
           "  ▁is  ",
           "  ▁terrible  ",
           "  ,  ",
           "  ▁best  ",
           "  ▁to  ",
           "  ▁pass  ",
           "  .  "
          ],
          [
           "  <bos>  ",
           "  ▁This  ",
           "  ▁film  ",
           "  ▁is  ",
           "  ▁terrible  ",
           "  ,  ",
           "  ▁best  ",
           "  ▁to  ",
           "  ▁pass  ",
           "  .  "
          ],
          [
           "  <bos>  ",
           "  ▁This  ",
           "  ▁film  ",
           "  ▁is  ",
           "  ▁terrible  ",
           "  ,  ",
           "  ▁best  ",
           "  ▁to  ",
           "  ▁pass  ",
           "  .  "
          ],
          [
           "  <bos>  ",
           "  ▁This  ",
           "  ▁film  ",
           "  ▁is  ",
           "  ▁terrible  ",
           "  ,  ",
           "  ▁best  ",
           "  ▁to  ",
           "  ▁pass  ",
           "  .  "
          ],
          [
           "  <bos>  ",
           "  ▁This  ",
           "  ▁film  ",
           "  ▁is  ",
           "  ▁terrible  ",
           "  ,  ",
           "  ▁best  ",
           "  ▁to  ",
           "  ▁pass  ",
           "  .  "
          ],
          [
           "  <bos>  ",
           "  ▁This  ",
           "  ▁film  ",
           "  ▁is  ",
           "  ▁terrible  ",
           "  ,  ",
           "  ▁best  ",
           "  ▁to  ",
           "  ▁pass  ",
           "  .  "
          ]
         ],
         "textfont": {
          "color": "black",
          "size": 12
         },
         "texttemplate": "%{text}",
         "type": "heatmap",
         "z": [
          [
           -0.00509528536349535,
           0.014957795850932598,
           0.018221812322735786,
           0.013111494481563568,
           0.004798796493560076,
           -0.006812038831412792,
           -0.001939488691277802,
           -0.02700962871313095,
           0.022444438189268112,
           -0.026587728410959244
          ],
          [
           -0.6468021869659424,
           0.07352990657091141,
           -0.10395831614732742,
           -0.11794734001159668,
           0.19841910898685455,
           -0.07124423235654831,
           -0.03672509267926216,
           -0.03225638344883919,
           0.06073807179927826,
           -0.08194699883460999
          ],
          [
           -2.3207178115844727,
           -1.0919450521469116,
           -0.2622467279434204,
           -1.131502628326416,
           -0.5350147485733032,
           -1.5976221561431885,
           -0.4779156446456909,
           -0.5893436670303345,
           -0.8797966241836548,
           -1.569451928138733
          ],
          [
           -56.160282135009766,
           0.9385982751846313,
           1.044010877609253,
           0.8188488483428955,
           0.9871791005134583,
           0.7951902747154236,
           0.43382424116134644,
           0.36684274673461914,
           0.6668524146080017,
           0.6193949580192566
          ],
          [
           -14.116135597229004,
           2.310884952545166,
           2.326404094696045,
           1.5623270273208618,
           1.4415379762649536,
           0.8277792930603027,
           1.1221511363983154,
           0.2477945238351822,
           0.48246151208877563,
           0.5101154446601868
          ],
          [
           -37.52021408081055,
           2.7686121463775635,
           2.550736427307129,
           1.2831910848617554,
           1.4030864238739014,
           0.910626232624054,
           0.6227959394454956,
           0.2079007774591446,
           0.11966484785079956,
           0.4330819845199585
          ],
          [
           44.53757858276367,
           -2.55277156829834,
           -3.2259628772735596,
           -1.5163657665252686,
           -1.9345179796218872,
           -1.146256446838379,
           -0.39942216873168945,
           -0.4877144694328308,
           -0.17368672788143158,
           -0.4826869070529938
          ],
          [
           33.20576477050781,
           -2.6847927570343018,
           -3.798605442047119,
           -1.4454498291015625,
           -1.9489717483520508,
           -1.349005937576294,
           -0.9047487378120422,
           -0.8794564604759216,
           -0.35239914059638977,
           -0.4427246153354645
          ],
          [
           1.6539781093597412,
           3.6815550327301025,
           5.180678367614746,
           2.7463366985321045,
           3.328244209289551,
           3.0880839824676514,
           1.7717375755310059,
           1.3400559425354004,
           0.737267255783081,
           1.16598641872406
          ],
          [
           5.446661949157715,
           -3.5703907012939453,
           -5.778568267822266,
           -2.5934243202209473,
           -3.488186836242676,
           -2.721294403076172,
           -1.0668209791183472,
           -1.0746879577636719,
           -0.679783284664154,
           -0.9632741808891296
          ],
          [
           5.64901876449585,
           4.140190601348877,
           5.70269775390625,
           2.200446844100952,
           4.004062652587891,
           1.9854995012283325,
           0.5975923538208008,
           1.078652262687683,
           0.9450573921203613,
           1.0784804821014404
          ],
          [
           -4.407497882843018,
           3.4433350563049316,
           6.0913872718811035,
           2.226260185241699,
           4.737837791442871,
           1.8468250036239624,
           1.2872918844223022,
           1.1478631496429443,
           0.858310341835022,
           0.9467055797576904
          ],
          [
           -28.9239559173584,
           3.8845653533935547,
           6.909946441650391,
           3.4166507720947266,
           6.385098934173584,
           3.924205780029297,
           1.5467815399169922,
           2.3995110988616943,
           1.7222241163253784,
           2.5243306159973145
          ],
          [
           -45.12339401245117,
           4.527482509613037,
           7.255807876586914,
           4.1191253662109375,
           6.863643646240234,
           5.024562358856201,
           1.9902714490890503,
           2.391407012939453,
           2.191464900970459,
           2.26244854927063
          ],
          [
           14.497267723083496,
           -4.159069061279297,
           -5.841463088989258,
           -3.1083743572235107,
           -5.118203163146973,
           -3.3938779830932617,
           -0.5959261059761047,
           -1.115046501159668,
           -1.3240437507629395,
           -0.05901992321014404
          ],
          [
           -28.544116973876953,
           5.48051118850708,
           7.181185245513916,
           4.343777656555176,
           6.976259231567383,
           4.819969654083252,
           1.575492262840271,
           1.9428986310958862,
           1.0120278596878052,
           0.3941652774810791
          ],
          [
           -38.857200622558594,
           -4.223681449890137,
           -6.6553120613098145,
           -3.330467462539673,
           -6.340941429138184,
           -4.859457969665527,
           -1.3546134233474731,
           -1.9460313320159912,
           -1.061097502708435,
           -0.07210094481706619
          ],
          [
           30.021621704101562,
           5.463661193847656,
           7.578441143035889,
           4.141524314880371,
           7.638067245483398,
           6.005537033081055,
           1.538135290145874,
           2.0768237113952637,
           0.42804667353630066,
           0.7218965888023376
          ],
          [
           46.571449279785156,
           2.9553050994873047,
           4.244020462036133,
           1.9966657161712646,
           4.565694808959961,
           3.537273645401001,
           0.9225163459777832,
           0.8672206997871399,
           1.0328477621078491,
           -0.6120001077651978
          ],
          [
           46.13104248046875,
           2.533928871154785,
           3.70222544670105,
           1.7597334384918213,
           3.6760547161102295,
           2.7573280334472656,
           -0.037760864943265915,
           -0.05677187442779541,
           1.401295781135559,
           -0.6598755717277527
          ],
          [
           -50.121185302734375,
           -0.567648708820343,
           -2.3084237575531006,
           -0.9097017645835876,
           -2.0930092334747314,
           -0.8504936695098877,
           -0.24335834383964539,
           -0.017740555107593536,
           -2.387272834777832,
           1.8210675716400146
          ],
          [
           -36.81218719482422,
           -1.1910659074783325,
           -2.7354791164398193,
           -0.1318432092666626,
           -1.5347487926483154,
           0.3693773150444031,
           0.7511980533599854,
           -0.611423671245575,
           -2.317861795425415,
           2.0788445472717285
          ],
          [
           52.11461639404297,
           -1.423226237297058,
           0.8547022938728333,
           -1.9667000770568848,
           -1.8001277446746826,
           -2.6653242111206055,
           -2.0873115062713623,
           -1.2794290781021118,
           1.0650824308395386,
           -5.685665130615234
          ],
          [
           54.88811111450195,
           -2.7993016242980957,
           -0.5939208269119263,
           -3.085878849029541,
           -2.449816942214966,
           -4.193317890167236,
           -3.520536184310913,
           -2.879671573638916,
           -0.009233901277184486,
           -7.473208904266357
          ],
          [
           -63.688087463378906,
           4.056227684020996,
           1.6139036417007446,
           3.7183330059051514,
           5.279371738433838,
           7.391529560089111,
           4.228268146514893,
           4.523171901702881,
           0.8142233490943909,
           10.127852439880371
          ],
          [
           90.07079315185547,
           -7.4421772956848145,
           -5.140291690826416,
           -6.756058692932129,
           -9.143156051635742,
           -11.550079345703125,
           -6.120102405548096,
           -8.010871887207031,
           -2.4243690967559814,
           -13.875405311584473
          ],
          [
           77.48069763183594,
           -10.336224555969238,
           -9.460041046142578,
           -10.906684875488281,
           -13.378091812133789,
           -15.599026679992676,
           -9.015137672424316,
           -11.691761016845703,
           -6.167976379394531,
           -18.1814022064209
          ],
          [
           70.20049285888672,
           -12.035828590393066,
           -10.422213554382324,
           -11.743799209594727,
           -13.780719757080078,
           -17.660459518432617,
           -11.809246063232422,
           -14.101902961730957,
           -8.372258186340332,
           -20.098031997680664
          ],
          [
           -72.68612670898438,
           13.844754219055176,
           11.293917655944824,
           12.631688117980957,
           15.476807594299316,
           22.1505184173584,
           12.931229591369629,
           15.804391860961914,
           9.276151657104492,
           22.32611846923828
          ],
          [
           -75.25601196289062,
           17.411907196044922,
           15.123867988586426,
           16.92533302307129,
           20.003992080688477,
           26.551179885864258,
           16.748077392578125,
           20.71906280517578,
           12.672527313232422,
           27.45225715637207
          ],
          [
           87.71492004394531,
           -16.831233978271484,
           -15.905506134033203,
           -16.610599517822266,
           -20.10028648376465,
           -26.49779510498047,
           -17.501712799072266,
           -20.530597686767578,
           -11.346541404724121,
           -27.573957443237305
          ],
          [
           -88.34082794189453,
           18.27649688720703,
           15.761259078979492,
           16.0457763671875,
           20.2303466796875,
           26.861299514770508,
           19.119110107421875,
           22.480579376220703,
           12.905948638916016,
           29.301502227783203
          ],
          [
           -88.748779296875,
           21.953292846679688,
           19.78537940979004,
           19.036985397338867,
           22.343936920166016,
           31.877626419067383,
           22.378173828125,
           26.95250129699707,
           14.906122207641602,
           32.04004669189453
          ],
          [
           -91.12661743164062,
           23.687414169311523,
           21.492586135864258,
           19.695777893066406,
           25.383119583129883,
           35.22959899902344,
           25.20467758178711,
           31.267269134521484,
           17.516664505004883,
           35.5384521484375
          ],
          [
           -84.3795166015625,
           21.827848434448242,
           19.595102310180664,
           18.87961196899414,
           25.001794815063477,
           36.14175796508789,
           24.562850952148438,
           30.28799057006836,
           16.52268409729004,
           35.114990234375
          ],
          [
           -101.85526275634766,
           23.622312545776367,
           21.3138370513916,
           22.112380981445312,
           25.207843780517578,
           39.10723876953125,
           26.315380096435547,
           31.789653778076172,
           16.762861251831055,
           35.966670989990234
          ],
          [
           48.89461135864258,
           -26.768709182739258,
           -25.488006591796875,
           -27.02692413330078,
           -26.458101272583008,
           -43.831581115722656,
           -29.69358253479004,
           -36.76313781738281,
           -17.03017807006836,
           -38.34415054321289
          ],
          [
           -17.630420684814453,
           -27.700862884521484,
           -28.19069480895996,
           -29.265792846679688,
           -27.73810386657715,
           -46.14305877685547,
           -30.20452308654785,
           -39.823699951171875,
           -16.25053596496582,
           -39.622562408447266
          ],
          [
           5.942836761474609,
           26.235326766967773,
           28.832910537719727,
           30.970293045043945,
           25.593839645385742,
           48.47711944580078,
           31.8311824798584,
           40.7922477722168,
           13.010237693786621,
           41.86098098754883
          ],
          [
           14.801093101501465,
           21.440200805664062,
           25.84204864501953,
           25.52748680114746,
           6.5622711181640625,
           45.62781524658203,
           26.712160110473633,
           35.15064239501953,
           -9.10720443725586,
           41.02220153808594
          ]
         ]
        }
       ],
       "layout": {
        "height": 800,
        "template": {
         "data": {
          "bar": [
           {
            "error_x": {
             "color": "#2a3f5f"
            },
            "error_y": {
             "color": "#2a3f5f"
            },
            "marker": {
             "line": {
              "color": "#E5ECF6",
              "width": 0.5
             },
             "pattern": {
              "fillmode": "overlay",
              "size": 10,
              "solidity": 0.2
             }
            },
            "type": "bar"
           }
          ],
          "barpolar": [
           {
            "marker": {
             "line": {
              "color": "#E5ECF6",
              "width": 0.5
             },
             "pattern": {
              "fillmode": "overlay",
              "size": 10,
              "solidity": 0.2
             }
            },
            "type": "barpolar"
           }
          ],
          "carpet": [
           {
            "aaxis": {
             "endlinecolor": "#2a3f5f",
             "gridcolor": "white",
             "linecolor": "white",
             "minorgridcolor": "white",
             "startlinecolor": "#2a3f5f"
            },
            "baxis": {
             "endlinecolor": "#2a3f5f",
             "gridcolor": "white",
             "linecolor": "white",
             "minorgridcolor": "white",
             "startlinecolor": "#2a3f5f"
            },
            "type": "carpet"
           }
          ],
          "choropleth": [
           {
            "colorbar": {
             "outlinewidth": 0,
             "ticks": ""
            },
            "type": "choropleth"
           }
          ],
          "contour": [
           {
            "colorbar": {
             "outlinewidth": 0,
             "ticks": ""
            },
            "colorscale": [
             [
              0,
              "#0d0887"
             ],
             [
              0.1111111111111111,
              "#46039f"
             ],
             [
              0.2222222222222222,
              "#7201a8"
             ],
             [
              0.3333333333333333,
              "#9c179e"
             ],
             [
              0.4444444444444444,
              "#bd3786"
             ],
             [
              0.5555555555555556,
              "#d8576b"
             ],
             [
              0.6666666666666666,
              "#ed7953"
             ],
             [
              0.7777777777777778,
              "#fb9f3a"
             ],
             [
              0.8888888888888888,
              "#fdca26"
             ],
             [
              1,
              "#f0f921"
             ]
            ],
            "type": "contour"
           }
          ],
          "contourcarpet": [
           {
            "colorbar": {
             "outlinewidth": 0,
             "ticks": ""
            },
            "type": "contourcarpet"
           }
          ],
          "heatmap": [
           {
            "colorbar": {
             "outlinewidth": 0,
             "ticks": ""
            },
            "colorscale": [
             [
              0,
              "#0d0887"
             ],
             [
              0.1111111111111111,
              "#46039f"
             ],
             [
              0.2222222222222222,
              "#7201a8"
             ],
             [
              0.3333333333333333,
              "#9c179e"
             ],
             [
              0.4444444444444444,
              "#bd3786"
             ],
             [
              0.5555555555555556,
              "#d8576b"
             ],
             [
              0.6666666666666666,
              "#ed7953"
             ],
             [
              0.7777777777777778,
              "#fb9f3a"
             ],
             [
              0.8888888888888888,
              "#fdca26"
             ],
             [
              1,
              "#f0f921"
             ]
            ],
            "type": "heatmap"
           }
          ],
          "heatmapgl": [
           {
            "colorbar": {
             "outlinewidth": 0,
             "ticks": ""
            },
            "colorscale": [
             [
              0,
              "#0d0887"
             ],
             [
              0.1111111111111111,
              "#46039f"
             ],
             [
              0.2222222222222222,
              "#7201a8"
             ],
             [
              0.3333333333333333,
              "#9c179e"
             ],
             [
              0.4444444444444444,
              "#bd3786"
             ],
             [
              0.5555555555555556,
              "#d8576b"
             ],
             [
              0.6666666666666666,
              "#ed7953"
             ],
             [
              0.7777777777777778,
              "#fb9f3a"
             ],
             [
              0.8888888888888888,
              "#fdca26"
             ],
             [
              1,
              "#f0f921"
             ]
            ],
            "type": "heatmapgl"
           }
          ],
          "histogram": [
           {
            "marker": {
             "pattern": {
              "fillmode": "overlay",
              "size": 10,
              "solidity": 0.2
             }
            },
            "type": "histogram"
           }
          ],
          "histogram2d": [
           {
            "colorbar": {
             "outlinewidth": 0,
             "ticks": ""
            },
            "colorscale": [
             [
              0,
              "#0d0887"
             ],
             [
              0.1111111111111111,
              "#46039f"
             ],
             [
              0.2222222222222222,
              "#7201a8"
             ],
             [
              0.3333333333333333,
              "#9c179e"
             ],
             [
              0.4444444444444444,
              "#bd3786"
             ],
             [
              0.5555555555555556,
              "#d8576b"
             ],
             [
              0.6666666666666666,
              "#ed7953"
             ],
             [
              0.7777777777777778,
              "#fb9f3a"
             ],
             [
              0.8888888888888888,
              "#fdca26"
             ],
             [
              1,
              "#f0f921"
             ]
            ],
            "type": "histogram2d"
           }
          ],
          "histogram2dcontour": [
           {
            "colorbar": {
             "outlinewidth": 0,
             "ticks": ""
            },
            "colorscale": [
             [
              0,
              "#0d0887"
             ],
             [
              0.1111111111111111,
              "#46039f"
             ],
             [
              0.2222222222222222,
              "#7201a8"
             ],
             [
              0.3333333333333333,
              "#9c179e"
             ],
             [
              0.4444444444444444,
              "#bd3786"
             ],
             [
              0.5555555555555556,
              "#d8576b"
             ],
             [
              0.6666666666666666,
              "#ed7953"
             ],
             [
              0.7777777777777778,
              "#fb9f3a"
             ],
             [
              0.8888888888888888,
              "#fdca26"
             ],
             [
              1,
              "#f0f921"
             ]
            ],
            "type": "histogram2dcontour"
           }
          ],
          "mesh3d": [
           {
            "colorbar": {
             "outlinewidth": 0,
             "ticks": ""
            },
            "type": "mesh3d"
           }
          ],
          "parcoords": [
           {
            "line": {
             "colorbar": {
              "outlinewidth": 0,
              "ticks": ""
             }
            },
            "type": "parcoords"
           }
          ],
          "pie": [
           {
            "automargin": true,
            "type": "pie"
           }
          ],
          "scatter": [
           {
            "fillpattern": {
             "fillmode": "overlay",
             "size": 10,
             "solidity": 0.2
            },
            "type": "scatter"
           }
          ],
          "scatter3d": [
           {
            "line": {
             "colorbar": {
              "outlinewidth": 0,
              "ticks": ""
             }
            },
            "marker": {
             "colorbar": {
              "outlinewidth": 0,
              "ticks": ""
             }
            },
            "type": "scatter3d"
           }
          ],
          "scattercarpet": [
           {
            "marker": {
             "colorbar": {
              "outlinewidth": 0,
              "ticks": ""
             }
            },
            "type": "scattercarpet"
           }
          ],
          "scattergeo": [
           {
            "marker": {
             "colorbar": {
              "outlinewidth": 0,
              "ticks": ""
             }
            },
            "type": "scattergeo"
           }
          ],
          "scattergl": [
           {
            "marker": {
             "colorbar": {
              "outlinewidth": 0,
              "ticks": ""
             }
            },
            "type": "scattergl"
           }
          ],
          "scattermapbox": [
           {
            "marker": {
             "colorbar": {
              "outlinewidth": 0,
              "ticks": ""
             }
            },
            "type": "scattermapbox"
           }
          ],
          "scatterpolar": [
           {
            "marker": {
             "colorbar": {
              "outlinewidth": 0,
              "ticks": ""
             }
            },
            "type": "scatterpolar"
           }
          ],
          "scatterpolargl": [
           {
            "marker": {
             "colorbar": {
              "outlinewidth": 0,
              "ticks": ""
             }
            },
            "type": "scatterpolargl"
           }
          ],
          "scatterternary": [
           {
            "marker": {
             "colorbar": {
              "outlinewidth": 0,
              "ticks": ""
             }
            },
            "type": "scatterternary"
           }
          ],
          "surface": [
           {
            "colorbar": {
             "outlinewidth": 0,
             "ticks": ""
            },
            "colorscale": [
             [
              0,
              "#0d0887"
             ],
             [
              0.1111111111111111,
              "#46039f"
             ],
             [
              0.2222222222222222,
              "#7201a8"
             ],
             [
              0.3333333333333333,
              "#9c179e"
             ],
             [
              0.4444444444444444,
              "#bd3786"
             ],
             [
              0.5555555555555556,
              "#d8576b"
             ],
             [
              0.6666666666666666,
              "#ed7953"
             ],
             [
              0.7777777777777778,
              "#fb9f3a"
             ],
             [
              0.8888888888888888,
              "#fdca26"
             ],
             [
              1,
              "#f0f921"
             ]
            ],
            "type": "surface"
           }
          ],
          "table": [
           {
            "cells": {
             "fill": {
              "color": "#EBF0F8"
             },
             "line": {
              "color": "white"
             }
            },
            "header": {
             "fill": {
              "color": "#C8D4E3"
             },
             "line": {
              "color": "white"
             }
            },
            "type": "table"
           }
          ]
         },
         "layout": {
          "annotationdefaults": {
           "arrowcolor": "#2a3f5f",
           "arrowhead": 0,
           "arrowwidth": 1
          },
          "autotypenumbers": "strict",
          "coloraxis": {
           "colorbar": {
            "outlinewidth": 0,
            "ticks": ""
           }
          },
          "colorscale": {
           "diverging": [
            [
             0,
             "#8e0152"
            ],
            [
             0.1,
             "#c51b7d"
            ],
            [
             0.2,
             "#de77ae"
            ],
            [
             0.3,
             "#f1b6da"
            ],
            [
             0.4,
             "#fde0ef"
            ],
            [
             0.5,
             "#f7f7f7"
            ],
            [
             0.6,
             "#e6f5d0"
            ],
            [
             0.7,
             "#b8e186"
            ],
            [
             0.8,
             "#7fbc41"
            ],
            [
             0.9,
             "#4d9221"
            ],
            [
             1,
             "#276419"
            ]
           ],
           "sequential": [
            [
             0,
             "#0d0887"
            ],
            [
             0.1111111111111111,
             "#46039f"
            ],
            [
             0.2222222222222222,
             "#7201a8"
            ],
            [
             0.3333333333333333,
             "#9c179e"
            ],
            [
             0.4444444444444444,
             "#bd3786"
            ],
            [
             0.5555555555555556,
             "#d8576b"
            ],
            [
             0.6666666666666666,
             "#ed7953"
            ],
            [
             0.7777777777777778,
             "#fb9f3a"
            ],
            [
             0.8888888888888888,
             "#fdca26"
            ],
            [
             1,
             "#f0f921"
            ]
           ],
           "sequentialminus": [
            [
             0,
             "#0d0887"
            ],
            [
             0.1111111111111111,
             "#46039f"
            ],
            [
             0.2222222222222222,
             "#7201a8"
            ],
            [
             0.3333333333333333,
             "#9c179e"
            ],
            [
             0.4444444444444444,
             "#bd3786"
            ],
            [
             0.5555555555555556,
             "#d8576b"
            ],
            [
             0.6666666666666666,
             "#ed7953"
            ],
            [
             0.7777777777777778,
             "#fb9f3a"
            ],
            [
             0.8888888888888888,
             "#fdca26"
            ],
            [
             1,
             "#f0f921"
            ]
           ]
          },
          "colorway": [
           "#636efa",
           "#EF553B",
           "#00cc96",
           "#ab63fa",
           "#FFA15A",
           "#19d3f3",
           "#FF6692",
           "#B6E880",
           "#FF97FF",
           "#FECB52"
          ],
          "font": {
           "color": "#2a3f5f"
          },
          "geo": {
           "bgcolor": "white",
           "lakecolor": "white",
           "landcolor": "#E5ECF6",
           "showlakes": true,
           "showland": true,
           "subunitcolor": "white"
          },
          "hoverlabel": {
           "align": "left"
          },
          "hovermode": "closest",
          "mapbox": {
           "style": "light"
          },
          "paper_bgcolor": "white",
          "plot_bgcolor": "#E5ECF6",
          "polar": {
           "angularaxis": {
            "gridcolor": "white",
            "linecolor": "white",
            "ticks": ""
           },
           "bgcolor": "#E5ECF6",
           "radialaxis": {
            "gridcolor": "white",
            "linecolor": "white",
            "ticks": ""
           }
          },
          "scene": {
           "xaxis": {
            "backgroundcolor": "#E5ECF6",
            "gridcolor": "white",
            "gridwidth": 2,
            "linecolor": "white",
            "showbackground": true,
            "ticks": "",
            "zerolinecolor": "white"
           },
           "yaxis": {
            "backgroundcolor": "#E5ECF6",
            "gridcolor": "white",
            "gridwidth": 2,
            "linecolor": "white",
            "showbackground": true,
            "ticks": "",
            "zerolinecolor": "white"
           },
           "zaxis": {
            "backgroundcolor": "#E5ECF6",
            "gridcolor": "white",
            "gridwidth": 2,
            "linecolor": "white",
            "showbackground": true,
            "ticks": "",
            "zerolinecolor": "white"
           }
          },
          "shapedefaults": {
           "line": {
            "color": "#2a3f5f"
           }
          },
          "ternary": {
           "aaxis": {
            "gridcolor": "white",
            "linecolor": "white",
            "ticks": ""
           },
           "baxis": {
            "gridcolor": "white",
            "linecolor": "white",
            "ticks": ""
           },
           "bgcolor": "#E5ECF6",
           "caxis": {
            "gridcolor": "white",
            "linecolor": "white",
            "ticks": ""
           }
          },
          "title": {
           "x": 0.05
          },
          "xaxis": {
           "automargin": true,
           "gridcolor": "white",
           "linecolor": "white",
           "ticks": "",
           "title": {
            "standoff": 15
           },
           "zerolinecolor": "white",
           "zerolinewidth": 2
          },
          "yaxis": {
           "automargin": true,
           "gridcolor": "white",
           "linecolor": "white",
           "ticks": "",
           "title": {
            "standoff": 15
           },
           "zerolinecolor": "white",
           "zerolinewidth": 2
          }
         }
        },
        "title": {
         "text": "Credences for Input Tokens"
        },
        "width": 800,
        "xaxis": {
         "tickangle": 45,
         "ticktext": [
          "<bos>",
          "▁This",
          "▁film",
          "▁is",
          "▁terrible",
          ",",
          "▁best",
          "▁to",
          "▁pass",
          "."
         ],
         "tickvals": [
          0,
          1,
          2,
          3,
          4,
          5,
          6,
          7,
          8,
          9
         ]
        }
       }
      },
      "text/html": [
       "<div>                            <div id=\"b295c2d6-c5e2-48d2-9396-e0c9091ed4c2\" class=\"plotly-graph-div\" style=\"height:800px; width:800px;\"></div>            <script type=\"text/javascript\">                require([\"plotly\"], function(Plotly) {                    window.PLOTLYENV=window.PLOTLYENV || {};                                    if (document.getElementById(\"b295c2d6-c5e2-48d2-9396-e0c9091ed4c2\")) {                    Plotly.newPlot(                        \"b295c2d6-c5e2-48d2-9396-e0c9091ed4c2\",                        [{\"colorscale\":[[0,\"#FFFFFF\"],[1,\"#FF0000\"]],\"text\":[[\"  <bos>  \",\"  \\u2581This  \",\"  \\u2581film  \",\"  \\u2581is  \",\"  \\u2581terrible  \",\"  ,  \",\"  \\u2581best  \",\"  \\u2581to  \",\"  \\u2581pass  \",\"  .  \"],[\"  <bos>  \",\"  \\u2581This  \",\"  \\u2581film  \",\"  \\u2581is  \",\"  \\u2581terrible  \",\"  ,  \",\"  \\u2581best  \",\"  \\u2581to  \",\"  \\u2581pass  \",\"  .  \"],[\"  <bos>  \",\"  \\u2581This  \",\"  \\u2581film  \",\"  \\u2581is  \",\"  \\u2581terrible  \",\"  ,  \",\"  \\u2581best  \",\"  \\u2581to  \",\"  \\u2581pass  \",\"  .  \"],[\"  <bos>  \",\"  \\u2581This  \",\"  \\u2581film  \",\"  \\u2581is  \",\"  \\u2581terrible  \",\"  ,  \",\"  \\u2581best  \",\"  \\u2581to  \",\"  \\u2581pass  \",\"  .  \"],[\"  <bos>  \",\"  \\u2581This  \",\"  \\u2581film  \",\"  \\u2581is  \",\"  \\u2581terrible  \",\"  ,  \",\"  \\u2581best  \",\"  \\u2581to  \",\"  \\u2581pass  \",\"  .  \"],[\"  <bos>  \",\"  \\u2581This  \",\"  \\u2581film  \",\"  \\u2581is  \",\"  \\u2581terrible  \",\"  ,  \",\"  \\u2581best  \",\"  \\u2581to  \",\"  \\u2581pass  \",\"  .  \"],[\"  <bos>  \",\"  \\u2581This  \",\"  \\u2581film  \",\"  \\u2581is  \",\"  \\u2581terrible  \",\"  ,  \",\"  \\u2581best  \",\"  \\u2581to  \",\"  \\u2581pass  \",\"  .  \"],[\"  <bos>  \",\"  \\u2581This  \",\"  \\u2581film  \",\"  \\u2581is  \",\"  \\u2581terrible  \",\"  ,  \",\"  \\u2581best  \",\"  \\u2581to  \",\"  \\u2581pass  \",\"  .  \"],[\"  <bos>  \",\"  \\u2581This  \",\"  \\u2581film  \",\"  \\u2581is  \",\"  \\u2581terrible  \",\"  ,  \",\"  \\u2581best  \",\"  \\u2581to  \",\"  \\u2581pass  \",\"  .  \"],[\"  <bos>  \",\"  \\u2581This  \",\"  \\u2581film  \",\"  \\u2581is  \",\"  \\u2581terrible  \",\"  ,  \",\"  \\u2581best  \",\"  \\u2581to  \",\"  \\u2581pass  \",\"  .  \"],[\"  <bos>  \",\"  \\u2581This  \",\"  \\u2581film  \",\"  \\u2581is  \",\"  \\u2581terrible  \",\"  ,  \",\"  \\u2581best  \",\"  \\u2581to  \",\"  \\u2581pass  \",\"  .  \"],[\"  <bos>  \",\"  \\u2581This  \",\"  \\u2581film  \",\"  \\u2581is  \",\"  \\u2581terrible  \",\"  ,  \",\"  \\u2581best  \",\"  \\u2581to  \",\"  \\u2581pass  \",\"  .  \"],[\"  <bos>  \",\"  \\u2581This  \",\"  \\u2581film  \",\"  \\u2581is  \",\"  \\u2581terrible  \",\"  ,  \",\"  \\u2581best  \",\"  \\u2581to  \",\"  \\u2581pass  \",\"  .  \"],[\"  <bos>  \",\"  \\u2581This  \",\"  \\u2581film  \",\"  \\u2581is  \",\"  \\u2581terrible  \",\"  ,  \",\"  \\u2581best  \",\"  \\u2581to  \",\"  \\u2581pass  \",\"  .  \"],[\"  <bos>  \",\"  \\u2581This  \",\"  \\u2581film  \",\"  \\u2581is  \",\"  \\u2581terrible  \",\"  ,  \",\"  \\u2581best  \",\"  \\u2581to  \",\"  \\u2581pass  \",\"  .  \"],[\"  <bos>  \",\"  \\u2581This  \",\"  \\u2581film  \",\"  \\u2581is  \",\"  \\u2581terrible  \",\"  ,  \",\"  \\u2581best  \",\"  \\u2581to  \",\"  \\u2581pass  \",\"  .  \"],[\"  <bos>  \",\"  \\u2581This  \",\"  \\u2581film  \",\"  \\u2581is  \",\"  \\u2581terrible  \",\"  ,  \",\"  \\u2581best  \",\"  \\u2581to  \",\"  \\u2581pass  \",\"  .  \"],[\"  <bos>  \",\"  \\u2581This  \",\"  \\u2581film  \",\"  \\u2581is  \",\"  \\u2581terrible  \",\"  ,  \",\"  \\u2581best  \",\"  \\u2581to  \",\"  \\u2581pass  \",\"  .  \"],[\"  <bos>  \",\"  \\u2581This  \",\"  \\u2581film  \",\"  \\u2581is  \",\"  \\u2581terrible  \",\"  ,  \",\"  \\u2581best  \",\"  \\u2581to  \",\"  \\u2581pass  \",\"  .  \"],[\"  <bos>  \",\"  \\u2581This  \",\"  \\u2581film  \",\"  \\u2581is  \",\"  \\u2581terrible  \",\"  ,  \",\"  \\u2581best  \",\"  \\u2581to  \",\"  \\u2581pass  \",\"  .  \"],[\"  <bos>  \",\"  \\u2581This  \",\"  \\u2581film  \",\"  \\u2581is  \",\"  \\u2581terrible  \",\"  ,  \",\"  \\u2581best  \",\"  \\u2581to  \",\"  \\u2581pass  \",\"  .  \"],[\"  <bos>  \",\"  \\u2581This  \",\"  \\u2581film  \",\"  \\u2581is  \",\"  \\u2581terrible  \",\"  ,  \",\"  \\u2581best  \",\"  \\u2581to  \",\"  \\u2581pass  \",\"  .  \"],[\"  <bos>  \",\"  \\u2581This  \",\"  \\u2581film  \",\"  \\u2581is  \",\"  \\u2581terrible  \",\"  ,  \",\"  \\u2581best  \",\"  \\u2581to  \",\"  \\u2581pass  \",\"  .  \"],[\"  <bos>  \",\"  \\u2581This  \",\"  \\u2581film  \",\"  \\u2581is  \",\"  \\u2581terrible  \",\"  ,  \",\"  \\u2581best  \",\"  \\u2581to  \",\"  \\u2581pass  \",\"  .  \"],[\"  <bos>  \",\"  \\u2581This  \",\"  \\u2581film  \",\"  \\u2581is  \",\"  \\u2581terrible  \",\"  ,  \",\"  \\u2581best  \",\"  \\u2581to  \",\"  \\u2581pass  \",\"  .  \"],[\"  <bos>  \",\"  \\u2581This  \",\"  \\u2581film  \",\"  \\u2581is  \",\"  \\u2581terrible  \",\"  ,  \",\"  \\u2581best  \",\"  \\u2581to  \",\"  \\u2581pass  \",\"  .  \"],[\"  <bos>  \",\"  \\u2581This  \",\"  \\u2581film  \",\"  \\u2581is  \",\"  \\u2581terrible  \",\"  ,  \",\"  \\u2581best  \",\"  \\u2581to  \",\"  \\u2581pass  \",\"  .  \"],[\"  <bos>  \",\"  \\u2581This  \",\"  \\u2581film  \",\"  \\u2581is  \",\"  \\u2581terrible  \",\"  ,  \",\"  \\u2581best  \",\"  \\u2581to  \",\"  \\u2581pass  \",\"  .  \"],[\"  <bos>  \",\"  \\u2581This  \",\"  \\u2581film  \",\"  \\u2581is  \",\"  \\u2581terrible  \",\"  ,  \",\"  \\u2581best  \",\"  \\u2581to  \",\"  \\u2581pass  \",\"  .  \"],[\"  <bos>  \",\"  \\u2581This  \",\"  \\u2581film  \",\"  \\u2581is  \",\"  \\u2581terrible  \",\"  ,  \",\"  \\u2581best  \",\"  \\u2581to  \",\"  \\u2581pass  \",\"  .  \"],[\"  <bos>  \",\"  \\u2581This  \",\"  \\u2581film  \",\"  \\u2581is  \",\"  \\u2581terrible  \",\"  ,  \",\"  \\u2581best  \",\"  \\u2581to  \",\"  \\u2581pass  \",\"  .  \"],[\"  <bos>  \",\"  \\u2581This  \",\"  \\u2581film  \",\"  \\u2581is  \",\"  \\u2581terrible  \",\"  ,  \",\"  \\u2581best  \",\"  \\u2581to  \",\"  \\u2581pass  \",\"  .  \"],[\"  <bos>  \",\"  \\u2581This  \",\"  \\u2581film  \",\"  \\u2581is  \",\"  \\u2581terrible  \",\"  ,  \",\"  \\u2581best  \",\"  \\u2581to  \",\"  \\u2581pass  \",\"  .  \"],[\"  <bos>  \",\"  \\u2581This  \",\"  \\u2581film  \",\"  \\u2581is  \",\"  \\u2581terrible  \",\"  ,  \",\"  \\u2581best  \",\"  \\u2581to  \",\"  \\u2581pass  \",\"  .  \"],[\"  <bos>  \",\"  \\u2581This  \",\"  \\u2581film  \",\"  \\u2581is  \",\"  \\u2581terrible  \",\"  ,  \",\"  \\u2581best  \",\"  \\u2581to  \",\"  \\u2581pass  \",\"  .  \"],[\"  <bos>  \",\"  \\u2581This  \",\"  \\u2581film  \",\"  \\u2581is  \",\"  \\u2581terrible  \",\"  ,  \",\"  \\u2581best  \",\"  \\u2581to  \",\"  \\u2581pass  \",\"  .  \"],[\"  <bos>  \",\"  \\u2581This  \",\"  \\u2581film  \",\"  \\u2581is  \",\"  \\u2581terrible  \",\"  ,  \",\"  \\u2581best  \",\"  \\u2581to  \",\"  \\u2581pass  \",\"  .  \"],[\"  <bos>  \",\"  \\u2581This  \",\"  \\u2581film  \",\"  \\u2581is  \",\"  \\u2581terrible  \",\"  ,  \",\"  \\u2581best  \",\"  \\u2581to  \",\"  \\u2581pass  \",\"  .  \"],[\"  <bos>  \",\"  \\u2581This  \",\"  \\u2581film  \",\"  \\u2581is  \",\"  \\u2581terrible  \",\"  ,  \",\"  \\u2581best  \",\"  \\u2581to  \",\"  \\u2581pass  \",\"  .  \"],[\"  <bos>  \",\"  \\u2581This  \",\"  \\u2581film  \",\"  \\u2581is  \",\"  \\u2581terrible  \",\"  ,  \",\"  \\u2581best  \",\"  \\u2581to  \",\"  \\u2581pass  \",\"  .  \"]],\"textfont\":{\"color\":\"black\",\"size\":12},\"texttemplate\":\"%{text}\",\"z\":[[-0.00509528536349535,0.014957795850932598,0.018221812322735786,0.013111494481563568,0.004798796493560076,-0.006812038831412792,-0.001939488691277802,-0.02700962871313095,0.022444438189268112,-0.026587728410959244],[-0.6468021869659424,0.07352990657091141,-0.10395831614732742,-0.11794734001159668,0.19841910898685455,-0.07124423235654831,-0.03672509267926216,-0.03225638344883919,0.06073807179927826,-0.08194699883460999],[-2.3207178115844727,-1.0919450521469116,-0.2622467279434204,-1.131502628326416,-0.5350147485733032,-1.5976221561431885,-0.4779156446456909,-0.5893436670303345,-0.8797966241836548,-1.569451928138733],[-56.160282135009766,0.9385982751846313,1.044010877609253,0.8188488483428955,0.9871791005134583,0.7951902747154236,0.43382424116134644,0.36684274673461914,0.6668524146080017,0.6193949580192566],[-14.116135597229004,2.310884952545166,2.326404094696045,1.5623270273208618,1.4415379762649536,0.8277792930603027,1.1221511363983154,0.2477945238351822,0.48246151208877563,0.5101154446601868],[-37.52021408081055,2.7686121463775635,2.550736427307129,1.2831910848617554,1.4030864238739014,0.910626232624054,0.6227959394454956,0.2079007774591446,0.11966484785079956,0.4330819845199585],[44.53757858276367,-2.55277156829834,-3.2259628772735596,-1.5163657665252686,-1.9345179796218872,-1.146256446838379,-0.39942216873168945,-0.4877144694328308,-0.17368672788143158,-0.4826869070529938],[33.20576477050781,-2.6847927570343018,-3.798605442047119,-1.4454498291015625,-1.9489717483520508,-1.349005937576294,-0.9047487378120422,-0.8794564604759216,-0.35239914059638977,-0.4427246153354645],[1.6539781093597412,3.6815550327301025,5.180678367614746,2.7463366985321045,3.328244209289551,3.0880839824676514,1.7717375755310059,1.3400559425354004,0.737267255783081,1.16598641872406],[5.446661949157715,-3.5703907012939453,-5.778568267822266,-2.5934243202209473,-3.488186836242676,-2.721294403076172,-1.0668209791183472,-1.0746879577636719,-0.679783284664154,-0.9632741808891296],[5.64901876449585,4.140190601348877,5.70269775390625,2.200446844100952,4.004062652587891,1.9854995012283325,0.5975923538208008,1.078652262687683,0.9450573921203613,1.0784804821014404],[-4.407497882843018,3.4433350563049316,6.0913872718811035,2.226260185241699,4.737837791442871,1.8468250036239624,1.2872918844223022,1.1478631496429443,0.858310341835022,0.9467055797576904],[-28.9239559173584,3.8845653533935547,6.909946441650391,3.4166507720947266,6.385098934173584,3.924205780029297,1.5467815399169922,2.3995110988616943,1.7222241163253784,2.5243306159973145],[-45.12339401245117,4.527482509613037,7.255807876586914,4.1191253662109375,6.863643646240234,5.024562358856201,1.9902714490890503,2.391407012939453,2.191464900970459,2.26244854927063],[14.497267723083496,-4.159069061279297,-5.841463088989258,-3.1083743572235107,-5.118203163146973,-3.3938779830932617,-0.5959261059761047,-1.115046501159668,-1.3240437507629395,-0.05901992321014404],[-28.544116973876953,5.48051118850708,7.181185245513916,4.343777656555176,6.976259231567383,4.819969654083252,1.575492262840271,1.9428986310958862,1.0120278596878052,0.3941652774810791],[-38.857200622558594,-4.223681449890137,-6.6553120613098145,-3.330467462539673,-6.340941429138184,-4.859457969665527,-1.3546134233474731,-1.9460313320159912,-1.061097502708435,-0.07210094481706619],[30.021621704101562,5.463661193847656,7.578441143035889,4.141524314880371,7.638067245483398,6.005537033081055,1.538135290145874,2.0768237113952637,0.42804667353630066,0.7218965888023376],[46.571449279785156,2.9553050994873047,4.244020462036133,1.9966657161712646,4.565694808959961,3.537273645401001,0.9225163459777832,0.8672206997871399,1.0328477621078491,-0.6120001077651978],[46.13104248046875,2.533928871154785,3.70222544670105,1.7597334384918213,3.6760547161102295,2.7573280334472656,-0.037760864943265915,-0.05677187442779541,1.401295781135559,-0.6598755717277527],[-50.121185302734375,-0.567648708820343,-2.3084237575531006,-0.9097017645835876,-2.0930092334747314,-0.8504936695098877,-0.24335834383964539,-0.017740555107593536,-2.387272834777832,1.8210675716400146],[-36.81218719482422,-1.1910659074783325,-2.7354791164398193,-0.1318432092666626,-1.5347487926483154,0.3693773150444031,0.7511980533599854,-0.611423671245575,-2.317861795425415,2.0788445472717285],[52.11461639404297,-1.423226237297058,0.8547022938728333,-1.9667000770568848,-1.8001277446746826,-2.6653242111206055,-2.0873115062713623,-1.2794290781021118,1.0650824308395386,-5.685665130615234],[54.88811111450195,-2.7993016242980957,-0.5939208269119263,-3.085878849029541,-2.449816942214966,-4.193317890167236,-3.520536184310913,-2.879671573638916,-0.009233901277184486,-7.473208904266357],[-63.688087463378906,4.056227684020996,1.6139036417007446,3.7183330059051514,5.279371738433838,7.391529560089111,4.228268146514893,4.523171901702881,0.8142233490943909,10.127852439880371],[90.07079315185547,-7.4421772956848145,-5.140291690826416,-6.756058692932129,-9.143156051635742,-11.550079345703125,-6.120102405548096,-8.010871887207031,-2.4243690967559814,-13.875405311584473],[77.48069763183594,-10.336224555969238,-9.460041046142578,-10.906684875488281,-13.378091812133789,-15.599026679992676,-9.015137672424316,-11.691761016845703,-6.167976379394531,-18.1814022064209],[70.20049285888672,-12.035828590393066,-10.422213554382324,-11.743799209594727,-13.780719757080078,-17.660459518432617,-11.809246063232422,-14.101902961730957,-8.372258186340332,-20.098031997680664],[-72.68612670898438,13.844754219055176,11.293917655944824,12.631688117980957,15.476807594299316,22.1505184173584,12.931229591369629,15.804391860961914,9.276151657104492,22.32611846923828],[-75.25601196289062,17.411907196044922,15.123867988586426,16.92533302307129,20.003992080688477,26.551179885864258,16.748077392578125,20.71906280517578,12.672527313232422,27.45225715637207],[87.71492004394531,-16.831233978271484,-15.905506134033203,-16.610599517822266,-20.10028648376465,-26.49779510498047,-17.501712799072266,-20.530597686767578,-11.346541404724121,-27.573957443237305],[-88.34082794189453,18.27649688720703,15.761259078979492,16.0457763671875,20.2303466796875,26.861299514770508,19.119110107421875,22.480579376220703,12.905948638916016,29.301502227783203],[-88.748779296875,21.953292846679688,19.78537940979004,19.036985397338867,22.343936920166016,31.877626419067383,22.378173828125,26.95250129699707,14.906122207641602,32.04004669189453],[-91.12661743164062,23.687414169311523,21.492586135864258,19.695777893066406,25.383119583129883,35.22959899902344,25.20467758178711,31.267269134521484,17.516664505004883,35.5384521484375],[-84.3795166015625,21.827848434448242,19.595102310180664,18.87961196899414,25.001794815063477,36.14175796508789,24.562850952148438,30.28799057006836,16.52268409729004,35.114990234375],[-101.85526275634766,23.622312545776367,21.3138370513916,22.112380981445312,25.207843780517578,39.10723876953125,26.315380096435547,31.789653778076172,16.762861251831055,35.966670989990234],[48.89461135864258,-26.768709182739258,-25.488006591796875,-27.02692413330078,-26.458101272583008,-43.831581115722656,-29.69358253479004,-36.76313781738281,-17.03017807006836,-38.34415054321289],[-17.630420684814453,-27.700862884521484,-28.19069480895996,-29.265792846679688,-27.73810386657715,-46.14305877685547,-30.20452308654785,-39.823699951171875,-16.25053596496582,-39.622562408447266],[5.942836761474609,26.235326766967773,28.832910537719727,30.970293045043945,25.593839645385742,48.47711944580078,31.8311824798584,40.7922477722168,13.010237693786621,41.86098098754883],[14.801093101501465,21.440200805664062,25.84204864501953,25.52748680114746,6.5622711181640625,45.62781524658203,26.712160110473633,35.15064239501953,-9.10720443725586,41.02220153808594]],\"type\":\"heatmap\"}],                        {\"height\":800,\"template\":{\"data\":{\"barpolar\":[{\"marker\":{\"line\":{\"color\":\"#E5ECF6\",\"width\":0.5},\"pattern\":{\"fillmode\":\"overlay\",\"size\":10,\"solidity\":0.2}},\"type\":\"barpolar\"}],\"bar\":[{\"error_x\":{\"color\":\"#2a3f5f\"},\"error_y\":{\"color\":\"#2a3f5f\"},\"marker\":{\"line\":{\"color\":\"#E5ECF6\",\"width\":0.5},\"pattern\":{\"fillmode\":\"overlay\",\"size\":10,\"solidity\":0.2}},\"type\":\"bar\"}],\"carpet\":[{\"aaxis\":{\"endlinecolor\":\"#2a3f5f\",\"gridcolor\":\"white\",\"linecolor\":\"white\",\"minorgridcolor\":\"white\",\"startlinecolor\":\"#2a3f5f\"},\"baxis\":{\"endlinecolor\":\"#2a3f5f\",\"gridcolor\":\"white\",\"linecolor\":\"white\",\"minorgridcolor\":\"white\",\"startlinecolor\":\"#2a3f5f\"},\"type\":\"carpet\"}],\"choropleth\":[{\"colorbar\":{\"outlinewidth\":0,\"ticks\":\"\"},\"type\":\"choropleth\"}],\"contourcarpet\":[{\"colorbar\":{\"outlinewidth\":0,\"ticks\":\"\"},\"type\":\"contourcarpet\"}],\"contour\":[{\"colorbar\":{\"outlinewidth\":0,\"ticks\":\"\"},\"colorscale\":[[0.0,\"#0d0887\"],[0.1111111111111111,\"#46039f\"],[0.2222222222222222,\"#7201a8\"],[0.3333333333333333,\"#9c179e\"],[0.4444444444444444,\"#bd3786\"],[0.5555555555555556,\"#d8576b\"],[0.6666666666666666,\"#ed7953\"],[0.7777777777777778,\"#fb9f3a\"],[0.8888888888888888,\"#fdca26\"],[1.0,\"#f0f921\"]],\"type\":\"contour\"}],\"heatmapgl\":[{\"colorbar\":{\"outlinewidth\":0,\"ticks\":\"\"},\"colorscale\":[[0.0,\"#0d0887\"],[0.1111111111111111,\"#46039f\"],[0.2222222222222222,\"#7201a8\"],[0.3333333333333333,\"#9c179e\"],[0.4444444444444444,\"#bd3786\"],[0.5555555555555556,\"#d8576b\"],[0.6666666666666666,\"#ed7953\"],[0.7777777777777778,\"#fb9f3a\"],[0.8888888888888888,\"#fdca26\"],[1.0,\"#f0f921\"]],\"type\":\"heatmapgl\"}],\"heatmap\":[{\"colorbar\":{\"outlinewidth\":0,\"ticks\":\"\"},\"colorscale\":[[0.0,\"#0d0887\"],[0.1111111111111111,\"#46039f\"],[0.2222222222222222,\"#7201a8\"],[0.3333333333333333,\"#9c179e\"],[0.4444444444444444,\"#bd3786\"],[0.5555555555555556,\"#d8576b\"],[0.6666666666666666,\"#ed7953\"],[0.7777777777777778,\"#fb9f3a\"],[0.8888888888888888,\"#fdca26\"],[1.0,\"#f0f921\"]],\"type\":\"heatmap\"}],\"histogram2dcontour\":[{\"colorbar\":{\"outlinewidth\":0,\"ticks\":\"\"},\"colorscale\":[[0.0,\"#0d0887\"],[0.1111111111111111,\"#46039f\"],[0.2222222222222222,\"#7201a8\"],[0.3333333333333333,\"#9c179e\"],[0.4444444444444444,\"#bd3786\"],[0.5555555555555556,\"#d8576b\"],[0.6666666666666666,\"#ed7953\"],[0.7777777777777778,\"#fb9f3a\"],[0.8888888888888888,\"#fdca26\"],[1.0,\"#f0f921\"]],\"type\":\"histogram2dcontour\"}],\"histogram2d\":[{\"colorbar\":{\"outlinewidth\":0,\"ticks\":\"\"},\"colorscale\":[[0.0,\"#0d0887\"],[0.1111111111111111,\"#46039f\"],[0.2222222222222222,\"#7201a8\"],[0.3333333333333333,\"#9c179e\"],[0.4444444444444444,\"#bd3786\"],[0.5555555555555556,\"#d8576b\"],[0.6666666666666666,\"#ed7953\"],[0.7777777777777778,\"#fb9f3a\"],[0.8888888888888888,\"#fdca26\"],[1.0,\"#f0f921\"]],\"type\":\"histogram2d\"}],\"histogram\":[{\"marker\":{\"pattern\":{\"fillmode\":\"overlay\",\"size\":10,\"solidity\":0.2}},\"type\":\"histogram\"}],\"mesh3d\":[{\"colorbar\":{\"outlinewidth\":0,\"ticks\":\"\"},\"type\":\"mesh3d\"}],\"parcoords\":[{\"line\":{\"colorbar\":{\"outlinewidth\":0,\"ticks\":\"\"}},\"type\":\"parcoords\"}],\"pie\":[{\"automargin\":true,\"type\":\"pie\"}],\"scatter3d\":[{\"line\":{\"colorbar\":{\"outlinewidth\":0,\"ticks\":\"\"}},\"marker\":{\"colorbar\":{\"outlinewidth\":0,\"ticks\":\"\"}},\"type\":\"scatter3d\"}],\"scattercarpet\":[{\"marker\":{\"colorbar\":{\"outlinewidth\":0,\"ticks\":\"\"}},\"type\":\"scattercarpet\"}],\"scattergeo\":[{\"marker\":{\"colorbar\":{\"outlinewidth\":0,\"ticks\":\"\"}},\"type\":\"scattergeo\"}],\"scattergl\":[{\"marker\":{\"colorbar\":{\"outlinewidth\":0,\"ticks\":\"\"}},\"type\":\"scattergl\"}],\"scattermapbox\":[{\"marker\":{\"colorbar\":{\"outlinewidth\":0,\"ticks\":\"\"}},\"type\":\"scattermapbox\"}],\"scatterpolargl\":[{\"marker\":{\"colorbar\":{\"outlinewidth\":0,\"ticks\":\"\"}},\"type\":\"scatterpolargl\"}],\"scatterpolar\":[{\"marker\":{\"colorbar\":{\"outlinewidth\":0,\"ticks\":\"\"}},\"type\":\"scatterpolar\"}],\"scatter\":[{\"fillpattern\":{\"fillmode\":\"overlay\",\"size\":10,\"solidity\":0.2},\"type\":\"scatter\"}],\"scatterternary\":[{\"marker\":{\"colorbar\":{\"outlinewidth\":0,\"ticks\":\"\"}},\"type\":\"scatterternary\"}],\"surface\":[{\"colorbar\":{\"outlinewidth\":0,\"ticks\":\"\"},\"colorscale\":[[0.0,\"#0d0887\"],[0.1111111111111111,\"#46039f\"],[0.2222222222222222,\"#7201a8\"],[0.3333333333333333,\"#9c179e\"],[0.4444444444444444,\"#bd3786\"],[0.5555555555555556,\"#d8576b\"],[0.6666666666666666,\"#ed7953\"],[0.7777777777777778,\"#fb9f3a\"],[0.8888888888888888,\"#fdca26\"],[1.0,\"#f0f921\"]],\"type\":\"surface\"}],\"table\":[{\"cells\":{\"fill\":{\"color\":\"#EBF0F8\"},\"line\":{\"color\":\"white\"}},\"header\":{\"fill\":{\"color\":\"#C8D4E3\"},\"line\":{\"color\":\"white\"}},\"type\":\"table\"}]},\"layout\":{\"annotationdefaults\":{\"arrowcolor\":\"#2a3f5f\",\"arrowhead\":0,\"arrowwidth\":1},\"autotypenumbers\":\"strict\",\"coloraxis\":{\"colorbar\":{\"outlinewidth\":0,\"ticks\":\"\"}},\"colorscale\":{\"diverging\":[[0,\"#8e0152\"],[0.1,\"#c51b7d\"],[0.2,\"#de77ae\"],[0.3,\"#f1b6da\"],[0.4,\"#fde0ef\"],[0.5,\"#f7f7f7\"],[0.6,\"#e6f5d0\"],[0.7,\"#b8e186\"],[0.8,\"#7fbc41\"],[0.9,\"#4d9221\"],[1,\"#276419\"]],\"sequential\":[[0.0,\"#0d0887\"],[0.1111111111111111,\"#46039f\"],[0.2222222222222222,\"#7201a8\"],[0.3333333333333333,\"#9c179e\"],[0.4444444444444444,\"#bd3786\"],[0.5555555555555556,\"#d8576b\"],[0.6666666666666666,\"#ed7953\"],[0.7777777777777778,\"#fb9f3a\"],[0.8888888888888888,\"#fdca26\"],[1.0,\"#f0f921\"]],\"sequentialminus\":[[0.0,\"#0d0887\"],[0.1111111111111111,\"#46039f\"],[0.2222222222222222,\"#7201a8\"],[0.3333333333333333,\"#9c179e\"],[0.4444444444444444,\"#bd3786\"],[0.5555555555555556,\"#d8576b\"],[0.6666666666666666,\"#ed7953\"],[0.7777777777777778,\"#fb9f3a\"],[0.8888888888888888,\"#fdca26\"],[1.0,\"#f0f921\"]]},\"colorway\":[\"#636efa\",\"#EF553B\",\"#00cc96\",\"#ab63fa\",\"#FFA15A\",\"#19d3f3\",\"#FF6692\",\"#B6E880\",\"#FF97FF\",\"#FECB52\"],\"font\":{\"color\":\"#2a3f5f\"},\"geo\":{\"bgcolor\":\"white\",\"lakecolor\":\"white\",\"landcolor\":\"#E5ECF6\",\"showlakes\":true,\"showland\":true,\"subunitcolor\":\"white\"},\"hoverlabel\":{\"align\":\"left\"},\"hovermode\":\"closest\",\"mapbox\":{\"style\":\"light\"},\"paper_bgcolor\":\"white\",\"plot_bgcolor\":\"#E5ECF6\",\"polar\":{\"angularaxis\":{\"gridcolor\":\"white\",\"linecolor\":\"white\",\"ticks\":\"\"},\"bgcolor\":\"#E5ECF6\",\"radialaxis\":{\"gridcolor\":\"white\",\"linecolor\":\"white\",\"ticks\":\"\"}},\"scene\":{\"xaxis\":{\"backgroundcolor\":\"#E5ECF6\",\"gridcolor\":\"white\",\"gridwidth\":2,\"linecolor\":\"white\",\"showbackground\":true,\"ticks\":\"\",\"zerolinecolor\":\"white\"},\"yaxis\":{\"backgroundcolor\":\"#E5ECF6\",\"gridcolor\":\"white\",\"gridwidth\":2,\"linecolor\":\"white\",\"showbackground\":true,\"ticks\":\"\",\"zerolinecolor\":\"white\"},\"zaxis\":{\"backgroundcolor\":\"#E5ECF6\",\"gridcolor\":\"white\",\"gridwidth\":2,\"linecolor\":\"white\",\"showbackground\":true,\"ticks\":\"\",\"zerolinecolor\":\"white\"}},\"shapedefaults\":{\"line\":{\"color\":\"#2a3f5f\"}},\"ternary\":{\"aaxis\":{\"gridcolor\":\"white\",\"linecolor\":\"white\",\"ticks\":\"\"},\"baxis\":{\"gridcolor\":\"white\",\"linecolor\":\"white\",\"ticks\":\"\"},\"bgcolor\":\"#E5ECF6\",\"caxis\":{\"gridcolor\":\"white\",\"linecolor\":\"white\",\"ticks\":\"\"}},\"title\":{\"x\":0.05},\"xaxis\":{\"automargin\":true,\"gridcolor\":\"white\",\"linecolor\":\"white\",\"ticks\":\"\",\"title\":{\"standoff\":15},\"zerolinecolor\":\"white\",\"zerolinewidth\":2},\"yaxis\":{\"automargin\":true,\"gridcolor\":\"white\",\"linecolor\":\"white\",\"ticks\":\"\",\"title\":{\"standoff\":15},\"zerolinecolor\":\"white\",\"zerolinewidth\":2}}},\"title\":{\"text\":\"Credences for Input Tokens\"},\"width\":800,\"xaxis\":{\"tickangle\":45,\"ticktext\":[\"<bos>\",\"\\u2581This\",\"\\u2581film\",\"\\u2581is\",\"\\u2581terrible\",\",\",\"\\u2581best\",\"\\u2581to\",\"\\u2581pass\",\".\"],\"tickvals\":[0,1,2,3,4,5,6,7,8,9]}},                        {\"responsive\": true}                    ).then(function(){\n",
       "                            \n",
       "var gd = document.getElementById('b295c2d6-c5e2-48d2-9396-e0c9091ed4c2');\n",
       "var x = new MutationObserver(function (mutations, observer) {{\n",
       "        var display = window.getComputedStyle(gd).display;\n",
       "        if (!display || display === 'none') {{\n",
       "            console.log([gd, 'removed!']);\n",
       "            Plotly.purge(gd);\n",
       "            observer.disconnect();\n",
       "        }}\n",
       "}});\n",
       "\n",
       "// Listen for the removal of the full notebook cells\n",
       "var notebookContainer = gd.closest('#notebook-container');\n",
       "if (notebookContainer) {{\n",
       "    x.observe(notebookContainer, {childList: true});\n",
       "}}\n",
       "\n",
       "// Listen for the clearing of the current output cell\n",
       "var outputEl = gd.closest('.output');\n",
       "if (outputEl) {{\n",
       "    x.observe(outputEl, {childList: true});\n",
       "}}\n",
       "\n",
       "                        })                };                });            </script>        </div>"
      ]
     },
     "metadata": {},
     "output_type": "display_data"
    }
   ],
   "source": [
    "words_corresponding_to_credences = np.array([[\" \" * 2 + word + \" \" * 2 for word in input_tokens] for layer_num in range(len(credences))])\n",
    "\n",
    "heatmap = go.Heatmap(\n",
    "    z=credences,\n",
    "    colorscale=color_scale,\n",
    "    text=words_corresponding_to_credences,  # Set the text to be equal to z\n",
    "    texttemplate=\"%{text}\",\n",
    "    textfont=dict(color='black', size=12),  # Set the text color and size\n",
    ")\n",
    "\n",
    "# Create plot layout\n",
    "layout = go.Layout(title='Credences for Input Tokens',\n",
    "                width=800,  # Set the width of the plot\n",
    "                height=800,  # Set the height of the plot\n",
    "\n",
    "                     xaxis=dict(tickvals=list(range(len(input_tokens))),\n",
    "                                ticktext=input_tokens,\n",
    "                                tickangle=45))\n",
    "\n",
    "# Create plotly figure\n",
    "fig = go.Figure(data=[heatmap], layout=layout)\n",
    "\n",
    "# Display plotly figure\n",
    "print(credences[-1].shape)\n",
    "iplot(fig)\n"
   ]
  },
  {
   "cell_type": "code",
   "execution_count": 15,
   "metadata": {},
   "outputs": [
    {
     "name": "stdout",
     "output_type": "stream",
     "text": [
      "['<bos>', '▁This', '▁film', '▁is', '▁terrible', ',', '▁best', '▁to', '▁pass', '.'] [14.801093 21.4402   25.842049 25.527487  6.562271 45.627815 26.71216\n",
      " 35.150642 -9.107204 41.0222  ]\n"
     ]
    },
    {
     "data": {
      "text/html": [
       "<div style=\"background-color: white; display: flex; white-space: pre\"><span class=\"barcode\"; style=\"color: black; background-color: rgba(133.4, 188.4941176470588, 219.69411764705882, 0.5)\" title=\"14.801093\"><bos></span><div><div style=\"background-color: white; display: flex; white-space: pre\"><span class=\"barcode\"; style=\"color: black; background-color: rgba(88.34901960784313, 161.26274509803923, 206.721568627451, 0.5)\" title=\"21.4402\"> This</span><div><div style=\"background-color: white; display: flex; white-space: pre\"><span class=\"barcode\"; style=\"color: black; background-color: rgba(62.24705882352942, 142.24705882352941, 196.0666666666667, 0.5)\" title=\"25.842049\"> film</span><div><div style=\"background-color: white; display: flex; white-space: pre\"><span class=\"barcode\"; style=\"color: black; background-color: rgba(64.31764705882354, 144.31764705882352, 197.13333333333333, 0.5)\" title=\"25.527487\"> is</span><div><div style=\"background-color: white; display: flex; white-space: pre\"><span class=\"barcode\"; style=\"color: black; background-color: rgba(186.3921568627451, 214.06666666666663, 234.93725490196078, 0.5)\" title=\"6.562271\"> terrible</span><div><div style=\"background-color: white; display: flex; white-space: pre\"><span class=\"barcode\"; style=\"color: black; background-color: rgba(8.0, 48.0, 107.0, 0.5)\" title=\"45.627815\">,</span><div><div style=\"background-color: white; display: flex; white-space: pre\"><span class=\"barcode\"; style=\"color: black; background-color: rgba(58.10588235294118, 138.10588235294117, 193.93333333333334, 0.5)\" title=\"26.71216\"> best</span><div><div style=\"background-color: white; display: flex; white-space: pre\"><span class=\"barcode\"; style=\"color: black; background-color: rgba(21.431372549019606, 98.1921568627451, 169.4313725490196, 0.5)\" title=\"35.150642\"> to</span><div><div style=\"background-color: white; display: flex; white-space: pre\"><span class=\"barcode\"; style=\"color: black; background-color: rgba(247.0, 251.0, 255.0, 0.5)\" title=\"-9.107204\"> pass</span><div><div style=\"background-color: white; display: flex; white-space: pre\"><span class=\"barcode\"; style=\"color: black; background-color: rgba(8.0, 69.74117647058823, 139.28235294117647, 0.5)\" title=\"41.0222\">.</span><div>"
      ],
      "text/plain": [
       "<IPython.core.display.HTML object>"
      ]
     },
     "metadata": {},
     "output_type": "display_data"
    }
   ],
   "source": [
    "import matplotlib.pyplot as plt\n",
    "\n",
    "def colorize(words, credences):\n",
    "    \n",
    "    max_color = float(max(credences))\n",
    "    min_color = float(min(credences))\n",
    "    normalized_credences = (credences - min_color) / (max_color - min_color)\n",
    "    \n",
    "    cmap = plt.get_cmap('Blues')\n",
    "    \n",
    "    template = '<div style=\"background-color: white; display: flex; white-space: pre\"><span class=\"barcode\"; style=\"color: black; background-color: {}\" title=\"{}\">{}</span><div>'\n",
    "    colored_string = ''\n",
    "    \n",
    "    for word, credence, norm_credence in zip(words, credences, normalized_credences):\n",
    "        word = word.replace('▁', ' ')\n",
    "        color = cmap(norm_credence)[:3]\n",
    "        max_col_num = int(255) # half intensity\n",
    "        # color = 'rgb(' + str(int(color[0]*max_col_num)) + ',' + str(int(color[1]*max_col_num)) + ',' + str(int(color[2]*max_col_num)) + ')'\n",
    "        color = f'rgba({color[0]*255}, {color[1]*255}, {color[2]*255}, {0.5})' # TODO figure out how to give it white background\n",
    "        # print(word, credence, norm_credence)\n",
    "        colored_string += template.format(color, str(credence), word)\n",
    "    \n",
    "    return colored_string\n",
    "\n",
    "# example usage:\n",
    "words = input_tokens\n",
    "colors = credences[-1] # associated values\n",
    "\n",
    "# Colorizing the text\n",
    "print(words, colors)\n",
    "colored_string = colorize(words, colors)\n",
    "\n",
    "# To display the colored string in Jupyter Notebook\n",
    "display(HTML(colored_string))"
   ]
  },
  {
   "cell_type": "code",
   "execution_count": 67,
   "metadata": {},
   "outputs": [
    {
     "name": "stdout",
     "output_type": "stream",
     "text": [
      "not found\n",
      "[6]\n"
     ]
    },
    {
     "name": "stderr",
     "output_type": "stream",
     "text": [
      "/tmp/ipykernel_136320/2341769686.py:7: RuntimeWarning:\n",
      "\n",
      "invalid value encountered in divide\n",
      "\n"
     ]
    },
    {
     "data": {
      "text/html": [
       "<div style=\"background-color: white; display: flex; white-space: pre\"><span class=\"barcode\"; style=\"color: black; background-color: rgba(114.2, 177.9529411764706, 215.55294117647057, 0.5)\" title=\"18.783876\"> I</span><div><div style=\"background-color: white; display: flex; white-space: pre\"><span class=\"barcode\"; style=\"color: black; background-color: rgba(8.0, 48.0, 107.0, 0.5)\" title=\"43.15841\"> love</span><div><div style=\"background-color: white; display: flex; white-space: pre\"><span class=\"barcode\"; style=\"color: black; background-color: rgba(32.411764705882355, 112.24705882352941, 180.41176470588235, 0.5)\" title=\"31.429506\"> this</span><div><div style=\"background-color: white; display: flex; white-space: pre\"><span class=\"barcode\"; style=\"color: black; background-color: rgba(158.78431372549022, 202.33333333333331, 225.27450980392157, 0.5)\" title=\"13.658363\"> movie</span><div><div style=\"background-color: white; display: flex; white-space: pre\"><span class=\"barcode\"; style=\"color: black; background-color: rgba(138.20000000000002, 191.12941176470588, 220.7294117647059, 0.5)\" title=\"16.067484\"> so</span><div><div style=\"background-color: white; display: flex; white-space: pre\"><span class=\"barcode\"; style=\"color: black; background-color: rgba(247.0, 251.0, 255.0, 0.5)\" title=\"-3.9316347\"> much</span><div><div style=\"background-color: white; display: flex; white-space: pre\"><span class=\"barcode\"; style=\"color: black; background-color: rgba(15.941176470588237, 91.16470588235293, 163.94117647058826, 0.5)\" title=\"35.406097\">.</span><div>"
      ],
      "text/plain": [
       "<IPython.core.display.HTML object>"
      ]
     },
     "metadata": {},
     "output_type": "display_data"
    },
    {
     "data": {
      "text/html": [
       "<div style=\"background-color: white; display: flex; white-space: pre\"><span class=\"barcode\"; style=\"color: black; background-color: rgba(0.0, 0.0, 0.0, 0.5)\" title=\"-3.9316347\"> I</span><div><div style=\"background-color: white; display: flex; white-space: pre\"><span class=\"barcode\"; style=\"color: black; background-color: rgba(0.0, 0.0, 0.0, 0.5)\" title=\"-3.9316347\"> love</span><div><div style=\"background-color: white; display: flex; white-space: pre\"><span class=\"barcode\"; style=\"color: black; background-color: rgba(0.0, 0.0, 0.0, 0.5)\" title=\"-3.9316347\"> this</span><div><div style=\"background-color: white; display: flex; white-space: pre\"><span class=\"barcode\"; style=\"color: black; background-color: rgba(0.0, 0.0, 0.0, 0.5)\" title=\"-3.9316347\"> movie</span><div><div style=\"background-color: white; display: flex; white-space: pre\"><span class=\"barcode\"; style=\"color: black; background-color: rgba(0.0, 0.0, 0.0, 0.5)\" title=\"-3.9316347\"> so</span><div><div style=\"background-color: white; display: flex; white-space: pre\"><span class=\"barcode\"; style=\"color: black; background-color: rgba(0.0, 0.0, 0.0, 0.5)\" title=\"-3.9316347\"> much</span><div><div style=\"background-color: white; display: flex; white-space: pre\"><span class=\"barcode\"; style=\"color: black; background-color: rgba(0.0, 0.0, 0.0, 0.5)\" title=\"-3.9316347\">.</span><div>"
      ],
      "text/plain": [
       "<IPython.core.display.HTML object>"
      ]
     },
     "metadata": {},
     "output_type": "display_data"
    },
    {
     "name": "stdout",
     "output_type": "stream",
     "text": [
      "not found\n",
      "[6]\n"
     ]
    },
    {
     "data": {
      "text/html": [
       "<div style=\"background-color: white; display: flex; white-space: pre\"><span class=\"barcode\"; style=\"color: black; background-color: rgba(247.0, 251.0, 255.0, 0.5)\" title=\"13.174173\"> W</span><div><div style=\"background-color: white; display: flex; white-space: pre\"><span class=\"barcode\"; style=\"color: black; background-color: rgba(8.0, 55.24705882352941, 117.7607843137255, 0.5)\" title=\"41.94195\">ow</span><div><div style=\"background-color: white; display: flex; white-space: pre\"><span class=\"barcode\"; style=\"color: black; background-color: rgba(34.29411764705883, 114.29411764705881, 181.66666666666669, 0.5)\" title=\"35.282913\"> this</span><div><div style=\"background-color: white; display: flex; white-space: pre\"><span class=\"barcode\"; style=\"color: black; background-color: rgba(8.0, 48.0, 107.0, 0.5)\" title=\"42.814865\"> movie</span><div><div style=\"background-color: white; display: flex; white-space: pre\"><span class=\"barcode\"; style=\"color: black; background-color: rgba(144.60000000000002, 194.64313725490197, 222.10980392156864, 0.5)\" title=\"25.217016\"> is</span><div><div style=\"background-color: white; display: flex; white-space: pre\"><span class=\"barcode\"; style=\"color: black; background-color: rgba(30.843137254901965, 110.2392156862745, 178.843137254902, 0.5)\" title=\"35.73617\"> terrible</span><div><div style=\"background-color: white; display: flex; white-space: pre\"><span class=\"barcode\"; style=\"color: black; background-color: rgba(25.35294117647059, 103.21176470588235, 173.3529411764706, 0.5)\" title=\"36.51646\">.</span><div>"
      ],
      "text/plain": [
       "<IPython.core.display.HTML object>"
      ]
     },
     "metadata": {},
     "output_type": "display_data"
    },
    {
     "data": {
      "text/html": [
       "<div style=\"background-color: white; display: flex; white-space: pre\"><span class=\"barcode\"; style=\"color: black; background-color: rgba(0.0, 0.0, 0.0, 0.5)\" title=\"35.73617\"> W</span><div><div style=\"background-color: white; display: flex; white-space: pre\"><span class=\"barcode\"; style=\"color: black; background-color: rgba(0.0, 0.0, 0.0, 0.5)\" title=\"35.73617\">ow</span><div><div style=\"background-color: white; display: flex; white-space: pre\"><span class=\"barcode\"; style=\"color: black; background-color: rgba(0.0, 0.0, 0.0, 0.5)\" title=\"35.73617\"> this</span><div><div style=\"background-color: white; display: flex; white-space: pre\"><span class=\"barcode\"; style=\"color: black; background-color: rgba(0.0, 0.0, 0.0, 0.5)\" title=\"35.73617\"> movie</span><div><div style=\"background-color: white; display: flex; white-space: pre\"><span class=\"barcode\"; style=\"color: black; background-color: rgba(0.0, 0.0, 0.0, 0.5)\" title=\"35.73617\"> is</span><div><div style=\"background-color: white; display: flex; white-space: pre\"><span class=\"barcode\"; style=\"color: black; background-color: rgba(0.0, 0.0, 0.0, 0.5)\" title=\"35.73617\"> terrible</span><div><div style=\"background-color: white; display: flex; white-space: pre\"><span class=\"barcode\"; style=\"color: black; background-color: rgba(0.0, 0.0, 0.0, 0.5)\" title=\"35.73617\">.</span><div>"
      ],
      "text/plain": [
       "<IPython.core.display.HTML object>"
      ]
     },
     "metadata": {},
     "output_type": "display_data"
    }
   ],
   "source": [
    "# path = '/home/waree/elk-reporters/huggyllama/llama-13b/sethapun/imdb_misspelled_0/llama13b-imdb0/reporters'\n",
    "path = '/mnt/ssd-1/spar/jon/elk-reporters/gpt2/imdb/agitated-driscoll/reporters'\n",
    "\n",
    "def extract_sentences(text):\n",
    "    sentences = re.split(r'(?<!\\w\\.\\w.)(?<![A-Z][a-z]\\.)(?<=\\.|\\?)\\s', text)\n",
    "    return [sentence for sentence in sentences if sentence != '']\n",
    "\n",
    "def render_sentence(reporter, sentence):\n",
    "    json_file = 'credences.json'\n",
    "    try:\n",
    "        credence_records = json.load(open(json_file, 'r'))\n",
    "    except:\n",
    "        credence_records = []\n",
    "\n",
    "    for record in credence_records:\n",
    "        if record['sentence'] == sentence and record['reporter_path'] == reporter.path:\n",
    "            print('found')\n",
    "            return record\n",
    "    print('not found')\n",
    "\n",
    "    input_ids = tokenizer.encode(sentence, return_tensors=\"pt\", add_special_tokens=False)\n",
    "    # get the indexes of the full stops\n",
    "    words = tokenizer.convert_ids_to_tokens(input_ids[0])\n",
    "    punct_indexes = [i for i, x in enumerate(words) if x == \".\"]\n",
    "    outputs = model(input_ids, output_hidden_states=True)\n",
    "    reporter_weights = reporter.weights\n",
    "    hidden_states = outputs.hidden_states\n",
    "    # print(hidden_states[0].shape)\n",
    "    # print(len(hidden_states))\n",
    "    cat_hidden_states = torch.cat(hidden_states[:-1], dim=0)\n",
    "    # Use einsum to do multiplication \n",
    "    result = torch.einsum('bse,be->bs', cat_hidden_states, reporter_weights)\n",
    "    # print(result[0])\n",
    "    # print(result.shape)\n",
    "\n",
    "    # sigmoid_result = torch.sigmoid(result)\n",
    "    # softmax_result = torch.softmax(result, dim = -1)\n",
    "    torch.set_printoptions(precision=1)\n",
    "    credences = result.detach().numpy()[-1] # last layer\n",
    "\n",
    "    # for every punct_index, get punct_index - 1.\n",
    "    # get the credence for that index, and copy it until the previous punct_index + 1.\n",
    "    sentencewise_credence = credences.copy()\n",
    "    print(punct_indexes)\n",
    "    windows = [(-1, punct_indexes[0])] + [(punct_indexes[i-1], punct_indexes[i]) for i in range(1, len(punct_indexes))]\n",
    "    for a, b in windows:\n",
    "        last_token_credence = sentencewise_credence[b-1]\n",
    "        sentencewise_credence[a+1:b+1] = last_token_credence\n",
    "\n",
    "    # print(words, credences[-1])\n",
    "    colored_string = colorize(words, credences)\n",
    "    rendered_sentencewise = colorize(words, sentencewise_credence)\n",
    "\n",
    "    # write output to json: reporter_desc, sentence, credences\n",
    "    credence_record = {\n",
    "        'reporter_path': reporter.path,\n",
    "        'sentence': sentence,\n",
    "        'credences': credences.tolist(),\n",
    "        'rendered': colored_string,\n",
    "        'rendered_sentencewise': rendered_sentencewise\n",
    "    }\n",
    "    # write to json\n",
    "    credence_records.append(credence_record)\n",
    "    \n",
    "    with open(json_file, 'w') as f:\n",
    "        json.dump(credence_records, f, indent=4)\n",
    "\n",
    "    return credence_record\n",
    "    \n",
    "def viz(reporter, sentence, sentence_level=False):\n",
    "    record = render_sentence(reporter, sentence)\n",
    "    display(HTML(record['rendered']))\n",
    "    display(HTML(record['rendered_sentencewise']))\n",
    "\n",
    "reporter = Reporter.from_path(reporter_paths[0][0])\n",
    "\n",
    "viz(reporter, \"I love this movie so much.\")\n",
    "viz(reporter, \"Wow this movie is terrible.\")\n",
    "\n"
   ]
  },
  {
   "cell_type": "code",
   "execution_count": 52,
   "metadata": {},
   "outputs": [
    {
     "name": "stdout",
     "output_type": "stream",
     "text": [
      "tensor([[  319,  1380,  2878,   898, 29878,   291, 20374, 30713,   655, 30312,\n",
      "         29873, 30184, 30176, 29895, 31036,   299,   374, 30184, 29876, 29914,\n",
      "         29936,   715,  1380,  2878,   898,  2849, 29897,   338,   385,  2894,\n",
      "          1808,  1476,   297,   278,  9101,   310,  1556,   321,  2679,   653,\n",
      "          4769, 29892,  1316,   408, 15006, 29892, 18577,   322, 26933, 29875,\n",
      "         29889]])\n",
      "['▁A', '▁mit', 'och', 'ond', 'r', 'ion', '▁(/', 'ˌ', 'ma', 'ɪ', 't', 'ə', 'ˈ', 'k', 'ɒ', 'nd', 'ri', 'ə', 'n', '/', ';', '▁pl', '▁mit', 'och', 'ond', 'ria', ')', '▁is', '▁an', '▁organ', 'elle', '▁found', '▁in', '▁the', '▁cells', '▁of', '▁most', '▁e', 'uk', 'ary', 'otes', ',', '▁such', '▁as', '▁animals', ',', '▁plants', '▁and', '▁fung', 'i', '.']\n",
      "[50]\n",
      "tensor([[  341,  2049,   305,   898,  2849,   505,   263,  3765,  3813, 10800,\n",
      "          3829,   322,   671, 14911,   711,   293,  4613, 12232,   304,  5706,\n",
      "           594,   264,   359,   457,  3367,   561, 25715,   403,   313,  1299,\n",
      "         29925,   511,   607,   338,  1304, 10106,   278,  3038,   408,   263,\n",
      "          2752,   310, 22233,  5864, 29889]])\n",
      "['▁M', 'ito', 'ch', 'ond', 'ria', '▁have', '▁a', '▁double', '▁memb', 'rane', '▁structure', '▁and', '▁use', '▁aer', 'ob', 'ic', '▁resp', 'iration', '▁to', '▁generate', '▁ad', 'en', 'os', 'ine', '▁tri', 'ph', 'osph', 'ate', '▁(', 'AT', 'P', '),', '▁which', '▁is', '▁used', '▁throughout', '▁the', '▁cell', '▁as', '▁a', '▁source', '▁of', '▁chemical', '▁energy', '.']\n",
      "[44]\n",
      "tensor([[ 2688,   892, 10943,   491, 10537,  1005,   476,  5873,   492,  3946,\n",
      "           297, 29871, 29896, 29947, 29945, 29955,   297,   278, 27081,   653,\n",
      "          2301,  7799,   310, 17564, 29879, 29889]])\n",
      "['▁They', '▁were', '▁discovered', '▁by', '▁Albert', '▁von', '▁K', 'öl', 'li', 'ker', '▁in', '▁', '1', '8', '5', '7', '▁in', '▁the', '▁volunt', 'ary', '▁mus', 'cles', '▁of', '▁insect', 's', '.']\n",
      "[25]\n",
      "tensor([[  450,  1840,  1380,  2878,   898, 29878,   291,   471,  1302,  1312,\n",
      "           491,  8965,   350,  8395,   297, 29871, 29896, 29947, 29929, 29947,\n",
      "         29889]])\n",
      "['▁The', '▁term', '▁mit', 'och', 'ond', 'r', 'ion', '▁was', '▁co', 'ined', '▁by', '▁Carl', '▁B', 'enda', '▁in', '▁', '1', '8', '9', '8', '.']\n",
      "[20]\n",
      "tensor([[  450,  1380,  2878,   898, 29878,   291,   338,  5972,   368, 25985,\n",
      "         17514,   278,   376, 13519,  8697,   310,   278,  3038,   613,   263,\n",
      "         16549,  1302,  1312,   491, 14920,  4073,   446, 29894,  2784,   297,\n",
      "           263, 29871, 29896, 29929, 29945, 29955,  4274,   310,   278,  1021,\n",
      "          1024, 29889]])\n",
      "['▁The', '▁mit', 'och', 'ond', 'r', 'ion', '▁is', '▁popular', 'ly', '▁nick', 'named', '▁the', '▁\"', 'power', 'house', '▁of', '▁the', '▁cell', '\",', '▁a', '▁phrase', '▁co', 'ined', '▁by', '▁Philip', '▁Sie', 'ke', 'v', 'itz', '▁in', '▁a', '▁', '1', '9', '5', '7', '▁article', '▁of', '▁the', '▁same', '▁name', '.']\n",
      "[41]\n"
     ]
    }
   ],
   "source": [
    "reporters = [Reporter.from_path(path) for path, desc in reporter_paths]\n",
    "\n",
    "sentences = extract_sentences(mitochrondria_text)\n",
    "\n",
    "for reporter in reporters[2:3]:\n",
    "    for sentence in sentences:\n",
    "        # print(sentence)\n",
    "        # print(tokenizer.encode(sentence))\n",
    "        # input_ids=tokenizer.encode(sentence)\n",
    "        # print(tokenizer.convert_ids_to_tokens(input_ids[0]))\n",
    "        # viz(reporter, sentence)\n",
    "        \n"
   ]
  },
  {
   "cell_type": "code",
   "execution_count": 70,
   "metadata": {},
   "outputs": [
    {
     "name": "stdout",
     "output_type": "stream",
     "text": [
      "A mitochondrion (/ˌmaɪtəˈkɒndriən/; pl mitochondria) is an organelle found in the cells of most eukaryotes, such as animals, plants and fungi. Mitochondria have a double membrane structure and use aerobic respiration to generate adenosine triphosphate (ATP), which is used throughout the cell as a source of chemical energy. They were discovered by Albert von Kölliker in 1857 in the voluntary muscles of insects. The term mitochondrion was coined by Carl Benda in 1898. The mitochondrion is popularly nicknamed the \"powerhouse of the cell\", a phrase coined by Philip Siekevitz in a 1957 article of the same name.\n",
      "found\n"
     ]
    },
    {
     "data": {
      "text/html": [
       "<div style=\"background-color: white; display: flex; white-space: pre\"><span class=\"barcode\"; style=\"color: black; background-color: rgba(115.80000000000003, 178.83137254901965, 215.89803921568628, 0.5)\" title=\"-1.7054449\"> A</span><div><div style=\"background-color: white; display: flex; white-space: pre\"><span class=\"barcode\"; style=\"color: black; background-color: rgba(247.0, 251.0, 255.0, 0.5)\" title=\"-14.330379\"> mit</span><div><div style=\"background-color: white; display: flex; white-space: pre\"><span class=\"barcode\"; style=\"color: black; background-color: rgba(198.56470588235297, 219.37647058823526, 239.18823529411765, 0.5)\" title=\"-7.8236995\">och</span><div><div style=\"background-color: white; display: flex; white-space: pre\"><span class=\"barcode\"; style=\"color: black; background-color: rgba(183.8823529411765, 212.99999999999997, 234.05882352941177, 0.5)\" title=\"-6.538554\">ond</span><div><div style=\"background-color: white; display: flex; white-space: pre\"><span class=\"barcode\"; style=\"color: black; background-color: rgba(190.15686274509804, 215.66666666666666, 236.25490196078434, 0.5)\" title=\"-7.0207405\">r</span><div><div style=\"background-color: white; display: flex; white-space: pre\"><span class=\"barcode\"; style=\"color: black; background-color: rgba(180.11764705882354, 211.39999999999998, 232.74117647058821, 0.5)\" title=\"-6.1989865\">ion</span><div><div style=\"background-color: white; display: flex; white-space: pre\"><span class=\"barcode\"; style=\"color: black; background-color: rgba(40.50588235294118, 120.50588235294117, 184.86666666666667, 0.5)\" title=\"4.7697654\"> (/</span><div><div style=\"background-color: white; display: flex; white-space: pre\"><span class=\"barcode\"; style=\"color: black; background-color: rgba(27.70588235294118, 106.2235294117647, 175.7058823529412, 0.5)\" title=\"6.1290035\">ˌ</span><div><div style=\"background-color: white; display: flex; white-space: pre\"><span class=\"barcode\"; style=\"color: black; background-color: rgba(27.70588235294118, 106.2235294117647, 175.7058823529412, 0.5)\" title=\"6.1793556\">ma</span><div><div style=\"background-color: white; display: flex; white-space: pre\"><span class=\"barcode\"; style=\"color: black; background-color: rgba(50.85882352941177, 130.85882352941175, 190.2, 0.5)\" title=\"3.6855624\">ɪ</span><div><div style=\"background-color: white; display: flex; white-space: pre\"><span class=\"barcode\"; style=\"color: black; background-color: rgba(19.07843137254902, 95.18039215686274, 167.078431372549, 0.5)\" title=\"7.3352966\">t</span><div><div style=\"background-color: white; display: flex; white-space: pre\"><span class=\"barcode\"; style=\"color: black; background-color: rgba(59.14117647058824, 139.14117647058822, 194.46666666666667, 0.5)\" title=\"2.9059463\">ə</span><div><div style=\"background-color: white; display: flex; white-space: pre\"><span class=\"barcode\"; style=\"color: black; background-color: rgba(71.62745098039215, 149.84313725490193, 200.19607843137257, 0.5)\" title=\"1.7392366\">ˈ</span><div><div style=\"background-color: white; display: flex; white-space: pre\"><span class=\"barcode\"; style=\"color: black; background-color: rgba(84.49019607843138, 158.62745098039215, 205.2156862745098, 0.5)\" title=\"0.6477129\">k</span><div><div style=\"background-color: white; display: flex; white-space: pre\"><span class=\"barcode\"; style=\"color: black; background-color: rgba(49.82352941176471, 129.8235294117647, 189.66666666666669, 0.5)\" title=\"3.8266919\">ɒ</span><div><div style=\"background-color: white; display: flex; white-space: pre\"><span class=\"barcode\"; style=\"color: black; background-color: rgba(89.63529411764706, 162.14117647058822, 207.2235294117647, 0.5)\" title=\"0.23399973\">nd</span><div><div style=\"background-color: white; display: flex; white-space: pre\"><span class=\"barcode\"; style=\"color: black; background-color: rgba(38.43529411764706, 118.43529411764705, 183.8, 0.5)\" title=\"4.9483843\">ri</span><div><div style=\"background-color: white; display: flex; white-space: pre\"><span class=\"barcode\"; style=\"color: black; background-color: rgba(28.490196078431374, 107.22745098039215, 176.49019607843138, 0.5)\" title=\"6.036222\">ə</span><div><div style=\"background-color: white; display: flex; white-space: pre\"><span class=\"barcode\"; style=\"color: black; background-color: rgba(38.43529411764706, 118.43529411764705, 183.8, 0.5)\" title=\"4.9701753\">n</span><div><div style=\"background-color: white; display: flex; white-space: pre\"><span class=\"barcode\"; style=\"color: black; background-color: rgba(8.0, 66.63529411764705, 134.67058823529413, 0.5)\" title=\"10.203989\">/</span><div><div style=\"background-color: white; display: flex; white-space: pre\"><span class=\"barcode\"; style=\"color: black; background-color: rgba(50.85882352941177, 130.85882352941175, 190.2, 0.5)\" title=\"3.6987407\">;</span><div><div style=\"background-color: white; display: flex; white-space: pre\"><span class=\"barcode\"; style=\"color: black; background-color: rgba(61.21176470588239, 141.21176470588236, 195.53333333333336, 0.5)\" title=\"2.6697276\"> pl</span><div><div style=\"background-color: white; display: flex; white-space: pre\"><span class=\"barcode\"; style=\"color: black; background-color: rgba(135.0, 189.37254901960785, 220.0392156862745, 0.5)\" title=\"-2.8795485\"> mit</span><div><div style=\"background-color: white; display: flex; white-space: pre\"><span class=\"barcode\"; style=\"color: black; background-color: rgba(101.2117647058824, 170.04705882352943, 211.74117647058827, 0.5)\" title=\"-0.67370594\">och</span><div><div style=\"background-color: white; display: flex; white-space: pre\"><span class=\"barcode\"; style=\"color: black; background-color: rgba(107.8, 174.4392156862745, 214.17254901960786, 0.5)\" title=\"-1.1896924\">ond</span><div><div style=\"background-color: white; display: flex; white-space: pre\"><span class=\"barcode\"; style=\"color: black; background-color: rgba(25.35294117647059, 103.21176470588235, 173.3529411764706, 0.5)\" title=\"6.474964\">ria</span><div><div style=\"background-color: white; display: flex; white-space: pre\"><span class=\"barcode\"; style=\"color: black; background-color: rgba(27.70588235294118, 106.2235294117647, 175.7058823529412, 0.5)\" title=\"6.159657\">)</span><div><div style=\"background-color: white; display: flex; white-space: pre\"><span class=\"barcode\"; style=\"color: black; background-color: rgba(89.63529411764706, 162.14117647058822, 207.2235294117647, 0.5)\" title=\"0.3267633\"> is</span><div><div style=\"background-color: white; display: flex; white-space: pre\"><span class=\"barcode\"; style=\"color: black; background-color: rgba(70.34117647058824, 148.96470588235294, 199.69411764705882, 0.5)\" title=\"1.7945014\"> an</span><div><div style=\"background-color: white; display: flex; white-space: pre\"><span class=\"barcode\"; style=\"color: black; background-color: rgba(22.215686274509807, 99.19607843137254, 170.2156862745098, 0.5)\" title=\"6.864799\"> organ</span><div><div style=\"background-color: white; display: flex; white-space: pre\"><span class=\"barcode\"; style=\"color: black; background-color: rgba(8.0, 64.56470588235294, 131.59607843137255, 0.5)\" title=\"10.421048\">elle</span><div><div style=\"background-color: white; display: flex; white-space: pre\"><span class=\"barcode\"; style=\"color: black; background-color: rgba(8.0, 79.05882352941175, 153.11764705882354, 0.5)\" title=\"8.952824\"> found</span><div><div style=\"background-color: white; display: flex; white-space: pre\"><span class=\"barcode\"; style=\"color: black; background-color: rgba(29.274509803921593, 108.23137254901964, 177.2745098039216, 0.5)\" title=\"6.0077205\"> in</span><div><div style=\"background-color: white; display: flex; white-space: pre\"><span class=\"barcode\"; style=\"color: black; background-color: rgba(32.411764705882355, 112.24705882352941, 180.41176470588235, 0.5)\" title=\"5.502712\"> the</span><div><div style=\"background-color: white; display: flex; white-space: pre\"><span class=\"barcode\"; style=\"color: black; background-color: rgba(15.941176470588237, 91.16470588235293, 163.94117647058826, 0.5)\" title=\"7.756859\"> cells</span><div><div style=\"background-color: white; display: flex; white-space: pre\"><span class=\"barcode\"; style=\"color: black; background-color: rgba(38.43529411764706, 118.43529411764705, 183.8, 0.5)\" title=\"4.896548\"> of</span><div><div style=\"background-color: white; display: flex; white-space: pre\"><span class=\"barcode\"; style=\"color: black; background-color: rgba(36.364705882352936, 116.36470588235294, 182.73333333333335, 0.5)\" title=\"5.084874\"> most</span><div><div style=\"background-color: white; display: flex; white-space: pre\"><span class=\"barcode\"; style=\"color: black; background-color: rgba(58.10588235294118, 138.10588235294117, 193.93333333333334, 0.5)\" title=\"3.0109644\"> e</span><div><div style=\"background-color: white; display: flex; white-space: pre\"><span class=\"barcode\"; style=\"color: black; background-color: rgba(64.31764705882354, 144.31764705882352, 197.13333333333333, 0.5)\" title=\"2.3575242\">uk</span><div><div style=\"background-color: white; display: flex; white-space: pre\"><span class=\"barcode\"; style=\"color: black; background-color: rgba(46.71764705882353, 126.71764705882353, 188.0666666666667, 0.5)\" title=\"4.1325717\">ary</span><div><div style=\"background-color: white; display: flex; white-space: pre\"><span class=\"barcode\"; style=\"color: black; background-color: rgba(14.372549019607844, 89.15686274509802, 162.37254901960785, 0.5)\" title=\"7.9532647\">otes</span><div><div style=\"background-color: white; display: flex; white-space: pre\"><span class=\"barcode\"; style=\"color: black; background-color: rgba(53.964705882352945, 133.96470588235294, 191.8, 0.5)\" title=\"3.4088342\">,</span><div><div style=\"background-color: white; display: flex; white-space: pre\"><span class=\"barcode\"; style=\"color: black; background-color: rgba(154.20000000000005, 199.9137254901961, 224.18039215686275, 0.5)\" title=\"-4.135578\"> such</span><div><div style=\"background-color: white; display: flex; white-space: pre\"><span class=\"barcode\"; style=\"color: black; background-color: rgba(71.62745098039215, 149.84313725490193, 200.19607843137257, 0.5)\" title=\"1.7193875\"> as</span><div><div style=\"background-color: white; display: flex; white-space: pre\"><span class=\"barcode\"; style=\"color: black; background-color: rgba(17.50980392156863, 93.17254901960783, 165.50980392156865, 0.5)\" title=\"7.5314174\"> animals</span><div><div style=\"background-color: white; display: flex; white-space: pre\"><span class=\"barcode\"; style=\"color: black; background-color: rgba(69.0549019607843, 148.08627450980393, 199.1921568627451, 0.5)\" title=\"1.9634819\">,</span><div><div style=\"background-color: white; display: flex; white-space: pre\"><span class=\"barcode\"; style=\"color: black; background-color: rgba(20.647058823529413, 97.18823529411763, 168.64705882352942, 0.5)\" title=\"7.085301\"> plants</span><div><div style=\"background-color: white; display: flex; white-space: pre\"><span class=\"barcode\"; style=\"color: black; background-color: rgba(63.28235294117648, 143.28235294117647, 196.6, 0.5)\" title=\"2.5010045\"> and</span><div><div style=\"background-color: white; display: flex; white-space: pre\"><span class=\"barcode\"; style=\"color: black; background-color: rgba(42.576470588235296, 122.5764705882353, 185.93333333333334, 0.5)\" title=\"4.4703894\"> fung</span><div><div style=\"background-color: white; display: flex; white-space: pre\"><span class=\"barcode\"; style=\"color: black; background-color: rgba(8.0, 48.0, 107.0, 0.5)\" title=\"12.053834\">i</span><div><div style=\"background-color: white; display: flex; white-space: pre\"><span class=\"barcode\"; style=\"color: black; background-color: rgba(96.06666666666668, 166.53333333333333, 209.73333333333332, 0.5)\" title=\"-0.24116527\">.</span><div><div style=\"background-color: white; display: flex; white-space: pre\"><span class=\"barcode\"; style=\"color: black; background-color: rgba(72.91372549019609, 150.72156862745098, 200.69803921568626, 0.5)\" title=\"1.6171528\"> M</span><div><div style=\"background-color: white; display: flex; white-space: pre\"><span class=\"barcode\"; style=\"color: black; background-color: rgba(111.0, 176.19607843137257, 214.86274509803923, 0.5)\" title=\"-1.3221133\">ito</span><div><div style=\"background-color: white; display: flex; white-space: pre\"><span class=\"barcode\"; style=\"color: black; background-color: rgba(79.3450980392157, 155.11372549019606, 203.2078431372549, 0.5)\" title=\"1.0883502\">ch</span><div><div style=\"background-color: white; display: flex; white-space: pre\"><span class=\"barcode\"; style=\"color: black; background-color: rgba(117.40000000000002, 179.70980392156864, 216.24313725490197, 0.5)\" title=\"-1.7564234\">ond</span><div><div style=\"background-color: white; display: flex; white-space: pre\"><span class=\"barcode\"; style=\"color: black; background-color: rgba(56.03529411764706, 136.03529411764706, 192.86666666666667, 0.5)\" title=\"3.1808903\">ria</span><div><div style=\"background-color: white; display: flex; white-space: pre\"><span class=\"barcode\"; style=\"color: black; background-color: rgba(78.05882352941177, 154.23529411764704, 202.7058823529412, 0.5)\" title=\"1.1841564\"> have</span><div><div style=\"background-color: white; display: flex; white-space: pre\"><span class=\"barcode\"; style=\"color: black; background-color: rgba(75.48627450980392, 152.478431372549, 201.7019607843137, 0.5)\" title=\"1.3670565\"> a</span><div><div style=\"background-color: white; display: flex; white-space: pre\"><span class=\"barcode\"; style=\"color: black; background-color: rgba(42.576470588235296, 122.5764705882353, 185.93333333333334, 0.5)\" title=\"4.4964676\"> double</span><div><div style=\"background-color: white; display: flex; white-space: pre\"><span class=\"barcode\"; style=\"color: black; background-color: rgba(78.05882352941177, 154.23529411764704, 202.7058823529412, 0.5)\" title=\"1.2458884\"> memb</span><div><div style=\"background-color: white; display: flex; white-space: pre\"><span class=\"barcode\"; style=\"color: black; background-color: rgba(42.576470588235296, 122.5764705882353, 185.93333333333334, 0.5)\" title=\"4.5662966\">rane</span><div><div style=\"background-color: white; display: flex; white-space: pre\"><span class=\"barcode\"; style=\"color: black; background-color: rgba(37.4, 117.39999999999999, 183.26666666666665, 0.5)\" title=\"5.051604\"> structure</span><div><div style=\"background-color: white; display: flex; white-space: pre\"><span class=\"barcode\"; style=\"color: black; background-color: rgba(26.137254901960787, 104.2156862745098, 174.13725490196077, 0.5)\" title=\"6.425322\"> and</span><div><div style=\"background-color: white; display: flex; white-space: pre\"><span class=\"barcode\"; style=\"color: black; background-color: rgba(112.60000000000001, 177.0745098039216, 215.2078431372549, 0.5)\" title=\"-1.4284208\"> use</span><div><div style=\"background-color: white; display: flex; white-space: pre\"><span class=\"barcode\"; style=\"color: black; background-color: rgba(115.80000000000003, 178.83137254901965, 215.89803921568628, 0.5)\" title=\"-1.6324239\"> aer</span><div><div style=\"background-color: white; display: flex; white-space: pre\"><span class=\"barcode\"; style=\"color: black; background-color: rgba(78.05882352941177, 154.23529411764704, 202.7058823529412, 0.5)\" title=\"1.160899\">ob</span><div><div style=\"background-color: white; display: flex; white-space: pre\"><span class=\"barcode\"; style=\"color: black; background-color: rgba(107.8, 174.4392156862745, 214.17254901960786, 0.5)\" title=\"-1.1545686\">ic</span><div><div style=\"background-color: white; display: flex; white-space: pre\"><span class=\"barcode\"; style=\"color: black; background-color: rgba(167.5686274509804, 206.06666666666663, 228.34901960784316, 0.5)\" title=\"-5.151809\"> resp</span><div><div style=\"background-color: white; display: flex; white-space: pre\"><span class=\"barcode\"; style=\"color: black; background-color: rgba(119.0, 180.58823529411765, 216.58823529411765, 0.5)\" title=\"-1.8369067\">iration</span><div><div style=\"background-color: white; display: flex; white-space: pre\"><span class=\"barcode\"; style=\"color: black; background-color: rgba(96.06666666666668, 166.53333333333333, 209.73333333333332, 0.5)\" title=\"-0.25461042\"> to</span><div><div style=\"background-color: white; display: flex; white-space: pre\"><span class=\"barcode\"; style=\"color: black; background-color: rgba(63.28235294117648, 143.28235294117647, 196.6, 0.5)\" title=\"2.4589713\"> generate</span><div><div style=\"background-color: white; display: flex; white-space: pre\"><span class=\"barcode\"; style=\"color: black; background-color: rgba(178.86274509803923, 210.86666666666665, 232.30196078431374, 0.5)\" title=\"-6.106561\"> ad</span><div><div style=\"background-color: white; display: flex; white-space: pre\"><span class=\"barcode\"; style=\"color: black; background-color: rgba(83.20392156862745, 157.74901960784314, 204.71372549019608, 0.5)\" title=\"0.7542422\">en</span><div><div style=\"background-color: white; display: flex; white-space: pre\"><span class=\"barcode\"; style=\"color: black; background-color: rgba(109.40000000000002, 175.31764705882352, 214.5176470588235, 0.5)\" title=\"-1.2996075\">os</span><div><div style=\"background-color: white; display: flex; white-space: pre\"><span class=\"barcode\"; style=\"color: black; background-color: rgba(120.60000000000001, 181.46666666666667, 216.9333333333333, 0.5)\" title=\"-2.0047932\">ine</span><div><div style=\"background-color: white; display: flex; white-space: pre\"><span class=\"barcode\"; style=\"color: black; background-color: rgba(123.8, 183.2235294117647, 217.6235294117647, 0.5)\" title=\"-2.1598587\"> tri</span><div><div style=\"background-color: white; display: flex; white-space: pre\"><span class=\"barcode\"; style=\"color: black; background-color: rgba(205.34117647058827, 223.8941176470588, 241.4470588235294, 0.5)\" title=\"-8.741942\">ph</span><div><div style=\"background-color: white; display: flex; white-space: pre\"><span class=\"barcode\"; style=\"color: black; background-color: rgba(70.34117647058824, 148.96470588235294, 199.69411764705882, 0.5)\" title=\"1.823796\">osph</span><div><div style=\"background-color: white; display: flex; white-space: pre\"><span class=\"barcode\"; style=\"color: black; background-color: rgba(29.274509803921593, 108.23137254901964, 177.2745098039216, 0.5)\" title=\"5.9535036\">ate</span><div><div style=\"background-color: white; display: flex; white-space: pre\"><span class=\"barcode\"; style=\"color: black; background-color: rgba(127.0, 184.98039215686276, 218.31372549019608, 0.5)\" title=\"-2.406317\"> (</span><div><div style=\"background-color: white; display: flex; white-space: pre\"><span class=\"barcode\"; style=\"color: black; background-color: rgba(138.20000000000002, 191.12941176470588, 220.7294117647059, 0.5)\" title=\"-3.1017015\">AT</span><div><div style=\"background-color: white; display: flex; white-space: pre\"><span class=\"barcode\"; style=\"color: black; background-color: rgba(8.0, 48.0, 107.0, 0.5)\" title=\"12.107107\">P</span><div><div style=\"background-color: white; display: flex; white-space: pre\"><span class=\"barcode\"; style=\"color: black; background-color: rgba(41.54117647058824, 121.54117647058823, 185.4, 0.5)\" title=\"4.587323\">),</span><div><div style=\"background-color: white; display: flex; white-space: pre\"><span class=\"barcode\"; style=\"color: black; background-color: rgba(41.54117647058824, 121.54117647058823, 185.4, 0.5)\" title=\"4.5746174\"> which</span><div><div style=\"background-color: white; display: flex; white-space: pre\"><span class=\"barcode\"; style=\"color: black; background-color: rgba(51.894117647058835, 131.8941176470588, 190.73333333333335, 0.5)\" title=\"3.5566757\"> is</span><div><div style=\"background-color: white; display: flex; white-space: pre\"><span class=\"barcode\"; style=\"color: black; background-color: rgba(32.411764705882355, 112.24705882352941, 180.41176470588235, 0.5)\" title=\"5.529002\"> used</span><div><div style=\"background-color: white; display: flex; white-space: pre\"><span class=\"barcode\"; style=\"color: black; background-color: rgba(97.3529411764706, 167.41176470588235, 210.23529411764707, 0.5)\" title=\"-0.35582143\"> throughout</span><div><div style=\"background-color: white; display: flex; white-space: pre\"><span class=\"barcode\"; style=\"color: black; background-color: rgba(75.48627450980392, 152.478431372549, 201.7019607843137, 0.5)\" title=\"1.4613245\"> the</span><div><div style=\"background-color: white; display: flex; white-space: pre\"><span class=\"barcode\"; style=\"color: black; background-color: rgba(23.000000000000004, 100.2, 171.00000000000003, 0.5)\" title=\"6.82869\"> cell</span><div><div style=\"background-color: white; display: flex; white-space: pre\"><span class=\"barcode\"; style=\"color: black; background-color: rgba(32.411764705882355, 112.24705882352941, 180.41176470588235, 0.5)\" title=\"5.556386\"> as</span><div><div style=\"background-color: white; display: flex; white-space: pre\"><span class=\"barcode\"; style=\"color: black; background-color: rgba(56.03529411764706, 136.03529411764706, 192.86666666666667, 0.5)\" title=\"3.1447148\"> a</span><div><div style=\"background-color: white; display: flex; white-space: pre\"><span class=\"barcode\"; style=\"color: black; background-color: rgba(75.48627450980392, 152.478431372549, 201.7019607843137, 0.5)\" title=\"1.4231491\"> source</span><div><div style=\"background-color: white; display: flex; white-space: pre\"><span class=\"barcode\"; style=\"color: black; background-color: rgba(83.20392156862745, 157.74901960784314, 204.71372549019608, 0.5)\" title=\"0.80056584\"> of</span><div><div style=\"background-color: white; display: flex; white-space: pre\"><span class=\"barcode\"; style=\"color: black; background-color: rgba(107.8, 174.4392156862745, 214.17254901960786, 0.5)\" title=\"-1.1203991\"> chemical</span><div><div style=\"background-color: white; display: flex; white-space: pre\"><span class=\"barcode\"; style=\"color: black; background-color: rgba(20.647058823529413, 97.18823529411763, 168.64705882352942, 0.5)\" title=\"7.12861\"> energy</span><div><div style=\"background-color: white; display: flex; white-space: pre\"><span class=\"barcode\"; style=\"color: black; background-color: rgba(81.91764705882353, 156.87058823529412, 204.21176470588233, 0.5)\" title=\"0.859028\">.</span><div><div style=\"background-color: white; display: flex; white-space: pre\"><span class=\"barcode\"; style=\"color: black; background-color: rgba(33.25882352941177, 113.25882352941177, 181.13333333333335, 0.5)\" title=\"5.401953\"> They</span><div><div style=\"background-color: white; display: flex; white-space: pre\"><span class=\"barcode\"; style=\"color: black; background-color: rgba(84.49019607843138, 158.62745098039215, 205.2156862745098, 0.5)\" title=\"0.74503577\"> were</span><div><div style=\"background-color: white; display: flex; white-space: pre\"><span class=\"barcode\"; style=\"color: black; background-color: rgba(37.4, 117.39999999999999, 183.26666666666665, 0.5)\" title=\"4.9822164\"> discovered</span><div><div style=\"background-color: white; display: flex; white-space: pre\"><span class=\"barcode\"; style=\"color: black; background-color: rgba(125.40000000000002, 184.10196078431375, 217.9686274509804, 0.5)\" title=\"-2.3182652\"> by</span><div><div style=\"background-color: white; display: flex; white-space: pre\"><span class=\"barcode\"; style=\"color: black; background-color: rgba(139.79999999999998, 192.0078431372549, 221.07450980392156, 0.5)\" title=\"-3.2793596\"> Albert</span><div><div style=\"background-color: white; display: flex; white-space: pre\"><span class=\"barcode\"; style=\"color: black; background-color: rgba(102.49803921568628, 170.9254901960784, 212.24313725490194, 0.5)\" title=\"-0.79379237\"> von</span><div><div style=\"background-color: white; display: flex; white-space: pre\"><span class=\"barcode\"; style=\"color: black; background-color: rgba(105.07058823529412, 172.68235294117648, 213.24705882352941, 0.5)\" title=\"-0.94585884\"> K</span><div><div style=\"background-color: white; display: flex; white-space: pre\"><span class=\"barcode\"; style=\"color: black; background-color: rgba(106.35686274509804, 173.5607843137255, 213.74901960784314, 0.5)\" title=\"-1.0572276\">öl</span><div><div style=\"background-color: white; display: flex; white-space: pre\"><span class=\"barcode\"; style=\"color: black; background-color: rgba(141.40000000000003, 192.88627450980394, 221.41960784313724, 0.5)\" title=\"-3.3699832\">li</span><div><div style=\"background-color: white; display: flex; white-space: pre\"><span class=\"barcode\"; style=\"color: black; background-color: rgba(29.274509803921593, 108.23137254901964, 177.2745098039216, 0.5)\" title=\"5.957109\">ker</span><div><div style=\"background-color: white; display: flex; white-space: pre\"><span class=\"barcode\"; style=\"color: black; background-color: rgba(36.364705882352936, 116.36470588235294, 182.73333333333335, 0.5)\" title=\"5.182272\"> in</span><div><div style=\"background-color: white; display: flex; white-space: pre\"><span class=\"barcode\"; style=\"color: black; background-color: rgba(8.0, 79.05882352941175, 153.11764705882354, 0.5)\" title=\"8.996238\"> </span><div><div style=\"background-color: white; display: flex; white-space: pre\"><span class=\"barcode\"; style=\"color: black; background-color: rgba(218.14117647058825, 232.42745098039214, 245.71372549019608, 0.5)\" title=\"-10.441205\">1</span><div><div style=\"background-color: white; display: flex; white-space: pre\"><span class=\"barcode\"; style=\"color: black; background-color: rgba(67.76862745098039, 147.20784313725488, 198.6901960784314, 0.5)\" title=\"2.0363486\">8</span><div><div style=\"background-color: white; display: flex; white-space: pre\"><span class=\"barcode\"; style=\"color: black; background-color: rgba(151.0, 198.15686274509804, 223.49019607843138, 0.5)\" title=\"-3.9981406\">5</span><div><div style=\"background-color: white; display: flex; white-space: pre\"><span class=\"barcode\"; style=\"color: black; background-color: rgba(19.07843137254902, 95.18039215686274, 167.078431372549, 0.5)\" title=\"7.270917\">7</span><div><div style=\"background-color: white; display: flex; white-space: pre\"><span class=\"barcode\"; style=\"color: black; background-color: rgba(75.48627450980392, 152.478431372549, 201.7019607843137, 0.5)\" title=\"1.4244245\"> in</span><div><div style=\"background-color: white; display: flex; white-space: pre\"><span class=\"barcode\"; style=\"color: black; background-color: rgba(51.894117647058835, 131.8941176470588, 190.73333333333335, 0.5)\" title=\"3.5780377\"> the</span><div><div style=\"background-color: white; display: flex; white-space: pre\"><span class=\"barcode\"; style=\"color: black; background-color: rgba(105.07058823529412, 172.68235294117648, 213.24705882352941, 0.5)\" title=\"-0.918781\"> volunt</span><div><div style=\"background-color: white; display: flex; white-space: pre\"><span class=\"barcode\"; style=\"color: black; background-color: rgba(76.77254901960785, 153.35686274509806, 202.20392156862746, 0.5)\" title=\"1.3662577\">ary</span><div><div style=\"background-color: white; display: flex; white-space: pre\"><span class=\"barcode\"; style=\"color: black; background-color: rgba(89.63529411764706, 162.14117647058822, 207.2235294117647, 0.5)\" title=\"0.24258184\"> mus</span><div><div style=\"background-color: white; display: flex; white-space: pre\"><span class=\"barcode\"; style=\"color: black; background-color: rgba(76.77254901960785, 153.35686274509806, 202.20392156862746, 0.5)\" title=\"1.365322\">cles</span><div><div style=\"background-color: white; display: flex; white-space: pre\"><span class=\"barcode\"; style=\"color: black; background-color: rgba(105.07058823529412, 172.68235294117648, 213.24705882352941, 0.5)\" title=\"-0.91533405\"> of</span><div><div style=\"background-color: white; display: flex; white-space: pre\"><span class=\"barcode\"; style=\"color: black; background-color: rgba(102.49803921568628, 170.9254901960784, 212.24313725490194, 0.5)\" title=\"-0.786582\"> insect</span><div><div style=\"background-color: white; display: flex; white-space: pre\"><span class=\"barcode\"; style=\"color: black; background-color: rgba(67.76862745098039, 147.20784313725488, 198.6901960784314, 0.5)\" title=\"2.0876167\">s</span><div><div style=\"background-color: white; display: flex; white-space: pre\"><span class=\"barcode\"; style=\"color: black; background-color: rgba(105.07058823529412, 172.68235294117648, 213.24705882352941, 0.5)\" title=\"-0.9997782\">.</span><div><div style=\"background-color: white; display: flex; white-space: pre\"><span class=\"barcode\"; style=\"color: black; background-color: rgba(101.2117647058824, 170.04705882352943, 211.74117647058827, 0.5)\" title=\"-0.6670512\"> The</span><div><div style=\"background-color: white; display: flex; white-space: pre\"><span class=\"barcode\"; style=\"color: black; background-color: rgba(56.03529411764706, 136.03529411764706, 192.86666666666667, 0.5)\" title=\"3.2003279\"> term</span><div><div style=\"background-color: white; display: flex; white-space: pre\"><span class=\"barcode\"; style=\"color: black; background-color: rgba(94.78039215686275, 165.65490196078431, 209.23137254901962, 0.5)\" title=\"-0.17142582\"> mit</span><div><div style=\"background-color: white; display: flex; white-space: pre\"><span class=\"barcode\"; style=\"color: black; background-color: rgba(106.35686274509804, 173.5607843137255, 213.74901960784314, 0.5)\" title=\"-1.0911319\">och</span><div><div style=\"background-color: white; display: flex; white-space: pre\"><span class=\"barcode\"; style=\"color: black; background-color: rgba(96.06666666666668, 166.53333333333333, 209.73333333333332, 0.5)\" title=\"-0.22506134\">ond</span><div><div style=\"background-color: white; display: flex; white-space: pre\"><span class=\"barcode\"; style=\"color: black; background-color: rgba(66.48235294117647, 146.32941176470587, 198.18823529411765, 0.5)\" title=\"2.095275\">r</span><div><div style=\"background-color: white; display: flex; white-space: pre\"><span class=\"barcode\"; style=\"color: black; background-color: rgba(8.0, 72.84705882352941, 143.89411764705883, 0.5)\" title=\"9.57425\">ion</span><div><div style=\"background-color: white; display: flex; white-space: pre\"><span class=\"barcode\"; style=\"color: black; background-color: rgba(41.54117647058824, 121.54117647058823, 185.4, 0.5)\" title=\"4.6606107\"> was</span><div><div style=\"background-color: white; display: flex; white-space: pre\"><span class=\"barcode\"; style=\"color: black; background-color: rgba(49.82352941176471, 129.8235294117647, 189.66666666666669, 0.5)\" title=\"3.7670548\"> co</span><div><div style=\"background-color: white; display: flex; white-space: pre\"><span class=\"barcode\"; style=\"color: black; background-color: rgba(59.14117647058824, 139.14117647058822, 194.46666666666667, 0.5)\" title=\"2.8980253\">ined</span><div><div style=\"background-color: white; display: flex; white-space: pre\"><span class=\"barcode\"; style=\"color: black; background-color: rgba(114.2, 177.9529411764706, 215.55294117647057, 0.5)\" title=\"-1.5895578\"> by</span><div><div style=\"background-color: white; display: flex; white-space: pre\"><span class=\"barcode\"; style=\"color: black; background-color: rgba(138.20000000000002, 191.12941176470588, 220.7294117647059, 0.5)\" title=\"-3.1249597\"> Carl</span><div><div style=\"background-color: white; display: flex; white-space: pre\"><span class=\"barcode\"; style=\"color: black; background-color: rgba(64.31764705882354, 144.31764705882352, 197.13333333333333, 0.5)\" title=\"2.3483107\"> B</span><div><div style=\"background-color: white; display: flex; white-space: pre\"><span class=\"barcode\"; style=\"color: black; background-color: rgba(21.431372549019606, 98.1921568627451, 169.4313725490196, 0.5)\" title=\"6.9667463\">enda</span><div><div style=\"background-color: white; display: flex; white-space: pre\"><span class=\"barcode\"; style=\"color: black; background-color: rgba(8.0, 74.91764705882353, 146.96862745098042, 0.5)\" title=\"9.376023\"> in</span><div><div style=\"background-color: white; display: flex; white-space: pre\"><span class=\"barcode\"; style=\"color: black; background-color: rgba(34.29411764705883, 114.29411764705881, 181.66666666666669, 0.5)\" title=\"5.3366246\"> </span><div><div style=\"background-color: white; display: flex; white-space: pre\"><span class=\"barcode\"; style=\"color: black; background-color: rgba(173.84313725490196, 208.73333333333332, 230.5450980392157, 0.5)\" title=\"-5.726336\">1</span><div><div style=\"background-color: white; display: flex; white-space: pre\"><span class=\"barcode\"; style=\"color: black; background-color: rgba(70.34117647058824, 148.96470588235294, 199.69411764705882, 0.5)\" title=\"1.8162827\">8</span><div><div style=\"background-color: white; display: flex; white-space: pre\"><span class=\"barcode\"; style=\"color: black; background-color: rgba(131.79999999999998, 187.6156862745098, 219.34901960784316, 0.5)\" title=\"-2.7344923\">9</span><div><div style=\"background-color: white; display: flex; white-space: pre\"><span class=\"barcode\"; style=\"color: black; background-color: rgba(15.941176470588237, 91.16470588235293, 163.94117647058826, 0.5)\" title=\"7.7424364\">8</span><div><div style=\"background-color: white; display: flex; white-space: pre\"><span class=\"barcode\"; style=\"color: black; background-color: rgba(83.20392156862745, 157.74901960784314, 204.71372549019608, 0.5)\" title=\"0.8492619\">.</span><div><div style=\"background-color: white; display: flex; white-space: pre\"><span class=\"barcode\"; style=\"color: black; background-color: rgba(56.03529411764706, 136.03529411764706, 192.86666666666667, 0.5)\" title=\"3.2152808\"> The</span><div><div style=\"background-color: white; display: flex; white-space: pre\"><span class=\"barcode\"; style=\"color: black; background-color: rgba(75.48627450980392, 152.478431372549, 201.7019607843137, 0.5)\" title=\"1.4466602\"> mit</span><div><div style=\"background-color: white; display: flex; white-space: pre\"><span class=\"barcode\"; style=\"color: black; background-color: rgba(75.48627450980392, 152.478431372549, 201.7019607843137, 0.5)\" title=\"1.3776829\">och</span><div><div style=\"background-color: white; display: flex; white-space: pre\"><span class=\"barcode\"; style=\"color: black; background-color: rgba(63.28235294117648, 143.28235294117647, 196.6, 0.5)\" title=\"2.4234753\">ond</span><div><div style=\"background-color: white; display: flex; white-space: pre\"><span class=\"barcode\"; style=\"color: black; background-color: rgba(34.29411764705883, 114.29411764705881, 181.66666666666669, 0.5)\" title=\"5.3658066\">r</span><div><div style=\"background-color: white; display: flex; white-space: pre\"><span class=\"barcode\"; style=\"color: black; background-color: rgba(8.0, 61.45882352941177, 126.9843137254902, 0.5)\" title=\"10.721065\">ion</span><div><div style=\"background-color: white; display: flex; white-space: pre\"><span class=\"barcode\"; style=\"color: black; background-color: rgba(59.14117647058824, 139.14117647058822, 194.46666666666667, 0.5)\" title=\"2.832471\"> is</span><div><div style=\"background-color: white; display: flex; white-space: pre\"><span class=\"barcode\"; style=\"color: black; background-color: rgba(49.82352941176471, 129.8235294117647, 189.66666666666669, 0.5)\" title=\"3.7806718\"> popular</span><div><div style=\"background-color: white; display: flex; white-space: pre\"><span class=\"barcode\"; style=\"color: black; background-color: rgba(35.32941176470588, 115.32941176470588, 182.20000000000002, 0.5)\" title=\"5.2866144\">ly</span><div><div style=\"background-color: white; display: flex; white-space: pre\"><span class=\"barcode\"; style=\"color: black; background-color: rgba(80.63137254901966, 155.99215686274513, 203.70980392156864, 0.5)\" title=\"0.971756\"> nick</span><div><div style=\"background-color: white; display: flex; white-space: pre\"><span class=\"barcode\"; style=\"color: black; background-color: rgba(72.91372549019609, 150.72156862745098, 200.69803921568626, 0.5)\" title=\"1.6210532\">named</span><div><div style=\"background-color: white; display: flex; white-space: pre\"><span class=\"barcode\"; style=\"color: black; background-color: rgba(84.49019607843138, 158.62745098039215, 205.2156862745098, 0.5)\" title=\"0.6934452\"> the</span><div><div style=\"background-color: white; display: flex; white-space: pre\"><span class=\"barcode\"; style=\"color: black; background-color: rgba(64.31764705882354, 144.31764705882352, 197.13333333333333, 0.5)\" title=\"2.3861678\"> \"</span><div><div style=\"background-color: white; display: flex; white-space: pre\"><span class=\"barcode\"; style=\"color: black; background-color: rgba(94.78039215686275, 165.65490196078431, 209.23137254901962, 0.5)\" title=\"-0.17163205\">power</span><div><div style=\"background-color: white; display: flex; white-space: pre\"><span class=\"barcode\"; style=\"color: black; background-color: rgba(74.2, 151.6, 201.20000000000002, 0.5)\" title=\"1.5415478\">house</span><div><div style=\"background-color: white; display: flex; white-space: pre\"><span class=\"barcode\"; style=\"color: black; background-color: rgba(57.070588235294125, 137.0705882352941, 193.4, 0.5)\" title=\"3.0811486\"> of</span><div><div style=\"background-color: white; display: flex; white-space: pre\"><span class=\"barcode\"; style=\"color: black; background-color: rgba(80.63137254901966, 155.99215686274513, 203.70980392156864, 0.5)\" title=\"1.0446982\"> the</span><div><div style=\"background-color: white; display: flex; white-space: pre\"><span class=\"barcode\"; style=\"color: black; background-color: rgba(8.0, 80.09411764705882, 154.65490196078434, 0.5)\" title=\"8.886365\"> cell</span><div><div style=\"background-color: white; display: flex; white-space: pre\"><span class=\"barcode\"; style=\"color: black; background-color: rgba(36.364705882352936, 116.36470588235294, 182.73333333333335, 0.5)\" title=\"5.0920925\">\",</span><div><div style=\"background-color: white; display: flex; white-space: pre\"><span class=\"barcode\"; style=\"color: black; background-color: rgba(60.1764705882353, 140.17647058823528, 195.00000000000003, 0.5)\" title=\"2.717962\"> a</span><div><div style=\"background-color: white; display: flex; white-space: pre\"><span class=\"barcode\"; style=\"color: black; background-color: rgba(35.32941176470588, 115.32941176470588, 182.20000000000002, 0.5)\" title=\"5.2329693\"> phrase</span><div><div style=\"background-color: white; display: flex; white-space: pre\"><span class=\"barcode\"; style=\"color: black; background-color: rgba(57.070588235294125, 137.0705882352941, 193.4, 0.5)\" title=\"3.1148648\"> co</span><div><div style=\"background-color: white; display: flex; white-space: pre\"><span class=\"barcode\"; style=\"color: black; background-color: rgba(10.450980392156863, 84.13725490196079, 158.45098039215688, 0.5)\" title=\"8.45409\">ined</span><div><div style=\"background-color: white; display: flex; white-space: pre\"><span class=\"barcode\"; style=\"color: black; background-color: rgba(117.40000000000002, 179.70980392156864, 216.24313725490197, 0.5)\" title=\"-1.7761316\"> by</span><div><div style=\"background-color: white; display: flex; white-space: pre\"><span class=\"barcode\"; style=\"color: black; background-color: rgba(141.40000000000003, 192.88627450980394, 221.41960784313724, 0.5)\" title=\"-3.305725\"> Philip</span><div><div style=\"background-color: white; display: flex; white-space: pre\"><span class=\"barcode\"; style=\"color: black; background-color: rgba(92.2078431372549, 163.89803921568628, 208.22745098039215, 0.5)\" title=\"0.11311742\"> Sie</span><div><div style=\"background-color: white; display: flex; white-space: pre\"><span class=\"barcode\"; style=\"color: black; background-color: rgba(115.80000000000003, 178.83137254901965, 215.89803921568628, 0.5)\" title=\"-1.7263219\">ke</span><div><div style=\"background-color: white; display: flex; white-space: pre\"><span class=\"barcode\"; style=\"color: black; background-color: rgba(186.3921568627451, 214.06666666666663, 234.93725490196078, 0.5)\" title=\"-6.771106\">v</span><div><div style=\"background-color: white; display: flex; white-space: pre\"><span class=\"barcode\"; style=\"color: black; background-color: rgba(30.843137254901965, 110.2392156862745, 178.843137254902, 0.5)\" title=\"5.7432375\">itz</span><div><div style=\"background-color: white; display: flex; white-space: pre\"><span class=\"barcode\"; style=\"color: black; background-color: rgba(8.0, 78.0235294117647, 151.58039215686276, 0.5)\" title=\"9.107667\"> in</span><div><div style=\"background-color: white; display: flex; white-space: pre\"><span class=\"barcode\"; style=\"color: black; background-color: rgba(30.843137254901965, 110.2392156862745, 178.843137254902, 0.5)\" title=\"5.713557\"> a</span><div><div style=\"background-color: white; display: flex; white-space: pre\"><span class=\"barcode\"; style=\"color: black; background-color: rgba(30.058823529411768, 109.23529411764704, 178.05882352941177, 0.5)\" title=\"5.892166\"> </span><div><div style=\"background-color: white; display: flex; white-space: pre\"><span class=\"barcode\"; style=\"color: black; background-color: rgba(139.79999999999998, 192.0078431372549, 221.07450980392156, 0.5)\" title=\"-3.2393122\">1</span><div><div style=\"background-color: white; display: flex; white-space: pre\"><span class=\"barcode\"; style=\"color: black; background-color: rgba(88.34901960784313, 161.26274509803923, 206.721568627451, 0.5)\" title=\"0.36575633\">9</span><div><div style=\"background-color: white; display: flex; white-space: pre\"><span class=\"barcode\"; style=\"color: black; background-color: rgba(128.60000000000002, 185.85882352941178, 218.65882352941176, 0.5)\" title=\"-2.537774\">5</span><div><div style=\"background-color: white; display: flex; white-space: pre\"><span class=\"barcode\"; style=\"color: black; background-color: rgba(52.92941176470589, 132.9294117647059, 191.26666666666665, 0.5)\" title=\"3.517273\">7</span><div><div style=\"background-color: white; display: flex; white-space: pre\"><span class=\"barcode\"; style=\"color: black; background-color: rgba(8.0, 61.45882352941177, 126.9843137254902, 0.5)\" title=\"10.663308\"> article</span><div><div style=\"background-color: white; display: flex; white-space: pre\"><span class=\"barcode\"; style=\"color: black; background-color: rgba(40.50588235294118, 120.50588235294117, 184.86666666666667, 0.5)\" title=\"4.722432\"> of</span><div><div style=\"background-color: white; display: flex; white-space: pre\"><span class=\"barcode\"; style=\"color: black; background-color: rgba(21.431372549019606, 98.1921568627451, 169.4313725490196, 0.5)\" title=\"7.013731\"> the</span><div><div style=\"background-color: white; display: flex; white-space: pre\"><span class=\"barcode\"; style=\"color: black; background-color: rgba(27.70588235294118, 106.2235294117647, 175.7058823529412, 0.5)\" title=\"6.180342\"> same</span><div><div style=\"background-color: white; display: flex; white-space: pre\"><span class=\"barcode\"; style=\"color: black; background-color: rgba(8.0, 70.7764705882353, 140.81960784313725, 0.5)\" title=\"9.795396\"> name</span><div><div style=\"background-color: white; display: flex; white-space: pre\"><span class=\"barcode\"; style=\"color: black; background-color: rgba(154.20000000000005, 199.9137254901961, 224.18039215686275, 0.5)\" title=\"-4.1323724\">.</span><div>"
      ],
      "text/plain": [
       "<IPython.core.display.HTML object>"
      ]
     },
     "metadata": {},
     "output_type": "display_data"
    },
    {
     "data": {
      "text/html": [
       "<div style=\"background-color: white; display: flex; white-space: pre\"><span class=\"barcode\"; style=\"color: black; background-color: rgba(8.0, 48.0, 107.0, 0.5)\" title=\"12.053834\"> A</span><div><div style=\"background-color: white; display: flex; white-space: pre\"><span class=\"barcode\"; style=\"color: black; background-color: rgba(8.0, 48.0, 107.0, 0.5)\" title=\"12.053834\"> mit</span><div><div style=\"background-color: white; display: flex; white-space: pre\"><span class=\"barcode\"; style=\"color: black; background-color: rgba(8.0, 48.0, 107.0, 0.5)\" title=\"12.053834\">och</span><div><div style=\"background-color: white; display: flex; white-space: pre\"><span class=\"barcode\"; style=\"color: black; background-color: rgba(8.0, 48.0, 107.0, 0.5)\" title=\"12.053834\">ond</span><div><div style=\"background-color: white; display: flex; white-space: pre\"><span class=\"barcode\"; style=\"color: black; background-color: rgba(8.0, 48.0, 107.0, 0.5)\" title=\"12.053834\">r</span><div><div style=\"background-color: white; display: flex; white-space: pre\"><span class=\"barcode\"; style=\"color: black; background-color: rgba(8.0, 48.0, 107.0, 0.5)\" title=\"12.053834\">ion</span><div><div style=\"background-color: white; display: flex; white-space: pre\"><span class=\"barcode\"; style=\"color: black; background-color: rgba(8.0, 48.0, 107.0, 0.5)\" title=\"12.053834\"> (/</span><div><div style=\"background-color: white; display: flex; white-space: pre\"><span class=\"barcode\"; style=\"color: black; background-color: rgba(8.0, 48.0, 107.0, 0.5)\" title=\"12.053834\">ˌ</span><div><div style=\"background-color: white; display: flex; white-space: pre\"><span class=\"barcode\"; style=\"color: black; background-color: rgba(8.0, 48.0, 107.0, 0.5)\" title=\"12.053834\">ma</span><div><div style=\"background-color: white; display: flex; white-space: pre\"><span class=\"barcode\"; style=\"color: black; background-color: rgba(8.0, 48.0, 107.0, 0.5)\" title=\"12.053834\">ɪ</span><div><div style=\"background-color: white; display: flex; white-space: pre\"><span class=\"barcode\"; style=\"color: black; background-color: rgba(8.0, 48.0, 107.0, 0.5)\" title=\"12.053834\">t</span><div><div style=\"background-color: white; display: flex; white-space: pre\"><span class=\"barcode\"; style=\"color: black; background-color: rgba(8.0, 48.0, 107.0, 0.5)\" title=\"12.053834\">ə</span><div><div style=\"background-color: white; display: flex; white-space: pre\"><span class=\"barcode\"; style=\"color: black; background-color: rgba(8.0, 48.0, 107.0, 0.5)\" title=\"12.053834\">ˈ</span><div><div style=\"background-color: white; display: flex; white-space: pre\"><span class=\"barcode\"; style=\"color: black; background-color: rgba(8.0, 48.0, 107.0, 0.5)\" title=\"12.053834\">k</span><div><div style=\"background-color: white; display: flex; white-space: pre\"><span class=\"barcode\"; style=\"color: black; background-color: rgba(8.0, 48.0, 107.0, 0.5)\" title=\"12.053834\">ɒ</span><div><div style=\"background-color: white; display: flex; white-space: pre\"><span class=\"barcode\"; style=\"color: black; background-color: rgba(8.0, 48.0, 107.0, 0.5)\" title=\"12.053834\">nd</span><div><div style=\"background-color: white; display: flex; white-space: pre\"><span class=\"barcode\"; style=\"color: black; background-color: rgba(8.0, 48.0, 107.0, 0.5)\" title=\"12.053834\">ri</span><div><div style=\"background-color: white; display: flex; white-space: pre\"><span class=\"barcode\"; style=\"color: black; background-color: rgba(8.0, 48.0, 107.0, 0.5)\" title=\"12.053834\">ə</span><div><div style=\"background-color: white; display: flex; white-space: pre\"><span class=\"barcode\"; style=\"color: black; background-color: rgba(8.0, 48.0, 107.0, 0.5)\" title=\"12.053834\">n</span><div><div style=\"background-color: white; display: flex; white-space: pre\"><span class=\"barcode\"; style=\"color: black; background-color: rgba(8.0, 48.0, 107.0, 0.5)\" title=\"12.053834\">/</span><div><div style=\"background-color: white; display: flex; white-space: pre\"><span class=\"barcode\"; style=\"color: black; background-color: rgba(8.0, 48.0, 107.0, 0.5)\" title=\"12.053834\">;</span><div><div style=\"background-color: white; display: flex; white-space: pre\"><span class=\"barcode\"; style=\"color: black; background-color: rgba(8.0, 48.0, 107.0, 0.5)\" title=\"12.053834\"> pl</span><div><div style=\"background-color: white; display: flex; white-space: pre\"><span class=\"barcode\"; style=\"color: black; background-color: rgba(8.0, 48.0, 107.0, 0.5)\" title=\"12.053834\"> mit</span><div><div style=\"background-color: white; display: flex; white-space: pre\"><span class=\"barcode\"; style=\"color: black; background-color: rgba(8.0, 48.0, 107.0, 0.5)\" title=\"12.053834\">och</span><div><div style=\"background-color: white; display: flex; white-space: pre\"><span class=\"barcode\"; style=\"color: black; background-color: rgba(8.0, 48.0, 107.0, 0.5)\" title=\"12.053834\">ond</span><div><div style=\"background-color: white; display: flex; white-space: pre\"><span class=\"barcode\"; style=\"color: black; background-color: rgba(8.0, 48.0, 107.0, 0.5)\" title=\"12.053834\">ria</span><div><div style=\"background-color: white; display: flex; white-space: pre\"><span class=\"barcode\"; style=\"color: black; background-color: rgba(8.0, 48.0, 107.0, 0.5)\" title=\"12.053834\">)</span><div><div style=\"background-color: white; display: flex; white-space: pre\"><span class=\"barcode\"; style=\"color: black; background-color: rgba(8.0, 48.0, 107.0, 0.5)\" title=\"12.053834\"> is</span><div><div style=\"background-color: white; display: flex; white-space: pre\"><span class=\"barcode\"; style=\"color: black; background-color: rgba(8.0, 48.0, 107.0, 0.5)\" title=\"12.053834\"> an</span><div><div style=\"background-color: white; display: flex; white-space: pre\"><span class=\"barcode\"; style=\"color: black; background-color: rgba(8.0, 48.0, 107.0, 0.5)\" title=\"12.053834\"> organ</span><div><div style=\"background-color: white; display: flex; white-space: pre\"><span class=\"barcode\"; style=\"color: black; background-color: rgba(8.0, 48.0, 107.0, 0.5)\" title=\"12.053834\">elle</span><div><div style=\"background-color: white; display: flex; white-space: pre\"><span class=\"barcode\"; style=\"color: black; background-color: rgba(8.0, 48.0, 107.0, 0.5)\" title=\"12.053834\"> found</span><div><div style=\"background-color: white; display: flex; white-space: pre\"><span class=\"barcode\"; style=\"color: black; background-color: rgba(8.0, 48.0, 107.0, 0.5)\" title=\"12.053834\"> in</span><div><div style=\"background-color: white; display: flex; white-space: pre\"><span class=\"barcode\"; style=\"color: black; background-color: rgba(8.0, 48.0, 107.0, 0.5)\" title=\"12.053834\"> the</span><div><div style=\"background-color: white; display: flex; white-space: pre\"><span class=\"barcode\"; style=\"color: black; background-color: rgba(8.0, 48.0, 107.0, 0.5)\" title=\"12.053834\"> cells</span><div><div style=\"background-color: white; display: flex; white-space: pre\"><span class=\"barcode\"; style=\"color: black; background-color: rgba(8.0, 48.0, 107.0, 0.5)\" title=\"12.053834\"> of</span><div><div style=\"background-color: white; display: flex; white-space: pre\"><span class=\"barcode\"; style=\"color: black; background-color: rgba(8.0, 48.0, 107.0, 0.5)\" title=\"12.053834\"> most</span><div><div style=\"background-color: white; display: flex; white-space: pre\"><span class=\"barcode\"; style=\"color: black; background-color: rgba(8.0, 48.0, 107.0, 0.5)\" title=\"12.053834\"> e</span><div><div style=\"background-color: white; display: flex; white-space: pre\"><span class=\"barcode\"; style=\"color: black; background-color: rgba(8.0, 48.0, 107.0, 0.5)\" title=\"12.053834\">uk</span><div><div style=\"background-color: white; display: flex; white-space: pre\"><span class=\"barcode\"; style=\"color: black; background-color: rgba(8.0, 48.0, 107.0, 0.5)\" title=\"12.053834\">ary</span><div><div style=\"background-color: white; display: flex; white-space: pre\"><span class=\"barcode\"; style=\"color: black; background-color: rgba(8.0, 48.0, 107.0, 0.5)\" title=\"12.053834\">otes</span><div><div style=\"background-color: white; display: flex; white-space: pre\"><span class=\"barcode\"; style=\"color: black; background-color: rgba(8.0, 48.0, 107.0, 0.5)\" title=\"12.053834\">,</span><div><div style=\"background-color: white; display: flex; white-space: pre\"><span class=\"barcode\"; style=\"color: black; background-color: rgba(8.0, 48.0, 107.0, 0.5)\" title=\"12.053834\"> such</span><div><div style=\"background-color: white; display: flex; white-space: pre\"><span class=\"barcode\"; style=\"color: black; background-color: rgba(8.0, 48.0, 107.0, 0.5)\" title=\"12.053834\"> as</span><div><div style=\"background-color: white; display: flex; white-space: pre\"><span class=\"barcode\"; style=\"color: black; background-color: rgba(8.0, 48.0, 107.0, 0.5)\" title=\"12.053834\"> animals</span><div><div style=\"background-color: white; display: flex; white-space: pre\"><span class=\"barcode\"; style=\"color: black; background-color: rgba(8.0, 48.0, 107.0, 0.5)\" title=\"12.053834\">,</span><div><div style=\"background-color: white; display: flex; white-space: pre\"><span class=\"barcode\"; style=\"color: black; background-color: rgba(8.0, 48.0, 107.0, 0.5)\" title=\"12.053834\"> plants</span><div><div style=\"background-color: white; display: flex; white-space: pre\"><span class=\"barcode\"; style=\"color: black; background-color: rgba(8.0, 48.0, 107.0, 0.5)\" title=\"12.053834\"> and</span><div><div style=\"background-color: white; display: flex; white-space: pre\"><span class=\"barcode\"; style=\"color: black; background-color: rgba(8.0, 48.0, 107.0, 0.5)\" title=\"12.053834\"> fung</span><div><div style=\"background-color: white; display: flex; white-space: pre\"><span class=\"barcode\"; style=\"color: black; background-color: rgba(8.0, 48.0, 107.0, 0.5)\" title=\"12.053834\">i</span><div><div style=\"background-color: white; display: flex; white-space: pre\"><span class=\"barcode\"; style=\"color: black; background-color: rgba(8.0, 48.0, 107.0, 0.5)\" title=\"12.053834\">.</span><div><div style=\"background-color: white; display: flex; white-space: pre\"><span class=\"barcode\"; style=\"color: black; background-color: rgba(105.07058823529412, 172.68235294117648, 213.24705882352941, 0.5)\" title=\"7.12861\"> M</span><div><div style=\"background-color: white; display: flex; white-space: pre\"><span class=\"barcode\"; style=\"color: black; background-color: rgba(105.07058823529412, 172.68235294117648, 213.24705882352941, 0.5)\" title=\"7.12861\">ito</span><div><div style=\"background-color: white; display: flex; white-space: pre\"><span class=\"barcode\"; style=\"color: black; background-color: rgba(105.07058823529412, 172.68235294117648, 213.24705882352941, 0.5)\" title=\"7.12861\">ch</span><div><div style=\"background-color: white; display: flex; white-space: pre\"><span class=\"barcode\"; style=\"color: black; background-color: rgba(105.07058823529412, 172.68235294117648, 213.24705882352941, 0.5)\" title=\"7.12861\">ond</span><div><div style=\"background-color: white; display: flex; white-space: pre\"><span class=\"barcode\"; style=\"color: black; background-color: rgba(105.07058823529412, 172.68235294117648, 213.24705882352941, 0.5)\" title=\"7.12861\">ria</span><div><div style=\"background-color: white; display: flex; white-space: pre\"><span class=\"barcode\"; style=\"color: black; background-color: rgba(105.07058823529412, 172.68235294117648, 213.24705882352941, 0.5)\" title=\"7.12861\"> have</span><div><div style=\"background-color: white; display: flex; white-space: pre\"><span class=\"barcode\"; style=\"color: black; background-color: rgba(105.07058823529412, 172.68235294117648, 213.24705882352941, 0.5)\" title=\"7.12861\"> a</span><div><div style=\"background-color: white; display: flex; white-space: pre\"><span class=\"barcode\"; style=\"color: black; background-color: rgba(105.07058823529412, 172.68235294117648, 213.24705882352941, 0.5)\" title=\"7.12861\"> double</span><div><div style=\"background-color: white; display: flex; white-space: pre\"><span class=\"barcode\"; style=\"color: black; background-color: rgba(105.07058823529412, 172.68235294117648, 213.24705882352941, 0.5)\" title=\"7.12861\"> memb</span><div><div style=\"background-color: white; display: flex; white-space: pre\"><span class=\"barcode\"; style=\"color: black; background-color: rgba(105.07058823529412, 172.68235294117648, 213.24705882352941, 0.5)\" title=\"7.12861\">rane</span><div><div style=\"background-color: white; display: flex; white-space: pre\"><span class=\"barcode\"; style=\"color: black; background-color: rgba(105.07058823529412, 172.68235294117648, 213.24705882352941, 0.5)\" title=\"7.12861\"> structure</span><div><div style=\"background-color: white; display: flex; white-space: pre\"><span class=\"barcode\"; style=\"color: black; background-color: rgba(105.07058823529412, 172.68235294117648, 213.24705882352941, 0.5)\" title=\"7.12861\"> and</span><div><div style=\"background-color: white; display: flex; white-space: pre\"><span class=\"barcode\"; style=\"color: black; background-color: rgba(105.07058823529412, 172.68235294117648, 213.24705882352941, 0.5)\" title=\"7.12861\"> use</span><div><div style=\"background-color: white; display: flex; white-space: pre\"><span class=\"barcode\"; style=\"color: black; background-color: rgba(105.07058823529412, 172.68235294117648, 213.24705882352941, 0.5)\" title=\"7.12861\"> aer</span><div><div style=\"background-color: white; display: flex; white-space: pre\"><span class=\"barcode\"; style=\"color: black; background-color: rgba(105.07058823529412, 172.68235294117648, 213.24705882352941, 0.5)\" title=\"7.12861\">ob</span><div><div style=\"background-color: white; display: flex; white-space: pre\"><span class=\"barcode\"; style=\"color: black; background-color: rgba(105.07058823529412, 172.68235294117648, 213.24705882352941, 0.5)\" title=\"7.12861\">ic</span><div><div style=\"background-color: white; display: flex; white-space: pre\"><span class=\"barcode\"; style=\"color: black; background-color: rgba(105.07058823529412, 172.68235294117648, 213.24705882352941, 0.5)\" title=\"7.12861\"> resp</span><div><div style=\"background-color: white; display: flex; white-space: pre\"><span class=\"barcode\"; style=\"color: black; background-color: rgba(105.07058823529412, 172.68235294117648, 213.24705882352941, 0.5)\" title=\"7.12861\">iration</span><div><div style=\"background-color: white; display: flex; white-space: pre\"><span class=\"barcode\"; style=\"color: black; background-color: rgba(105.07058823529412, 172.68235294117648, 213.24705882352941, 0.5)\" title=\"7.12861\"> to</span><div><div style=\"background-color: white; display: flex; white-space: pre\"><span class=\"barcode\"; style=\"color: black; background-color: rgba(105.07058823529412, 172.68235294117648, 213.24705882352941, 0.5)\" title=\"7.12861\"> generate</span><div><div style=\"background-color: white; display: flex; white-space: pre\"><span class=\"barcode\"; style=\"color: black; background-color: rgba(105.07058823529412, 172.68235294117648, 213.24705882352941, 0.5)\" title=\"7.12861\"> ad</span><div><div style=\"background-color: white; display: flex; white-space: pre\"><span class=\"barcode\"; style=\"color: black; background-color: rgba(105.07058823529412, 172.68235294117648, 213.24705882352941, 0.5)\" title=\"7.12861\">en</span><div><div style=\"background-color: white; display: flex; white-space: pre\"><span class=\"barcode\"; style=\"color: black; background-color: rgba(105.07058823529412, 172.68235294117648, 213.24705882352941, 0.5)\" title=\"7.12861\">os</span><div><div style=\"background-color: white; display: flex; white-space: pre\"><span class=\"barcode\"; style=\"color: black; background-color: rgba(105.07058823529412, 172.68235294117648, 213.24705882352941, 0.5)\" title=\"7.12861\">ine</span><div><div style=\"background-color: white; display: flex; white-space: pre\"><span class=\"barcode\"; style=\"color: black; background-color: rgba(105.07058823529412, 172.68235294117648, 213.24705882352941, 0.5)\" title=\"7.12861\"> tri</span><div><div style=\"background-color: white; display: flex; white-space: pre\"><span class=\"barcode\"; style=\"color: black; background-color: rgba(105.07058823529412, 172.68235294117648, 213.24705882352941, 0.5)\" title=\"7.12861\">ph</span><div><div style=\"background-color: white; display: flex; white-space: pre\"><span class=\"barcode\"; style=\"color: black; background-color: rgba(105.07058823529412, 172.68235294117648, 213.24705882352941, 0.5)\" title=\"7.12861\">osph</span><div><div style=\"background-color: white; display: flex; white-space: pre\"><span class=\"barcode\"; style=\"color: black; background-color: rgba(105.07058823529412, 172.68235294117648, 213.24705882352941, 0.5)\" title=\"7.12861\">ate</span><div><div style=\"background-color: white; display: flex; white-space: pre\"><span class=\"barcode\"; style=\"color: black; background-color: rgba(105.07058823529412, 172.68235294117648, 213.24705882352941, 0.5)\" title=\"7.12861\"> (</span><div><div style=\"background-color: white; display: flex; white-space: pre\"><span class=\"barcode\"; style=\"color: black; background-color: rgba(105.07058823529412, 172.68235294117648, 213.24705882352941, 0.5)\" title=\"7.12861\">AT</span><div><div style=\"background-color: white; display: flex; white-space: pre\"><span class=\"barcode\"; style=\"color: black; background-color: rgba(105.07058823529412, 172.68235294117648, 213.24705882352941, 0.5)\" title=\"7.12861\">P</span><div><div style=\"background-color: white; display: flex; white-space: pre\"><span class=\"barcode\"; style=\"color: black; background-color: rgba(105.07058823529412, 172.68235294117648, 213.24705882352941, 0.5)\" title=\"7.12861\">),</span><div><div style=\"background-color: white; display: flex; white-space: pre\"><span class=\"barcode\"; style=\"color: black; background-color: rgba(105.07058823529412, 172.68235294117648, 213.24705882352941, 0.5)\" title=\"7.12861\"> which</span><div><div style=\"background-color: white; display: flex; white-space: pre\"><span class=\"barcode\"; style=\"color: black; background-color: rgba(105.07058823529412, 172.68235294117648, 213.24705882352941, 0.5)\" title=\"7.12861\"> is</span><div><div style=\"background-color: white; display: flex; white-space: pre\"><span class=\"barcode\"; style=\"color: black; background-color: rgba(105.07058823529412, 172.68235294117648, 213.24705882352941, 0.5)\" title=\"7.12861\"> used</span><div><div style=\"background-color: white; display: flex; white-space: pre\"><span class=\"barcode\"; style=\"color: black; background-color: rgba(105.07058823529412, 172.68235294117648, 213.24705882352941, 0.5)\" title=\"7.12861\"> throughout</span><div><div style=\"background-color: white; display: flex; white-space: pre\"><span class=\"barcode\"; style=\"color: black; background-color: rgba(105.07058823529412, 172.68235294117648, 213.24705882352941, 0.5)\" title=\"7.12861\"> the</span><div><div style=\"background-color: white; display: flex; white-space: pre\"><span class=\"barcode\"; style=\"color: black; background-color: rgba(105.07058823529412, 172.68235294117648, 213.24705882352941, 0.5)\" title=\"7.12861\"> cell</span><div><div style=\"background-color: white; display: flex; white-space: pre\"><span class=\"barcode\"; style=\"color: black; background-color: rgba(105.07058823529412, 172.68235294117648, 213.24705882352941, 0.5)\" title=\"7.12861\"> as</span><div><div style=\"background-color: white; display: flex; white-space: pre\"><span class=\"barcode\"; style=\"color: black; background-color: rgba(105.07058823529412, 172.68235294117648, 213.24705882352941, 0.5)\" title=\"7.12861\"> a</span><div><div style=\"background-color: white; display: flex; white-space: pre\"><span class=\"barcode\"; style=\"color: black; background-color: rgba(105.07058823529412, 172.68235294117648, 213.24705882352941, 0.5)\" title=\"7.12861\"> source</span><div><div style=\"background-color: white; display: flex; white-space: pre\"><span class=\"barcode\"; style=\"color: black; background-color: rgba(105.07058823529412, 172.68235294117648, 213.24705882352941, 0.5)\" title=\"7.12861\"> of</span><div><div style=\"background-color: white; display: flex; white-space: pre\"><span class=\"barcode\"; style=\"color: black; background-color: rgba(105.07058823529412, 172.68235294117648, 213.24705882352941, 0.5)\" title=\"7.12861\"> chemical</span><div><div style=\"background-color: white; display: flex; white-space: pre\"><span class=\"barcode\"; style=\"color: black; background-color: rgba(105.07058823529412, 172.68235294117648, 213.24705882352941, 0.5)\" title=\"7.12861\"> energy</span><div><div style=\"background-color: white; display: flex; white-space: pre\"><span class=\"barcode\"; style=\"color: black; background-color: rgba(105.07058823529412, 172.68235294117648, 213.24705882352941, 0.5)\" title=\"7.12861\">.</span><div><div style=\"background-color: white; display: flex; white-space: pre\"><span class=\"barcode\"; style=\"color: black; background-color: rgba(247.0, 251.0, 255.0, 0.5)\" title=\"2.0876167\"> They</span><div><div style=\"background-color: white; display: flex; white-space: pre\"><span class=\"barcode\"; style=\"color: black; background-color: rgba(247.0, 251.0, 255.0, 0.5)\" title=\"2.0876167\"> were</span><div><div style=\"background-color: white; display: flex; white-space: pre\"><span class=\"barcode\"; style=\"color: black; background-color: rgba(247.0, 251.0, 255.0, 0.5)\" title=\"2.0876167\"> discovered</span><div><div style=\"background-color: white; display: flex; white-space: pre\"><span class=\"barcode\"; style=\"color: black; background-color: rgba(247.0, 251.0, 255.0, 0.5)\" title=\"2.0876167\"> by</span><div><div style=\"background-color: white; display: flex; white-space: pre\"><span class=\"barcode\"; style=\"color: black; background-color: rgba(247.0, 251.0, 255.0, 0.5)\" title=\"2.0876167\"> Albert</span><div><div style=\"background-color: white; display: flex; white-space: pre\"><span class=\"barcode\"; style=\"color: black; background-color: rgba(247.0, 251.0, 255.0, 0.5)\" title=\"2.0876167\"> von</span><div><div style=\"background-color: white; display: flex; white-space: pre\"><span class=\"barcode\"; style=\"color: black; background-color: rgba(247.0, 251.0, 255.0, 0.5)\" title=\"2.0876167\"> K</span><div><div style=\"background-color: white; display: flex; white-space: pre\"><span class=\"barcode\"; style=\"color: black; background-color: rgba(247.0, 251.0, 255.0, 0.5)\" title=\"2.0876167\">öl</span><div><div style=\"background-color: white; display: flex; white-space: pre\"><span class=\"barcode\"; style=\"color: black; background-color: rgba(247.0, 251.0, 255.0, 0.5)\" title=\"2.0876167\">li</span><div><div style=\"background-color: white; display: flex; white-space: pre\"><span class=\"barcode\"; style=\"color: black; background-color: rgba(247.0, 251.0, 255.0, 0.5)\" title=\"2.0876167\">ker</span><div><div style=\"background-color: white; display: flex; white-space: pre\"><span class=\"barcode\"; style=\"color: black; background-color: rgba(247.0, 251.0, 255.0, 0.5)\" title=\"2.0876167\"> in</span><div><div style=\"background-color: white; display: flex; white-space: pre\"><span class=\"barcode\"; style=\"color: black; background-color: rgba(247.0, 251.0, 255.0, 0.5)\" title=\"2.0876167\"> </span><div><div style=\"background-color: white; display: flex; white-space: pre\"><span class=\"barcode\"; style=\"color: black; background-color: rgba(247.0, 251.0, 255.0, 0.5)\" title=\"2.0876167\">1</span><div><div style=\"background-color: white; display: flex; white-space: pre\"><span class=\"barcode\"; style=\"color: black; background-color: rgba(247.0, 251.0, 255.0, 0.5)\" title=\"2.0876167\">8</span><div><div style=\"background-color: white; display: flex; white-space: pre\"><span class=\"barcode\"; style=\"color: black; background-color: rgba(247.0, 251.0, 255.0, 0.5)\" title=\"2.0876167\">5</span><div><div style=\"background-color: white; display: flex; white-space: pre\"><span class=\"barcode\"; style=\"color: black; background-color: rgba(247.0, 251.0, 255.0, 0.5)\" title=\"2.0876167\">7</span><div><div style=\"background-color: white; display: flex; white-space: pre\"><span class=\"barcode\"; style=\"color: black; background-color: rgba(247.0, 251.0, 255.0, 0.5)\" title=\"2.0876167\"> in</span><div><div style=\"background-color: white; display: flex; white-space: pre\"><span class=\"barcode\"; style=\"color: black; background-color: rgba(247.0, 251.0, 255.0, 0.5)\" title=\"2.0876167\"> the</span><div><div style=\"background-color: white; display: flex; white-space: pre\"><span class=\"barcode\"; style=\"color: black; background-color: rgba(247.0, 251.0, 255.0, 0.5)\" title=\"2.0876167\"> volunt</span><div><div style=\"background-color: white; display: flex; white-space: pre\"><span class=\"barcode\"; style=\"color: black; background-color: rgba(247.0, 251.0, 255.0, 0.5)\" title=\"2.0876167\">ary</span><div><div style=\"background-color: white; display: flex; white-space: pre\"><span class=\"barcode\"; style=\"color: black; background-color: rgba(247.0, 251.0, 255.0, 0.5)\" title=\"2.0876167\"> mus</span><div><div style=\"background-color: white; display: flex; white-space: pre\"><span class=\"barcode\"; style=\"color: black; background-color: rgba(247.0, 251.0, 255.0, 0.5)\" title=\"2.0876167\">cles</span><div><div style=\"background-color: white; display: flex; white-space: pre\"><span class=\"barcode\"; style=\"color: black; background-color: rgba(247.0, 251.0, 255.0, 0.5)\" title=\"2.0876167\"> of</span><div><div style=\"background-color: white; display: flex; white-space: pre\"><span class=\"barcode\"; style=\"color: black; background-color: rgba(247.0, 251.0, 255.0, 0.5)\" title=\"2.0876167\"> insect</span><div><div style=\"background-color: white; display: flex; white-space: pre\"><span class=\"barcode\"; style=\"color: black; background-color: rgba(247.0, 251.0, 255.0, 0.5)\" title=\"2.0876167\">s</span><div><div style=\"background-color: white; display: flex; white-space: pre\"><span class=\"barcode\"; style=\"color: black; background-color: rgba(247.0, 251.0, 255.0, 0.5)\" title=\"2.0876167\">.</span><div><div style=\"background-color: white; display: flex; white-space: pre\"><span class=\"barcode\"; style=\"color: black; background-color: rgba(84.49019607843138, 158.62745098039215, 205.2156862745098, 0.5)\" title=\"7.7424364\"> The</span><div><div style=\"background-color: white; display: flex; white-space: pre\"><span class=\"barcode\"; style=\"color: black; background-color: rgba(84.49019607843138, 158.62745098039215, 205.2156862745098, 0.5)\" title=\"7.7424364\"> term</span><div><div style=\"background-color: white; display: flex; white-space: pre\"><span class=\"barcode\"; style=\"color: black; background-color: rgba(84.49019607843138, 158.62745098039215, 205.2156862745098, 0.5)\" title=\"7.7424364\"> mit</span><div><div style=\"background-color: white; display: flex; white-space: pre\"><span class=\"barcode\"; style=\"color: black; background-color: rgba(84.49019607843138, 158.62745098039215, 205.2156862745098, 0.5)\" title=\"7.7424364\">och</span><div><div style=\"background-color: white; display: flex; white-space: pre\"><span class=\"barcode\"; style=\"color: black; background-color: rgba(84.49019607843138, 158.62745098039215, 205.2156862745098, 0.5)\" title=\"7.7424364\">ond</span><div><div style=\"background-color: white; display: flex; white-space: pre\"><span class=\"barcode\"; style=\"color: black; background-color: rgba(84.49019607843138, 158.62745098039215, 205.2156862745098, 0.5)\" title=\"7.7424364\">r</span><div><div style=\"background-color: white; display: flex; white-space: pre\"><span class=\"barcode\"; style=\"color: black; background-color: rgba(84.49019607843138, 158.62745098039215, 205.2156862745098, 0.5)\" title=\"7.7424364\">ion</span><div><div style=\"background-color: white; display: flex; white-space: pre\"><span class=\"barcode\"; style=\"color: black; background-color: rgba(84.49019607843138, 158.62745098039215, 205.2156862745098, 0.5)\" title=\"7.7424364\"> was</span><div><div style=\"background-color: white; display: flex; white-space: pre\"><span class=\"barcode\"; style=\"color: black; background-color: rgba(84.49019607843138, 158.62745098039215, 205.2156862745098, 0.5)\" title=\"7.7424364\"> co</span><div><div style=\"background-color: white; display: flex; white-space: pre\"><span class=\"barcode\"; style=\"color: black; background-color: rgba(84.49019607843138, 158.62745098039215, 205.2156862745098, 0.5)\" title=\"7.7424364\">ined</span><div><div style=\"background-color: white; display: flex; white-space: pre\"><span class=\"barcode\"; style=\"color: black; background-color: rgba(84.49019607843138, 158.62745098039215, 205.2156862745098, 0.5)\" title=\"7.7424364\"> by</span><div><div style=\"background-color: white; display: flex; white-space: pre\"><span class=\"barcode\"; style=\"color: black; background-color: rgba(84.49019607843138, 158.62745098039215, 205.2156862745098, 0.5)\" title=\"7.7424364\"> Carl</span><div><div style=\"background-color: white; display: flex; white-space: pre\"><span class=\"barcode\"; style=\"color: black; background-color: rgba(84.49019607843138, 158.62745098039215, 205.2156862745098, 0.5)\" title=\"7.7424364\"> B</span><div><div style=\"background-color: white; display: flex; white-space: pre\"><span class=\"barcode\"; style=\"color: black; background-color: rgba(84.49019607843138, 158.62745098039215, 205.2156862745098, 0.5)\" title=\"7.7424364\">enda</span><div><div style=\"background-color: white; display: flex; white-space: pre\"><span class=\"barcode\"; style=\"color: black; background-color: rgba(84.49019607843138, 158.62745098039215, 205.2156862745098, 0.5)\" title=\"7.7424364\"> in</span><div><div style=\"background-color: white; display: flex; white-space: pre\"><span class=\"barcode\"; style=\"color: black; background-color: rgba(84.49019607843138, 158.62745098039215, 205.2156862745098, 0.5)\" title=\"7.7424364\"> </span><div><div style=\"background-color: white; display: flex; white-space: pre\"><span class=\"barcode\"; style=\"color: black; background-color: rgba(84.49019607843138, 158.62745098039215, 205.2156862745098, 0.5)\" title=\"7.7424364\">1</span><div><div style=\"background-color: white; display: flex; white-space: pre\"><span class=\"barcode\"; style=\"color: black; background-color: rgba(84.49019607843138, 158.62745098039215, 205.2156862745098, 0.5)\" title=\"7.7424364\">8</span><div><div style=\"background-color: white; display: flex; white-space: pre\"><span class=\"barcode\"; style=\"color: black; background-color: rgba(84.49019607843138, 158.62745098039215, 205.2156862745098, 0.5)\" title=\"7.7424364\">9</span><div><div style=\"background-color: white; display: flex; white-space: pre\"><span class=\"barcode\"; style=\"color: black; background-color: rgba(84.49019607843138, 158.62745098039215, 205.2156862745098, 0.5)\" title=\"7.7424364\">8</span><div><div style=\"background-color: white; display: flex; white-space: pre\"><span class=\"barcode\"; style=\"color: black; background-color: rgba(84.49019607843138, 158.62745098039215, 205.2156862745098, 0.5)\" title=\"7.7424364\">.</span><div><div style=\"background-color: white; display: flex; white-space: pre\"><span class=\"barcode\"; style=\"color: black; background-color: rgba(28.490196078431374, 107.22745098039215, 176.49019607843138, 0.5)\" title=\"9.795396\"> The</span><div><div style=\"background-color: white; display: flex; white-space: pre\"><span class=\"barcode\"; style=\"color: black; background-color: rgba(28.490196078431374, 107.22745098039215, 176.49019607843138, 0.5)\" title=\"9.795396\"> mit</span><div><div style=\"background-color: white; display: flex; white-space: pre\"><span class=\"barcode\"; style=\"color: black; background-color: rgba(28.490196078431374, 107.22745098039215, 176.49019607843138, 0.5)\" title=\"9.795396\">och</span><div><div style=\"background-color: white; display: flex; white-space: pre\"><span class=\"barcode\"; style=\"color: black; background-color: rgba(28.490196078431374, 107.22745098039215, 176.49019607843138, 0.5)\" title=\"9.795396\">ond</span><div><div style=\"background-color: white; display: flex; white-space: pre\"><span class=\"barcode\"; style=\"color: black; background-color: rgba(28.490196078431374, 107.22745098039215, 176.49019607843138, 0.5)\" title=\"9.795396\">r</span><div><div style=\"background-color: white; display: flex; white-space: pre\"><span class=\"barcode\"; style=\"color: black; background-color: rgba(28.490196078431374, 107.22745098039215, 176.49019607843138, 0.5)\" title=\"9.795396\">ion</span><div><div style=\"background-color: white; display: flex; white-space: pre\"><span class=\"barcode\"; style=\"color: black; background-color: rgba(28.490196078431374, 107.22745098039215, 176.49019607843138, 0.5)\" title=\"9.795396\"> is</span><div><div style=\"background-color: white; display: flex; white-space: pre\"><span class=\"barcode\"; style=\"color: black; background-color: rgba(28.490196078431374, 107.22745098039215, 176.49019607843138, 0.5)\" title=\"9.795396\"> popular</span><div><div style=\"background-color: white; display: flex; white-space: pre\"><span class=\"barcode\"; style=\"color: black; background-color: rgba(28.490196078431374, 107.22745098039215, 176.49019607843138, 0.5)\" title=\"9.795396\">ly</span><div><div style=\"background-color: white; display: flex; white-space: pre\"><span class=\"barcode\"; style=\"color: black; background-color: rgba(28.490196078431374, 107.22745098039215, 176.49019607843138, 0.5)\" title=\"9.795396\"> nick</span><div><div style=\"background-color: white; display: flex; white-space: pre\"><span class=\"barcode\"; style=\"color: black; background-color: rgba(28.490196078431374, 107.22745098039215, 176.49019607843138, 0.5)\" title=\"9.795396\">named</span><div><div style=\"background-color: white; display: flex; white-space: pre\"><span class=\"barcode\"; style=\"color: black; background-color: rgba(28.490196078431374, 107.22745098039215, 176.49019607843138, 0.5)\" title=\"9.795396\"> the</span><div><div style=\"background-color: white; display: flex; white-space: pre\"><span class=\"barcode\"; style=\"color: black; background-color: rgba(28.490196078431374, 107.22745098039215, 176.49019607843138, 0.5)\" title=\"9.795396\"> \"</span><div><div style=\"background-color: white; display: flex; white-space: pre\"><span class=\"barcode\"; style=\"color: black; background-color: rgba(28.490196078431374, 107.22745098039215, 176.49019607843138, 0.5)\" title=\"9.795396\">power</span><div><div style=\"background-color: white; display: flex; white-space: pre\"><span class=\"barcode\"; style=\"color: black; background-color: rgba(28.490196078431374, 107.22745098039215, 176.49019607843138, 0.5)\" title=\"9.795396\">house</span><div><div style=\"background-color: white; display: flex; white-space: pre\"><span class=\"barcode\"; style=\"color: black; background-color: rgba(28.490196078431374, 107.22745098039215, 176.49019607843138, 0.5)\" title=\"9.795396\"> of</span><div><div style=\"background-color: white; display: flex; white-space: pre\"><span class=\"barcode\"; style=\"color: black; background-color: rgba(28.490196078431374, 107.22745098039215, 176.49019607843138, 0.5)\" title=\"9.795396\"> the</span><div><div style=\"background-color: white; display: flex; white-space: pre\"><span class=\"barcode\"; style=\"color: black; background-color: rgba(28.490196078431374, 107.22745098039215, 176.49019607843138, 0.5)\" title=\"9.795396\"> cell</span><div><div style=\"background-color: white; display: flex; white-space: pre\"><span class=\"barcode\"; style=\"color: black; background-color: rgba(28.490196078431374, 107.22745098039215, 176.49019607843138, 0.5)\" title=\"9.795396\">\",</span><div><div style=\"background-color: white; display: flex; white-space: pre\"><span class=\"barcode\"; style=\"color: black; background-color: rgba(28.490196078431374, 107.22745098039215, 176.49019607843138, 0.5)\" title=\"9.795396\"> a</span><div><div style=\"background-color: white; display: flex; white-space: pre\"><span class=\"barcode\"; style=\"color: black; background-color: rgba(28.490196078431374, 107.22745098039215, 176.49019607843138, 0.5)\" title=\"9.795396\"> phrase</span><div><div style=\"background-color: white; display: flex; white-space: pre\"><span class=\"barcode\"; style=\"color: black; background-color: rgba(28.490196078431374, 107.22745098039215, 176.49019607843138, 0.5)\" title=\"9.795396\"> co</span><div><div style=\"background-color: white; display: flex; white-space: pre\"><span class=\"barcode\"; style=\"color: black; background-color: rgba(28.490196078431374, 107.22745098039215, 176.49019607843138, 0.5)\" title=\"9.795396\">ined</span><div><div style=\"background-color: white; display: flex; white-space: pre\"><span class=\"barcode\"; style=\"color: black; background-color: rgba(28.490196078431374, 107.22745098039215, 176.49019607843138, 0.5)\" title=\"9.795396\"> by</span><div><div style=\"background-color: white; display: flex; white-space: pre\"><span class=\"barcode\"; style=\"color: black; background-color: rgba(28.490196078431374, 107.22745098039215, 176.49019607843138, 0.5)\" title=\"9.795396\"> Philip</span><div><div style=\"background-color: white; display: flex; white-space: pre\"><span class=\"barcode\"; style=\"color: black; background-color: rgba(28.490196078431374, 107.22745098039215, 176.49019607843138, 0.5)\" title=\"9.795396\"> Sie</span><div><div style=\"background-color: white; display: flex; white-space: pre\"><span class=\"barcode\"; style=\"color: black; background-color: rgba(28.490196078431374, 107.22745098039215, 176.49019607843138, 0.5)\" title=\"9.795396\">ke</span><div><div style=\"background-color: white; display: flex; white-space: pre\"><span class=\"barcode\"; style=\"color: black; background-color: rgba(28.490196078431374, 107.22745098039215, 176.49019607843138, 0.5)\" title=\"9.795396\">v</span><div><div style=\"background-color: white; display: flex; white-space: pre\"><span class=\"barcode\"; style=\"color: black; background-color: rgba(28.490196078431374, 107.22745098039215, 176.49019607843138, 0.5)\" title=\"9.795396\">itz</span><div><div style=\"background-color: white; display: flex; white-space: pre\"><span class=\"barcode\"; style=\"color: black; background-color: rgba(28.490196078431374, 107.22745098039215, 176.49019607843138, 0.5)\" title=\"9.795396\"> in</span><div><div style=\"background-color: white; display: flex; white-space: pre\"><span class=\"barcode\"; style=\"color: black; background-color: rgba(28.490196078431374, 107.22745098039215, 176.49019607843138, 0.5)\" title=\"9.795396\"> a</span><div><div style=\"background-color: white; display: flex; white-space: pre\"><span class=\"barcode\"; style=\"color: black; background-color: rgba(28.490196078431374, 107.22745098039215, 176.49019607843138, 0.5)\" title=\"9.795396\"> </span><div><div style=\"background-color: white; display: flex; white-space: pre\"><span class=\"barcode\"; style=\"color: black; background-color: rgba(28.490196078431374, 107.22745098039215, 176.49019607843138, 0.5)\" title=\"9.795396\">1</span><div><div style=\"background-color: white; display: flex; white-space: pre\"><span class=\"barcode\"; style=\"color: black; background-color: rgba(28.490196078431374, 107.22745098039215, 176.49019607843138, 0.5)\" title=\"9.795396\">9</span><div><div style=\"background-color: white; display: flex; white-space: pre\"><span class=\"barcode\"; style=\"color: black; background-color: rgba(28.490196078431374, 107.22745098039215, 176.49019607843138, 0.5)\" title=\"9.795396\">5</span><div><div style=\"background-color: white; display: flex; white-space: pre\"><span class=\"barcode\"; style=\"color: black; background-color: rgba(28.490196078431374, 107.22745098039215, 176.49019607843138, 0.5)\" title=\"9.795396\">7</span><div><div style=\"background-color: white; display: flex; white-space: pre\"><span class=\"barcode\"; style=\"color: black; background-color: rgba(28.490196078431374, 107.22745098039215, 176.49019607843138, 0.5)\" title=\"9.795396\"> article</span><div><div style=\"background-color: white; display: flex; white-space: pre\"><span class=\"barcode\"; style=\"color: black; background-color: rgba(28.490196078431374, 107.22745098039215, 176.49019607843138, 0.5)\" title=\"9.795396\"> of</span><div><div style=\"background-color: white; display: flex; white-space: pre\"><span class=\"barcode\"; style=\"color: black; background-color: rgba(28.490196078431374, 107.22745098039215, 176.49019607843138, 0.5)\" title=\"9.795396\"> the</span><div><div style=\"background-color: white; display: flex; white-space: pre\"><span class=\"barcode\"; style=\"color: black; background-color: rgba(28.490196078431374, 107.22745098039215, 176.49019607843138, 0.5)\" title=\"9.795396\"> same</span><div><div style=\"background-color: white; display: flex; white-space: pre\"><span class=\"barcode\"; style=\"color: black; background-color: rgba(28.490196078431374, 107.22745098039215, 176.49019607843138, 0.5)\" title=\"9.795396\"> name</span><div><div style=\"background-color: white; display: flex; white-space: pre\"><span class=\"barcode\"; style=\"color: black; background-color: rgba(28.490196078431374, 107.22745098039215, 176.49019607843138, 0.5)\" title=\"9.795396\">.</span><div>"
      ],
      "text/plain": [
       "<IPython.core.display.HTML object>"
      ]
     },
     "metadata": {},
     "output_type": "display_data"
    }
   ],
   "source": [
    "for reporter in reporters[2:3]:\n",
    "    # viz(reporter, sentence, sentence_level=True)\n",
    "    sentence = ' '.join(sentences)\n",
    "    print(sentence)\n",
    "    \n",
    "    viz(reporter, sentence)"
   ]
  },
  {
   "cell_type": "code",
   "execution_count": 79,
   "metadata": {},
   "outputs": [
    {
     "name": "stderr",
     "output_type": "stream",
     "text": [
      "Found cached dataset wikipedia (/mnt/ssd-2/hf_cache/wikipedia/20220301.simple/2.0.0/aa542ed919df55cc5d3347f42dd4521d05ca68751f50dbc32bae2a7f1e167559)\n",
      "100%|██████████| 1/1 [00:00<00:00, 435.86it/s]"
     ]
    },
    {
     "name": "stdout",
     "output_type": "stream",
     "text": [
      "Dataset({\n",
      "    features: ['id', 'url', 'title', 'text'],\n",
      "    num_rows: 205328\n",
      "})\n"
     ]
    },
    {
     "name": "stderr",
     "output_type": "stream",
     "text": [
      "\n"
     ]
    }
   ],
   "source": [
    "from datasets import load_dataset\n",
    "\n",
    "dataset = load_dataset(\"wikipedia\", \"20220301.simple\")\n",
    "train_dataset = dataset['train']\n",
    "\n",
    "print(train_dataset)\n",
    "print(len(train_dataset))\n",
    "print('hi')"
   ]
  },
  {
   "attachments": {},
   "cell_type": "markdown",
   "metadata": {},
   "source": [
    "# Sanity Checks"
   ]
  },
  {
   "cell_type": "code",
   "execution_count": 20,
   "metadata": {},
   "outputs": [],
   "source": [
    "# # Use einsum to do multiplication \n",
    "\n",
    "# reporter_weights_repeat = repeat(reporter_weights, 'b e -> b c e', c=len(input_tokens) + 1)\n",
    "# result = torch.einsum('bse,bse->bs', cat_hidden_states, reporter_weights_repeat)\n",
    "# print(result.shape)\n",
    "\n",
    "# sigmoid_result = torch.sigmoid(result)\n",
    "# softmax_result = torch.softmax(result, dim = -1)\n",
    "# torch.set_printoptions(precision=1)"
   ]
  },
  {
   "cell_type": "code",
   "execution_count": 21,
   "metadata": {},
   "outputs": [
    {
     "name": "stdout",
     "output_type": "stream",
     "text": [
      "tensor([[-5.1e-03,  1.5e-02,  1.8e-02,  1.3e-02,  4.8e-03, -6.8e-03, -1.9e-03,\n",
      "         -2.7e-02,  2.2e-02, -2.7e-02],\n",
      "        [-6.5e-01,  7.4e-02, -1.0e-01, -1.2e-01,  2.0e-01, -7.1e-02, -3.7e-02,\n",
      "         -3.2e-02,  6.1e-02, -8.2e-02],\n",
      "        [-2.3e+00, -1.1e+00, -2.6e-01, -1.1e+00, -5.4e-01, -1.6e+00, -4.8e-01,\n",
      "         -5.9e-01, -8.8e-01, -1.6e+00],\n",
      "        [-5.6e+01,  9.4e-01,  1.0e+00,  8.2e-01,  9.9e-01,  8.0e-01,  4.3e-01,\n",
      "          3.7e-01,  6.7e-01,  6.2e-01],\n",
      "        [-1.4e+01,  2.3e+00,  2.3e+00,  1.6e+00,  1.4e+00,  8.3e-01,  1.1e+00,\n",
      "          2.5e-01,  4.8e-01,  5.1e-01],\n",
      "        [-3.8e+01,  2.8e+00,  2.6e+00,  1.3e+00,  1.4e+00,  9.1e-01,  6.2e-01,\n",
      "          2.1e-01,  1.2e-01,  4.3e-01],\n",
      "        [ 4.5e+01, -2.6e+00, -3.2e+00, -1.5e+00, -1.9e+00, -1.1e+00, -4.0e-01,\n",
      "         -4.9e-01, -1.7e-01, -4.8e-01],\n",
      "        [ 3.3e+01, -2.7e+00, -3.8e+00, -1.4e+00, -1.9e+00, -1.3e+00, -9.0e-01,\n",
      "         -8.8e-01, -3.5e-01, -4.4e-01],\n",
      "        [ 1.7e+00,  3.7e+00,  5.2e+00,  2.7e+00,  3.3e+00,  3.1e+00,  1.8e+00,\n",
      "          1.3e+00,  7.4e-01,  1.2e+00],\n",
      "        [ 5.4e+00, -3.6e+00, -5.8e+00, -2.6e+00, -3.5e+00, -2.7e+00, -1.1e+00,\n",
      "         -1.1e+00, -6.8e-01, -9.6e-01],\n",
      "        [ 5.6e+00,  4.1e+00,  5.7e+00,  2.2e+00,  4.0e+00,  2.0e+00,  6.0e-01,\n",
      "          1.1e+00,  9.5e-01,  1.1e+00],\n",
      "        [-4.4e+00,  3.4e+00,  6.1e+00,  2.2e+00,  4.7e+00,  1.8e+00,  1.3e+00,\n",
      "          1.1e+00,  8.6e-01,  9.5e-01],\n",
      "        [-2.9e+01,  3.9e+00,  6.9e+00,  3.4e+00,  6.4e+00,  3.9e+00,  1.5e+00,\n",
      "          2.4e+00,  1.7e+00,  2.5e+00],\n",
      "        [-4.5e+01,  4.5e+00,  7.3e+00,  4.1e+00,  6.9e+00,  5.0e+00,  2.0e+00,\n",
      "          2.4e+00,  2.2e+00,  2.3e+00],\n",
      "        [ 1.4e+01, -4.2e+00, -5.8e+00, -3.1e+00, -5.1e+00, -3.4e+00, -6.0e-01,\n",
      "         -1.1e+00, -1.3e+00, -5.9e-02],\n",
      "        [-2.9e+01,  5.5e+00,  7.2e+00,  4.3e+00,  7.0e+00,  4.8e+00,  1.6e+00,\n",
      "          1.9e+00,  1.0e+00,  3.9e-01],\n",
      "        [-3.9e+01, -4.2e+00, -6.7e+00, -3.3e+00, -6.3e+00, -4.9e+00, -1.4e+00,\n",
      "         -1.9e+00, -1.1e+00, -7.2e-02],\n",
      "        [ 3.0e+01,  5.5e+00,  7.6e+00,  4.1e+00,  7.6e+00,  6.0e+00,  1.5e+00,\n",
      "          2.1e+00,  4.3e-01,  7.2e-01],\n",
      "        [ 4.7e+01,  3.0e+00,  4.2e+00,  2.0e+00,  4.6e+00,  3.5e+00,  9.2e-01,\n",
      "          8.7e-01,  1.0e+00, -6.1e-01],\n",
      "        [ 4.6e+01,  2.5e+00,  3.7e+00,  1.8e+00,  3.7e+00,  2.8e+00, -3.8e-02,\n",
      "         -5.7e-02,  1.4e+00, -6.6e-01],\n",
      "        [-5.0e+01, -5.7e-01, -2.3e+00, -9.1e-01, -2.1e+00, -8.5e-01, -2.4e-01,\n",
      "         -1.8e-02, -2.4e+00,  1.8e+00],\n",
      "        [-3.7e+01, -1.2e+00, -2.7e+00, -1.3e-01, -1.5e+00,  3.7e-01,  7.5e-01,\n",
      "         -6.1e-01, -2.3e+00,  2.1e+00],\n",
      "        [ 5.2e+01, -1.4e+00,  8.5e-01, -2.0e+00, -1.8e+00, -2.7e+00, -2.1e+00,\n",
      "         -1.3e+00,  1.1e+00, -5.7e+00],\n",
      "        [ 5.5e+01, -2.8e+00, -5.9e-01, -3.1e+00, -2.4e+00, -4.2e+00, -3.5e+00,\n",
      "         -2.9e+00, -9.2e-03, -7.5e+00],\n",
      "        [-6.4e+01,  4.1e+00,  1.6e+00,  3.7e+00,  5.3e+00,  7.4e+00,  4.2e+00,\n",
      "          4.5e+00,  8.1e-01,  1.0e+01],\n",
      "        [ 9.0e+01, -7.4e+00, -5.1e+00, -6.8e+00, -9.1e+00, -1.2e+01, -6.1e+00,\n",
      "         -8.0e+00, -2.4e+00, -1.4e+01],\n",
      "        [ 7.7e+01, -1.0e+01, -9.5e+00, -1.1e+01, -1.3e+01, -1.6e+01, -9.0e+00,\n",
      "         -1.2e+01, -6.2e+00, -1.8e+01],\n",
      "        [ 7.0e+01, -1.2e+01, -1.0e+01, -1.2e+01, -1.4e+01, -1.8e+01, -1.2e+01,\n",
      "         -1.4e+01, -8.4e+00, -2.0e+01],\n",
      "        [-7.3e+01,  1.4e+01,  1.1e+01,  1.3e+01,  1.5e+01,  2.2e+01,  1.3e+01,\n",
      "          1.6e+01,  9.3e+00,  2.2e+01],\n",
      "        [-7.5e+01,  1.7e+01,  1.5e+01,  1.7e+01,  2.0e+01,  2.7e+01,  1.7e+01,\n",
      "          2.1e+01,  1.3e+01,  2.7e+01],\n",
      "        [ 8.8e+01, -1.7e+01, -1.6e+01, -1.7e+01, -2.0e+01, -2.6e+01, -1.8e+01,\n",
      "         -2.1e+01, -1.1e+01, -2.8e+01],\n",
      "        [-8.8e+01,  1.8e+01,  1.6e+01,  1.6e+01,  2.0e+01,  2.7e+01,  1.9e+01,\n",
      "          2.2e+01,  1.3e+01,  2.9e+01],\n",
      "        [-8.9e+01,  2.2e+01,  2.0e+01,  1.9e+01,  2.2e+01,  3.2e+01,  2.2e+01,\n",
      "          2.7e+01,  1.5e+01,  3.2e+01],\n",
      "        [-9.1e+01,  2.4e+01,  2.1e+01,  2.0e+01,  2.5e+01,  3.5e+01,  2.5e+01,\n",
      "          3.1e+01,  1.8e+01,  3.6e+01],\n",
      "        [-8.4e+01,  2.2e+01,  2.0e+01,  1.9e+01,  2.5e+01,  3.6e+01,  2.5e+01,\n",
      "          3.0e+01,  1.7e+01,  3.5e+01],\n",
      "        [-1.0e+02,  2.4e+01,  2.1e+01,  2.2e+01,  2.5e+01,  3.9e+01,  2.6e+01,\n",
      "          3.2e+01,  1.7e+01,  3.6e+01],\n",
      "        [ 4.9e+01, -2.7e+01, -2.5e+01, -2.7e+01, -2.6e+01, -4.4e+01, -3.0e+01,\n",
      "         -3.7e+01, -1.7e+01, -3.8e+01],\n",
      "        [-1.8e+01, -2.8e+01, -2.8e+01, -2.9e+01, -2.8e+01, -4.6e+01, -3.0e+01,\n",
      "         -4.0e+01, -1.6e+01, -4.0e+01],\n",
      "        [ 5.9e+00,  2.6e+01,  2.9e+01,  3.1e+01,  2.6e+01,  4.8e+01,  3.2e+01,\n",
      "          4.1e+01,  1.3e+01,  4.2e+01],\n",
      "        [ 1.5e+01,  2.1e+01,  2.6e+01,  2.6e+01,  6.6e+00,  4.6e+01,  2.7e+01,\n",
      "          3.5e+01, -9.1e+00,  4.1e+01]], grad_fn=<ViewBackward0>)\n"
     ]
    }
   ],
   "source": [
    "print(result)"
   ]
  }
 ],
 "metadata": {
  "kernelspec": {
   "display_name": "Python 3 (ipykernel)",
   "language": "python",
   "name": "python3"
  },
  "language_info": {
   "codemirror_mode": {
    "name": "ipython",
    "version": 3
   },
   "file_extension": ".py",
   "mimetype": "text/x-python",
   "name": "python",
   "nbconvert_exporter": "python",
   "pygments_lexer": "ipython3",
   "version": "3.10.11"
  }
 },
 "nbformat": 4,
 "nbformat_minor": 2
}
