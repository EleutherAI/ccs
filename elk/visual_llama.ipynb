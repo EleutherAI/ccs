{
 "cells": [
  {
   "cell_type": "code",
   "execution_count": 81,
   "metadata": {},
   "outputs": [],
   "source": [
    "import torch\n",
    "from transformers import AutoTokenizer, AutoModel\n",
    "from pathlib import Path\n",
    "from einops import rearrange, repeat\n",
    "import os\n",
    "import numpy as np\n",
    "from dataclasses import dataclass\n",
    "import re"
   ]
  },
  {
   "cell_type": "code",
   "execution_count": 82,
   "metadata": {},
   "outputs": [
    {
     "data": {
      "text/html": [
       "<pre style=\"white-space:pre;overflow-x:auto;line-height:normal;font-family:Menlo,'DejaVu Sans Mono',consolas,'Courier New',monospace\"><span style=\"color: #800000; text-decoration-color: #800000\">╭─────────────────────────────── </span><span style=\"color: #800000; text-decoration-color: #800000; font-weight: bold\">Traceback </span><span style=\"color: #bf7f7f; text-decoration-color: #bf7f7f; font-weight: bold\">(most recent call last)</span><span style=\"color: #800000; text-decoration-color: #800000\"> ────────────────────────────────╮</span>\n",
       "<span style=\"color: #800000; text-decoration-color: #800000\">│</span> in <span style=\"color: #00ff00; text-decoration-color: #00ff00\">&lt;module&gt;</span>:<span style=\"color: #0000ff; text-decoration-color: #0000ff\">5</span>                                                                                    <span style=\"color: #800000; text-decoration-color: #800000\">│</span>\n",
       "<span style=\"color: #800000; text-decoration-color: #800000\">│</span>                                                                                                  <span style=\"color: #800000; text-decoration-color: #800000\">│</span>\n",
       "<span style=\"color: #800000; text-decoration-color: #800000\">│</span>   <span style=\"color: #7f7f7f; text-decoration-color: #7f7f7f\"> 2 </span>model_name = <span style=\"color: #808000; text-decoration-color: #808000\">\"huggyllama/llama-13b\"</span>                                                         <span style=\"color: #800000; text-decoration-color: #800000\">│</span>\n",
       "<span style=\"color: #800000; text-decoration-color: #800000\">│</span>   <span style=\"color: #7f7f7f; text-decoration-color: #7f7f7f\"> 3 # model_name = \"gpt2\"</span>                                                                       <span style=\"color: #800000; text-decoration-color: #800000\">│</span>\n",
       "<span style=\"color: #800000; text-decoration-color: #800000\">│</span>   <span style=\"color: #7f7f7f; text-decoration-color: #7f7f7f\"> 4 </span>tokenizer = AutoTokenizer.from_pretrained(model_name)                                       <span style=\"color: #800000; text-decoration-color: #800000\">│</span>\n",
       "<span style=\"color: #800000; text-decoration-color: #800000\">│</span> <span style=\"color: #800000; text-decoration-color: #800000\">❱ </span> 5 model = AutoModel.from_pretrained(model_name)                                               <span style=\"color: #800000; text-decoration-color: #800000\">│</span>\n",
       "<span style=\"color: #800000; text-decoration-color: #800000\">│</span>   <span style=\"color: #7f7f7f; text-decoration-color: #7f7f7f\"> 6 </span>                                                                                            <span style=\"color: #800000; text-decoration-color: #800000\">│</span>\n",
       "<span style=\"color: #800000; text-decoration-color: #800000\">│</span>   <span style=\"color: #7f7f7f; text-decoration-color: #7f7f7f\"> 7 # Tokenize input sequence</span>                                                                   <span style=\"color: #800000; text-decoration-color: #800000\">│</span>\n",
       "<span style=\"color: #800000; text-decoration-color: #800000\">│</span>   <span style=\"color: #7f7f7f; text-decoration-color: #7f7f7f\"> 8 </span>input_sequence = <span style=\"color: #808000; text-decoration-color: #808000\">\"This film is terrible, best to pass.\"</span>                                     <span style=\"color: #800000; text-decoration-color: #800000\">│</span>\n",
       "<span style=\"color: #800000; text-decoration-color: #800000\">│</span>                                                                                                  <span style=\"color: #800000; text-decoration-color: #800000\">│</span>\n",
       "<span style=\"color: #800000; text-decoration-color: #800000\">│</span> <span style=\"color: #bfbf7f; text-decoration-color: #bfbf7f\">/home/jon/miniconda3/envs/elk/lib/python3.10/site-packages/transformers/models/auto/</span><span style=\"color: #808000; text-decoration-color: #808000; font-weight: bold\">auto_factory</span> <span style=\"color: #800000; text-decoration-color: #800000\">│</span>\n",
       "<span style=\"color: #800000; text-decoration-color: #800000\">│</span> <span style=\"color: #808000; text-decoration-color: #808000; font-weight: bold\">.py</span>:<span style=\"color: #0000ff; text-decoration-color: #0000ff\">467</span> in <span style=\"color: #00ff00; text-decoration-color: #00ff00\">from_pretrained</span>                                                                       <span style=\"color: #800000; text-decoration-color: #800000\">│</span>\n",
       "<span style=\"color: #800000; text-decoration-color: #800000\">│</span>                                                                                                  <span style=\"color: #800000; text-decoration-color: #800000\">│</span>\n",
       "<span style=\"color: #800000; text-decoration-color: #800000\">│</span>   <span style=\"color: #7f7f7f; text-decoration-color: #7f7f7f\">464 </span><span style=\"color: #7f7f7f; text-decoration-color: #7f7f7f\">│   │   │   </span>)                                                                              <span style=\"color: #800000; text-decoration-color: #800000\">│</span>\n",
       "<span style=\"color: #800000; text-decoration-color: #800000\">│</span>   <span style=\"color: #7f7f7f; text-decoration-color: #7f7f7f\">465 </span><span style=\"color: #7f7f7f; text-decoration-color: #7f7f7f\">│   │   </span><span style=\"color: #0000ff; text-decoration-color: #0000ff\">elif</span> <span style=\"color: #00ffff; text-decoration-color: #00ffff\">type</span>(config) <span style=\"color: #ff00ff; text-decoration-color: #ff00ff\">in</span> <span style=\"color: #00ffff; text-decoration-color: #00ffff\">cls</span>._model_mapping.keys():                                    <span style=\"color: #800000; text-decoration-color: #800000\">│</span>\n",
       "<span style=\"color: #800000; text-decoration-color: #800000\">│</span>   <span style=\"color: #7f7f7f; text-decoration-color: #7f7f7f\">466 </span><span style=\"color: #7f7f7f; text-decoration-color: #7f7f7f\">│   │   │   </span>model_class = _get_model_class(config, <span style=\"color: #00ffff; text-decoration-color: #00ffff\">cls</span>._model_mapping)                     <span style=\"color: #800000; text-decoration-color: #800000\">│</span>\n",
       "<span style=\"color: #800000; text-decoration-color: #800000\">│</span> <span style=\"color: #800000; text-decoration-color: #800000\">❱ </span>467 <span style=\"color: #7f7f7f; text-decoration-color: #7f7f7f\">│   │   │   </span><span style=\"color: #0000ff; text-decoration-color: #0000ff\">return</span> model_class.from_pretrained(                                            <span style=\"color: #800000; text-decoration-color: #800000\">│</span>\n",
       "<span style=\"color: #800000; text-decoration-color: #800000\">│</span>   <span style=\"color: #7f7f7f; text-decoration-color: #7f7f7f\">468 </span><span style=\"color: #7f7f7f; text-decoration-color: #7f7f7f\">│   │   │   │   </span>pretrained_model_name_or_path, *model_args, config=config, **hub_kwargs,   <span style=\"color: #800000; text-decoration-color: #800000\">│</span>\n",
       "<span style=\"color: #800000; text-decoration-color: #800000\">│</span>   <span style=\"color: #7f7f7f; text-decoration-color: #7f7f7f\">469 </span><span style=\"color: #7f7f7f; text-decoration-color: #7f7f7f\">│   │   │   </span>)                                                                              <span style=\"color: #800000; text-decoration-color: #800000\">│</span>\n",
       "<span style=\"color: #800000; text-decoration-color: #800000\">│</span>   <span style=\"color: #7f7f7f; text-decoration-color: #7f7f7f\">470 </span><span style=\"color: #7f7f7f; text-decoration-color: #7f7f7f\">│   │   </span><span style=\"color: #0000ff; text-decoration-color: #0000ff\">raise</span> <span style=\"color: #00ffff; text-decoration-color: #00ffff\">ValueError</span>(                                                                  <span style=\"color: #800000; text-decoration-color: #800000\">│</span>\n",
       "<span style=\"color: #800000; text-decoration-color: #800000\">│</span>                                                                                                  <span style=\"color: #800000; text-decoration-color: #800000\">│</span>\n",
       "<span style=\"color: #800000; text-decoration-color: #800000\">│</span> <span style=\"color: #bfbf7f; text-decoration-color: #bfbf7f\">/home/jon/miniconda3/envs/elk/lib/python3.10/site-packages/transformers/</span><span style=\"color: #808000; text-decoration-color: #808000; font-weight: bold\">modeling_utils.py</span>:<span style=\"color: #0000ff; text-decoration-color: #0000ff\">2611</span>   <span style=\"color: #800000; text-decoration-color: #800000\">│</span>\n",
       "<span style=\"color: #800000; text-decoration-color: #800000\">│</span> in <span style=\"color: #00ff00; text-decoration-color: #00ff00\">from_pretrained</span>                                                                               <span style=\"color: #800000; text-decoration-color: #800000\">│</span>\n",
       "<span style=\"color: #800000; text-decoration-color: #800000\">│</span>                                                                                                  <span style=\"color: #800000; text-decoration-color: #800000\">│</span>\n",
       "<span style=\"color: #800000; text-decoration-color: #800000\">│</span>   <span style=\"color: #7f7f7f; text-decoration-color: #7f7f7f\">2608 </span><span style=\"color: #7f7f7f; text-decoration-color: #7f7f7f\">│   │   │   </span>init_contexts.append(init_empty_weights())                                    <span style=\"color: #800000; text-decoration-color: #800000\">│</span>\n",
       "<span style=\"color: #800000; text-decoration-color: #800000\">│</span>   <span style=\"color: #7f7f7f; text-decoration-color: #7f7f7f\">2609 </span><span style=\"color: #7f7f7f; text-decoration-color: #7f7f7f\">│   │   </span>                                                                                  <span style=\"color: #800000; text-decoration-color: #800000\">│</span>\n",
       "<span style=\"color: #800000; text-decoration-color: #800000\">│</span>   <span style=\"color: #7f7f7f; text-decoration-color: #7f7f7f\">2610 </span><span style=\"color: #7f7f7f; text-decoration-color: #7f7f7f\">│   │   </span><span style=\"color: #0000ff; text-decoration-color: #0000ff\">with</span> ContextManagers(init_contexts):                                              <span style=\"color: #800000; text-decoration-color: #800000\">│</span>\n",
       "<span style=\"color: #800000; text-decoration-color: #800000\">│</span> <span style=\"color: #800000; text-decoration-color: #800000\">❱ </span>2611 <span style=\"color: #7f7f7f; text-decoration-color: #7f7f7f\">│   │   │   </span>model = <span style=\"color: #00ffff; text-decoration-color: #00ffff\">cls</span>(config, *model_args, **model_kwargs)                              <span style=\"color: #800000; text-decoration-color: #800000\">│</span>\n",
       "<span style=\"color: #800000; text-decoration-color: #800000\">│</span>   <span style=\"color: #7f7f7f; text-decoration-color: #7f7f7f\">2612 </span><span style=\"color: #7f7f7f; text-decoration-color: #7f7f7f\">│   │   </span>                                                                                  <span style=\"color: #800000; text-decoration-color: #800000\">│</span>\n",
       "<span style=\"color: #800000; text-decoration-color: #800000\">│</span>   <span style=\"color: #7f7f7f; text-decoration-color: #7f7f7f\">2613 </span><span style=\"color: #7f7f7f; text-decoration-color: #7f7f7f\">│   │   </span><span style=\"color: #7f7f7f; text-decoration-color: #7f7f7f\"># Check first if we are `from_pt`</span>                                                 <span style=\"color: #800000; text-decoration-color: #800000\">│</span>\n",
       "<span style=\"color: #800000; text-decoration-color: #800000\">│</span>   <span style=\"color: #7f7f7f; text-decoration-color: #7f7f7f\">2614 </span><span style=\"color: #7f7f7f; text-decoration-color: #7f7f7f\">│   │   </span><span style=\"color: #0000ff; text-decoration-color: #0000ff\">if</span> use_keep_in_fp32_modules:                                                      <span style=\"color: #800000; text-decoration-color: #800000\">│</span>\n",
       "<span style=\"color: #800000; text-decoration-color: #800000\">│</span>                                                                                                  <span style=\"color: #800000; text-decoration-color: #800000\">│</span>\n",
       "<span style=\"color: #800000; text-decoration-color: #800000\">│</span> <span style=\"color: #bfbf7f; text-decoration-color: #bfbf7f\">/home/jon/miniconda3/envs/elk/lib/python3.10/site-packages/transformers/models/llama/</span><span style=\"color: #808000; text-decoration-color: #808000; font-weight: bold\">modeling_ll</span> <span style=\"color: #800000; text-decoration-color: #800000\">│</span>\n",
       "<span style=\"color: #800000; text-decoration-color: #800000\">│</span> <span style=\"color: #808000; text-decoration-color: #808000; font-weight: bold\">ama.py</span>:<span style=\"color: #0000ff; text-decoration-color: #0000ff\">446</span> in <span style=\"color: #00ff00; text-decoration-color: #00ff00\">__init__</span>                                                                           <span style=\"color: #800000; text-decoration-color: #800000\">│</span>\n",
       "<span style=\"color: #800000; text-decoration-color: #800000\">│</span>                                                                                                  <span style=\"color: #800000; text-decoration-color: #800000\">│</span>\n",
       "<span style=\"color: #800000; text-decoration-color: #800000\">│</span>   <span style=\"color: #7f7f7f; text-decoration-color: #7f7f7f\">443 </span><span style=\"color: #7f7f7f; text-decoration-color: #7f7f7f\">│   │   </span><span style=\"color: #00ffff; text-decoration-color: #00ffff\">self</span>.vocab_size = config.vocab_size                                                <span style=\"color: #800000; text-decoration-color: #800000\">│</span>\n",
       "<span style=\"color: #800000; text-decoration-color: #800000\">│</span>   <span style=\"color: #7f7f7f; text-decoration-color: #7f7f7f\">444 </span><span style=\"color: #7f7f7f; text-decoration-color: #7f7f7f\">│   │   </span>                                                                                   <span style=\"color: #800000; text-decoration-color: #800000\">│</span>\n",
       "<span style=\"color: #800000; text-decoration-color: #800000\">│</span>   <span style=\"color: #7f7f7f; text-decoration-color: #7f7f7f\">445 </span><span style=\"color: #7f7f7f; text-decoration-color: #7f7f7f\">│   │   </span><span style=\"color: #00ffff; text-decoration-color: #00ffff\">self</span>.embed_tokens = nn.Embedding(config.vocab_size, config.hidden_size, <span style=\"color: #00ffff; text-decoration-color: #00ffff\">self</span>.pad   <span style=\"color: #800000; text-decoration-color: #800000\">│</span>\n",
       "<span style=\"color: #800000; text-decoration-color: #800000\">│</span> <span style=\"color: #800000; text-decoration-color: #800000\">❱ </span>446 <span style=\"color: #7f7f7f; text-decoration-color: #7f7f7f\">│   │   </span><span style=\"color: #00ffff; text-decoration-color: #00ffff\">self</span>.layers = nn.ModuleList([LlamaDecoderLayer(config) <span style=\"color: #0000ff; text-decoration-color: #0000ff\">for</span> _ <span style=\"color: #ff00ff; text-decoration-color: #ff00ff\">in</span> <span style=\"color: #00ffff; text-decoration-color: #00ffff\">range</span>(config.num   <span style=\"color: #800000; text-decoration-color: #800000\">│</span>\n",
       "<span style=\"color: #800000; text-decoration-color: #800000\">│</span>   <span style=\"color: #7f7f7f; text-decoration-color: #7f7f7f\">447 </span><span style=\"color: #7f7f7f; text-decoration-color: #7f7f7f\">│   │   </span><span style=\"color: #00ffff; text-decoration-color: #00ffff\">self</span>.norm = LlamaRMSNorm(config.hidden_size, eps=config.rms_norm_eps)              <span style=\"color: #800000; text-decoration-color: #800000\">│</span>\n",
       "<span style=\"color: #800000; text-decoration-color: #800000\">│</span>   <span style=\"color: #7f7f7f; text-decoration-color: #7f7f7f\">448 </span><span style=\"color: #7f7f7f; text-decoration-color: #7f7f7f\">│   │   </span>                                                                                   <span style=\"color: #800000; text-decoration-color: #800000\">│</span>\n",
       "<span style=\"color: #800000; text-decoration-color: #800000\">│</span>   <span style=\"color: #7f7f7f; text-decoration-color: #7f7f7f\">449 </span><span style=\"color: #7f7f7f; text-decoration-color: #7f7f7f\">│   │   </span><span style=\"color: #00ffff; text-decoration-color: #00ffff\">self</span>.gradient_checkpointing = <span style=\"color: #0000ff; text-decoration-color: #0000ff\">False</span>                                                <span style=\"color: #800000; text-decoration-color: #800000\">│</span>\n",
       "<span style=\"color: #800000; text-decoration-color: #800000\">│</span>                                                                                                  <span style=\"color: #800000; text-decoration-color: #800000\">│</span>\n",
       "<span style=\"color: #800000; text-decoration-color: #800000\">│</span> <span style=\"color: #bfbf7f; text-decoration-color: #bfbf7f\">/home/jon/miniconda3/envs/elk/lib/python3.10/site-packages/transformers/models/llama/</span><span style=\"color: #808000; text-decoration-color: #808000; font-weight: bold\">modeling_ll</span> <span style=\"color: #800000; text-decoration-color: #800000\">│</span>\n",
       "<span style=\"color: #800000; text-decoration-color: #800000\">│</span> <span style=\"color: #808000; text-decoration-color: #808000; font-weight: bold\">ama.py</span>:<span style=\"color: #0000ff; text-decoration-color: #0000ff\">446</span> in <span style=\"color: #00ff00; text-decoration-color: #00ff00\">&lt;listcomp&gt;</span>                                                                         <span style=\"color: #800000; text-decoration-color: #800000\">│</span>\n",
       "<span style=\"color: #800000; text-decoration-color: #800000\">│</span>                                                                                                  <span style=\"color: #800000; text-decoration-color: #800000\">│</span>\n",
       "<span style=\"color: #800000; text-decoration-color: #800000\">│</span>   <span style=\"color: #7f7f7f; text-decoration-color: #7f7f7f\">443 </span><span style=\"color: #7f7f7f; text-decoration-color: #7f7f7f\">│   │   </span><span style=\"color: #00ffff; text-decoration-color: #00ffff\">self</span>.vocab_size = config.vocab_size                                                <span style=\"color: #800000; text-decoration-color: #800000\">│</span>\n",
       "<span style=\"color: #800000; text-decoration-color: #800000\">│</span>   <span style=\"color: #7f7f7f; text-decoration-color: #7f7f7f\">444 </span><span style=\"color: #7f7f7f; text-decoration-color: #7f7f7f\">│   │   </span>                                                                                   <span style=\"color: #800000; text-decoration-color: #800000\">│</span>\n",
       "<span style=\"color: #800000; text-decoration-color: #800000\">│</span>   <span style=\"color: #7f7f7f; text-decoration-color: #7f7f7f\">445 </span><span style=\"color: #7f7f7f; text-decoration-color: #7f7f7f\">│   │   </span><span style=\"color: #00ffff; text-decoration-color: #00ffff\">self</span>.embed_tokens = nn.Embedding(config.vocab_size, config.hidden_size, <span style=\"color: #00ffff; text-decoration-color: #00ffff\">self</span>.pad   <span style=\"color: #800000; text-decoration-color: #800000\">│</span>\n",
       "<span style=\"color: #800000; text-decoration-color: #800000\">│</span> <span style=\"color: #800000; text-decoration-color: #800000\">❱ </span>446 <span style=\"color: #7f7f7f; text-decoration-color: #7f7f7f\">│   │   </span><span style=\"color: #00ffff; text-decoration-color: #00ffff\">self</span>.layers = nn.ModuleList([LlamaDecoderLayer(config) <span style=\"color: #0000ff; text-decoration-color: #0000ff\">for</span> _ <span style=\"color: #ff00ff; text-decoration-color: #ff00ff\">in</span> <span style=\"color: #00ffff; text-decoration-color: #00ffff\">range</span>(config.num   <span style=\"color: #800000; text-decoration-color: #800000\">│</span>\n",
       "<span style=\"color: #800000; text-decoration-color: #800000\">│</span>   <span style=\"color: #7f7f7f; text-decoration-color: #7f7f7f\">447 </span><span style=\"color: #7f7f7f; text-decoration-color: #7f7f7f\">│   │   </span><span style=\"color: #00ffff; text-decoration-color: #00ffff\">self</span>.norm = LlamaRMSNorm(config.hidden_size, eps=config.rms_norm_eps)              <span style=\"color: #800000; text-decoration-color: #800000\">│</span>\n",
       "<span style=\"color: #800000; text-decoration-color: #800000\">│</span>   <span style=\"color: #7f7f7f; text-decoration-color: #7f7f7f\">448 </span><span style=\"color: #7f7f7f; text-decoration-color: #7f7f7f\">│   │   </span>                                                                                   <span style=\"color: #800000; text-decoration-color: #800000\">│</span>\n",
       "<span style=\"color: #800000; text-decoration-color: #800000\">│</span>   <span style=\"color: #7f7f7f; text-decoration-color: #7f7f7f\">449 </span><span style=\"color: #7f7f7f; text-decoration-color: #7f7f7f\">│   │   </span><span style=\"color: #00ffff; text-decoration-color: #00ffff\">self</span>.gradient_checkpointing = <span style=\"color: #0000ff; text-decoration-color: #0000ff\">False</span>                                                <span style=\"color: #800000; text-decoration-color: #800000\">│</span>\n",
       "<span style=\"color: #800000; text-decoration-color: #800000\">│</span>                                                                                                  <span style=\"color: #800000; text-decoration-color: #800000\">│</span>\n",
       "<span style=\"color: #800000; text-decoration-color: #800000\">│</span> <span style=\"color: #bfbf7f; text-decoration-color: #bfbf7f\">/home/jon/miniconda3/envs/elk/lib/python3.10/site-packages/transformers/models/llama/</span><span style=\"color: #808000; text-decoration-color: #808000; font-weight: bold\">modeling_ll</span> <span style=\"color: #800000; text-decoration-color: #800000\">│</span>\n",
       "<span style=\"color: #800000; text-decoration-color: #800000\">│</span> <span style=\"color: #808000; text-decoration-color: #808000; font-weight: bold\">ama.py</span>:<span style=\"color: #0000ff; text-decoration-color: #0000ff\">256</span> in <span style=\"color: #00ff00; text-decoration-color: #00ff00\">__init__</span>                                                                           <span style=\"color: #800000; text-decoration-color: #800000\">│</span>\n",
       "<span style=\"color: #800000; text-decoration-color: #800000\">│</span>                                                                                                  <span style=\"color: #800000; text-decoration-color: #800000\">│</span>\n",
       "<span style=\"color: #800000; text-decoration-color: #800000\">│</span>   <span style=\"color: #7f7f7f; text-decoration-color: #7f7f7f\">253 </span><span style=\"color: #7f7f7f; text-decoration-color: #7f7f7f\">│   </span><span style=\"color: #0000ff; text-decoration-color: #0000ff\">def</span> <span style=\"color: #00ff00; text-decoration-color: #00ff00\">__init__</span>(<span style=\"color: #00ffff; text-decoration-color: #00ffff\">self</span>, config: LlamaConfig):                                               <span style=\"color: #800000; text-decoration-color: #800000\">│</span>\n",
       "<span style=\"color: #800000; text-decoration-color: #800000\">│</span>   <span style=\"color: #7f7f7f; text-decoration-color: #7f7f7f\">254 </span><span style=\"color: #7f7f7f; text-decoration-color: #7f7f7f\">│   │   </span><span style=\"color: #00ffff; text-decoration-color: #00ffff\">super</span>().<span style=\"color: #00ff00; text-decoration-color: #00ff00\">__init__</span>()                                                                 <span style=\"color: #800000; text-decoration-color: #800000\">│</span>\n",
       "<span style=\"color: #800000; text-decoration-color: #800000\">│</span>   <span style=\"color: #7f7f7f; text-decoration-color: #7f7f7f\">255 </span><span style=\"color: #7f7f7f; text-decoration-color: #7f7f7f\">│   │   </span><span style=\"color: #00ffff; text-decoration-color: #00ffff\">self</span>.hidden_size = config.hidden_size                                              <span style=\"color: #800000; text-decoration-color: #800000\">│</span>\n",
       "<span style=\"color: #800000; text-decoration-color: #800000\">│</span> <span style=\"color: #800000; text-decoration-color: #800000\">❱ </span>256 <span style=\"color: #7f7f7f; text-decoration-color: #7f7f7f\">│   │   </span><span style=\"color: #00ffff; text-decoration-color: #00ffff\">self</span>.self_attn = LlamaAttention(config=config)                                     <span style=\"color: #800000; text-decoration-color: #800000\">│</span>\n",
       "<span style=\"color: #800000; text-decoration-color: #800000\">│</span>   <span style=\"color: #7f7f7f; text-decoration-color: #7f7f7f\">257 </span><span style=\"color: #7f7f7f; text-decoration-color: #7f7f7f\">│   │   </span><span style=\"color: #00ffff; text-decoration-color: #00ffff\">self</span>.mlp = LlamaMLP(                                                               <span style=\"color: #800000; text-decoration-color: #800000\">│</span>\n",
       "<span style=\"color: #800000; text-decoration-color: #800000\">│</span>   <span style=\"color: #7f7f7f; text-decoration-color: #7f7f7f\">258 </span><span style=\"color: #7f7f7f; text-decoration-color: #7f7f7f\">│   │   │   </span>hidden_size=<span style=\"color: #00ffff; text-decoration-color: #00ffff\">self</span>.hidden_size,                                                  <span style=\"color: #800000; text-decoration-color: #800000\">│</span>\n",
       "<span style=\"color: #800000; text-decoration-color: #800000\">│</span>   <span style=\"color: #7f7f7f; text-decoration-color: #7f7f7f\">259 </span><span style=\"color: #7f7f7f; text-decoration-color: #7f7f7f\">│   │   │   </span>intermediate_size=config.intermediate_size,                                    <span style=\"color: #800000; text-decoration-color: #800000\">│</span>\n",
       "<span style=\"color: #800000; text-decoration-color: #800000\">│</span>                                                                                                  <span style=\"color: #800000; text-decoration-color: #800000\">│</span>\n",
       "<span style=\"color: #800000; text-decoration-color: #800000\">│</span> <span style=\"color: #bfbf7f; text-decoration-color: #bfbf7f\">/home/jon/miniconda3/envs/elk/lib/python3.10/site-packages/transformers/models/llama/</span><span style=\"color: #808000; text-decoration-color: #808000; font-weight: bold\">modeling_ll</span> <span style=\"color: #800000; text-decoration-color: #800000\">│</span>\n",
       "<span style=\"color: #800000; text-decoration-color: #800000\">│</span> <span style=\"color: #808000; text-decoration-color: #808000; font-weight: bold\">ama.py</span>:<span style=\"color: #0000ff; text-decoration-color: #0000ff\">179</span> in <span style=\"color: #00ff00; text-decoration-color: #00ff00\">__init__</span>                                                                           <span style=\"color: #800000; text-decoration-color: #800000\">│</span>\n",
       "<span style=\"color: #800000; text-decoration-color: #800000\">│</span>                                                                                                  <span style=\"color: #800000; text-decoration-color: #800000\">│</span>\n",
       "<span style=\"color: #800000; text-decoration-color: #800000\">│</span>   <span style=\"color: #7f7f7f; text-decoration-color: #7f7f7f\">176 </span><span style=\"color: #7f7f7f; text-decoration-color: #7f7f7f\">│   │   │   </span>)                                                                              <span style=\"color: #800000; text-decoration-color: #800000\">│</span>\n",
       "<span style=\"color: #800000; text-decoration-color: #800000\">│</span>   <span style=\"color: #7f7f7f; text-decoration-color: #7f7f7f\">177 </span><span style=\"color: #7f7f7f; text-decoration-color: #7f7f7f\">│   │   </span><span style=\"color: #00ffff; text-decoration-color: #00ffff\">self</span>.q_proj = nn.Linear(<span style=\"color: #00ffff; text-decoration-color: #00ffff\">self</span>.hidden_size, <span style=\"color: #00ffff; text-decoration-color: #00ffff\">self</span>.num_heads * <span style=\"color: #00ffff; text-decoration-color: #00ffff\">self</span>.head_dim, bias=<span style=\"color: #0000ff; text-decoration-color: #0000ff\">F</span>   <span style=\"color: #800000; text-decoration-color: #800000\">│</span>\n",
       "<span style=\"color: #800000; text-decoration-color: #800000\">│</span>   <span style=\"color: #7f7f7f; text-decoration-color: #7f7f7f\">178 </span><span style=\"color: #7f7f7f; text-decoration-color: #7f7f7f\">│   │   </span><span style=\"color: #00ffff; text-decoration-color: #00ffff\">self</span>.k_proj = nn.Linear(<span style=\"color: #00ffff; text-decoration-color: #00ffff\">self</span>.hidden_size, <span style=\"color: #00ffff; text-decoration-color: #00ffff\">self</span>.num_heads * <span style=\"color: #00ffff; text-decoration-color: #00ffff\">self</span>.head_dim, bias=<span style=\"color: #0000ff; text-decoration-color: #0000ff\">F</span>   <span style=\"color: #800000; text-decoration-color: #800000\">│</span>\n",
       "<span style=\"color: #800000; text-decoration-color: #800000\">│</span> <span style=\"color: #800000; text-decoration-color: #800000\">❱ </span>179 <span style=\"color: #7f7f7f; text-decoration-color: #7f7f7f\">│   │   </span><span style=\"color: #00ffff; text-decoration-color: #00ffff\">self</span>.v_proj = nn.Linear(<span style=\"color: #00ffff; text-decoration-color: #00ffff\">self</span>.hidden_size, <span style=\"color: #00ffff; text-decoration-color: #00ffff\">self</span>.num_heads * <span style=\"color: #00ffff; text-decoration-color: #00ffff\">self</span>.head_dim, bias=<span style=\"color: #0000ff; text-decoration-color: #0000ff\">F</span>   <span style=\"color: #800000; text-decoration-color: #800000\">│</span>\n",
       "<span style=\"color: #800000; text-decoration-color: #800000\">│</span>   <span style=\"color: #7f7f7f; text-decoration-color: #7f7f7f\">180 </span><span style=\"color: #7f7f7f; text-decoration-color: #7f7f7f\">│   │   </span><span style=\"color: #00ffff; text-decoration-color: #00ffff\">self</span>.o_proj = nn.Linear(<span style=\"color: #00ffff; text-decoration-color: #00ffff\">self</span>.num_heads * <span style=\"color: #00ffff; text-decoration-color: #00ffff\">self</span>.head_dim, <span style=\"color: #00ffff; text-decoration-color: #00ffff\">self</span>.hidden_size, bias=<span style=\"color: #0000ff; text-decoration-color: #0000ff\">F</span>   <span style=\"color: #800000; text-decoration-color: #800000\">│</span>\n",
       "<span style=\"color: #800000; text-decoration-color: #800000\">│</span>   <span style=\"color: #7f7f7f; text-decoration-color: #7f7f7f\">181 </span><span style=\"color: #7f7f7f; text-decoration-color: #7f7f7f\">│   │   </span><span style=\"color: #00ffff; text-decoration-color: #00ffff\">self</span>.rotary_emb = LlamaRotaryEmbedding(<span style=\"color: #00ffff; text-decoration-color: #00ffff\">self</span>.head_dim, max_position_embeddings=<span style=\"color: #00ffff; text-decoration-color: #00ffff\">se</span>   <span style=\"color: #800000; text-decoration-color: #800000\">│</span>\n",
       "<span style=\"color: #800000; text-decoration-color: #800000\">│</span>   <span style=\"color: #7f7f7f; text-decoration-color: #7f7f7f\">182 </span>                                                                                           <span style=\"color: #800000; text-decoration-color: #800000\">│</span>\n",
       "<span style=\"color: #800000; text-decoration-color: #800000\">│</span>                                                                                                  <span style=\"color: #800000; text-decoration-color: #800000\">│</span>\n",
       "<span style=\"color: #800000; text-decoration-color: #800000\">│</span> <span style=\"color: #bfbf7f; text-decoration-color: #bfbf7f\">/home/jon/miniconda3/envs/elk/lib/python3.10/site-packages/torch/nn/modules/</span><span style=\"color: #808000; text-decoration-color: #808000; font-weight: bold\">linear.py</span>:<span style=\"color: #0000ff; text-decoration-color: #0000ff\">101</span> in     <span style=\"color: #800000; text-decoration-color: #800000\">│</span>\n",
       "<span style=\"color: #800000; text-decoration-color: #800000\">│</span> <span style=\"color: #00ff00; text-decoration-color: #00ff00\">__init__</span>                                                                                         <span style=\"color: #800000; text-decoration-color: #800000\">│</span>\n",
       "<span style=\"color: #800000; text-decoration-color: #800000\">│</span>                                                                                                  <span style=\"color: #800000; text-decoration-color: #800000\">│</span>\n",
       "<span style=\"color: #800000; text-decoration-color: #800000\">│</span>   <span style=\"color: #7f7f7f; text-decoration-color: #7f7f7f\"> 98 </span><span style=\"color: #7f7f7f; text-decoration-color: #7f7f7f\">│   │   │   </span><span style=\"color: #00ffff; text-decoration-color: #00ffff\">self</span>.bias = Parameter(torch.empty(out_features, **factory_kwargs))             <span style=\"color: #800000; text-decoration-color: #800000\">│</span>\n",
       "<span style=\"color: #800000; text-decoration-color: #800000\">│</span>   <span style=\"color: #7f7f7f; text-decoration-color: #7f7f7f\"> 99 </span><span style=\"color: #7f7f7f; text-decoration-color: #7f7f7f\">│   │   </span><span style=\"color: #0000ff; text-decoration-color: #0000ff\">else</span>:                                                                              <span style=\"color: #800000; text-decoration-color: #800000\">│</span>\n",
       "<span style=\"color: #800000; text-decoration-color: #800000\">│</span>   <span style=\"color: #7f7f7f; text-decoration-color: #7f7f7f\">100 </span><span style=\"color: #7f7f7f; text-decoration-color: #7f7f7f\">│   │   │   </span><span style=\"color: #00ffff; text-decoration-color: #00ffff\">self</span>.register_parameter(<span style=\"color: #808000; text-decoration-color: #808000\">'bias'</span>, <span style=\"color: #0000ff; text-decoration-color: #0000ff\">None</span>)                                          <span style=\"color: #800000; text-decoration-color: #800000\">│</span>\n",
       "<span style=\"color: #800000; text-decoration-color: #800000\">│</span> <span style=\"color: #800000; text-decoration-color: #800000\">❱ </span>101 <span style=\"color: #7f7f7f; text-decoration-color: #7f7f7f\">│   │   </span><span style=\"color: #00ffff; text-decoration-color: #00ffff\">self</span>.reset_parameters()                                                            <span style=\"color: #800000; text-decoration-color: #800000\">│</span>\n",
       "<span style=\"color: #800000; text-decoration-color: #800000\">│</span>   <span style=\"color: #7f7f7f; text-decoration-color: #7f7f7f\">102 </span><span style=\"color: #7f7f7f; text-decoration-color: #7f7f7f\">│   </span>                                                                                       <span style=\"color: #800000; text-decoration-color: #800000\">│</span>\n",
       "<span style=\"color: #800000; text-decoration-color: #800000\">│</span>   <span style=\"color: #7f7f7f; text-decoration-color: #7f7f7f\">103 </span><span style=\"color: #7f7f7f; text-decoration-color: #7f7f7f\">│   </span><span style=\"color: #0000ff; text-decoration-color: #0000ff\">def</span> <span style=\"color: #00ff00; text-decoration-color: #00ff00\">reset_parameters</span>(<span style=\"color: #00ffff; text-decoration-color: #00ffff\">self</span>) -&gt; <span style=\"color: #0000ff; text-decoration-color: #0000ff\">None</span>:                                                    <span style=\"color: #800000; text-decoration-color: #800000\">│</span>\n",
       "<span style=\"color: #800000; text-decoration-color: #800000\">│</span>   <span style=\"color: #7f7f7f; text-decoration-color: #7f7f7f\">104 </span><span style=\"color: #7f7f7f; text-decoration-color: #7f7f7f\">│   │   </span><span style=\"color: #7f7f7f; text-decoration-color: #7f7f7f\"># Setting a=sqrt(5) in kaiming_uniform is the same as initializing with</span>            <span style=\"color: #800000; text-decoration-color: #800000\">│</span>\n",
       "<span style=\"color: #800000; text-decoration-color: #800000\">│</span>                                                                                                  <span style=\"color: #800000; text-decoration-color: #800000\">│</span>\n",
       "<span style=\"color: #800000; text-decoration-color: #800000\">│</span> <span style=\"color: #bfbf7f; text-decoration-color: #bfbf7f\">/home/jon/miniconda3/envs/elk/lib/python3.10/site-packages/torch/nn/modules/</span><span style=\"color: #808000; text-decoration-color: #808000; font-weight: bold\">linear.py</span>:<span style=\"color: #0000ff; text-decoration-color: #0000ff\">107</span> in     <span style=\"color: #800000; text-decoration-color: #800000\">│</span>\n",
       "<span style=\"color: #800000; text-decoration-color: #800000\">│</span> <span style=\"color: #00ff00; text-decoration-color: #00ff00\">reset_parameters</span>                                                                                 <span style=\"color: #800000; text-decoration-color: #800000\">│</span>\n",
       "<span style=\"color: #800000; text-decoration-color: #800000\">│</span>                                                                                                  <span style=\"color: #800000; text-decoration-color: #800000\">│</span>\n",
       "<span style=\"color: #800000; text-decoration-color: #800000\">│</span>   <span style=\"color: #7f7f7f; text-decoration-color: #7f7f7f\">104 </span><span style=\"color: #7f7f7f; text-decoration-color: #7f7f7f\">│   │   </span><span style=\"color: #7f7f7f; text-decoration-color: #7f7f7f\"># Setting a=sqrt(5) in kaiming_uniform is the same as initializing with</span>            <span style=\"color: #800000; text-decoration-color: #800000\">│</span>\n",
       "<span style=\"color: #800000; text-decoration-color: #800000\">│</span>   <span style=\"color: #7f7f7f; text-decoration-color: #7f7f7f\">105 </span><span style=\"color: #7f7f7f; text-decoration-color: #7f7f7f\">│   │   </span><span style=\"color: #7f7f7f; text-decoration-color: #7f7f7f\"># uniform(-1/sqrt(in_features), 1/sqrt(in_features)). For details, see</span>             <span style=\"color: #800000; text-decoration-color: #800000\">│</span>\n",
       "<span style=\"color: #800000; text-decoration-color: #800000\">│</span>   <span style=\"color: #7f7f7f; text-decoration-color: #7f7f7f\">106 </span><span style=\"color: #7f7f7f; text-decoration-color: #7f7f7f\">│   │   </span><span style=\"color: #7f7f7f; text-decoration-color: #7f7f7f\"># https://github.com/pytorch/pytorch/issues/57109</span>                                  <span style=\"color: #800000; text-decoration-color: #800000\">│</span>\n",
       "<span style=\"color: #800000; text-decoration-color: #800000\">│</span> <span style=\"color: #800000; text-decoration-color: #800000\">❱ </span>107 <span style=\"color: #7f7f7f; text-decoration-color: #7f7f7f\">│   │   </span>init.kaiming_uniform_(<span style=\"color: #00ffff; text-decoration-color: #00ffff\">self</span>.weight, a=math.sqrt(<span style=\"color: #0000ff; text-decoration-color: #0000ff\">5</span>))                                 <span style=\"color: #800000; text-decoration-color: #800000\">│</span>\n",
       "<span style=\"color: #800000; text-decoration-color: #800000\">│</span>   <span style=\"color: #7f7f7f; text-decoration-color: #7f7f7f\">108 </span><span style=\"color: #7f7f7f; text-decoration-color: #7f7f7f\">│   │   </span><span style=\"color: #0000ff; text-decoration-color: #0000ff\">if</span> <span style=\"color: #00ffff; text-decoration-color: #00ffff\">self</span>.bias <span style=\"color: #ff00ff; text-decoration-color: #ff00ff\">is</span> <span style=\"color: #ff00ff; text-decoration-color: #ff00ff\">not</span> <span style=\"color: #0000ff; text-decoration-color: #0000ff\">None</span>:                                                          <span style=\"color: #800000; text-decoration-color: #800000\">│</span>\n",
       "<span style=\"color: #800000; text-decoration-color: #800000\">│</span>   <span style=\"color: #7f7f7f; text-decoration-color: #7f7f7f\">109 </span><span style=\"color: #7f7f7f; text-decoration-color: #7f7f7f\">│   │   │   </span>fan_in, _ = init._calculate_fan_in_and_fan_out(<span style=\"color: #00ffff; text-decoration-color: #00ffff\">self</span>.weight)                    <span style=\"color: #800000; text-decoration-color: #800000\">│</span>\n",
       "<span style=\"color: #800000; text-decoration-color: #800000\">│</span>   <span style=\"color: #7f7f7f; text-decoration-color: #7f7f7f\">110 </span><span style=\"color: #7f7f7f; text-decoration-color: #7f7f7f\">│   │   │   </span>bound = <span style=\"color: #0000ff; text-decoration-color: #0000ff\">1</span> / math.sqrt(fan_in) <span style=\"color: #0000ff; text-decoration-color: #0000ff\">if</span> fan_in &gt; <span style=\"color: #0000ff; text-decoration-color: #0000ff\">0</span> <span style=\"color: #0000ff; text-decoration-color: #0000ff\">else</span> <span style=\"color: #0000ff; text-decoration-color: #0000ff\">0</span>                             <span style=\"color: #800000; text-decoration-color: #800000\">│</span>\n",
       "<span style=\"color: #800000; text-decoration-color: #800000\">│</span>                                                                                                  <span style=\"color: #800000; text-decoration-color: #800000\">│</span>\n",
       "<span style=\"color: #800000; text-decoration-color: #800000\">│</span> <span style=\"color: #bfbf7f; text-decoration-color: #bfbf7f\">/home/jon/miniconda3/envs/elk/lib/python3.10/site-packages/torch/nn/</span><span style=\"color: #808000; text-decoration-color: #808000; font-weight: bold\">init.py</span>:<span style=\"color: #0000ff; text-decoration-color: #0000ff\">412</span> in               <span style=\"color: #800000; text-decoration-color: #800000\">│</span>\n",
       "<span style=\"color: #800000; text-decoration-color: #800000\">│</span> <span style=\"color: #00ff00; text-decoration-color: #00ff00\">kaiming_uniform_</span>                                                                                 <span style=\"color: #800000; text-decoration-color: #800000\">│</span>\n",
       "<span style=\"color: #800000; text-decoration-color: #800000\">│</span>                                                                                                  <span style=\"color: #800000; text-decoration-color: #800000\">│</span>\n",
       "<span style=\"color: #800000; text-decoration-color: #800000\">│</span>   <span style=\"color: #7f7f7f; text-decoration-color: #7f7f7f\">409 </span><span style=\"color: #7f7f7f; text-decoration-color: #7f7f7f\">│   </span>std = gain / math.sqrt(fan)                                                            <span style=\"color: #800000; text-decoration-color: #800000\">│</span>\n",
       "<span style=\"color: #800000; text-decoration-color: #800000\">│</span>   <span style=\"color: #7f7f7f; text-decoration-color: #7f7f7f\">410 </span><span style=\"color: #7f7f7f; text-decoration-color: #7f7f7f\">│   </span>bound = math.sqrt(<span style=\"color: #0000ff; text-decoration-color: #0000ff\">3.0</span>) * std  <span style=\"color: #7f7f7f; text-decoration-color: #7f7f7f\"># Calculate uniform bounds from standard deviation</span>       <span style=\"color: #800000; text-decoration-color: #800000\">│</span>\n",
       "<span style=\"color: #800000; text-decoration-color: #800000\">│</span>   <span style=\"color: #7f7f7f; text-decoration-color: #7f7f7f\">411 </span><span style=\"color: #7f7f7f; text-decoration-color: #7f7f7f\">│   </span><span style=\"color: #0000ff; text-decoration-color: #0000ff\">with</span> torch.no_grad():                                                                  <span style=\"color: #800000; text-decoration-color: #800000\">│</span>\n",
       "<span style=\"color: #800000; text-decoration-color: #800000\">│</span> <span style=\"color: #800000; text-decoration-color: #800000\">❱ </span>412 <span style=\"color: #7f7f7f; text-decoration-color: #7f7f7f\">│   │   </span><span style=\"color: #0000ff; text-decoration-color: #0000ff\">return</span> tensor.uniform_(-bound, bound)                                              <span style=\"color: #800000; text-decoration-color: #800000\">│</span>\n",
       "<span style=\"color: #800000; text-decoration-color: #800000\">│</span>   <span style=\"color: #7f7f7f; text-decoration-color: #7f7f7f\">413 </span>                                                                                           <span style=\"color: #800000; text-decoration-color: #800000\">│</span>\n",
       "<span style=\"color: #800000; text-decoration-color: #800000\">│</span>   <span style=\"color: #7f7f7f; text-decoration-color: #7f7f7f\">414 </span>                                                                                           <span style=\"color: #800000; text-decoration-color: #800000\">│</span>\n",
       "<span style=\"color: #800000; text-decoration-color: #800000\">│</span>   <span style=\"color: #7f7f7f; text-decoration-color: #7f7f7f\">415 </span><span style=\"color: #0000ff; text-decoration-color: #0000ff\">def</span> <span style=\"color: #00ff00; text-decoration-color: #00ff00\">kaiming_normal_</span>(                                                                       <span style=\"color: #800000; text-decoration-color: #800000\">│</span>\n",
       "<span style=\"color: #800000; text-decoration-color: #800000\">╰──────────────────────────────────────────────────────────────────────────────────────────────────╯</span>\n",
       "<span style=\"color: #ff0000; text-decoration-color: #ff0000; font-weight: bold\">KeyboardInterrupt</span>\n",
       "</pre>\n"
      ],
      "text/plain": [
       "\u001b[31m╭─\u001b[0m\u001b[31m──────────────────────────────\u001b[0m\u001b[31m \u001b[0m\u001b[1;31mTraceback \u001b[0m\u001b[1;2;31m(most recent call last)\u001b[0m\u001b[31m \u001b[0m\u001b[31m───────────────────────────────\u001b[0m\u001b[31m─╮\u001b[0m\n",
       "\u001b[31m│\u001b[0m in \u001b[92m<module>\u001b[0m:\u001b[94m5\u001b[0m                                                                                    \u001b[31m│\u001b[0m\n",
       "\u001b[31m│\u001b[0m                                                                                                  \u001b[31m│\u001b[0m\n",
       "\u001b[31m│\u001b[0m   \u001b[2m 2 \u001b[0mmodel_name = \u001b[33m\"\u001b[0m\u001b[33mhuggyllama/llama-13b\u001b[0m\u001b[33m\"\u001b[0m                                                         \u001b[31m│\u001b[0m\n",
       "\u001b[31m│\u001b[0m   \u001b[2m 3 \u001b[0m\u001b[2m# model_name = \"gpt2\"\u001b[0m                                                                       \u001b[31m│\u001b[0m\n",
       "\u001b[31m│\u001b[0m   \u001b[2m 4 \u001b[0mtokenizer = AutoTokenizer.from_pretrained(model_name)                                       \u001b[31m│\u001b[0m\n",
       "\u001b[31m│\u001b[0m \u001b[31m❱ \u001b[0m 5 model = AutoModel.from_pretrained(model_name)                                               \u001b[31m│\u001b[0m\n",
       "\u001b[31m│\u001b[0m   \u001b[2m 6 \u001b[0m                                                                                            \u001b[31m│\u001b[0m\n",
       "\u001b[31m│\u001b[0m   \u001b[2m 7 \u001b[0m\u001b[2m# Tokenize input sequence\u001b[0m                                                                   \u001b[31m│\u001b[0m\n",
       "\u001b[31m│\u001b[0m   \u001b[2m 8 \u001b[0minput_sequence = \u001b[33m\"\u001b[0m\u001b[33mThis film is terrible, best to pass.\u001b[0m\u001b[33m\"\u001b[0m                                     \u001b[31m│\u001b[0m\n",
       "\u001b[31m│\u001b[0m                                                                                                  \u001b[31m│\u001b[0m\n",
       "\u001b[31m│\u001b[0m \u001b[2;33m/home/jon/miniconda3/envs/elk/lib/python3.10/site-packages/transformers/models/auto/\u001b[0m\u001b[1;33mauto_factory\u001b[0m \u001b[31m│\u001b[0m\n",
       "\u001b[31m│\u001b[0m \u001b[1;33m.py\u001b[0m:\u001b[94m467\u001b[0m in \u001b[92mfrom_pretrained\u001b[0m                                                                       \u001b[31m│\u001b[0m\n",
       "\u001b[31m│\u001b[0m                                                                                                  \u001b[31m│\u001b[0m\n",
       "\u001b[31m│\u001b[0m   \u001b[2m464 \u001b[0m\u001b[2m│   │   │   \u001b[0m)                                                                              \u001b[31m│\u001b[0m\n",
       "\u001b[31m│\u001b[0m   \u001b[2m465 \u001b[0m\u001b[2m│   │   \u001b[0m\u001b[94melif\u001b[0m \u001b[96mtype\u001b[0m(config) \u001b[95min\u001b[0m \u001b[96mcls\u001b[0m._model_mapping.keys():                                    \u001b[31m│\u001b[0m\n",
       "\u001b[31m│\u001b[0m   \u001b[2m466 \u001b[0m\u001b[2m│   │   │   \u001b[0mmodel_class = _get_model_class(config, \u001b[96mcls\u001b[0m._model_mapping)                     \u001b[31m│\u001b[0m\n",
       "\u001b[31m│\u001b[0m \u001b[31m❱ \u001b[0m467 \u001b[2m│   │   │   \u001b[0m\u001b[94mreturn\u001b[0m model_class.from_pretrained(                                            \u001b[31m│\u001b[0m\n",
       "\u001b[31m│\u001b[0m   \u001b[2m468 \u001b[0m\u001b[2m│   │   │   │   \u001b[0mpretrained_model_name_or_path, *model_args, config=config, **hub_kwargs,   \u001b[31m│\u001b[0m\n",
       "\u001b[31m│\u001b[0m   \u001b[2m469 \u001b[0m\u001b[2m│   │   │   \u001b[0m)                                                                              \u001b[31m│\u001b[0m\n",
       "\u001b[31m│\u001b[0m   \u001b[2m470 \u001b[0m\u001b[2m│   │   \u001b[0m\u001b[94mraise\u001b[0m \u001b[96mValueError\u001b[0m(                                                                  \u001b[31m│\u001b[0m\n",
       "\u001b[31m│\u001b[0m                                                                                                  \u001b[31m│\u001b[0m\n",
       "\u001b[31m│\u001b[0m \u001b[2;33m/home/jon/miniconda3/envs/elk/lib/python3.10/site-packages/transformers/\u001b[0m\u001b[1;33mmodeling_utils.py\u001b[0m:\u001b[94m2611\u001b[0m   \u001b[31m│\u001b[0m\n",
       "\u001b[31m│\u001b[0m in \u001b[92mfrom_pretrained\u001b[0m                                                                               \u001b[31m│\u001b[0m\n",
       "\u001b[31m│\u001b[0m                                                                                                  \u001b[31m│\u001b[0m\n",
       "\u001b[31m│\u001b[0m   \u001b[2m2608 \u001b[0m\u001b[2m│   │   │   \u001b[0minit_contexts.append(init_empty_weights())                                    \u001b[31m│\u001b[0m\n",
       "\u001b[31m│\u001b[0m   \u001b[2m2609 \u001b[0m\u001b[2m│   │   \u001b[0m                                                                                  \u001b[31m│\u001b[0m\n",
       "\u001b[31m│\u001b[0m   \u001b[2m2610 \u001b[0m\u001b[2m│   │   \u001b[0m\u001b[94mwith\u001b[0m ContextManagers(init_contexts):                                              \u001b[31m│\u001b[0m\n",
       "\u001b[31m│\u001b[0m \u001b[31m❱ \u001b[0m2611 \u001b[2m│   │   │   \u001b[0mmodel = \u001b[96mcls\u001b[0m(config, *model_args, **model_kwargs)                              \u001b[31m│\u001b[0m\n",
       "\u001b[31m│\u001b[0m   \u001b[2m2612 \u001b[0m\u001b[2m│   │   \u001b[0m                                                                                  \u001b[31m│\u001b[0m\n",
       "\u001b[31m│\u001b[0m   \u001b[2m2613 \u001b[0m\u001b[2m│   │   \u001b[0m\u001b[2m# Check first if we are `from_pt`\u001b[0m                                                 \u001b[31m│\u001b[0m\n",
       "\u001b[31m│\u001b[0m   \u001b[2m2614 \u001b[0m\u001b[2m│   │   \u001b[0m\u001b[94mif\u001b[0m use_keep_in_fp32_modules:                                                      \u001b[31m│\u001b[0m\n",
       "\u001b[31m│\u001b[0m                                                                                                  \u001b[31m│\u001b[0m\n",
       "\u001b[31m│\u001b[0m \u001b[2;33m/home/jon/miniconda3/envs/elk/lib/python3.10/site-packages/transformers/models/llama/\u001b[0m\u001b[1;33mmodeling_ll\u001b[0m \u001b[31m│\u001b[0m\n",
       "\u001b[31m│\u001b[0m \u001b[1;33mama.py\u001b[0m:\u001b[94m446\u001b[0m in \u001b[92m__init__\u001b[0m                                                                           \u001b[31m│\u001b[0m\n",
       "\u001b[31m│\u001b[0m                                                                                                  \u001b[31m│\u001b[0m\n",
       "\u001b[31m│\u001b[0m   \u001b[2m443 \u001b[0m\u001b[2m│   │   \u001b[0m\u001b[96mself\u001b[0m.vocab_size = config.vocab_size                                                \u001b[31m│\u001b[0m\n",
       "\u001b[31m│\u001b[0m   \u001b[2m444 \u001b[0m\u001b[2m│   │   \u001b[0m                                                                                   \u001b[31m│\u001b[0m\n",
       "\u001b[31m│\u001b[0m   \u001b[2m445 \u001b[0m\u001b[2m│   │   \u001b[0m\u001b[96mself\u001b[0m.embed_tokens = nn.Embedding(config.vocab_size, config.hidden_size, \u001b[96mself\u001b[0m.pad   \u001b[31m│\u001b[0m\n",
       "\u001b[31m│\u001b[0m \u001b[31m❱ \u001b[0m446 \u001b[2m│   │   \u001b[0m\u001b[96mself\u001b[0m.layers = nn.ModuleList([LlamaDecoderLayer(config) \u001b[94mfor\u001b[0m _ \u001b[95min\u001b[0m \u001b[96mrange\u001b[0m(config.num   \u001b[31m│\u001b[0m\n",
       "\u001b[31m│\u001b[0m   \u001b[2m447 \u001b[0m\u001b[2m│   │   \u001b[0m\u001b[96mself\u001b[0m.norm = LlamaRMSNorm(config.hidden_size, eps=config.rms_norm_eps)              \u001b[31m│\u001b[0m\n",
       "\u001b[31m│\u001b[0m   \u001b[2m448 \u001b[0m\u001b[2m│   │   \u001b[0m                                                                                   \u001b[31m│\u001b[0m\n",
       "\u001b[31m│\u001b[0m   \u001b[2m449 \u001b[0m\u001b[2m│   │   \u001b[0m\u001b[96mself\u001b[0m.gradient_checkpointing = \u001b[94mFalse\u001b[0m                                                \u001b[31m│\u001b[0m\n",
       "\u001b[31m│\u001b[0m                                                                                                  \u001b[31m│\u001b[0m\n",
       "\u001b[31m│\u001b[0m \u001b[2;33m/home/jon/miniconda3/envs/elk/lib/python3.10/site-packages/transformers/models/llama/\u001b[0m\u001b[1;33mmodeling_ll\u001b[0m \u001b[31m│\u001b[0m\n",
       "\u001b[31m│\u001b[0m \u001b[1;33mama.py\u001b[0m:\u001b[94m446\u001b[0m in \u001b[92m<listcomp>\u001b[0m                                                                         \u001b[31m│\u001b[0m\n",
       "\u001b[31m│\u001b[0m                                                                                                  \u001b[31m│\u001b[0m\n",
       "\u001b[31m│\u001b[0m   \u001b[2m443 \u001b[0m\u001b[2m│   │   \u001b[0m\u001b[96mself\u001b[0m.vocab_size = config.vocab_size                                                \u001b[31m│\u001b[0m\n",
       "\u001b[31m│\u001b[0m   \u001b[2m444 \u001b[0m\u001b[2m│   │   \u001b[0m                                                                                   \u001b[31m│\u001b[0m\n",
       "\u001b[31m│\u001b[0m   \u001b[2m445 \u001b[0m\u001b[2m│   │   \u001b[0m\u001b[96mself\u001b[0m.embed_tokens = nn.Embedding(config.vocab_size, config.hidden_size, \u001b[96mself\u001b[0m.pad   \u001b[31m│\u001b[0m\n",
       "\u001b[31m│\u001b[0m \u001b[31m❱ \u001b[0m446 \u001b[2m│   │   \u001b[0m\u001b[96mself\u001b[0m.layers = nn.ModuleList([LlamaDecoderLayer(config) \u001b[94mfor\u001b[0m _ \u001b[95min\u001b[0m \u001b[96mrange\u001b[0m(config.num   \u001b[31m│\u001b[0m\n",
       "\u001b[31m│\u001b[0m   \u001b[2m447 \u001b[0m\u001b[2m│   │   \u001b[0m\u001b[96mself\u001b[0m.norm = LlamaRMSNorm(config.hidden_size, eps=config.rms_norm_eps)              \u001b[31m│\u001b[0m\n",
       "\u001b[31m│\u001b[0m   \u001b[2m448 \u001b[0m\u001b[2m│   │   \u001b[0m                                                                                   \u001b[31m│\u001b[0m\n",
       "\u001b[31m│\u001b[0m   \u001b[2m449 \u001b[0m\u001b[2m│   │   \u001b[0m\u001b[96mself\u001b[0m.gradient_checkpointing = \u001b[94mFalse\u001b[0m                                                \u001b[31m│\u001b[0m\n",
       "\u001b[31m│\u001b[0m                                                                                                  \u001b[31m│\u001b[0m\n",
       "\u001b[31m│\u001b[0m \u001b[2;33m/home/jon/miniconda3/envs/elk/lib/python3.10/site-packages/transformers/models/llama/\u001b[0m\u001b[1;33mmodeling_ll\u001b[0m \u001b[31m│\u001b[0m\n",
       "\u001b[31m│\u001b[0m \u001b[1;33mama.py\u001b[0m:\u001b[94m256\u001b[0m in \u001b[92m__init__\u001b[0m                                                                           \u001b[31m│\u001b[0m\n",
       "\u001b[31m│\u001b[0m                                                                                                  \u001b[31m│\u001b[0m\n",
       "\u001b[31m│\u001b[0m   \u001b[2m253 \u001b[0m\u001b[2m│   \u001b[0m\u001b[94mdef\u001b[0m \u001b[92m__init__\u001b[0m(\u001b[96mself\u001b[0m, config: LlamaConfig):                                               \u001b[31m│\u001b[0m\n",
       "\u001b[31m│\u001b[0m   \u001b[2m254 \u001b[0m\u001b[2m│   │   \u001b[0m\u001b[96msuper\u001b[0m().\u001b[92m__init__\u001b[0m()                                                                 \u001b[31m│\u001b[0m\n",
       "\u001b[31m│\u001b[0m   \u001b[2m255 \u001b[0m\u001b[2m│   │   \u001b[0m\u001b[96mself\u001b[0m.hidden_size = config.hidden_size                                              \u001b[31m│\u001b[0m\n",
       "\u001b[31m│\u001b[0m \u001b[31m❱ \u001b[0m256 \u001b[2m│   │   \u001b[0m\u001b[96mself\u001b[0m.self_attn = LlamaAttention(config=config)                                     \u001b[31m│\u001b[0m\n",
       "\u001b[31m│\u001b[0m   \u001b[2m257 \u001b[0m\u001b[2m│   │   \u001b[0m\u001b[96mself\u001b[0m.mlp = LlamaMLP(                                                               \u001b[31m│\u001b[0m\n",
       "\u001b[31m│\u001b[0m   \u001b[2m258 \u001b[0m\u001b[2m│   │   │   \u001b[0mhidden_size=\u001b[96mself\u001b[0m.hidden_size,                                                  \u001b[31m│\u001b[0m\n",
       "\u001b[31m│\u001b[0m   \u001b[2m259 \u001b[0m\u001b[2m│   │   │   \u001b[0mintermediate_size=config.intermediate_size,                                    \u001b[31m│\u001b[0m\n",
       "\u001b[31m│\u001b[0m                                                                                                  \u001b[31m│\u001b[0m\n",
       "\u001b[31m│\u001b[0m \u001b[2;33m/home/jon/miniconda3/envs/elk/lib/python3.10/site-packages/transformers/models/llama/\u001b[0m\u001b[1;33mmodeling_ll\u001b[0m \u001b[31m│\u001b[0m\n",
       "\u001b[31m│\u001b[0m \u001b[1;33mama.py\u001b[0m:\u001b[94m179\u001b[0m in \u001b[92m__init__\u001b[0m                                                                           \u001b[31m│\u001b[0m\n",
       "\u001b[31m│\u001b[0m                                                                                                  \u001b[31m│\u001b[0m\n",
       "\u001b[31m│\u001b[0m   \u001b[2m176 \u001b[0m\u001b[2m│   │   │   \u001b[0m)                                                                              \u001b[31m│\u001b[0m\n",
       "\u001b[31m│\u001b[0m   \u001b[2m177 \u001b[0m\u001b[2m│   │   \u001b[0m\u001b[96mself\u001b[0m.q_proj = nn.Linear(\u001b[96mself\u001b[0m.hidden_size, \u001b[96mself\u001b[0m.num_heads * \u001b[96mself\u001b[0m.head_dim, bias=\u001b[94mF\u001b[0m   \u001b[31m│\u001b[0m\n",
       "\u001b[31m│\u001b[0m   \u001b[2m178 \u001b[0m\u001b[2m│   │   \u001b[0m\u001b[96mself\u001b[0m.k_proj = nn.Linear(\u001b[96mself\u001b[0m.hidden_size, \u001b[96mself\u001b[0m.num_heads * \u001b[96mself\u001b[0m.head_dim, bias=\u001b[94mF\u001b[0m   \u001b[31m│\u001b[0m\n",
       "\u001b[31m│\u001b[0m \u001b[31m❱ \u001b[0m179 \u001b[2m│   │   \u001b[0m\u001b[96mself\u001b[0m.v_proj = nn.Linear(\u001b[96mself\u001b[0m.hidden_size, \u001b[96mself\u001b[0m.num_heads * \u001b[96mself\u001b[0m.head_dim, bias=\u001b[94mF\u001b[0m   \u001b[31m│\u001b[0m\n",
       "\u001b[31m│\u001b[0m   \u001b[2m180 \u001b[0m\u001b[2m│   │   \u001b[0m\u001b[96mself\u001b[0m.o_proj = nn.Linear(\u001b[96mself\u001b[0m.num_heads * \u001b[96mself\u001b[0m.head_dim, \u001b[96mself\u001b[0m.hidden_size, bias=\u001b[94mF\u001b[0m   \u001b[31m│\u001b[0m\n",
       "\u001b[31m│\u001b[0m   \u001b[2m181 \u001b[0m\u001b[2m│   │   \u001b[0m\u001b[96mself\u001b[0m.rotary_emb = LlamaRotaryEmbedding(\u001b[96mself\u001b[0m.head_dim, max_position_embeddings=\u001b[96mse\u001b[0m   \u001b[31m│\u001b[0m\n",
       "\u001b[31m│\u001b[0m   \u001b[2m182 \u001b[0m                                                                                           \u001b[31m│\u001b[0m\n",
       "\u001b[31m│\u001b[0m                                                                                                  \u001b[31m│\u001b[0m\n",
       "\u001b[31m│\u001b[0m \u001b[2;33m/home/jon/miniconda3/envs/elk/lib/python3.10/site-packages/torch/nn/modules/\u001b[0m\u001b[1;33mlinear.py\u001b[0m:\u001b[94m101\u001b[0m in     \u001b[31m│\u001b[0m\n",
       "\u001b[31m│\u001b[0m \u001b[92m__init__\u001b[0m                                                                                         \u001b[31m│\u001b[0m\n",
       "\u001b[31m│\u001b[0m                                                                                                  \u001b[31m│\u001b[0m\n",
       "\u001b[31m│\u001b[0m   \u001b[2m 98 \u001b[0m\u001b[2m│   │   │   \u001b[0m\u001b[96mself\u001b[0m.bias = Parameter(torch.empty(out_features, **factory_kwargs))             \u001b[31m│\u001b[0m\n",
       "\u001b[31m│\u001b[0m   \u001b[2m 99 \u001b[0m\u001b[2m│   │   \u001b[0m\u001b[94melse\u001b[0m:                                                                              \u001b[31m│\u001b[0m\n",
       "\u001b[31m│\u001b[0m   \u001b[2m100 \u001b[0m\u001b[2m│   │   │   \u001b[0m\u001b[96mself\u001b[0m.register_parameter(\u001b[33m'\u001b[0m\u001b[33mbias\u001b[0m\u001b[33m'\u001b[0m, \u001b[94mNone\u001b[0m)                                          \u001b[31m│\u001b[0m\n",
       "\u001b[31m│\u001b[0m \u001b[31m❱ \u001b[0m101 \u001b[2m│   │   \u001b[0m\u001b[96mself\u001b[0m.reset_parameters()                                                            \u001b[31m│\u001b[0m\n",
       "\u001b[31m│\u001b[0m   \u001b[2m102 \u001b[0m\u001b[2m│   \u001b[0m                                                                                       \u001b[31m│\u001b[0m\n",
       "\u001b[31m│\u001b[0m   \u001b[2m103 \u001b[0m\u001b[2m│   \u001b[0m\u001b[94mdef\u001b[0m \u001b[92mreset_parameters\u001b[0m(\u001b[96mself\u001b[0m) -> \u001b[94mNone\u001b[0m:                                                    \u001b[31m│\u001b[0m\n",
       "\u001b[31m│\u001b[0m   \u001b[2m104 \u001b[0m\u001b[2m│   │   \u001b[0m\u001b[2m# Setting a=sqrt(5) in kaiming_uniform is the same as initializing with\u001b[0m            \u001b[31m│\u001b[0m\n",
       "\u001b[31m│\u001b[0m                                                                                                  \u001b[31m│\u001b[0m\n",
       "\u001b[31m│\u001b[0m \u001b[2;33m/home/jon/miniconda3/envs/elk/lib/python3.10/site-packages/torch/nn/modules/\u001b[0m\u001b[1;33mlinear.py\u001b[0m:\u001b[94m107\u001b[0m in     \u001b[31m│\u001b[0m\n",
       "\u001b[31m│\u001b[0m \u001b[92mreset_parameters\u001b[0m                                                                                 \u001b[31m│\u001b[0m\n",
       "\u001b[31m│\u001b[0m                                                                                                  \u001b[31m│\u001b[0m\n",
       "\u001b[31m│\u001b[0m   \u001b[2m104 \u001b[0m\u001b[2m│   │   \u001b[0m\u001b[2m# Setting a=sqrt(5) in kaiming_uniform is the same as initializing with\u001b[0m            \u001b[31m│\u001b[0m\n",
       "\u001b[31m│\u001b[0m   \u001b[2m105 \u001b[0m\u001b[2m│   │   \u001b[0m\u001b[2m# uniform(-1/sqrt(in_features), 1/sqrt(in_features)). For details, see\u001b[0m             \u001b[31m│\u001b[0m\n",
       "\u001b[31m│\u001b[0m   \u001b[2m106 \u001b[0m\u001b[2m│   │   \u001b[0m\u001b[2m# https://github.com/pytorch/pytorch/issues/57109\u001b[0m                                  \u001b[31m│\u001b[0m\n",
       "\u001b[31m│\u001b[0m \u001b[31m❱ \u001b[0m107 \u001b[2m│   │   \u001b[0minit.kaiming_uniform_(\u001b[96mself\u001b[0m.weight, a=math.sqrt(\u001b[94m5\u001b[0m))                                 \u001b[31m│\u001b[0m\n",
       "\u001b[31m│\u001b[0m   \u001b[2m108 \u001b[0m\u001b[2m│   │   \u001b[0m\u001b[94mif\u001b[0m \u001b[96mself\u001b[0m.bias \u001b[95mis\u001b[0m \u001b[95mnot\u001b[0m \u001b[94mNone\u001b[0m:                                                          \u001b[31m│\u001b[0m\n",
       "\u001b[31m│\u001b[0m   \u001b[2m109 \u001b[0m\u001b[2m│   │   │   \u001b[0mfan_in, _ = init._calculate_fan_in_and_fan_out(\u001b[96mself\u001b[0m.weight)                    \u001b[31m│\u001b[0m\n",
       "\u001b[31m│\u001b[0m   \u001b[2m110 \u001b[0m\u001b[2m│   │   │   \u001b[0mbound = \u001b[94m1\u001b[0m / math.sqrt(fan_in) \u001b[94mif\u001b[0m fan_in > \u001b[94m0\u001b[0m \u001b[94melse\u001b[0m \u001b[94m0\u001b[0m                             \u001b[31m│\u001b[0m\n",
       "\u001b[31m│\u001b[0m                                                                                                  \u001b[31m│\u001b[0m\n",
       "\u001b[31m│\u001b[0m \u001b[2;33m/home/jon/miniconda3/envs/elk/lib/python3.10/site-packages/torch/nn/\u001b[0m\u001b[1;33minit.py\u001b[0m:\u001b[94m412\u001b[0m in               \u001b[31m│\u001b[0m\n",
       "\u001b[31m│\u001b[0m \u001b[92mkaiming_uniform_\u001b[0m                                                                                 \u001b[31m│\u001b[0m\n",
       "\u001b[31m│\u001b[0m                                                                                                  \u001b[31m│\u001b[0m\n",
       "\u001b[31m│\u001b[0m   \u001b[2m409 \u001b[0m\u001b[2m│   \u001b[0mstd = gain / math.sqrt(fan)                                                            \u001b[31m│\u001b[0m\n",
       "\u001b[31m│\u001b[0m   \u001b[2m410 \u001b[0m\u001b[2m│   \u001b[0mbound = math.sqrt(\u001b[94m3.0\u001b[0m) * std  \u001b[2m# Calculate uniform bounds from standard deviation\u001b[0m       \u001b[31m│\u001b[0m\n",
       "\u001b[31m│\u001b[0m   \u001b[2m411 \u001b[0m\u001b[2m│   \u001b[0m\u001b[94mwith\u001b[0m torch.no_grad():                                                                  \u001b[31m│\u001b[0m\n",
       "\u001b[31m│\u001b[0m \u001b[31m❱ \u001b[0m412 \u001b[2m│   │   \u001b[0m\u001b[94mreturn\u001b[0m tensor.uniform_(-bound, bound)                                              \u001b[31m│\u001b[0m\n",
       "\u001b[31m│\u001b[0m   \u001b[2m413 \u001b[0m                                                                                           \u001b[31m│\u001b[0m\n",
       "\u001b[31m│\u001b[0m   \u001b[2m414 \u001b[0m                                                                                           \u001b[31m│\u001b[0m\n",
       "\u001b[31m│\u001b[0m   \u001b[2m415 \u001b[0m\u001b[94mdef\u001b[0m \u001b[92mkaiming_normal_\u001b[0m(                                                                       \u001b[31m│\u001b[0m\n",
       "\u001b[31m╰──────────────────────────────────────────────────────────────────────────────────────────────────╯\u001b[0m\n",
       "\u001b[1;91mKeyboardInterrupt\u001b[0m\n"
      ]
     },
     "metadata": {},
     "output_type": "display_data"
    }
   ],
   "source": [
    "# Load pre-trained model and tokenizer\n",
    "model_name = \"huggyllama/llama-13b\"\n",
    "# model_name = \"gpt2\"\n",
    "tokenizer = AutoTokenizer.from_pretrained(model_name)\n",
    "model = AutoModel.from_pretrained(model_name)\n",
    "\n",
    "# Tokenize input sequence\n",
    "input_sequence = \"This film is terrible, best to pass.\"\n",
    "input_tokens = tokenizer.tokenize(input_sequence)\n",
    "print(input_tokens)\n",
    "input_tokens.insert(0, \"<bos>\") # beginning of sentence\n",
    "print(input_tokens)\n",
    "\n",
    "# Encode input sequence\n",
    "input_ids = tokenizer.encode(input_sequence, return_tensors=\"pt\")\n",
    "print(input_ids)\n",
    "\n",
    "decoded = tokenizer.convert_ids_to_tokens(input_ids[0])\n",
    "print(decoded)\n",
    "\n",
    "# Generate hidden states\n",
    "outputs = model(input_ids, output_hidden_states=True)"
   ]
  },
  {
   "cell_type": "code",
   "execution_count": null,
   "metadata": {},
   "outputs": [
    {
     "name": "stdout",
     "output_type": "stream",
     "text": [
      "torch.Size([1, 10, 5120])\n",
      "41\n",
      "torch.Size([40, 10, 5120])\n"
     ]
    }
   ],
   "source": [
    "hidden_states = outputs.hidden_states\n",
    "print(hidden_states[0].shape)\n",
    "print(len(hidden_states))\n",
    "cat_hidden_states = torch.cat(hidden_states[:-1], dim=0)\n",
    "print(cat_hidden_states.shape)"
   ]
  },
  {
   "cell_type": "code",
   "execution_count": null,
   "metadata": {},
   "outputs": [
    {
     "name": "stdout",
     "output_type": "stream",
     "text": [
      "torch.Size([40, 5120])\n"
     ]
    }
   ],
   "source": [
    "def load_all_reporters(num_layers: int, prefix_path: str) -> torch.Tensor:\n",
    "    reporters_weights = []\n",
    "    for i in range(num_layers):\n",
    "        reporter_path = f\"{prefix_path}/layer_{i}.pt\"\n",
    "        reporter = torch.load(reporter_path)\n",
    "        reporters_weights.append(reporter['weight'].cpu())\n",
    "    stacked = torch.cat(reporters_weights, dim=0)\n",
    "    return stacked\n",
    "\n",
    "# path = '/home/waree/elk-reporters/huggyllama/llama-13b/sethapun/imdb_misspelled_0/llama13b-imdb0/reporters'\n",
    "path = '/mnt/ssd-1/spar/jon/elk-reporters/gpt2/imdb/agitated-driscoll/reporters'\n",
    "reporter_paths = [\n",
    "    '/home/jon/elk-reporters/huggyllama/llama-13b/azhx/counterfact-easy/stoic-jang/reporters',\n",
    "]\n",
    "# reporter_weights = load_all_reporters(model.config.num_hidden_layers, path)\n",
    "# print(reporter_weights.shape)\n",
    "for path in reporter_paths:\n",
    "    reporter_weights = load_all_reporters(model.config.num_hidden_layers, path)\n",
    "    print(reporter_weights.shape)"
   ]
  },
  {
   "cell_type": "code",
   "execution_count": null,
   "metadata": {},
   "outputs": [
    {
     "name": "stdout",
     "output_type": "stream",
     "text": [
      "tensor([-0.0,  0.0,  0.0,  0.0,  0.0, -0.0, -0.0, -0.0,  0.0, -0.0],\n",
      "       grad_fn=<SelectBackward0>)\n",
      "torch.Size([40, 10])\n"
     ]
    }
   ],
   "source": [
    "# Use einsum to do multiplication \n",
    "result = torch.einsum('bse,be->bs', cat_hidden_states, reporter_weights)\n",
    "print(result[0])\n",
    "print(result.shape)\n",
    "\n",
    "sigmoid_result = torch.sigmoid(result)\n",
    "softmax_result = torch.softmax(result, dim = -1)\n",
    "torch.set_printoptions(precision=1)"
   ]
  },
  {
   "cell_type": "code",
   "execution_count": null,
   "metadata": {},
   "outputs": [
    {
     "name": "stdout",
     "output_type": "stream",
     "text": [
      "torch.Size([40, 10])\n"
     ]
    }
   ],
   "source": [
    "print(result.shape)"
   ]
  },
  {
   "cell_type": "code",
   "execution_count": null,
   "metadata": {},
   "outputs": [
    {
     "name": "stdout",
     "output_type": "stream",
     "text": [
      "torch.Size([40, 10])\n"
     ]
    }
   ],
   "source": [
    "print(sigmoid_result.shape)"
   ]
  },
  {
   "cell_type": "code",
   "execution_count": null,
   "metadata": {},
   "outputs": [
    {
     "name": "stdout",
     "output_type": "stream",
     "text": [
      "torch.Size([40, 10])\n"
     ]
    }
   ],
   "source": [
    "print(softmax_result.shape)"
   ]
  },
  {
   "cell_type": "code",
   "execution_count": null,
   "metadata": {},
   "outputs": [
    {
     "data": {
      "text/html": [
       "        <script type=\"text/javascript\">\n",
       "        window.PlotlyConfig = {MathJaxConfig: 'local'};\n",
       "        if (window.MathJax && window.MathJax.Hub && window.MathJax.Hub.Config) {window.MathJax.Hub.Config({SVG: {font: \"STIX-Web\"}});}\n",
       "        if (typeof require !== 'undefined') {\n",
       "        require.undef(\"plotly\");\n",
       "        requirejs.config({\n",
       "            paths: {\n",
       "                'plotly': ['https://cdn.plot.ly/plotly-2.20.0.min']\n",
       "            }\n",
       "        });\n",
       "        require(['plotly'], function(Plotly) {\n",
       "            window._Plotly = Plotly;\n",
       "        });\n",
       "        }\n",
       "        </script>\n",
       "        "
      ]
     },
     "metadata": {},
     "output_type": "display_data"
    },
    {
     "data": {
      "text/plain": [
       "['<bos>',\n",
       " '▁This',\n",
       " '▁film',\n",
       " '▁is',\n",
       " '▁terrible',\n",
       " ',',\n",
       " '▁best',\n",
       " '▁to',\n",
       " '▁pass',\n",
       " '.']"
      ]
     },
     "execution_count": 51,
     "metadata": {},
     "output_type": "execute_result"
    }
   ],
   "source": [
    "import plotly.graph_objs as go\n",
    "import plotly.io as pio\n",
    "import torch\n",
    "from IPython.display import HTML\n",
    "from plotly.offline import init_notebook_mode, iplot\n",
    "init_notebook_mode(connected=True)\n",
    "\n",
    "# Create color scale for heatmap\n",
    "color_scale = [[0, '#FFFFFF'], [1, '#FF0000']] # white to red\n",
    "\n",
    "# Convert tensor to numpy array and detach gradients\n",
    "credences = result.detach().numpy()\n",
    "\n",
    "padded_text = np.array([[\" \" * 2 + \"{:.2f}\".format(value) + \" \" * 2 for value in row] for row in credences])\n",
    "\n",
    "# Create plotly heatmap\n",
    "heatmap = go.Heatmap(\n",
    "    z=credences, \n",
    "    colorscale=color_scale,\n",
    "    text=padded_text,  # Set the text to be equal to z\n",
    "    texttemplate=\"%{text}\", \n",
    "    textfont=dict(color='black', size=12),  # Set the text color and size\n",
    ")\n",
    "\n",
    "# Create plot layout\n",
    "layout = go.Layout(title='Credences for Input Tokens',\n",
    "                width=800,  # Set the width of the plot\n",
    "                height=800,  # Set the height of the plot\n",
    "                   xaxis=dict(tickvals=list(range(len(input_tokens))),\n",
    "                              ticktext=input_tokens,\n",
    "                              tickangle=45))\n",
    "\n",
    "# Create plotly figure\n",
    "fig = go.Figure(data=[heatmap], layout=layout)\n",
    "# fig = fig.update_traces(text=input_tokens, texttemplate=\"%{text}\", hovertemplate=None)\n",
    "\n",
    "# Display plotly figure\n",
    "# iplot(fig)\n",
    "\n",
    "# print(padded_text)\n",
    "input_tokens"
   ]
  },
  {
   "cell_type": "code",
   "execution_count": null,
   "metadata": {},
   "outputs": [
    {
     "name": "stdout",
     "output_type": "stream",
     "text": [
      "(10,)\n"
     ]
    },
    {
     "data": {
      "application/vnd.plotly.v1+json": {
       "config": {
        "linkText": "Export to plot.ly",
        "plotlyServerURL": "https://plot.ly",
        "showLink": false
       },
       "data": [
        {
         "colorscale": [
          [
           0,
           "#FFFFFF"
          ],
          [
           1,
           "#FF0000"
          ]
         ],
         "text": [
          [
           "  <bos>  ",
           "  ▁This  ",
           "  ▁film  ",
           "  ▁is  ",
           "  ▁terrible  ",
           "  ,  ",
           "  ▁best  ",
           "  ▁to  ",
           "  ▁pass  ",
           "  .  "
          ],
          [
           "  <bos>  ",
           "  ▁This  ",
           "  ▁film  ",
           "  ▁is  ",
           "  ▁terrible  ",
           "  ,  ",
           "  ▁best  ",
           "  ▁to  ",
           "  ▁pass  ",
           "  .  "
          ],
          [
           "  <bos>  ",
           "  ▁This  ",
           "  ▁film  ",
           "  ▁is  ",
           "  ▁terrible  ",
           "  ,  ",
           "  ▁best  ",
           "  ▁to  ",
           "  ▁pass  ",
           "  .  "
          ],
          [
           "  <bos>  ",
           "  ▁This  ",
           "  ▁film  ",
           "  ▁is  ",
           "  ▁terrible  ",
           "  ,  ",
           "  ▁best  ",
           "  ▁to  ",
           "  ▁pass  ",
           "  .  "
          ],
          [
           "  <bos>  ",
           "  ▁This  ",
           "  ▁film  ",
           "  ▁is  ",
           "  ▁terrible  ",
           "  ,  ",
           "  ▁best  ",
           "  ▁to  ",
           "  ▁pass  ",
           "  .  "
          ],
          [
           "  <bos>  ",
           "  ▁This  ",
           "  ▁film  ",
           "  ▁is  ",
           "  ▁terrible  ",
           "  ,  ",
           "  ▁best  ",
           "  ▁to  ",
           "  ▁pass  ",
           "  .  "
          ],
          [
           "  <bos>  ",
           "  ▁This  ",
           "  ▁film  ",
           "  ▁is  ",
           "  ▁terrible  ",
           "  ,  ",
           "  ▁best  ",
           "  ▁to  ",
           "  ▁pass  ",
           "  .  "
          ],
          [
           "  <bos>  ",
           "  ▁This  ",
           "  ▁film  ",
           "  ▁is  ",
           "  ▁terrible  ",
           "  ,  ",
           "  ▁best  ",
           "  ▁to  ",
           "  ▁pass  ",
           "  .  "
          ],
          [
           "  <bos>  ",
           "  ▁This  ",
           "  ▁film  ",
           "  ▁is  ",
           "  ▁terrible  ",
           "  ,  ",
           "  ▁best  ",
           "  ▁to  ",
           "  ▁pass  ",
           "  .  "
          ],
          [
           "  <bos>  ",
           "  ▁This  ",
           "  ▁film  ",
           "  ▁is  ",
           "  ▁terrible  ",
           "  ,  ",
           "  ▁best  ",
           "  ▁to  ",
           "  ▁pass  ",
           "  .  "
          ],
          [
           "  <bos>  ",
           "  ▁This  ",
           "  ▁film  ",
           "  ▁is  ",
           "  ▁terrible  ",
           "  ,  ",
           "  ▁best  ",
           "  ▁to  ",
           "  ▁pass  ",
           "  .  "
          ],
          [
           "  <bos>  ",
           "  ▁This  ",
           "  ▁film  ",
           "  ▁is  ",
           "  ▁terrible  ",
           "  ,  ",
           "  ▁best  ",
           "  ▁to  ",
           "  ▁pass  ",
           "  .  "
          ],
          [
           "  <bos>  ",
           "  ▁This  ",
           "  ▁film  ",
           "  ▁is  ",
           "  ▁terrible  ",
           "  ,  ",
           "  ▁best  ",
           "  ▁to  ",
           "  ▁pass  ",
           "  .  "
          ],
          [
           "  <bos>  ",
           "  ▁This  ",
           "  ▁film  ",
           "  ▁is  ",
           "  ▁terrible  ",
           "  ,  ",
           "  ▁best  ",
           "  ▁to  ",
           "  ▁pass  ",
           "  .  "
          ],
          [
           "  <bos>  ",
           "  ▁This  ",
           "  ▁film  ",
           "  ▁is  ",
           "  ▁terrible  ",
           "  ,  ",
           "  ▁best  ",
           "  ▁to  ",
           "  ▁pass  ",
           "  .  "
          ],
          [
           "  <bos>  ",
           "  ▁This  ",
           "  ▁film  ",
           "  ▁is  ",
           "  ▁terrible  ",
           "  ,  ",
           "  ▁best  ",
           "  ▁to  ",
           "  ▁pass  ",
           "  .  "
          ],
          [
           "  <bos>  ",
           "  ▁This  ",
           "  ▁film  ",
           "  ▁is  ",
           "  ▁terrible  ",
           "  ,  ",
           "  ▁best  ",
           "  ▁to  ",
           "  ▁pass  ",
           "  .  "
          ],
          [
           "  <bos>  ",
           "  ▁This  ",
           "  ▁film  ",
           "  ▁is  ",
           "  ▁terrible  ",
           "  ,  ",
           "  ▁best  ",
           "  ▁to  ",
           "  ▁pass  ",
           "  .  "
          ],
          [
           "  <bos>  ",
           "  ▁This  ",
           "  ▁film  ",
           "  ▁is  ",
           "  ▁terrible  ",
           "  ,  ",
           "  ▁best  ",
           "  ▁to  ",
           "  ▁pass  ",
           "  .  "
          ],
          [
           "  <bos>  ",
           "  ▁This  ",
           "  ▁film  ",
           "  ▁is  ",
           "  ▁terrible  ",
           "  ,  ",
           "  ▁best  ",
           "  ▁to  ",
           "  ▁pass  ",
           "  .  "
          ],
          [
           "  <bos>  ",
           "  ▁This  ",
           "  ▁film  ",
           "  ▁is  ",
           "  ▁terrible  ",
           "  ,  ",
           "  ▁best  ",
           "  ▁to  ",
           "  ▁pass  ",
           "  .  "
          ],
          [
           "  <bos>  ",
           "  ▁This  ",
           "  ▁film  ",
           "  ▁is  ",
           "  ▁terrible  ",
           "  ,  ",
           "  ▁best  ",
           "  ▁to  ",
           "  ▁pass  ",
           "  .  "
          ],
          [
           "  <bos>  ",
           "  ▁This  ",
           "  ▁film  ",
           "  ▁is  ",
           "  ▁terrible  ",
           "  ,  ",
           "  ▁best  ",
           "  ▁to  ",
           "  ▁pass  ",
           "  .  "
          ],
          [
           "  <bos>  ",
           "  ▁This  ",
           "  ▁film  ",
           "  ▁is  ",
           "  ▁terrible  ",
           "  ,  ",
           "  ▁best  ",
           "  ▁to  ",
           "  ▁pass  ",
           "  .  "
          ],
          [
           "  <bos>  ",
           "  ▁This  ",
           "  ▁film  ",
           "  ▁is  ",
           "  ▁terrible  ",
           "  ,  ",
           "  ▁best  ",
           "  ▁to  ",
           "  ▁pass  ",
           "  .  "
          ],
          [
           "  <bos>  ",
           "  ▁This  ",
           "  ▁film  ",
           "  ▁is  ",
           "  ▁terrible  ",
           "  ,  ",
           "  ▁best  ",
           "  ▁to  ",
           "  ▁pass  ",
           "  .  "
          ],
          [
           "  <bos>  ",
           "  ▁This  ",
           "  ▁film  ",
           "  ▁is  ",
           "  ▁terrible  ",
           "  ,  ",
           "  ▁best  ",
           "  ▁to  ",
           "  ▁pass  ",
           "  .  "
          ],
          [
           "  <bos>  ",
           "  ▁This  ",
           "  ▁film  ",
           "  ▁is  ",
           "  ▁terrible  ",
           "  ,  ",
           "  ▁best  ",
           "  ▁to  ",
           "  ▁pass  ",
           "  .  "
          ],
          [
           "  <bos>  ",
           "  ▁This  ",
           "  ▁film  ",
           "  ▁is  ",
           "  ▁terrible  ",
           "  ,  ",
           "  ▁best  ",
           "  ▁to  ",
           "  ▁pass  ",
           "  .  "
          ],
          [
           "  <bos>  ",
           "  ▁This  ",
           "  ▁film  ",
           "  ▁is  ",
           "  ▁terrible  ",
           "  ,  ",
           "  ▁best  ",
           "  ▁to  ",
           "  ▁pass  ",
           "  .  "
          ],
          [
           "  <bos>  ",
           "  ▁This  ",
           "  ▁film  ",
           "  ▁is  ",
           "  ▁terrible  ",
           "  ,  ",
           "  ▁best  ",
           "  ▁to  ",
           "  ▁pass  ",
           "  .  "
          ],
          [
           "  <bos>  ",
           "  ▁This  ",
           "  ▁film  ",
           "  ▁is  ",
           "  ▁terrible  ",
           "  ,  ",
           "  ▁best  ",
           "  ▁to  ",
           "  ▁pass  ",
           "  .  "
          ],
          [
           "  <bos>  ",
           "  ▁This  ",
           "  ▁film  ",
           "  ▁is  ",
           "  ▁terrible  ",
           "  ,  ",
           "  ▁best  ",
           "  ▁to  ",
           "  ▁pass  ",
           "  .  "
          ],
          [
           "  <bos>  ",
           "  ▁This  ",
           "  ▁film  ",
           "  ▁is  ",
           "  ▁terrible  ",
           "  ,  ",
           "  ▁best  ",
           "  ▁to  ",
           "  ▁pass  ",
           "  .  "
          ],
          [
           "  <bos>  ",
           "  ▁This  ",
           "  ▁film  ",
           "  ▁is  ",
           "  ▁terrible  ",
           "  ,  ",
           "  ▁best  ",
           "  ▁to  ",
           "  ▁pass  ",
           "  .  "
          ],
          [
           "  <bos>  ",
           "  ▁This  ",
           "  ▁film  ",
           "  ▁is  ",
           "  ▁terrible  ",
           "  ,  ",
           "  ▁best  ",
           "  ▁to  ",
           "  ▁pass  ",
           "  .  "
          ],
          [
           "  <bos>  ",
           "  ▁This  ",
           "  ▁film  ",
           "  ▁is  ",
           "  ▁terrible  ",
           "  ,  ",
           "  ▁best  ",
           "  ▁to  ",
           "  ▁pass  ",
           "  .  "
          ],
          [
           "  <bos>  ",
           "  ▁This  ",
           "  ▁film  ",
           "  ▁is  ",
           "  ▁terrible  ",
           "  ,  ",
           "  ▁best  ",
           "  ▁to  ",
           "  ▁pass  ",
           "  .  "
          ],
          [
           "  <bos>  ",
           "  ▁This  ",
           "  ▁film  ",
           "  ▁is  ",
           "  ▁terrible  ",
           "  ,  ",
           "  ▁best  ",
           "  ▁to  ",
           "  ▁pass  ",
           "  .  "
          ],
          [
           "  <bos>  ",
           "  ▁This  ",
           "  ▁film  ",
           "  ▁is  ",
           "  ▁terrible  ",
           "  ,  ",
           "  ▁best  ",
           "  ▁to  ",
           "  ▁pass  ",
           "  .  "
          ]
         ],
         "textfont": {
          "color": "black",
          "size": 12
         },
         "texttemplate": "%{text}",
         "type": "heatmap",
         "z": [
          [
           -0.00509528536349535,
           0.014957795850932598,
           0.018221812322735786,
           0.013111494481563568,
           0.004798796493560076,
           -0.006812038831412792,
           -0.001939488691277802,
           -0.02700962871313095,
           0.022444438189268112,
           -0.026587728410959244
          ],
          [
           -0.6468021869659424,
           0.07352990657091141,
           -0.10395831614732742,
           -0.11794734001159668,
           0.19841910898685455,
           -0.07124423235654831,
           -0.03672509267926216,
           -0.03225638344883919,
           0.06073807179927826,
           -0.08194699883460999
          ],
          [
           -2.3207178115844727,
           -1.0919450521469116,
           -0.2622467279434204,
           -1.131502628326416,
           -0.5350147485733032,
           -1.5976221561431885,
           -0.4779156446456909,
           -0.5893436670303345,
           -0.8797966241836548,
           -1.569451928138733
          ],
          [
           -56.160282135009766,
           0.9385982751846313,
           1.044010877609253,
           0.8188488483428955,
           0.9871791005134583,
           0.7951902747154236,
           0.43382424116134644,
           0.36684274673461914,
           0.6668524146080017,
           0.6193949580192566
          ],
          [
           -14.116135597229004,
           2.310884952545166,
           2.326404094696045,
           1.5623270273208618,
           1.4415379762649536,
           0.8277792930603027,
           1.1221511363983154,
           0.2477945238351822,
           0.48246151208877563,
           0.5101154446601868
          ],
          [
           -37.52021408081055,
           2.7686121463775635,
           2.550736427307129,
           1.2831910848617554,
           1.4030864238739014,
           0.910626232624054,
           0.6227959394454956,
           0.2079007774591446,
           0.11966484785079956,
           0.4330819845199585
          ],
          [
           44.53757858276367,
           -2.55277156829834,
           -3.2259628772735596,
           -1.5163657665252686,
           -1.9345179796218872,
           -1.146256446838379,
           -0.39942216873168945,
           -0.4877144694328308,
           -0.17368672788143158,
           -0.4826869070529938
          ],
          [
           33.20576477050781,
           -2.6847927570343018,
           -3.798605442047119,
           -1.4454498291015625,
           -1.9489717483520508,
           -1.349005937576294,
           -0.9047487378120422,
           -0.8794564604759216,
           -0.35239914059638977,
           -0.4427246153354645
          ],
          [
           1.6539781093597412,
           3.6815550327301025,
           5.180678367614746,
           2.7463366985321045,
           3.328244209289551,
           3.0880839824676514,
           1.7717375755310059,
           1.3400559425354004,
           0.737267255783081,
           1.16598641872406
          ],
          [
           5.446661949157715,
           -3.5703907012939453,
           -5.778568267822266,
           -2.5934243202209473,
           -3.488186836242676,
           -2.721294403076172,
           -1.0668209791183472,
           -1.0746879577636719,
           -0.679783284664154,
           -0.9632741808891296
          ],
          [
           5.64901876449585,
           4.140190601348877,
           5.70269775390625,
           2.200446844100952,
           4.004062652587891,
           1.9854995012283325,
           0.5975923538208008,
           1.078652262687683,
           0.9450573921203613,
           1.0784804821014404
          ],
          [
           -4.407497882843018,
           3.4433350563049316,
           6.0913872718811035,
           2.226260185241699,
           4.737837791442871,
           1.8468250036239624,
           1.2872918844223022,
           1.1478631496429443,
           0.858310341835022,
           0.9467055797576904
          ],
          [
           -28.9239559173584,
           3.8845653533935547,
           6.909946441650391,
           3.4166507720947266,
           6.385098934173584,
           3.924205780029297,
           1.5467815399169922,
           2.3995110988616943,
           1.7222241163253784,
           2.5243306159973145
          ],
          [
           -45.12339401245117,
           4.527482509613037,
           7.255807876586914,
           4.1191253662109375,
           6.863643646240234,
           5.024562358856201,
           1.9902714490890503,
           2.391407012939453,
           2.191464900970459,
           2.26244854927063
          ],
          [
           14.497267723083496,
           -4.159069061279297,
           -5.841463088989258,
           -3.1083743572235107,
           -5.118203163146973,
           -3.3938779830932617,
           -0.5959261059761047,
           -1.115046501159668,
           -1.3240437507629395,
           -0.05901992321014404
          ],
          [
           -28.544116973876953,
           5.48051118850708,
           7.181185245513916,
           4.343777656555176,
           6.976259231567383,
           4.819969654083252,
           1.575492262840271,
           1.9428986310958862,
           1.0120278596878052,
           0.3941652774810791
          ],
          [
           -38.857200622558594,
           -4.223681449890137,
           -6.6553120613098145,
           -3.330467462539673,
           -6.340941429138184,
           -4.859457969665527,
           -1.3546134233474731,
           -1.9460313320159912,
           -1.061097502708435,
           -0.07210094481706619
          ],
          [
           30.021621704101562,
           5.463661193847656,
           7.578441143035889,
           4.141524314880371,
           7.638067245483398,
           6.005537033081055,
           1.538135290145874,
           2.0768237113952637,
           0.42804667353630066,
           0.7218965888023376
          ],
          [
           46.571449279785156,
           2.9553050994873047,
           4.244020462036133,
           1.9966657161712646,
           4.565694808959961,
           3.537273645401001,
           0.9225163459777832,
           0.8672206997871399,
           1.0328477621078491,
           -0.6120001077651978
          ],
          [
           46.13104248046875,
           2.533928871154785,
           3.70222544670105,
           1.7597334384918213,
           3.6760547161102295,
           2.7573280334472656,
           -0.037760864943265915,
           -0.05677187442779541,
           1.401295781135559,
           -0.6598755717277527
          ],
          [
           -50.121185302734375,
           -0.567648708820343,
           -2.3084237575531006,
           -0.9097017645835876,
           -2.0930092334747314,
           -0.8504936695098877,
           -0.24335834383964539,
           -0.017740555107593536,
           -2.387272834777832,
           1.8210675716400146
          ],
          [
           -36.81218719482422,
           -1.1910659074783325,
           -2.7354791164398193,
           -0.1318432092666626,
           -1.5347487926483154,
           0.3693773150444031,
           0.7511980533599854,
           -0.611423671245575,
           -2.317861795425415,
           2.0788445472717285
          ],
          [
           52.11461639404297,
           -1.423226237297058,
           0.8547022938728333,
           -1.9667000770568848,
           -1.8001277446746826,
           -2.6653242111206055,
           -2.0873115062713623,
           -1.2794290781021118,
           1.0650824308395386,
           -5.685665130615234
          ],
          [
           54.88811111450195,
           -2.7993016242980957,
           -0.5939208269119263,
           -3.085878849029541,
           -2.449816942214966,
           -4.193317890167236,
           -3.520536184310913,
           -2.879671573638916,
           -0.009233901277184486,
           -7.473208904266357
          ],
          [
           -63.688087463378906,
           4.056227684020996,
           1.6139036417007446,
           3.7183330059051514,
           5.279371738433838,
           7.391529560089111,
           4.228268146514893,
           4.523171901702881,
           0.8142233490943909,
           10.127852439880371
          ],
          [
           90.07079315185547,
           -7.4421772956848145,
           -5.140291690826416,
           -6.756058692932129,
           -9.143156051635742,
           -11.550079345703125,
           -6.120102405548096,
           -8.010871887207031,
           -2.4243690967559814,
           -13.875405311584473
          ],
          [
           77.48069763183594,
           -10.336224555969238,
           -9.460041046142578,
           -10.906684875488281,
           -13.378091812133789,
           -15.599026679992676,
           -9.015137672424316,
           -11.691761016845703,
           -6.167976379394531,
           -18.1814022064209
          ],
          [
           70.20049285888672,
           -12.035828590393066,
           -10.422213554382324,
           -11.743799209594727,
           -13.780719757080078,
           -17.660459518432617,
           -11.809246063232422,
           -14.101902961730957,
           -8.372258186340332,
           -20.098031997680664
          ],
          [
           -72.68612670898438,
           13.844754219055176,
           11.293917655944824,
           12.631688117980957,
           15.476807594299316,
           22.1505184173584,
           12.931229591369629,
           15.804391860961914,
           9.276151657104492,
           22.32611846923828
          ],
          [
           -75.25601196289062,
           17.411907196044922,
           15.123867988586426,
           16.92533302307129,
           20.003992080688477,
           26.551179885864258,
           16.748077392578125,
           20.71906280517578,
           12.672527313232422,
           27.45225715637207
          ],
          [
           87.71492004394531,
           -16.831233978271484,
           -15.905506134033203,
           -16.610599517822266,
           -20.10028648376465,
           -26.49779510498047,
           -17.501712799072266,
           -20.530597686767578,
           -11.346541404724121,
           -27.573957443237305
          ],
          [
           -88.34082794189453,
           18.27649688720703,
           15.761259078979492,
           16.0457763671875,
           20.2303466796875,
           26.861299514770508,
           19.119110107421875,
           22.480579376220703,
           12.905948638916016,
           29.301502227783203
          ],
          [
           -88.748779296875,
           21.953292846679688,
           19.78537940979004,
           19.036985397338867,
           22.343936920166016,
           31.877626419067383,
           22.378173828125,
           26.95250129699707,
           14.906122207641602,
           32.04004669189453
          ],
          [
           -91.12661743164062,
           23.687414169311523,
           21.492586135864258,
           19.695777893066406,
           25.383119583129883,
           35.22959899902344,
           25.20467758178711,
           31.267269134521484,
           17.516664505004883,
           35.5384521484375
          ],
          [
           -84.3795166015625,
           21.827848434448242,
           19.595102310180664,
           18.87961196899414,
           25.001794815063477,
           36.14175796508789,
           24.562850952148438,
           30.28799057006836,
           16.52268409729004,
           35.114990234375
          ],
          [
           -101.85526275634766,
           23.622312545776367,
           21.3138370513916,
           22.112380981445312,
           25.207843780517578,
           39.10723876953125,
           26.315380096435547,
           31.789653778076172,
           16.762861251831055,
           35.966670989990234
          ],
          [
           48.89461135864258,
           -26.768709182739258,
           -25.488006591796875,
           -27.02692413330078,
           -26.458101272583008,
           -43.831581115722656,
           -29.69358253479004,
           -36.76313781738281,
           -17.03017807006836,
           -38.34415054321289
          ],
          [
           -17.630420684814453,
           -27.700862884521484,
           -28.19069480895996,
           -29.265792846679688,
           -27.73810386657715,
           -46.14305877685547,
           -30.20452308654785,
           -39.823699951171875,
           -16.25053596496582,
           -39.622562408447266
          ],
          [
           5.942836761474609,
           26.235326766967773,
           28.832910537719727,
           30.970293045043945,
           25.593839645385742,
           48.47711944580078,
           31.8311824798584,
           40.7922477722168,
           13.010237693786621,
           41.86098098754883
          ],
          [
           14.801093101501465,
           21.440200805664062,
           25.84204864501953,
           25.52748680114746,
           6.5622711181640625,
           45.62781524658203,
           26.712160110473633,
           35.15064239501953,
           -9.10720443725586,
           41.02220153808594
          ]
         ]
        }
       ],
       "layout": {
        "height": 800,
        "template": {
         "data": {
          "bar": [
           {
            "error_x": {
             "color": "#2a3f5f"
            },
            "error_y": {
             "color": "#2a3f5f"
            },
            "marker": {
             "line": {
              "color": "#E5ECF6",
              "width": 0.5
             },
             "pattern": {
              "fillmode": "overlay",
              "size": 10,
              "solidity": 0.2
             }
            },
            "type": "bar"
           }
          ],
          "barpolar": [
           {
            "marker": {
             "line": {
              "color": "#E5ECF6",
              "width": 0.5
             },
             "pattern": {
              "fillmode": "overlay",
              "size": 10,
              "solidity": 0.2
             }
            },
            "type": "barpolar"
           }
          ],
          "carpet": [
           {
            "aaxis": {
             "endlinecolor": "#2a3f5f",
             "gridcolor": "white",
             "linecolor": "white",
             "minorgridcolor": "white",
             "startlinecolor": "#2a3f5f"
            },
            "baxis": {
             "endlinecolor": "#2a3f5f",
             "gridcolor": "white",
             "linecolor": "white",
             "minorgridcolor": "white",
             "startlinecolor": "#2a3f5f"
            },
            "type": "carpet"
           }
          ],
          "choropleth": [
           {
            "colorbar": {
             "outlinewidth": 0,
             "ticks": ""
            },
            "type": "choropleth"
           }
          ],
          "contour": [
           {
            "colorbar": {
             "outlinewidth": 0,
             "ticks": ""
            },
            "colorscale": [
             [
              0,
              "#0d0887"
             ],
             [
              0.1111111111111111,
              "#46039f"
             ],
             [
              0.2222222222222222,
              "#7201a8"
             ],
             [
              0.3333333333333333,
              "#9c179e"
             ],
             [
              0.4444444444444444,
              "#bd3786"
             ],
             [
              0.5555555555555556,
              "#d8576b"
             ],
             [
              0.6666666666666666,
              "#ed7953"
             ],
             [
              0.7777777777777778,
              "#fb9f3a"
             ],
             [
              0.8888888888888888,
              "#fdca26"
             ],
             [
              1,
              "#f0f921"
             ]
            ],
            "type": "contour"
           }
          ],
          "contourcarpet": [
           {
            "colorbar": {
             "outlinewidth": 0,
             "ticks": ""
            },
            "type": "contourcarpet"
           }
          ],
          "heatmap": [
           {
            "colorbar": {
             "outlinewidth": 0,
             "ticks": ""
            },
            "colorscale": [
             [
              0,
              "#0d0887"
             ],
             [
              0.1111111111111111,
              "#46039f"
             ],
             [
              0.2222222222222222,
              "#7201a8"
             ],
             [
              0.3333333333333333,
              "#9c179e"
             ],
             [
              0.4444444444444444,
              "#bd3786"
             ],
             [
              0.5555555555555556,
              "#d8576b"
             ],
             [
              0.6666666666666666,
              "#ed7953"
             ],
             [
              0.7777777777777778,
              "#fb9f3a"
             ],
             [
              0.8888888888888888,
              "#fdca26"
             ],
             [
              1,
              "#f0f921"
             ]
            ],
            "type": "heatmap"
           }
          ],
          "heatmapgl": [
           {
            "colorbar": {
             "outlinewidth": 0,
             "ticks": ""
            },
            "colorscale": [
             [
              0,
              "#0d0887"
             ],
             [
              0.1111111111111111,
              "#46039f"
             ],
             [
              0.2222222222222222,
              "#7201a8"
             ],
             [
              0.3333333333333333,
              "#9c179e"
             ],
             [
              0.4444444444444444,
              "#bd3786"
             ],
             [
              0.5555555555555556,
              "#d8576b"
             ],
             [
              0.6666666666666666,
              "#ed7953"
             ],
             [
              0.7777777777777778,
              "#fb9f3a"
             ],
             [
              0.8888888888888888,
              "#fdca26"
             ],
             [
              1,
              "#f0f921"
             ]
            ],
            "type": "heatmapgl"
           }
          ],
          "histogram": [
           {
            "marker": {
             "pattern": {
              "fillmode": "overlay",
              "size": 10,
              "solidity": 0.2
             }
            },
            "type": "histogram"
           }
          ],
          "histogram2d": [
           {
            "colorbar": {
             "outlinewidth": 0,
             "ticks": ""
            },
            "colorscale": [
             [
              0,
              "#0d0887"
             ],
             [
              0.1111111111111111,
              "#46039f"
             ],
             [
              0.2222222222222222,
              "#7201a8"
             ],
             [
              0.3333333333333333,
              "#9c179e"
             ],
             [
              0.4444444444444444,
              "#bd3786"
             ],
             [
              0.5555555555555556,
              "#d8576b"
             ],
             [
              0.6666666666666666,
              "#ed7953"
             ],
             [
              0.7777777777777778,
              "#fb9f3a"
             ],
             [
              0.8888888888888888,
              "#fdca26"
             ],
             [
              1,
              "#f0f921"
             ]
            ],
            "type": "histogram2d"
           }
          ],
          "histogram2dcontour": [
           {
            "colorbar": {
             "outlinewidth": 0,
             "ticks": ""
            },
            "colorscale": [
             [
              0,
              "#0d0887"
             ],
             [
              0.1111111111111111,
              "#46039f"
             ],
             [
              0.2222222222222222,
              "#7201a8"
             ],
             [
              0.3333333333333333,
              "#9c179e"
             ],
             [
              0.4444444444444444,
              "#bd3786"
             ],
             [
              0.5555555555555556,
              "#d8576b"
             ],
             [
              0.6666666666666666,
              "#ed7953"
             ],
             [
              0.7777777777777778,
              "#fb9f3a"
             ],
             [
              0.8888888888888888,
              "#fdca26"
             ],
             [
              1,
              "#f0f921"
             ]
            ],
            "type": "histogram2dcontour"
           }
          ],
          "mesh3d": [
           {
            "colorbar": {
             "outlinewidth": 0,
             "ticks": ""
            },
            "type": "mesh3d"
           }
          ],
          "parcoords": [
           {
            "line": {
             "colorbar": {
              "outlinewidth": 0,
              "ticks": ""
             }
            },
            "type": "parcoords"
           }
          ],
          "pie": [
           {
            "automargin": true,
            "type": "pie"
           }
          ],
          "scatter": [
           {
            "fillpattern": {
             "fillmode": "overlay",
             "size": 10,
             "solidity": 0.2
            },
            "type": "scatter"
           }
          ],
          "scatter3d": [
           {
            "line": {
             "colorbar": {
              "outlinewidth": 0,
              "ticks": ""
             }
            },
            "marker": {
             "colorbar": {
              "outlinewidth": 0,
              "ticks": ""
             }
            },
            "type": "scatter3d"
           }
          ],
          "scattercarpet": [
           {
            "marker": {
             "colorbar": {
              "outlinewidth": 0,
              "ticks": ""
             }
            },
            "type": "scattercarpet"
           }
          ],
          "scattergeo": [
           {
            "marker": {
             "colorbar": {
              "outlinewidth": 0,
              "ticks": ""
             }
            },
            "type": "scattergeo"
           }
          ],
          "scattergl": [
           {
            "marker": {
             "colorbar": {
              "outlinewidth": 0,
              "ticks": ""
             }
            },
            "type": "scattergl"
           }
          ],
          "scattermapbox": [
           {
            "marker": {
             "colorbar": {
              "outlinewidth": 0,
              "ticks": ""
             }
            },
            "type": "scattermapbox"
           }
          ],
          "scatterpolar": [
           {
            "marker": {
             "colorbar": {
              "outlinewidth": 0,
              "ticks": ""
             }
            },
            "type": "scatterpolar"
           }
          ],
          "scatterpolargl": [
           {
            "marker": {
             "colorbar": {
              "outlinewidth": 0,
              "ticks": ""
             }
            },
            "type": "scatterpolargl"
           }
          ],
          "scatterternary": [
           {
            "marker": {
             "colorbar": {
              "outlinewidth": 0,
              "ticks": ""
             }
            },
            "type": "scatterternary"
           }
          ],
          "surface": [
           {
            "colorbar": {
             "outlinewidth": 0,
             "ticks": ""
            },
            "colorscale": [
             [
              0,
              "#0d0887"
             ],
             [
              0.1111111111111111,
              "#46039f"
             ],
             [
              0.2222222222222222,
              "#7201a8"
             ],
             [
              0.3333333333333333,
              "#9c179e"
             ],
             [
              0.4444444444444444,
              "#bd3786"
             ],
             [
              0.5555555555555556,
              "#d8576b"
             ],
             [
              0.6666666666666666,
              "#ed7953"
             ],
             [
              0.7777777777777778,
              "#fb9f3a"
             ],
             [
              0.8888888888888888,
              "#fdca26"
             ],
             [
              1,
              "#f0f921"
             ]
            ],
            "type": "surface"
           }
          ],
          "table": [
           {
            "cells": {
             "fill": {
              "color": "#EBF0F8"
             },
             "line": {
              "color": "white"
             }
            },
            "header": {
             "fill": {
              "color": "#C8D4E3"
             },
             "line": {
              "color": "white"
             }
            },
            "type": "table"
           }
          ]
         },
         "layout": {
          "annotationdefaults": {
           "arrowcolor": "#2a3f5f",
           "arrowhead": 0,
           "arrowwidth": 1
          },
          "autotypenumbers": "strict",
          "coloraxis": {
           "colorbar": {
            "outlinewidth": 0,
            "ticks": ""
           }
          },
          "colorscale": {
           "diverging": [
            [
             0,
             "#8e0152"
            ],
            [
             0.1,
             "#c51b7d"
            ],
            [
             0.2,
             "#de77ae"
            ],
            [
             0.3,
             "#f1b6da"
            ],
            [
             0.4,
             "#fde0ef"
            ],
            [
             0.5,
             "#f7f7f7"
            ],
            [
             0.6,
             "#e6f5d0"
            ],
            [
             0.7,
             "#b8e186"
            ],
            [
             0.8,
             "#7fbc41"
            ],
            [
             0.9,
             "#4d9221"
            ],
            [
             1,
             "#276419"
            ]
           ],
           "sequential": [
            [
             0,
             "#0d0887"
            ],
            [
             0.1111111111111111,
             "#46039f"
            ],
            [
             0.2222222222222222,
             "#7201a8"
            ],
            [
             0.3333333333333333,
             "#9c179e"
            ],
            [
             0.4444444444444444,
             "#bd3786"
            ],
            [
             0.5555555555555556,
             "#d8576b"
            ],
            [
             0.6666666666666666,
             "#ed7953"
            ],
            [
             0.7777777777777778,
             "#fb9f3a"
            ],
            [
             0.8888888888888888,
             "#fdca26"
            ],
            [
             1,
             "#f0f921"
            ]
           ],
           "sequentialminus": [
            [
             0,
             "#0d0887"
            ],
            [
             0.1111111111111111,
             "#46039f"
            ],
            [
             0.2222222222222222,
             "#7201a8"
            ],
            [
             0.3333333333333333,
             "#9c179e"
            ],
            [
             0.4444444444444444,
             "#bd3786"
            ],
            [
             0.5555555555555556,
             "#d8576b"
            ],
            [
             0.6666666666666666,
             "#ed7953"
            ],
            [
             0.7777777777777778,
             "#fb9f3a"
            ],
            [
             0.8888888888888888,
             "#fdca26"
            ],
            [
             1,
             "#f0f921"
            ]
           ]
          },
          "colorway": [
           "#636efa",
           "#EF553B",
           "#00cc96",
           "#ab63fa",
           "#FFA15A",
           "#19d3f3",
           "#FF6692",
           "#B6E880",
           "#FF97FF",
           "#FECB52"
          ],
          "font": {
           "color": "#2a3f5f"
          },
          "geo": {
           "bgcolor": "white",
           "lakecolor": "white",
           "landcolor": "#E5ECF6",
           "showlakes": true,
           "showland": true,
           "subunitcolor": "white"
          },
          "hoverlabel": {
           "align": "left"
          },
          "hovermode": "closest",
          "mapbox": {
           "style": "light"
          },
          "paper_bgcolor": "white",
          "plot_bgcolor": "#E5ECF6",
          "polar": {
           "angularaxis": {
            "gridcolor": "white",
            "linecolor": "white",
            "ticks": ""
           },
           "bgcolor": "#E5ECF6",
           "radialaxis": {
            "gridcolor": "white",
            "linecolor": "white",
            "ticks": ""
           }
          },
          "scene": {
           "xaxis": {
            "backgroundcolor": "#E5ECF6",
            "gridcolor": "white",
            "gridwidth": 2,
            "linecolor": "white",
            "showbackground": true,
            "ticks": "",
            "zerolinecolor": "white"
           },
           "yaxis": {
            "backgroundcolor": "#E5ECF6",
            "gridcolor": "white",
            "gridwidth": 2,
            "linecolor": "white",
            "showbackground": true,
            "ticks": "",
            "zerolinecolor": "white"
           },
           "zaxis": {
            "backgroundcolor": "#E5ECF6",
            "gridcolor": "white",
            "gridwidth": 2,
            "linecolor": "white",
            "showbackground": true,
            "ticks": "",
            "zerolinecolor": "white"
           }
          },
          "shapedefaults": {
           "line": {
            "color": "#2a3f5f"
           }
          },
          "ternary": {
           "aaxis": {
            "gridcolor": "white",
            "linecolor": "white",
            "ticks": ""
           },
           "baxis": {
            "gridcolor": "white",
            "linecolor": "white",
            "ticks": ""
           },
           "bgcolor": "#E5ECF6",
           "caxis": {
            "gridcolor": "white",
            "linecolor": "white",
            "ticks": ""
           }
          },
          "title": {
           "x": 0.05
          },
          "xaxis": {
           "automargin": true,
           "gridcolor": "white",
           "linecolor": "white",
           "ticks": "",
           "title": {
            "standoff": 15
           },
           "zerolinecolor": "white",
           "zerolinewidth": 2
          },
          "yaxis": {
           "automargin": true,
           "gridcolor": "white",
           "linecolor": "white",
           "ticks": "",
           "title": {
            "standoff": 15
           },
           "zerolinecolor": "white",
           "zerolinewidth": 2
          }
         }
        },
        "title": {
         "text": "Credences for Input Tokens"
        },
        "width": 800,
        "xaxis": {
         "tickangle": 45,
         "ticktext": [
          "<bos>",
          "▁This",
          "▁film",
          "▁is",
          "▁terrible",
          ",",
          "▁best",
          "▁to",
          "▁pass",
          "."
         ],
         "tickvals": [
          0,
          1,
          2,
          3,
          4,
          5,
          6,
          7,
          8,
          9
         ]
        }
       }
      },
      "text/html": [
       "<div>                            <div id=\"900729f4-2d33-462a-87f0-8d4edcc8905a\" class=\"plotly-graph-div\" style=\"height:800px; width:800px;\"></div>            <script type=\"text/javascript\">                require([\"plotly\"], function(Plotly) {                    window.PLOTLYENV=window.PLOTLYENV || {};                                    if (document.getElementById(\"900729f4-2d33-462a-87f0-8d4edcc8905a\")) {                    Plotly.newPlot(                        \"900729f4-2d33-462a-87f0-8d4edcc8905a\",                        [{\"colorscale\":[[0,\"#FFFFFF\"],[1,\"#FF0000\"]],\"text\":[[\"  <bos>  \",\"  \\u2581This  \",\"  \\u2581film  \",\"  \\u2581is  \",\"  \\u2581terrible  \",\"  ,  \",\"  \\u2581best  \",\"  \\u2581to  \",\"  \\u2581pass  \",\"  .  \"],[\"  <bos>  \",\"  \\u2581This  \",\"  \\u2581film  \",\"  \\u2581is  \",\"  \\u2581terrible  \",\"  ,  \",\"  \\u2581best  \",\"  \\u2581to  \",\"  \\u2581pass  \",\"  .  \"],[\"  <bos>  \",\"  \\u2581This  \",\"  \\u2581film  \",\"  \\u2581is  \",\"  \\u2581terrible  \",\"  ,  \",\"  \\u2581best  \",\"  \\u2581to  \",\"  \\u2581pass  \",\"  .  \"],[\"  <bos>  \",\"  \\u2581This  \",\"  \\u2581film  \",\"  \\u2581is  \",\"  \\u2581terrible  \",\"  ,  \",\"  \\u2581best  \",\"  \\u2581to  \",\"  \\u2581pass  \",\"  .  \"],[\"  <bos>  \",\"  \\u2581This  \",\"  \\u2581film  \",\"  \\u2581is  \",\"  \\u2581terrible  \",\"  ,  \",\"  \\u2581best  \",\"  \\u2581to  \",\"  \\u2581pass  \",\"  .  \"],[\"  <bos>  \",\"  \\u2581This  \",\"  \\u2581film  \",\"  \\u2581is  \",\"  \\u2581terrible  \",\"  ,  \",\"  \\u2581best  \",\"  \\u2581to  \",\"  \\u2581pass  \",\"  .  \"],[\"  <bos>  \",\"  \\u2581This  \",\"  \\u2581film  \",\"  \\u2581is  \",\"  \\u2581terrible  \",\"  ,  \",\"  \\u2581best  \",\"  \\u2581to  \",\"  \\u2581pass  \",\"  .  \"],[\"  <bos>  \",\"  \\u2581This  \",\"  \\u2581film  \",\"  \\u2581is  \",\"  \\u2581terrible  \",\"  ,  \",\"  \\u2581best  \",\"  \\u2581to  \",\"  \\u2581pass  \",\"  .  \"],[\"  <bos>  \",\"  \\u2581This  \",\"  \\u2581film  \",\"  \\u2581is  \",\"  \\u2581terrible  \",\"  ,  \",\"  \\u2581best  \",\"  \\u2581to  \",\"  \\u2581pass  \",\"  .  \"],[\"  <bos>  \",\"  \\u2581This  \",\"  \\u2581film  \",\"  \\u2581is  \",\"  \\u2581terrible  \",\"  ,  \",\"  \\u2581best  \",\"  \\u2581to  \",\"  \\u2581pass  \",\"  .  \"],[\"  <bos>  \",\"  \\u2581This  \",\"  \\u2581film  \",\"  \\u2581is  \",\"  \\u2581terrible  \",\"  ,  \",\"  \\u2581best  \",\"  \\u2581to  \",\"  \\u2581pass  \",\"  .  \"],[\"  <bos>  \",\"  \\u2581This  \",\"  \\u2581film  \",\"  \\u2581is  \",\"  \\u2581terrible  \",\"  ,  \",\"  \\u2581best  \",\"  \\u2581to  \",\"  \\u2581pass  \",\"  .  \"],[\"  <bos>  \",\"  \\u2581This  \",\"  \\u2581film  \",\"  \\u2581is  \",\"  \\u2581terrible  \",\"  ,  \",\"  \\u2581best  \",\"  \\u2581to  \",\"  \\u2581pass  \",\"  .  \"],[\"  <bos>  \",\"  \\u2581This  \",\"  \\u2581film  \",\"  \\u2581is  \",\"  \\u2581terrible  \",\"  ,  \",\"  \\u2581best  \",\"  \\u2581to  \",\"  \\u2581pass  \",\"  .  \"],[\"  <bos>  \",\"  \\u2581This  \",\"  \\u2581film  \",\"  \\u2581is  \",\"  \\u2581terrible  \",\"  ,  \",\"  \\u2581best  \",\"  \\u2581to  \",\"  \\u2581pass  \",\"  .  \"],[\"  <bos>  \",\"  \\u2581This  \",\"  \\u2581film  \",\"  \\u2581is  \",\"  \\u2581terrible  \",\"  ,  \",\"  \\u2581best  \",\"  \\u2581to  \",\"  \\u2581pass  \",\"  .  \"],[\"  <bos>  \",\"  \\u2581This  \",\"  \\u2581film  \",\"  \\u2581is  \",\"  \\u2581terrible  \",\"  ,  \",\"  \\u2581best  \",\"  \\u2581to  \",\"  \\u2581pass  \",\"  .  \"],[\"  <bos>  \",\"  \\u2581This  \",\"  \\u2581film  \",\"  \\u2581is  \",\"  \\u2581terrible  \",\"  ,  \",\"  \\u2581best  \",\"  \\u2581to  \",\"  \\u2581pass  \",\"  .  \"],[\"  <bos>  \",\"  \\u2581This  \",\"  \\u2581film  \",\"  \\u2581is  \",\"  \\u2581terrible  \",\"  ,  \",\"  \\u2581best  \",\"  \\u2581to  \",\"  \\u2581pass  \",\"  .  \"],[\"  <bos>  \",\"  \\u2581This  \",\"  \\u2581film  \",\"  \\u2581is  \",\"  \\u2581terrible  \",\"  ,  \",\"  \\u2581best  \",\"  \\u2581to  \",\"  \\u2581pass  \",\"  .  \"],[\"  <bos>  \",\"  \\u2581This  \",\"  \\u2581film  \",\"  \\u2581is  \",\"  \\u2581terrible  \",\"  ,  \",\"  \\u2581best  \",\"  \\u2581to  \",\"  \\u2581pass  \",\"  .  \"],[\"  <bos>  \",\"  \\u2581This  \",\"  \\u2581film  \",\"  \\u2581is  \",\"  \\u2581terrible  \",\"  ,  \",\"  \\u2581best  \",\"  \\u2581to  \",\"  \\u2581pass  \",\"  .  \"],[\"  <bos>  \",\"  \\u2581This  \",\"  \\u2581film  \",\"  \\u2581is  \",\"  \\u2581terrible  \",\"  ,  \",\"  \\u2581best  \",\"  \\u2581to  \",\"  \\u2581pass  \",\"  .  \"],[\"  <bos>  \",\"  \\u2581This  \",\"  \\u2581film  \",\"  \\u2581is  \",\"  \\u2581terrible  \",\"  ,  \",\"  \\u2581best  \",\"  \\u2581to  \",\"  \\u2581pass  \",\"  .  \"],[\"  <bos>  \",\"  \\u2581This  \",\"  \\u2581film  \",\"  \\u2581is  \",\"  \\u2581terrible  \",\"  ,  \",\"  \\u2581best  \",\"  \\u2581to  \",\"  \\u2581pass  \",\"  .  \"],[\"  <bos>  \",\"  \\u2581This  \",\"  \\u2581film  \",\"  \\u2581is  \",\"  \\u2581terrible  \",\"  ,  \",\"  \\u2581best  \",\"  \\u2581to  \",\"  \\u2581pass  \",\"  .  \"],[\"  <bos>  \",\"  \\u2581This  \",\"  \\u2581film  \",\"  \\u2581is  \",\"  \\u2581terrible  \",\"  ,  \",\"  \\u2581best  \",\"  \\u2581to  \",\"  \\u2581pass  \",\"  .  \"],[\"  <bos>  \",\"  \\u2581This  \",\"  \\u2581film  \",\"  \\u2581is  \",\"  \\u2581terrible  \",\"  ,  \",\"  \\u2581best  \",\"  \\u2581to  \",\"  \\u2581pass  \",\"  .  \"],[\"  <bos>  \",\"  \\u2581This  \",\"  \\u2581film  \",\"  \\u2581is  \",\"  \\u2581terrible  \",\"  ,  \",\"  \\u2581best  \",\"  \\u2581to  \",\"  \\u2581pass  \",\"  .  \"],[\"  <bos>  \",\"  \\u2581This  \",\"  \\u2581film  \",\"  \\u2581is  \",\"  \\u2581terrible  \",\"  ,  \",\"  \\u2581best  \",\"  \\u2581to  \",\"  \\u2581pass  \",\"  .  \"],[\"  <bos>  \",\"  \\u2581This  \",\"  \\u2581film  \",\"  \\u2581is  \",\"  \\u2581terrible  \",\"  ,  \",\"  \\u2581best  \",\"  \\u2581to  \",\"  \\u2581pass  \",\"  .  \"],[\"  <bos>  \",\"  \\u2581This  \",\"  \\u2581film  \",\"  \\u2581is  \",\"  \\u2581terrible  \",\"  ,  \",\"  \\u2581best  \",\"  \\u2581to  \",\"  \\u2581pass  \",\"  .  \"],[\"  <bos>  \",\"  \\u2581This  \",\"  \\u2581film  \",\"  \\u2581is  \",\"  \\u2581terrible  \",\"  ,  \",\"  \\u2581best  \",\"  \\u2581to  \",\"  \\u2581pass  \",\"  .  \"],[\"  <bos>  \",\"  \\u2581This  \",\"  \\u2581film  \",\"  \\u2581is  \",\"  \\u2581terrible  \",\"  ,  \",\"  \\u2581best  \",\"  \\u2581to  \",\"  \\u2581pass  \",\"  .  \"],[\"  <bos>  \",\"  \\u2581This  \",\"  \\u2581film  \",\"  \\u2581is  \",\"  \\u2581terrible  \",\"  ,  \",\"  \\u2581best  \",\"  \\u2581to  \",\"  \\u2581pass  \",\"  .  \"],[\"  <bos>  \",\"  \\u2581This  \",\"  \\u2581film  \",\"  \\u2581is  \",\"  \\u2581terrible  \",\"  ,  \",\"  \\u2581best  \",\"  \\u2581to  \",\"  \\u2581pass  \",\"  .  \"],[\"  <bos>  \",\"  \\u2581This  \",\"  \\u2581film  \",\"  \\u2581is  \",\"  \\u2581terrible  \",\"  ,  \",\"  \\u2581best  \",\"  \\u2581to  \",\"  \\u2581pass  \",\"  .  \"],[\"  <bos>  \",\"  \\u2581This  \",\"  \\u2581film  \",\"  \\u2581is  \",\"  \\u2581terrible  \",\"  ,  \",\"  \\u2581best  \",\"  \\u2581to  \",\"  \\u2581pass  \",\"  .  \"],[\"  <bos>  \",\"  \\u2581This  \",\"  \\u2581film  \",\"  \\u2581is  \",\"  \\u2581terrible  \",\"  ,  \",\"  \\u2581best  \",\"  \\u2581to  \",\"  \\u2581pass  \",\"  .  \"],[\"  <bos>  \",\"  \\u2581This  \",\"  \\u2581film  \",\"  \\u2581is  \",\"  \\u2581terrible  \",\"  ,  \",\"  \\u2581best  \",\"  \\u2581to  \",\"  \\u2581pass  \",\"  .  \"]],\"textfont\":{\"color\":\"black\",\"size\":12},\"texttemplate\":\"%{text}\",\"z\":[[-0.00509528536349535,0.014957795850932598,0.018221812322735786,0.013111494481563568,0.004798796493560076,-0.006812038831412792,-0.001939488691277802,-0.02700962871313095,0.022444438189268112,-0.026587728410959244],[-0.6468021869659424,0.07352990657091141,-0.10395831614732742,-0.11794734001159668,0.19841910898685455,-0.07124423235654831,-0.03672509267926216,-0.03225638344883919,0.06073807179927826,-0.08194699883460999],[-2.3207178115844727,-1.0919450521469116,-0.2622467279434204,-1.131502628326416,-0.5350147485733032,-1.5976221561431885,-0.4779156446456909,-0.5893436670303345,-0.8797966241836548,-1.569451928138733],[-56.160282135009766,0.9385982751846313,1.044010877609253,0.8188488483428955,0.9871791005134583,0.7951902747154236,0.43382424116134644,0.36684274673461914,0.6668524146080017,0.6193949580192566],[-14.116135597229004,2.310884952545166,2.326404094696045,1.5623270273208618,1.4415379762649536,0.8277792930603027,1.1221511363983154,0.2477945238351822,0.48246151208877563,0.5101154446601868],[-37.52021408081055,2.7686121463775635,2.550736427307129,1.2831910848617554,1.4030864238739014,0.910626232624054,0.6227959394454956,0.2079007774591446,0.11966484785079956,0.4330819845199585],[44.53757858276367,-2.55277156829834,-3.2259628772735596,-1.5163657665252686,-1.9345179796218872,-1.146256446838379,-0.39942216873168945,-0.4877144694328308,-0.17368672788143158,-0.4826869070529938],[33.20576477050781,-2.6847927570343018,-3.798605442047119,-1.4454498291015625,-1.9489717483520508,-1.349005937576294,-0.9047487378120422,-0.8794564604759216,-0.35239914059638977,-0.4427246153354645],[1.6539781093597412,3.6815550327301025,5.180678367614746,2.7463366985321045,3.328244209289551,3.0880839824676514,1.7717375755310059,1.3400559425354004,0.737267255783081,1.16598641872406],[5.446661949157715,-3.5703907012939453,-5.778568267822266,-2.5934243202209473,-3.488186836242676,-2.721294403076172,-1.0668209791183472,-1.0746879577636719,-0.679783284664154,-0.9632741808891296],[5.64901876449585,4.140190601348877,5.70269775390625,2.200446844100952,4.004062652587891,1.9854995012283325,0.5975923538208008,1.078652262687683,0.9450573921203613,1.0784804821014404],[-4.407497882843018,3.4433350563049316,6.0913872718811035,2.226260185241699,4.737837791442871,1.8468250036239624,1.2872918844223022,1.1478631496429443,0.858310341835022,0.9467055797576904],[-28.9239559173584,3.8845653533935547,6.909946441650391,3.4166507720947266,6.385098934173584,3.924205780029297,1.5467815399169922,2.3995110988616943,1.7222241163253784,2.5243306159973145],[-45.12339401245117,4.527482509613037,7.255807876586914,4.1191253662109375,6.863643646240234,5.024562358856201,1.9902714490890503,2.391407012939453,2.191464900970459,2.26244854927063],[14.497267723083496,-4.159069061279297,-5.841463088989258,-3.1083743572235107,-5.118203163146973,-3.3938779830932617,-0.5959261059761047,-1.115046501159668,-1.3240437507629395,-0.05901992321014404],[-28.544116973876953,5.48051118850708,7.181185245513916,4.343777656555176,6.976259231567383,4.819969654083252,1.575492262840271,1.9428986310958862,1.0120278596878052,0.3941652774810791],[-38.857200622558594,-4.223681449890137,-6.6553120613098145,-3.330467462539673,-6.340941429138184,-4.859457969665527,-1.3546134233474731,-1.9460313320159912,-1.061097502708435,-0.07210094481706619],[30.021621704101562,5.463661193847656,7.578441143035889,4.141524314880371,7.638067245483398,6.005537033081055,1.538135290145874,2.0768237113952637,0.42804667353630066,0.7218965888023376],[46.571449279785156,2.9553050994873047,4.244020462036133,1.9966657161712646,4.565694808959961,3.537273645401001,0.9225163459777832,0.8672206997871399,1.0328477621078491,-0.6120001077651978],[46.13104248046875,2.533928871154785,3.70222544670105,1.7597334384918213,3.6760547161102295,2.7573280334472656,-0.037760864943265915,-0.05677187442779541,1.401295781135559,-0.6598755717277527],[-50.121185302734375,-0.567648708820343,-2.3084237575531006,-0.9097017645835876,-2.0930092334747314,-0.8504936695098877,-0.24335834383964539,-0.017740555107593536,-2.387272834777832,1.8210675716400146],[-36.81218719482422,-1.1910659074783325,-2.7354791164398193,-0.1318432092666626,-1.5347487926483154,0.3693773150444031,0.7511980533599854,-0.611423671245575,-2.317861795425415,2.0788445472717285],[52.11461639404297,-1.423226237297058,0.8547022938728333,-1.9667000770568848,-1.8001277446746826,-2.6653242111206055,-2.0873115062713623,-1.2794290781021118,1.0650824308395386,-5.685665130615234],[54.88811111450195,-2.7993016242980957,-0.5939208269119263,-3.085878849029541,-2.449816942214966,-4.193317890167236,-3.520536184310913,-2.879671573638916,-0.009233901277184486,-7.473208904266357],[-63.688087463378906,4.056227684020996,1.6139036417007446,3.7183330059051514,5.279371738433838,7.391529560089111,4.228268146514893,4.523171901702881,0.8142233490943909,10.127852439880371],[90.07079315185547,-7.4421772956848145,-5.140291690826416,-6.756058692932129,-9.143156051635742,-11.550079345703125,-6.120102405548096,-8.010871887207031,-2.4243690967559814,-13.875405311584473],[77.48069763183594,-10.336224555969238,-9.460041046142578,-10.906684875488281,-13.378091812133789,-15.599026679992676,-9.015137672424316,-11.691761016845703,-6.167976379394531,-18.1814022064209],[70.20049285888672,-12.035828590393066,-10.422213554382324,-11.743799209594727,-13.780719757080078,-17.660459518432617,-11.809246063232422,-14.101902961730957,-8.372258186340332,-20.098031997680664],[-72.68612670898438,13.844754219055176,11.293917655944824,12.631688117980957,15.476807594299316,22.1505184173584,12.931229591369629,15.804391860961914,9.276151657104492,22.32611846923828],[-75.25601196289062,17.411907196044922,15.123867988586426,16.92533302307129,20.003992080688477,26.551179885864258,16.748077392578125,20.71906280517578,12.672527313232422,27.45225715637207],[87.71492004394531,-16.831233978271484,-15.905506134033203,-16.610599517822266,-20.10028648376465,-26.49779510498047,-17.501712799072266,-20.530597686767578,-11.346541404724121,-27.573957443237305],[-88.34082794189453,18.27649688720703,15.761259078979492,16.0457763671875,20.2303466796875,26.861299514770508,19.119110107421875,22.480579376220703,12.905948638916016,29.301502227783203],[-88.748779296875,21.953292846679688,19.78537940979004,19.036985397338867,22.343936920166016,31.877626419067383,22.378173828125,26.95250129699707,14.906122207641602,32.04004669189453],[-91.12661743164062,23.687414169311523,21.492586135864258,19.695777893066406,25.383119583129883,35.22959899902344,25.20467758178711,31.267269134521484,17.516664505004883,35.5384521484375],[-84.3795166015625,21.827848434448242,19.595102310180664,18.87961196899414,25.001794815063477,36.14175796508789,24.562850952148438,30.28799057006836,16.52268409729004,35.114990234375],[-101.85526275634766,23.622312545776367,21.3138370513916,22.112380981445312,25.207843780517578,39.10723876953125,26.315380096435547,31.789653778076172,16.762861251831055,35.966670989990234],[48.89461135864258,-26.768709182739258,-25.488006591796875,-27.02692413330078,-26.458101272583008,-43.831581115722656,-29.69358253479004,-36.76313781738281,-17.03017807006836,-38.34415054321289],[-17.630420684814453,-27.700862884521484,-28.19069480895996,-29.265792846679688,-27.73810386657715,-46.14305877685547,-30.20452308654785,-39.823699951171875,-16.25053596496582,-39.622562408447266],[5.942836761474609,26.235326766967773,28.832910537719727,30.970293045043945,25.593839645385742,48.47711944580078,31.8311824798584,40.7922477722168,13.010237693786621,41.86098098754883],[14.801093101501465,21.440200805664062,25.84204864501953,25.52748680114746,6.5622711181640625,45.62781524658203,26.712160110473633,35.15064239501953,-9.10720443725586,41.02220153808594]],\"type\":\"heatmap\"}],                        {\"height\":800,\"template\":{\"data\":{\"barpolar\":[{\"marker\":{\"line\":{\"color\":\"#E5ECF6\",\"width\":0.5},\"pattern\":{\"fillmode\":\"overlay\",\"size\":10,\"solidity\":0.2}},\"type\":\"barpolar\"}],\"bar\":[{\"error_x\":{\"color\":\"#2a3f5f\"},\"error_y\":{\"color\":\"#2a3f5f\"},\"marker\":{\"line\":{\"color\":\"#E5ECF6\",\"width\":0.5},\"pattern\":{\"fillmode\":\"overlay\",\"size\":10,\"solidity\":0.2}},\"type\":\"bar\"}],\"carpet\":[{\"aaxis\":{\"endlinecolor\":\"#2a3f5f\",\"gridcolor\":\"white\",\"linecolor\":\"white\",\"minorgridcolor\":\"white\",\"startlinecolor\":\"#2a3f5f\"},\"baxis\":{\"endlinecolor\":\"#2a3f5f\",\"gridcolor\":\"white\",\"linecolor\":\"white\",\"minorgridcolor\":\"white\",\"startlinecolor\":\"#2a3f5f\"},\"type\":\"carpet\"}],\"choropleth\":[{\"colorbar\":{\"outlinewidth\":0,\"ticks\":\"\"},\"type\":\"choropleth\"}],\"contourcarpet\":[{\"colorbar\":{\"outlinewidth\":0,\"ticks\":\"\"},\"type\":\"contourcarpet\"}],\"contour\":[{\"colorbar\":{\"outlinewidth\":0,\"ticks\":\"\"},\"colorscale\":[[0.0,\"#0d0887\"],[0.1111111111111111,\"#46039f\"],[0.2222222222222222,\"#7201a8\"],[0.3333333333333333,\"#9c179e\"],[0.4444444444444444,\"#bd3786\"],[0.5555555555555556,\"#d8576b\"],[0.6666666666666666,\"#ed7953\"],[0.7777777777777778,\"#fb9f3a\"],[0.8888888888888888,\"#fdca26\"],[1.0,\"#f0f921\"]],\"type\":\"contour\"}],\"heatmapgl\":[{\"colorbar\":{\"outlinewidth\":0,\"ticks\":\"\"},\"colorscale\":[[0.0,\"#0d0887\"],[0.1111111111111111,\"#46039f\"],[0.2222222222222222,\"#7201a8\"],[0.3333333333333333,\"#9c179e\"],[0.4444444444444444,\"#bd3786\"],[0.5555555555555556,\"#d8576b\"],[0.6666666666666666,\"#ed7953\"],[0.7777777777777778,\"#fb9f3a\"],[0.8888888888888888,\"#fdca26\"],[1.0,\"#f0f921\"]],\"type\":\"heatmapgl\"}],\"heatmap\":[{\"colorbar\":{\"outlinewidth\":0,\"ticks\":\"\"},\"colorscale\":[[0.0,\"#0d0887\"],[0.1111111111111111,\"#46039f\"],[0.2222222222222222,\"#7201a8\"],[0.3333333333333333,\"#9c179e\"],[0.4444444444444444,\"#bd3786\"],[0.5555555555555556,\"#d8576b\"],[0.6666666666666666,\"#ed7953\"],[0.7777777777777778,\"#fb9f3a\"],[0.8888888888888888,\"#fdca26\"],[1.0,\"#f0f921\"]],\"type\":\"heatmap\"}],\"histogram2dcontour\":[{\"colorbar\":{\"outlinewidth\":0,\"ticks\":\"\"},\"colorscale\":[[0.0,\"#0d0887\"],[0.1111111111111111,\"#46039f\"],[0.2222222222222222,\"#7201a8\"],[0.3333333333333333,\"#9c179e\"],[0.4444444444444444,\"#bd3786\"],[0.5555555555555556,\"#d8576b\"],[0.6666666666666666,\"#ed7953\"],[0.7777777777777778,\"#fb9f3a\"],[0.8888888888888888,\"#fdca26\"],[1.0,\"#f0f921\"]],\"type\":\"histogram2dcontour\"}],\"histogram2d\":[{\"colorbar\":{\"outlinewidth\":0,\"ticks\":\"\"},\"colorscale\":[[0.0,\"#0d0887\"],[0.1111111111111111,\"#46039f\"],[0.2222222222222222,\"#7201a8\"],[0.3333333333333333,\"#9c179e\"],[0.4444444444444444,\"#bd3786\"],[0.5555555555555556,\"#d8576b\"],[0.6666666666666666,\"#ed7953\"],[0.7777777777777778,\"#fb9f3a\"],[0.8888888888888888,\"#fdca26\"],[1.0,\"#f0f921\"]],\"type\":\"histogram2d\"}],\"histogram\":[{\"marker\":{\"pattern\":{\"fillmode\":\"overlay\",\"size\":10,\"solidity\":0.2}},\"type\":\"histogram\"}],\"mesh3d\":[{\"colorbar\":{\"outlinewidth\":0,\"ticks\":\"\"},\"type\":\"mesh3d\"}],\"parcoords\":[{\"line\":{\"colorbar\":{\"outlinewidth\":0,\"ticks\":\"\"}},\"type\":\"parcoords\"}],\"pie\":[{\"automargin\":true,\"type\":\"pie\"}],\"scatter3d\":[{\"line\":{\"colorbar\":{\"outlinewidth\":0,\"ticks\":\"\"}},\"marker\":{\"colorbar\":{\"outlinewidth\":0,\"ticks\":\"\"}},\"type\":\"scatter3d\"}],\"scattercarpet\":[{\"marker\":{\"colorbar\":{\"outlinewidth\":0,\"ticks\":\"\"}},\"type\":\"scattercarpet\"}],\"scattergeo\":[{\"marker\":{\"colorbar\":{\"outlinewidth\":0,\"ticks\":\"\"}},\"type\":\"scattergeo\"}],\"scattergl\":[{\"marker\":{\"colorbar\":{\"outlinewidth\":0,\"ticks\":\"\"}},\"type\":\"scattergl\"}],\"scattermapbox\":[{\"marker\":{\"colorbar\":{\"outlinewidth\":0,\"ticks\":\"\"}},\"type\":\"scattermapbox\"}],\"scatterpolargl\":[{\"marker\":{\"colorbar\":{\"outlinewidth\":0,\"ticks\":\"\"}},\"type\":\"scatterpolargl\"}],\"scatterpolar\":[{\"marker\":{\"colorbar\":{\"outlinewidth\":0,\"ticks\":\"\"}},\"type\":\"scatterpolar\"}],\"scatter\":[{\"fillpattern\":{\"fillmode\":\"overlay\",\"size\":10,\"solidity\":0.2},\"type\":\"scatter\"}],\"scatterternary\":[{\"marker\":{\"colorbar\":{\"outlinewidth\":0,\"ticks\":\"\"}},\"type\":\"scatterternary\"}],\"surface\":[{\"colorbar\":{\"outlinewidth\":0,\"ticks\":\"\"},\"colorscale\":[[0.0,\"#0d0887\"],[0.1111111111111111,\"#46039f\"],[0.2222222222222222,\"#7201a8\"],[0.3333333333333333,\"#9c179e\"],[0.4444444444444444,\"#bd3786\"],[0.5555555555555556,\"#d8576b\"],[0.6666666666666666,\"#ed7953\"],[0.7777777777777778,\"#fb9f3a\"],[0.8888888888888888,\"#fdca26\"],[1.0,\"#f0f921\"]],\"type\":\"surface\"}],\"table\":[{\"cells\":{\"fill\":{\"color\":\"#EBF0F8\"},\"line\":{\"color\":\"white\"}},\"header\":{\"fill\":{\"color\":\"#C8D4E3\"},\"line\":{\"color\":\"white\"}},\"type\":\"table\"}]},\"layout\":{\"annotationdefaults\":{\"arrowcolor\":\"#2a3f5f\",\"arrowhead\":0,\"arrowwidth\":1},\"autotypenumbers\":\"strict\",\"coloraxis\":{\"colorbar\":{\"outlinewidth\":0,\"ticks\":\"\"}},\"colorscale\":{\"diverging\":[[0,\"#8e0152\"],[0.1,\"#c51b7d\"],[0.2,\"#de77ae\"],[0.3,\"#f1b6da\"],[0.4,\"#fde0ef\"],[0.5,\"#f7f7f7\"],[0.6,\"#e6f5d0\"],[0.7,\"#b8e186\"],[0.8,\"#7fbc41\"],[0.9,\"#4d9221\"],[1,\"#276419\"]],\"sequential\":[[0.0,\"#0d0887\"],[0.1111111111111111,\"#46039f\"],[0.2222222222222222,\"#7201a8\"],[0.3333333333333333,\"#9c179e\"],[0.4444444444444444,\"#bd3786\"],[0.5555555555555556,\"#d8576b\"],[0.6666666666666666,\"#ed7953\"],[0.7777777777777778,\"#fb9f3a\"],[0.8888888888888888,\"#fdca26\"],[1.0,\"#f0f921\"]],\"sequentialminus\":[[0.0,\"#0d0887\"],[0.1111111111111111,\"#46039f\"],[0.2222222222222222,\"#7201a8\"],[0.3333333333333333,\"#9c179e\"],[0.4444444444444444,\"#bd3786\"],[0.5555555555555556,\"#d8576b\"],[0.6666666666666666,\"#ed7953\"],[0.7777777777777778,\"#fb9f3a\"],[0.8888888888888888,\"#fdca26\"],[1.0,\"#f0f921\"]]},\"colorway\":[\"#636efa\",\"#EF553B\",\"#00cc96\",\"#ab63fa\",\"#FFA15A\",\"#19d3f3\",\"#FF6692\",\"#B6E880\",\"#FF97FF\",\"#FECB52\"],\"font\":{\"color\":\"#2a3f5f\"},\"geo\":{\"bgcolor\":\"white\",\"lakecolor\":\"white\",\"landcolor\":\"#E5ECF6\",\"showlakes\":true,\"showland\":true,\"subunitcolor\":\"white\"},\"hoverlabel\":{\"align\":\"left\"},\"hovermode\":\"closest\",\"mapbox\":{\"style\":\"light\"},\"paper_bgcolor\":\"white\",\"plot_bgcolor\":\"#E5ECF6\",\"polar\":{\"angularaxis\":{\"gridcolor\":\"white\",\"linecolor\":\"white\",\"ticks\":\"\"},\"bgcolor\":\"#E5ECF6\",\"radialaxis\":{\"gridcolor\":\"white\",\"linecolor\":\"white\",\"ticks\":\"\"}},\"scene\":{\"xaxis\":{\"backgroundcolor\":\"#E5ECF6\",\"gridcolor\":\"white\",\"gridwidth\":2,\"linecolor\":\"white\",\"showbackground\":true,\"ticks\":\"\",\"zerolinecolor\":\"white\"},\"yaxis\":{\"backgroundcolor\":\"#E5ECF6\",\"gridcolor\":\"white\",\"gridwidth\":2,\"linecolor\":\"white\",\"showbackground\":true,\"ticks\":\"\",\"zerolinecolor\":\"white\"},\"zaxis\":{\"backgroundcolor\":\"#E5ECF6\",\"gridcolor\":\"white\",\"gridwidth\":2,\"linecolor\":\"white\",\"showbackground\":true,\"ticks\":\"\",\"zerolinecolor\":\"white\"}},\"shapedefaults\":{\"line\":{\"color\":\"#2a3f5f\"}},\"ternary\":{\"aaxis\":{\"gridcolor\":\"white\",\"linecolor\":\"white\",\"ticks\":\"\"},\"baxis\":{\"gridcolor\":\"white\",\"linecolor\":\"white\",\"ticks\":\"\"},\"bgcolor\":\"#E5ECF6\",\"caxis\":{\"gridcolor\":\"white\",\"linecolor\":\"white\",\"ticks\":\"\"}},\"title\":{\"x\":0.05},\"xaxis\":{\"automargin\":true,\"gridcolor\":\"white\",\"linecolor\":\"white\",\"ticks\":\"\",\"title\":{\"standoff\":15},\"zerolinecolor\":\"white\",\"zerolinewidth\":2},\"yaxis\":{\"automargin\":true,\"gridcolor\":\"white\",\"linecolor\":\"white\",\"ticks\":\"\",\"title\":{\"standoff\":15},\"zerolinecolor\":\"white\",\"zerolinewidth\":2}}},\"title\":{\"text\":\"Credences for Input Tokens\"},\"width\":800,\"xaxis\":{\"tickangle\":45,\"ticktext\":[\"<bos>\",\"\\u2581This\",\"\\u2581film\",\"\\u2581is\",\"\\u2581terrible\",\",\",\"\\u2581best\",\"\\u2581to\",\"\\u2581pass\",\".\"],\"tickvals\":[0,1,2,3,4,5,6,7,8,9]}},                        {\"responsive\": true}                    ).then(function(){\n",
       "                            \n",
       "var gd = document.getElementById('900729f4-2d33-462a-87f0-8d4edcc8905a');\n",
       "var x = new MutationObserver(function (mutations, observer) {{\n",
       "        var display = window.getComputedStyle(gd).display;\n",
       "        if (!display || display === 'none') {{\n",
       "            console.log([gd, 'removed!']);\n",
       "            Plotly.purge(gd);\n",
       "            observer.disconnect();\n",
       "        }}\n",
       "}});\n",
       "\n",
       "// Listen for the removal of the full notebook cells\n",
       "var notebookContainer = gd.closest('#notebook-container');\n",
       "if (notebookContainer) {{\n",
       "    x.observe(notebookContainer, {childList: true});\n",
       "}}\n",
       "\n",
       "// Listen for the clearing of the current output cell\n",
       "var outputEl = gd.closest('.output');\n",
       "if (outputEl) {{\n",
       "    x.observe(outputEl, {childList: true});\n",
       "}}\n",
       "\n",
       "                        })                };                });            </script>        </div>"
      ]
     },
     "metadata": {},
     "output_type": "display_data"
    }
   ],
   "source": [
    "words_corresponding_to_credences = np.array([[\" \" * 2 + word + \" \" * 2 for word in input_tokens] for layer_num in range(len(credences))])\n",
    "\n",
    "heatmap = go.Heatmap(\n",
    "    z=credences,\n",
    "    colorscale=color_scale,\n",
    "    text=words_corresponding_to_credences,  # Set the text to be equal to z\n",
    "    texttemplate=\"%{text}\",\n",
    "    textfont=dict(color='black', size=12),  # Set the text color and size\n",
    ")\n",
    "\n",
    "# Create plot layout\n",
    "layout = go.Layout(title='Credences for Input Tokens',\n",
    "                width=800,  # Set the width of the plot\n",
    "                height=800,  # Set the height of the plot\n",
    "\n",
    "                     xaxis=dict(tickvals=list(range(len(input_tokens))),\n",
    "                                ticktext=input_tokens,\n",
    "                                tickangle=45))\n",
    "\n",
    "# Create plotly figure\n",
    "fig = go.Figure(data=[heatmap], layout=layout)\n",
    "\n",
    "# Display plotly figure\n",
    "print(credences[-1].shape)\n",
    "iplot(fig)\n"
   ]
  },
  {
   "cell_type": "code",
   "execution_count": null,
   "metadata": {},
   "outputs": [
    {
     "name": "stdout",
     "output_type": "stream",
     "text": [
      "['<bos>', '▁This', '▁film', '▁is', '▁terrible', ',', '▁best', '▁to', '▁pass', '.'] [14.801093 21.4402   25.842049 25.527487  6.562271 45.627815 26.71216\n",
      " 35.150642 -9.107204 41.0222  ]\n",
      "<bos> 14.801093 0.43680078\n",
      " This 21.4402 0.5580962\n",
      " film 25.842049 0.6385172\n",
      " is 25.527487 0.6327702\n",
      " terrible 6.562271 0.28627878\n",
      ", 45.627815 1.0\n",
      " best 26.71216 0.65441406\n",
      " to 35.150642 0.80858374\n",
      " pass -9.107204 0.0\n",
      ". 41.0222 0.9158562\n"
     ]
    },
    {
     "data": {
      "text/html": [
       "<span class=\"barcode\"; style=\"color: black; background-color: rgb(133,188,219)\" title=\"14.801093\"><bos></span><span class=\"barcode\"; style=\"color: black; background-color: rgb(88,161,206)\" title=\"21.4402\"> This</span><span class=\"barcode\"; style=\"color: black; background-color: rgb(62,142,196)\" title=\"25.842049\"> film</span><span class=\"barcode\"; style=\"color: black; background-color: rgb(64,144,197)\" title=\"25.527487\"> is</span><span class=\"barcode\"; style=\"color: black; background-color: rgb(186,214,234)\" title=\"6.562271\"> terrible</span><span class=\"barcode\"; style=\"color: black; background-color: rgb(8,48,107)\" title=\"45.627815\">,</span><span class=\"barcode\"; style=\"color: black; background-color: rgb(58,138,193)\" title=\"26.71216\"> best</span><span class=\"barcode\"; style=\"color: black; background-color: rgb(21,98,169)\" title=\"35.150642\"> to</span><span class=\"barcode\"; style=\"color: black; background-color: rgb(247,251,255)\" title=\"-9.107204\"> pass</span><span class=\"barcode\"; style=\"color: black; background-color: rgb(8,69,139)\" title=\"41.0222\">.</span>"
      ],
      "text/plain": [
       "<IPython.core.display.HTML object>"
      ]
     },
     "metadata": {},
     "output_type": "display_data"
    }
   ],
   "source": [
    "import matplotlib.pyplot as plt\n",
    "\n",
    "def colorize(words, credences):\n",
    "    \n",
    "    max_color = float(max(credences))\n",
    "    min_color = float(min(credences))\n",
    "    normalized_credences = (credences - min_color) / (max_color - min_color)\n",
    "    \n",
    "    cmap = plt.get_cmap('Blues')\n",
    "    \n",
    "    template = '<span class=\"barcode\"; style=\"color: black; background-color: {}\" title=\"{}\">{}</span>'\n",
    "    colored_string = ''\n",
    "    \n",
    "    for word, credence, norm_credence in zip(words, credences, normalized_credences):\n",
    "        word = word.replace('▁', ' ')\n",
    "        color = cmap(norm_credence)[:3]\n",
    "        color = 'rgb(' + str(int(color[0]*255)) + ',' + str(int(color[1]*255)) + ',' + str(int(color[2]*255)) + ')'\n",
    "        # print(word, credence, norm_credence)\n",
    "        colored_string += template.format(color, str(credence), word)\n",
    "    \n",
    "    return colored_string\n",
    "\n",
    "# example usage:\n",
    "words = input_tokens\n",
    "colors = credences[-1] # associated values\n",
    "\n",
    "# Colorizing the text\n",
    "print(words, colors)\n",
    "colored_string = colorize(words, colors)\n",
    "\n",
    "# To display the colored string in Jupyter Notebook\n",
    "display(HTML(colored_string))"
   ]
  },
  {
   "cell_type": "code",
   "execution_count": null,
   "metadata": {},
   "outputs": [
    {
     "name": "stdout",
     "output_type": "stream",
     "text": [
      "['A mitochondrion (/ˌmaɪtəˈkɒndriən/; pl mitochondria) is an organelle found in the cells of most eukaryotes, such as animals, plants and fungi.', 'Mitochondria have a double membrane structure and use aerobic respiration to generate adenosine triphosphate (ATP), which is used throughout the cell as a source of chemical energy.', 'They were discovered by Albert von Kölliker in 1857 in the voluntary muscles of insects.', 'The term mitochondrion was coined by Carl Benda in 1898.', 'The mitochondrion is popularly nicknamed the \"powerhouse of the cell\", a phrase coined by Philip Siekevitz in a 1957 article of the same name.', '']\n"
     ]
    }
   ],
   "source": [
    "def extract_sentences(text):\n",
    "    sentences = re.split(r'(?<!\\w\\.\\w.)(?<![A-Z][a-z]\\.)(?<=\\.|\\?)\\s', text)\n",
    "    return sentences\n",
    "\n",
    "mitochrondria_text = \"\"\"A mitochondrion (/ˌmaɪtəˈkɒndriən/; pl mitochondria) is an organelle found in the cells of most eukaryotes, such as animals, plants and fungi. Mitochondria have a double membrane structure and use aerobic respiration to generate adenosine triphosphate (ATP), which is used throughout the cell as a source of chemical energy. They were discovered by Albert von Kölliker in 1857 in the voluntary muscles of insects. The term mitochondrion was coined by Carl Benda in 1898. The mitochondrion is popularly nicknamed the \"powerhouse of the cell\", a phrase coined by Philip Siekevitz in a 1957 article of the same name.\n",
    "\"\"\"\n",
    "\n",
    "print(extract_sentences(mitochrondria_text))"
   ]
  },
  {
   "cell_type": "code",
   "execution_count": null,
   "metadata": {},
   "outputs": [
    {
     "name": "stdout",
     "output_type": "stream",
     "text": [
      "['▁I', '▁love', '▁this', '▁movie', '▁so', '▁much'] [18.783876  43.15841   31.429506  13.658363  16.067484  -3.9316347]\n",
      " I 18.783876 0.4823846\n",
      " love 43.15841 1.0\n",
      " this 31.429506 0.7509261\n",
      " movie 13.658363 0.37353966\n",
      " so 16.067484 0.42469954\n",
      " much -3.9316347 0.0\n"
     ]
    },
    {
     "data": {
      "text/html": [
       "<span class=\"barcode\"; style=\"color: black; background-color: rgb(114,177,215)\" title=\"18.783876\"> I</span><span class=\"barcode\"; style=\"color: black; background-color: rgb(8,48,107)\" title=\"43.15841\"> love</span><span class=\"barcode\"; style=\"color: black; background-color: rgb(32,112,180)\" title=\"31.429506\"> this</span><span class=\"barcode\"; style=\"color: black; background-color: rgb(158,202,225)\" title=\"13.658363\"> movie</span><span class=\"barcode\"; style=\"color: black; background-color: rgb(138,191,220)\" title=\"16.067484\"> so</span><span class=\"barcode\"; style=\"color: black; background-color: rgb(247,251,255)\" title=\"-3.9316347\"> much</span>"
      ],
      "text/plain": [
       "<IPython.core.display.HTML object>"
      ]
     },
     "metadata": {},
     "output_type": "display_data"
    },
    {
     "name": "stdout",
     "output_type": "stream",
     "text": [
      "['▁W', 'ow', '▁this', '▁movie', '▁is', '▁terrible'] [13.174173 41.94195  35.282913 42.814865 25.217016 35.73617 ]\n",
      " W 13.174173 0.0\n",
      "ow 41.94195 0.9705502\n",
      " this 35.282913 0.7458915\n",
      " movie 42.814865 1.0\n",
      " is 25.217016 0.40629426\n",
      " terrible 35.73617 0.76118326\n"
     ]
    },
    {
     "data": {
      "text/html": [
       "<span class=\"barcode\"; style=\"color: black; background-color: rgb(247,251,255)\" title=\"13.174173\"> W</span><span class=\"barcode\"; style=\"color: black; background-color: rgb(8,55,117)\" title=\"41.94195\">ow</span><span class=\"barcode\"; style=\"color: black; background-color: rgb(34,114,181)\" title=\"35.282913\"> this</span><span class=\"barcode\"; style=\"color: black; background-color: rgb(8,48,107)\" title=\"42.814865\"> movie</span><span class=\"barcode\"; style=\"color: black; background-color: rgb(144,194,222)\" title=\"25.217016\"> is</span><span class=\"barcode\"; style=\"color: black; background-color: rgb(30,110,178)\" title=\"35.73617\"> terrible</span>"
      ],
      "text/plain": [
       "<IPython.core.display.HTML object>"
      ]
     },
     "metadata": {},
     "output_type": "display_data"
    }
   ],
   "source": [
    "# make it into a function of type signature reporter, sentences -> visualization\n",
    "\n",
    "def load_all_reporters(num_layers: int, prefix_path: str) -> torch.Tensor:\n",
    "    reporters_weights = []\n",
    "    for i in range(num_layers):\n",
    "        reporter_path = f\"{prefix_path}/layer_{i}.pt\"\n",
    "        reporter = torch.load(reporter_path)\n",
    "        reporters_weights.append(reporter['weight'].cpu())\n",
    "    stacked = torch.cat(reporters_weights, dim=0)\n",
    "    return stacked\n",
    "\n",
    "# path = '/home/waree/elk-reporters/huggyllama/llama-13b/sethapun/imdb_misspelled_0/llama13b-imdb0/reporters'\n",
    "path = '/mnt/ssd-1/spar/jon/elk-reporters/gpt2/imdb/agitated-driscoll/reporters'\n",
    "reporter_paths = [\n",
    "    '/home/jon/elk-reporters/huggyllama/llama-13b/azhx/counterfact-easy/stoic-jang/reporters',\n",
    "]\n",
    "# reporter_weights = load_all_reporters(model.config.num_hidden_layers, path)\n",
    "# print(reporter_weights.shape)\n",
    "# for path in reporter_paths:\n",
    "#     reporter_weights = \n",
    "\n",
    "reporter_weights = load_all_reporters(model.config.num_hidden_layers, reporter_paths[0])\n",
    "\n",
    "def extract_sentences(text):\n",
    "    sentences = re.split(r'(?<!\\w\\.\\w.)(?<![A-Z][a-z]\\.)(?<=\\.|\\?)\\s', text)\n",
    "    return sentences\n",
    "\n",
    "\n",
    "def viz(reporter_weights, sentence):\n",
    "    input_ids = tokenizer.encode(sentence, return_tensors=\"pt\", add_special_tokens=False)\n",
    "    words = tokenizer.convert_ids_to_tokens(input_ids[0])\n",
    "    outputs = model(input_ids, output_hidden_states=True)\n",
    "    hidden_states = outputs.hidden_states\n",
    "    # print(hidden_states[0].shape)\n",
    "    # print(len(hidden_states))\n",
    "    cat_hidden_states = torch.cat(hidden_states[:-1], dim=0)\n",
    "    # Use einsum to do multiplication \n",
    "    result = torch.einsum('bse,be->bs', cat_hidden_states, reporter_weights)\n",
    "    # print(result[0])\n",
    "    # print(result.shape)\n",
    "\n",
    "    # sigmoid_result = torch.sigmoid(result)\n",
    "    # softmax_result = torch.softmax(result, dim = -1)\n",
    "    torch.set_printoptions(precision=1)\n",
    "    credences = result.detach().numpy()\n",
    "    print(words, credences[-1])\n",
    "    colored_string = colorize(words, credences[-1])\n",
    "    display(HTML(colored_string))\n",
    "\n",
    "viz(reporter_weights, \"I love this movie so much\")\n",
    "viz(reporter_weights, \"Wow this movie is terrible\")\n",
    "\n"
   ]
  },
  {
   "cell_type": "code",
   "execution_count": null,
   "metadata": {},
   "outputs": [
    {
     "name": "stdout",
     "output_type": "stream",
     "text": [
      "A mitochondrion (/ˌmaɪtəˈkɒndriən/; pl mitochondria) is an organelle found in the cells of most eukaryotes, such as animals, plants and fungi.\n",
      "[1, 319, 1380, 2878, 898, 29878, 291, 20374, 30713, 655, 30312, 29873, 30184, 30176, 29895, 31036, 299, 374, 30184, 29876, 29914, 29936, 715, 1380, 2878, 898, 2849, 29897, 338, 385, 2894, 1808, 1476, 297, 278, 9101, 310, 1556, 321, 2679, 653, 4769, 29892, 1316, 408, 15006, 29892, 18577, 322, 26933, 29875, 29889]\n",
      "<s>\n",
      "Mitochondria have a double membrane structure and use aerobic respiration to generate adenosine triphosphate (ATP), which is used throughout the cell as a source of chemical energy.\n",
      "[1, 341, 2049, 305, 898, 2849, 505, 263, 3765, 3813, 10800, 3829, 322, 671, 14911, 711, 293, 4613, 12232, 304, 5706, 594, 264, 359, 457, 3367, 561, 25715, 403, 313, 1299, 29925, 511, 607, 338, 1304, 10106, 278, 3038, 408, 263, 2752, 310, 22233, 5864, 29889]\n",
      "<s>\n",
      "They were discovered by Albert von Kölliker in 1857 in the voluntary muscles of insects.\n",
      "[1, 2688, 892, 10943, 491, 10537, 1005, 476, 5873, 492, 3946, 297, 29871, 29896, 29947, 29945, 29955, 297, 278, 27081, 653, 2301, 7799, 310, 17564, 29879, 29889]\n",
      "<s>\n",
      "The term mitochondrion was coined by Carl Benda in 1898.\n",
      "[1, 450, 1840, 1380, 2878, 898, 29878, 291, 471, 1302, 1312, 491, 8965, 350, 8395, 297, 29871, 29896, 29947, 29929, 29947, 29889]\n",
      "<s>\n",
      "The mitochondrion is popularly nicknamed the \"powerhouse of the cell\", a phrase coined by Philip Siekevitz in a 1957 article of the same name.\n",
      "[1, 450, 1380, 2878, 898, 29878, 291, 338, 5972, 368, 25985, 17514, 278, 376, 13519, 8697, 310, 278, 3038, 613, 263, 16549, 1302, 1312, 491, 14920, 4073, 446, 29894, 2784, 297, 263, 29871, 29896, 29929, 29945, 29955, 4274, 310, 278, 1021, 1024, 29889]\n",
      "<s>\n",
      "\n",
      "[1]\n",
      "<s>\n"
     ]
    }
   ],
   "source": [
    "@dataclass\n",
    "class Reporter:\n",
    "    path: str\n",
    "    weights: torch.Tensor\n",
    "    desc: str\n",
    "\n",
    "reporter_paths = [\n",
    "    ('/home/jon/elk-reporters/huggyllama/llama-13b/azhx/counterfact-easy/stoic-jang/reporters', 'lm negation'), # lm negation\n",
    "    ('/home/jon/elk-reporters/huggyllama/llama-13b/azhx/counterfact-filtered-gptj6b/trusting-cori/reporters', 'dumb nots'), # dumb nots\n",
    "    ('/home/jon/elk-reporters/huggyllama/llama-13b/azhx/counterfact-simple/jovial-lederberg/reporters', 'counterfact pairs') # counterfact pairs\n",
    "]\n",
    "\n",
    "reporters = [Reporter(path, load_all_reporters(model.config.num_hidden_layers, path), desc) for path, desc in reporter_paths]\n",
    "\n",
    "sentences = extract_sentences(mitochrondria_text)\n",
    "\n",
    "for reporter in reporters[2:3]:\n",
    "    for sentence in sentences:\n",
    "        print(sentence)\n",
    "        print(tokenizer.encode(sentence))\n",
    "        input_ids=tokenizer.encode(sentence)\n",
    "        print(tokenizer.convert_ids_to_tokens(input_ids[0]))\n",
    "        viz(reporter.weights, sentence)\n"
   ]
  },
  {
   "attachments": {},
   "cell_type": "markdown",
   "metadata": {},
   "source": [
    "# Sanity Checks"
   ]
  },
  {
   "cell_type": "code",
   "execution_count": null,
   "metadata": {},
   "outputs": [],
   "source": [
    "# # Use einsum to do multiplication \n",
    "\n",
    "# reporter_weights_repeat = repeat(reporter_weights, 'b e -> b c e', c=len(input_tokens) + 1)\n",
    "# result = torch.einsum('bse,bse->bs', cat_hidden_states, reporter_weights_repeat)\n",
    "# print(result.shape)\n",
    "\n",
    "# sigmoid_result = torch.sigmoid(result)\n",
    "# softmax_result = torch.softmax(result, dim = -1)\n",
    "# torch.set_printoptions(precision=1)"
   ]
  },
  {
   "cell_type": "code",
   "execution_count": null,
   "metadata": {},
   "outputs": [
    {
     "name": "stdout",
     "output_type": "stream",
     "text": [
      "tensor([[-5.1e-03,  1.5e-02,  1.8e-02,  1.3e-02,  4.8e-03, -6.8e-03, -1.9e-03,\n",
      "         -2.7e-02,  2.2e-02, -2.7e-02],\n",
      "        [-6.5e-01,  7.4e-02, -1.0e-01, -1.2e-01,  2.0e-01, -7.1e-02, -3.7e-02,\n",
      "         -3.2e-02,  6.1e-02, -8.2e-02],\n",
      "        [-2.3e+00, -1.1e+00, -2.6e-01, -1.1e+00, -5.4e-01, -1.6e+00, -4.8e-01,\n",
      "         -5.9e-01, -8.8e-01, -1.6e+00],\n",
      "        [-5.6e+01,  9.4e-01,  1.0e+00,  8.2e-01,  9.9e-01,  8.0e-01,  4.3e-01,\n",
      "          3.7e-01,  6.7e-01,  6.2e-01],\n",
      "        [-1.4e+01,  2.3e+00,  2.3e+00,  1.6e+00,  1.4e+00,  8.3e-01,  1.1e+00,\n",
      "          2.5e-01,  4.8e-01,  5.1e-01],\n",
      "        [-3.8e+01,  2.8e+00,  2.6e+00,  1.3e+00,  1.4e+00,  9.1e-01,  6.2e-01,\n",
      "          2.1e-01,  1.2e-01,  4.3e-01],\n",
      "        [ 4.5e+01, -2.6e+00, -3.2e+00, -1.5e+00, -1.9e+00, -1.1e+00, -4.0e-01,\n",
      "         -4.9e-01, -1.7e-01, -4.8e-01],\n",
      "        [ 3.3e+01, -2.7e+00, -3.8e+00, -1.4e+00, -1.9e+00, -1.3e+00, -9.0e-01,\n",
      "         -8.8e-01, -3.5e-01, -4.4e-01],\n",
      "        [ 1.7e+00,  3.7e+00,  5.2e+00,  2.7e+00,  3.3e+00,  3.1e+00,  1.8e+00,\n",
      "          1.3e+00,  7.4e-01,  1.2e+00],\n",
      "        [ 5.4e+00, -3.6e+00, -5.8e+00, -2.6e+00, -3.5e+00, -2.7e+00, -1.1e+00,\n",
      "         -1.1e+00, -6.8e-01, -9.6e-01],\n",
      "        [ 5.6e+00,  4.1e+00,  5.7e+00,  2.2e+00,  4.0e+00,  2.0e+00,  6.0e-01,\n",
      "          1.1e+00,  9.5e-01,  1.1e+00],\n",
      "        [-4.4e+00,  3.4e+00,  6.1e+00,  2.2e+00,  4.7e+00,  1.8e+00,  1.3e+00,\n",
      "          1.1e+00,  8.6e-01,  9.5e-01],\n",
      "        [-2.9e+01,  3.9e+00,  6.9e+00,  3.4e+00,  6.4e+00,  3.9e+00,  1.5e+00,\n",
      "          2.4e+00,  1.7e+00,  2.5e+00],\n",
      "        [-4.5e+01,  4.5e+00,  7.3e+00,  4.1e+00,  6.9e+00,  5.0e+00,  2.0e+00,\n",
      "          2.4e+00,  2.2e+00,  2.3e+00],\n",
      "        [ 1.4e+01, -4.2e+00, -5.8e+00, -3.1e+00, -5.1e+00, -3.4e+00, -6.0e-01,\n",
      "         -1.1e+00, -1.3e+00, -5.9e-02],\n",
      "        [-2.9e+01,  5.5e+00,  7.2e+00,  4.3e+00,  7.0e+00,  4.8e+00,  1.6e+00,\n",
      "          1.9e+00,  1.0e+00,  3.9e-01],\n",
      "        [-3.9e+01, -4.2e+00, -6.7e+00, -3.3e+00, -6.3e+00, -4.9e+00, -1.4e+00,\n",
      "         -1.9e+00, -1.1e+00, -7.2e-02],\n",
      "        [ 3.0e+01,  5.5e+00,  7.6e+00,  4.1e+00,  7.6e+00,  6.0e+00,  1.5e+00,\n",
      "          2.1e+00,  4.3e-01,  7.2e-01],\n",
      "        [ 4.7e+01,  3.0e+00,  4.2e+00,  2.0e+00,  4.6e+00,  3.5e+00,  9.2e-01,\n",
      "          8.7e-01,  1.0e+00, -6.1e-01],\n",
      "        [ 4.6e+01,  2.5e+00,  3.7e+00,  1.8e+00,  3.7e+00,  2.8e+00, -3.8e-02,\n",
      "         -5.7e-02,  1.4e+00, -6.6e-01],\n",
      "        [-5.0e+01, -5.7e-01, -2.3e+00, -9.1e-01, -2.1e+00, -8.5e-01, -2.4e-01,\n",
      "         -1.8e-02, -2.4e+00,  1.8e+00],\n",
      "        [-3.7e+01, -1.2e+00, -2.7e+00, -1.3e-01, -1.5e+00,  3.7e-01,  7.5e-01,\n",
      "         -6.1e-01, -2.3e+00,  2.1e+00],\n",
      "        [ 5.2e+01, -1.4e+00,  8.5e-01, -2.0e+00, -1.8e+00, -2.7e+00, -2.1e+00,\n",
      "         -1.3e+00,  1.1e+00, -5.7e+00],\n",
      "        [ 5.5e+01, -2.8e+00, -5.9e-01, -3.1e+00, -2.4e+00, -4.2e+00, -3.5e+00,\n",
      "         -2.9e+00, -9.2e-03, -7.5e+00],\n",
      "        [-6.4e+01,  4.1e+00,  1.6e+00,  3.7e+00,  5.3e+00,  7.4e+00,  4.2e+00,\n",
      "          4.5e+00,  8.1e-01,  1.0e+01],\n",
      "        [ 9.0e+01, -7.4e+00, -5.1e+00, -6.8e+00, -9.1e+00, -1.2e+01, -6.1e+00,\n",
      "         -8.0e+00, -2.4e+00, -1.4e+01],\n",
      "        [ 7.7e+01, -1.0e+01, -9.5e+00, -1.1e+01, -1.3e+01, -1.6e+01, -9.0e+00,\n",
      "         -1.2e+01, -6.2e+00, -1.8e+01],\n",
      "        [ 7.0e+01, -1.2e+01, -1.0e+01, -1.2e+01, -1.4e+01, -1.8e+01, -1.2e+01,\n",
      "         -1.4e+01, -8.4e+00, -2.0e+01],\n",
      "        [-7.3e+01,  1.4e+01,  1.1e+01,  1.3e+01,  1.5e+01,  2.2e+01,  1.3e+01,\n",
      "          1.6e+01,  9.3e+00,  2.2e+01],\n",
      "        [-7.5e+01,  1.7e+01,  1.5e+01,  1.7e+01,  2.0e+01,  2.7e+01,  1.7e+01,\n",
      "          2.1e+01,  1.3e+01,  2.7e+01],\n",
      "        [ 8.8e+01, -1.7e+01, -1.6e+01, -1.7e+01, -2.0e+01, -2.6e+01, -1.8e+01,\n",
      "         -2.1e+01, -1.1e+01, -2.8e+01],\n",
      "        [-8.8e+01,  1.8e+01,  1.6e+01,  1.6e+01,  2.0e+01,  2.7e+01,  1.9e+01,\n",
      "          2.2e+01,  1.3e+01,  2.9e+01],\n",
      "        [-8.9e+01,  2.2e+01,  2.0e+01,  1.9e+01,  2.2e+01,  3.2e+01,  2.2e+01,\n",
      "          2.7e+01,  1.5e+01,  3.2e+01],\n",
      "        [-9.1e+01,  2.4e+01,  2.1e+01,  2.0e+01,  2.5e+01,  3.5e+01,  2.5e+01,\n",
      "          3.1e+01,  1.8e+01,  3.6e+01],\n",
      "        [-8.4e+01,  2.2e+01,  2.0e+01,  1.9e+01,  2.5e+01,  3.6e+01,  2.5e+01,\n",
      "          3.0e+01,  1.7e+01,  3.5e+01],\n",
      "        [-1.0e+02,  2.4e+01,  2.1e+01,  2.2e+01,  2.5e+01,  3.9e+01,  2.6e+01,\n",
      "          3.2e+01,  1.7e+01,  3.6e+01],\n",
      "        [ 4.9e+01, -2.7e+01, -2.5e+01, -2.7e+01, -2.6e+01, -4.4e+01, -3.0e+01,\n",
      "         -3.7e+01, -1.7e+01, -3.8e+01],\n",
      "        [-1.8e+01, -2.8e+01, -2.8e+01, -2.9e+01, -2.8e+01, -4.6e+01, -3.0e+01,\n",
      "         -4.0e+01, -1.6e+01, -4.0e+01],\n",
      "        [ 5.9e+00,  2.6e+01,  2.9e+01,  3.1e+01,  2.6e+01,  4.8e+01,  3.2e+01,\n",
      "          4.1e+01,  1.3e+01,  4.2e+01],\n",
      "        [ 1.5e+01,  2.1e+01,  2.6e+01,  2.6e+01,  6.6e+00,  4.6e+01,  2.7e+01,\n",
      "          3.5e+01, -9.1e+00,  4.1e+01]], grad_fn=<ViewBackward0>)\n"
     ]
    }
   ],
   "source": [
    "print(result)"
   ]
  }
 ],
 "metadata": {
  "kernelspec": {
   "display_name": "Python 3 (ipykernel)",
   "language": "python",
   "name": "python3"
  },
  "language_info": {
   "codemirror_mode": {
    "name": "ipython",
    "version": 3
   },
   "file_extension": ".py",
   "mimetype": "text/x-python",
   "name": "python",
   "nbconvert_exporter": "python",
   "pygments_lexer": "ipython3",
   "version": "3.10.11"
  }
 },
 "nbformat": 4,
 "nbformat_minor": 2
}
