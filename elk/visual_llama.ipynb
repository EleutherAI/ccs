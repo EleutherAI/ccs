{
 "cells": [
  {
   "cell_type": "code",
   "execution_count": 26,
   "metadata": {},
   "outputs": [],
   "source": [
    "import torch\n",
    "from transformers import AutoTokenizer, AutoModel\n",
    "from pathlib import Path\n",
    "from einops import rearrange, repeat\n",
    "import os\n",
    "import numpy as np\n",
    "from dataclasses import dataclass\n",
    "import re\n",
    "import csv\n",
    "import json\n"
   ]
  },
  {
   "cell_type": "code",
   "execution_count": 3,
   "metadata": {},
   "outputs": [
    {
     "name": "stderr",
     "output_type": "stream",
     "text": [
      "Loading checkpoint shards: 100%|██████████| 3/3 [00:19<00:00,  6.49s/it]\n",
      "Some weights of the model checkpoint at huggyllama/llama-13b were not used when initializing LlamaModel: ['lm_head.weight']\n",
      "- This IS expected if you are initializing LlamaModel from the checkpoint of a model trained on another task or with another architecture (e.g. initializing a BertForSequenceClassification model from a BertForPreTraining model).\n",
      "- This IS NOT expected if you are initializing LlamaModel from the checkpoint of a model that you expect to be exactly identical (initializing a BertForSequenceClassification model from a BertForSequenceClassification model).\n"
     ]
    }
   ],
   "source": [
    "model_name = \"huggyllama/llama-13b\"\n",
    "# model_name = \"gpt2\"\n",
    "tokenizer = AutoTokenizer.from_pretrained(model_name)\n",
    "model = AutoModel.from_pretrained(model_name)"
   ]
  },
  {
   "cell_type": "code",
   "execution_count": 4,
   "metadata": {},
   "outputs": [],
   "source": [
    "def load_all_reporters(num_layers: int, prefix_path: str) -> torch.Tensor:\n",
    "    reporters_weights = []\n",
    "    for i in range(num_layers):\n",
    "        reporter_path = f\"{prefix_path}/layer_{i}.pt\"\n",
    "        reporter = torch.load(reporter_path)\n",
    "        reporters_weights.append(reporter['weight'].cpu())\n",
    "    stacked = torch.cat(reporters_weights, dim=0)\n",
    "    return stacked\n",
    "\n"
   ]
  },
  {
   "cell_type": "code",
   "execution_count": 5,
   "metadata": {},
   "outputs": [],
   "source": [
    "@dataclass\n",
    "class Reporter:\n",
    "    path: str\n",
    "    weights: torch.Tensor\n",
    "    desc: str\n",
    "\n",
    "    @staticmethod\n",
    "    def from_path(path):\n",
    "        weights = load_all_reporters(model.config.num_hidden_layers, path)\n",
    "        desc = path.split('/')[-2]\n",
    "        return Reporter(path, weights, desc)\n",
    "\n",
    "reporter_paths = [\n",
    "    ('/home/jon/elk-reporters/huggyllama/llama-13b/azhx/counterfact-easy/stoic-jang/reporters', 'lm negation'), # lm negation\n",
    "    ('/home/jon/elk-reporters/huggyllama/llama-13b/azhx/counterfact-filtered-gptj6b/trusting-cori/reporters', 'dumb nots'), # dumb nots\n",
    "    ('/home/jon/elk-reporters/huggyllama/llama-13b/azhx/counterfact-simple/jovial-lederberg/reporters', 'counterfact pairs') # counterfact pairs\n",
    "]"
   ]
  },
  {
   "cell_type": "code",
   "execution_count": 6,
   "metadata": {},
   "outputs": [
    {
     "name": "stdout",
     "output_type": "stream",
     "text": [
      "['▁This', '▁film', '▁is', '▁terrible', ',', '▁best', '▁to', '▁pass', '.']\n",
      "['<bos>', '▁This', '▁film', '▁is', '▁terrible', ',', '▁best', '▁to', '▁pass', '.']\n",
      "tensor([[    1,   910,  2706,   338, 16403, 29892,  1900,   304,  1209, 29889]])\n",
      "['<s>', '▁This', '▁film', '▁is', '▁terrible', ',', '▁best', '▁to', '▁pass', '.']\n"
     ]
    }
   ],
   "source": [
    "# Tokenize input sequence\n",
    "input_sequence = \"This film is terrible, best to pass.\"\n",
    "input_tokens = tokenizer.tokenize(input_sequence)\n",
    "print(input_tokens)\n",
    "input_tokens.insert(0, \"<bos>\") # beginning of sentence\n",
    "print(input_tokens)\n",
    "\n",
    "# Encode input sequence\n",
    "input_ids = tokenizer.encode(input_sequence, return_tensors=\"pt\")\n",
    "print(input_ids)\n",
    "\n",
    "decoded = tokenizer.convert_ids_to_tokens(input_ids[0])\n",
    "print(decoded)\n",
    "\n",
    "# Generate hidden states\n",
    "outputs = model(input_ids, output_hidden_states=True)"
   ]
  },
  {
   "cell_type": "code",
   "execution_count": 7,
   "metadata": {},
   "outputs": [
    {
     "name": "stdout",
     "output_type": "stream",
     "text": [
      "torch.Size([1, 10, 5120])\n",
      "41\n",
      "torch.Size([40, 10, 5120])\n"
     ]
    }
   ],
   "source": [
    "hidden_states = outputs.hidden_states\n",
    "print(hidden_states[0].shape)\n",
    "print(len(hidden_states))\n",
    "cat_hidden_states = torch.cat(hidden_states[:-1], dim=0)\n",
    "print(cat_hidden_states.shape)"
   ]
  },
  {
   "cell_type": "code",
   "execution_count": 8,
   "metadata": {},
   "outputs": [
    {
     "name": "stdout",
     "output_type": "stream",
     "text": [
      "torch.Size([40, 5120])\n"
     ]
    }
   ],
   "source": [
    "# path = '/home/waree/elk-reporters/huggyllama/llama-13b/sethapun/imdb_misspelled_0/llama13b-imdb0/reporters'\n",
    "path = '/mnt/ssd-1/spar/jon/elk-reporters/gpt2/imdb/agitated-driscoll/reporters'\n",
    "reporter_paths = [\n",
    "    '/home/jon/elk-reporters/huggyllama/llama-13b/azhx/counterfact-easy/stoic-jang/reporters',\n",
    "]\n",
    "# reporter_weights = load_all_reporters(model.config.num_hidden_layers, path)\n",
    "# print(reporter_weights.shape)\n",
    "for path in reporter_paths:\n",
    "    reporter_weights = load_all_reporters(model.config.num_hidden_layers, path)\n",
    "    print(reporter_weights.shape)"
   ]
  },
  {
   "cell_type": "code",
   "execution_count": 9,
   "metadata": {},
   "outputs": [
    {
     "name": "stdout",
     "output_type": "stream",
     "text": [
      "tensor([-0.0051,  0.0150,  0.0182,  0.0131,  0.0048, -0.0068, -0.0019, -0.0270,\n",
      "         0.0224, -0.0266], grad_fn=<SelectBackward0>)\n",
      "torch.Size([40, 10])\n"
     ]
    }
   ],
   "source": [
    "# Use einsum to do multiplication \n",
    "result = torch.einsum('bse,be->bs', cat_hidden_states, reporter_weights)\n",
    "print(result[0])\n",
    "print(result.shape)\n",
    "\n",
    "sigmoid_result = torch.sigmoid(result)\n",
    "softmax_result = torch.softmax(result, dim = -1)\n",
    "torch.set_printoptions(precision=1)"
   ]
  },
  {
   "cell_type": "code",
   "execution_count": 10,
   "metadata": {},
   "outputs": [
    {
     "name": "stdout",
     "output_type": "stream",
     "text": [
      "torch.Size([40, 10])\n"
     ]
    }
   ],
   "source": [
    "print(result.shape)"
   ]
  },
  {
   "cell_type": "code",
   "execution_count": 11,
   "metadata": {},
   "outputs": [
    {
     "name": "stdout",
     "output_type": "stream",
     "text": [
      "torch.Size([40, 10])\n"
     ]
    }
   ],
   "source": [
    "print(sigmoid_result.shape)"
   ]
  },
  {
   "cell_type": "code",
   "execution_count": 12,
   "metadata": {},
   "outputs": [
    {
     "name": "stdout",
     "output_type": "stream",
     "text": [
      "torch.Size([40, 10])\n"
     ]
    }
   ],
   "source": [
    "print(softmax_result.shape)"
   ]
  },
  {
   "cell_type": "code",
   "execution_count": 13,
   "metadata": {},
   "outputs": [
    {
     "data": {
      "text/html": [
       "        <script type=\"text/javascript\">\n",
       "        window.PlotlyConfig = {MathJaxConfig: 'local'};\n",
       "        if (window.MathJax && window.MathJax.Hub && window.MathJax.Hub.Config) {window.MathJax.Hub.Config({SVG: {font: \"STIX-Web\"}});}\n",
       "        if (typeof require !== 'undefined') {\n",
       "        require.undef(\"plotly\");\n",
       "        requirejs.config({\n",
       "            paths: {\n",
       "                'plotly': ['https://cdn.plot.ly/plotly-2.20.0.min']\n",
       "            }\n",
       "        });\n",
       "        require(['plotly'], function(Plotly) {\n",
       "            window._Plotly = Plotly;\n",
       "        });\n",
       "        }\n",
       "        </script>\n",
       "        "
      ]
     },
     "metadata": {},
     "output_type": "display_data"
    },
    {
     "data": {
      "text/plain": [
       "['<bos>',\n",
       " '▁This',\n",
       " '▁film',\n",
       " '▁is',\n",
       " '▁terrible',\n",
       " ',',\n",
       " '▁best',\n",
       " '▁to',\n",
       " '▁pass',\n",
       " '.']"
      ]
     },
     "execution_count": 13,
     "metadata": {},
     "output_type": "execute_result"
    }
   ],
   "source": [
    "import plotly.graph_objs as go\n",
    "import plotly.io as pio\n",
    "import torch\n",
    "from IPython.display import HTML\n",
    "from plotly.offline import init_notebook_mode, iplot\n",
    "init_notebook_mode(connected=True)\n",
    "\n",
    "# Create color scale for heatmap\n",
    "color_scale = [[0, '#FFFFFF'], [1, '#FF0000']] # white to red\n",
    "\n",
    "# Convert tensor to numpy array and detach gradients\n",
    "credences = result.detach().numpy()\n",
    "\n",
    "padded_text = np.array([[\" \" * 2 + \"{:.2f}\".format(value) + \" \" * 2 for value in row] for row in credences])\n",
    "\n",
    "# Create plotly heatmap\n",
    "heatmap = go.Heatmap(\n",
    "    z=credences, \n",
    "    colorscale=color_scale,\n",
    "    text=padded_text,  # Set the text to be equal to z\n",
    "    texttemplate=\"%{text}\", \n",
    "    textfont=dict(color='black', size=12),  # Set the text color and size\n",
    ")\n",
    "\n",
    "# Create plot layout\n",
    "layout = go.Layout(title='Credences for Input Tokens',\n",
    "                width=800,  # Set the width of the plot\n",
    "                height=800,  # Set the height of the plot\n",
    "                   xaxis=dict(tickvals=list(range(len(input_tokens))),\n",
    "                              ticktext=input_tokens,\n",
    "                              tickangle=45))\n",
    "\n",
    "# Create plotly figure\n",
    "fig = go.Figure(data=[heatmap], layout=layout)\n",
    "# fig = fig.update_traces(text=input_tokens, texttemplate=\"%{text}\", hovertemplate=None)\n",
    "\n",
    "# Display plotly figure\n",
    "# iplot(fig)\n",
    "\n",
    "# print(padded_text)\n",
    "input_tokens"
   ]
  },
  {
   "cell_type": "code",
   "execution_count": 14,
   "metadata": {},
   "outputs": [
    {
     "name": "stdout",
     "output_type": "stream",
     "text": [
      "(10,)\n"
     ]
    },
    {
     "data": {
      "application/vnd.plotly.v1+json": {
       "config": {
        "linkText": "Export to plot.ly",
        "plotlyServerURL": "https://plot.ly",
        "showLink": false
       },
       "data": [
        {
         "colorscale": [
          [
           0,
           "#FFFFFF"
          ],
          [
           1,
           "#FF0000"
          ]
         ],
         "text": [
          [
           "  <bos>  ",
           "  ▁This  ",
           "  ▁film  ",
           "  ▁is  ",
           "  ▁terrible  ",
           "  ,  ",
           "  ▁best  ",
           "  ▁to  ",
           "  ▁pass  ",
           "  .  "
          ],
          [
           "  <bos>  ",
           "  ▁This  ",
           "  ▁film  ",
           "  ▁is  ",
           "  ▁terrible  ",
           "  ,  ",
           "  ▁best  ",
           "  ▁to  ",
           "  ▁pass  ",
           "  .  "
          ],
          [
           "  <bos>  ",
           "  ▁This  ",
           "  ▁film  ",
           "  ▁is  ",
           "  ▁terrible  ",
           "  ,  ",
           "  ▁best  ",
           "  ▁to  ",
           "  ▁pass  ",
           "  .  "
          ],
          [
           "  <bos>  ",
           "  ▁This  ",
           "  ▁film  ",
           "  ▁is  ",
           "  ▁terrible  ",
           "  ,  ",
           "  ▁best  ",
           "  ▁to  ",
           "  ▁pass  ",
           "  .  "
          ],
          [
           "  <bos>  ",
           "  ▁This  ",
           "  ▁film  ",
           "  ▁is  ",
           "  ▁terrible  ",
           "  ,  ",
           "  ▁best  ",
           "  ▁to  ",
           "  ▁pass  ",
           "  .  "
          ],
          [
           "  <bos>  ",
           "  ▁This  ",
           "  ▁film  ",
           "  ▁is  ",
           "  ▁terrible  ",
           "  ,  ",
           "  ▁best  ",
           "  ▁to  ",
           "  ▁pass  ",
           "  .  "
          ],
          [
           "  <bos>  ",
           "  ▁This  ",
           "  ▁film  ",
           "  ▁is  ",
           "  ▁terrible  ",
           "  ,  ",
           "  ▁best  ",
           "  ▁to  ",
           "  ▁pass  ",
           "  .  "
          ],
          [
           "  <bos>  ",
           "  ▁This  ",
           "  ▁film  ",
           "  ▁is  ",
           "  ▁terrible  ",
           "  ,  ",
           "  ▁best  ",
           "  ▁to  ",
           "  ▁pass  ",
           "  .  "
          ],
          [
           "  <bos>  ",
           "  ▁This  ",
           "  ▁film  ",
           "  ▁is  ",
           "  ▁terrible  ",
           "  ,  ",
           "  ▁best  ",
           "  ▁to  ",
           "  ▁pass  ",
           "  .  "
          ],
          [
           "  <bos>  ",
           "  ▁This  ",
           "  ▁film  ",
           "  ▁is  ",
           "  ▁terrible  ",
           "  ,  ",
           "  ▁best  ",
           "  ▁to  ",
           "  ▁pass  ",
           "  .  "
          ],
          [
           "  <bos>  ",
           "  ▁This  ",
           "  ▁film  ",
           "  ▁is  ",
           "  ▁terrible  ",
           "  ,  ",
           "  ▁best  ",
           "  ▁to  ",
           "  ▁pass  ",
           "  .  "
          ],
          [
           "  <bos>  ",
           "  ▁This  ",
           "  ▁film  ",
           "  ▁is  ",
           "  ▁terrible  ",
           "  ,  ",
           "  ▁best  ",
           "  ▁to  ",
           "  ▁pass  ",
           "  .  "
          ],
          [
           "  <bos>  ",
           "  ▁This  ",
           "  ▁film  ",
           "  ▁is  ",
           "  ▁terrible  ",
           "  ,  ",
           "  ▁best  ",
           "  ▁to  ",
           "  ▁pass  ",
           "  .  "
          ],
          [
           "  <bos>  ",
           "  ▁This  ",
           "  ▁film  ",
           "  ▁is  ",
           "  ▁terrible  ",
           "  ,  ",
           "  ▁best  ",
           "  ▁to  ",
           "  ▁pass  ",
           "  .  "
          ],
          [
           "  <bos>  ",
           "  ▁This  ",
           "  ▁film  ",
           "  ▁is  ",
           "  ▁terrible  ",
           "  ,  ",
           "  ▁best  ",
           "  ▁to  ",
           "  ▁pass  ",
           "  .  "
          ],
          [
           "  <bos>  ",
           "  ▁This  ",
           "  ▁film  ",
           "  ▁is  ",
           "  ▁terrible  ",
           "  ,  ",
           "  ▁best  ",
           "  ▁to  ",
           "  ▁pass  ",
           "  .  "
          ],
          [
           "  <bos>  ",
           "  ▁This  ",
           "  ▁film  ",
           "  ▁is  ",
           "  ▁terrible  ",
           "  ,  ",
           "  ▁best  ",
           "  ▁to  ",
           "  ▁pass  ",
           "  .  "
          ],
          [
           "  <bos>  ",
           "  ▁This  ",
           "  ▁film  ",
           "  ▁is  ",
           "  ▁terrible  ",
           "  ,  ",
           "  ▁best  ",
           "  ▁to  ",
           "  ▁pass  ",
           "  .  "
          ],
          [
           "  <bos>  ",
           "  ▁This  ",
           "  ▁film  ",
           "  ▁is  ",
           "  ▁terrible  ",
           "  ,  ",
           "  ▁best  ",
           "  ▁to  ",
           "  ▁pass  ",
           "  .  "
          ],
          [
           "  <bos>  ",
           "  ▁This  ",
           "  ▁film  ",
           "  ▁is  ",
           "  ▁terrible  ",
           "  ,  ",
           "  ▁best  ",
           "  ▁to  ",
           "  ▁pass  ",
           "  .  "
          ],
          [
           "  <bos>  ",
           "  ▁This  ",
           "  ▁film  ",
           "  ▁is  ",
           "  ▁terrible  ",
           "  ,  ",
           "  ▁best  ",
           "  ▁to  ",
           "  ▁pass  ",
           "  .  "
          ],
          [
           "  <bos>  ",
           "  ▁This  ",
           "  ▁film  ",
           "  ▁is  ",
           "  ▁terrible  ",
           "  ,  ",
           "  ▁best  ",
           "  ▁to  ",
           "  ▁pass  ",
           "  .  "
          ],
          [
           "  <bos>  ",
           "  ▁This  ",
           "  ▁film  ",
           "  ▁is  ",
           "  ▁terrible  ",
           "  ,  ",
           "  ▁best  ",
           "  ▁to  ",
           "  ▁pass  ",
           "  .  "
          ],
          [
           "  <bos>  ",
           "  ▁This  ",
           "  ▁film  ",
           "  ▁is  ",
           "  ▁terrible  ",
           "  ,  ",
           "  ▁best  ",
           "  ▁to  ",
           "  ▁pass  ",
           "  .  "
          ],
          [
           "  <bos>  ",
           "  ▁This  ",
           "  ▁film  ",
           "  ▁is  ",
           "  ▁terrible  ",
           "  ,  ",
           "  ▁best  ",
           "  ▁to  ",
           "  ▁pass  ",
           "  .  "
          ],
          [
           "  <bos>  ",
           "  ▁This  ",
           "  ▁film  ",
           "  ▁is  ",
           "  ▁terrible  ",
           "  ,  ",
           "  ▁best  ",
           "  ▁to  ",
           "  ▁pass  ",
           "  .  "
          ],
          [
           "  <bos>  ",
           "  ▁This  ",
           "  ▁film  ",
           "  ▁is  ",
           "  ▁terrible  ",
           "  ,  ",
           "  ▁best  ",
           "  ▁to  ",
           "  ▁pass  ",
           "  .  "
          ],
          [
           "  <bos>  ",
           "  ▁This  ",
           "  ▁film  ",
           "  ▁is  ",
           "  ▁terrible  ",
           "  ,  ",
           "  ▁best  ",
           "  ▁to  ",
           "  ▁pass  ",
           "  .  "
          ],
          [
           "  <bos>  ",
           "  ▁This  ",
           "  ▁film  ",
           "  ▁is  ",
           "  ▁terrible  ",
           "  ,  ",
           "  ▁best  ",
           "  ▁to  ",
           "  ▁pass  ",
           "  .  "
          ],
          [
           "  <bos>  ",
           "  ▁This  ",
           "  ▁film  ",
           "  ▁is  ",
           "  ▁terrible  ",
           "  ,  ",
           "  ▁best  ",
           "  ▁to  ",
           "  ▁pass  ",
           "  .  "
          ],
          [
           "  <bos>  ",
           "  ▁This  ",
           "  ▁film  ",
           "  ▁is  ",
           "  ▁terrible  ",
           "  ,  ",
           "  ▁best  ",
           "  ▁to  ",
           "  ▁pass  ",
           "  .  "
          ],
          [
           "  <bos>  ",
           "  ▁This  ",
           "  ▁film  ",
           "  ▁is  ",
           "  ▁terrible  ",
           "  ,  ",
           "  ▁best  ",
           "  ▁to  ",
           "  ▁pass  ",
           "  .  "
          ],
          [
           "  <bos>  ",
           "  ▁This  ",
           "  ▁film  ",
           "  ▁is  ",
           "  ▁terrible  ",
           "  ,  ",
           "  ▁best  ",
           "  ▁to  ",
           "  ▁pass  ",
           "  .  "
          ],
          [
           "  <bos>  ",
           "  ▁This  ",
           "  ▁film  ",
           "  ▁is  ",
           "  ▁terrible  ",
           "  ,  ",
           "  ▁best  ",
           "  ▁to  ",
           "  ▁pass  ",
           "  .  "
          ],
          [
           "  <bos>  ",
           "  ▁This  ",
           "  ▁film  ",
           "  ▁is  ",
           "  ▁terrible  ",
           "  ,  ",
           "  ▁best  ",
           "  ▁to  ",
           "  ▁pass  ",
           "  .  "
          ],
          [
           "  <bos>  ",
           "  ▁This  ",
           "  ▁film  ",
           "  ▁is  ",
           "  ▁terrible  ",
           "  ,  ",
           "  ▁best  ",
           "  ▁to  ",
           "  ▁pass  ",
           "  .  "
          ],
          [
           "  <bos>  ",
           "  ▁This  ",
           "  ▁film  ",
           "  ▁is  ",
           "  ▁terrible  ",
           "  ,  ",
           "  ▁best  ",
           "  ▁to  ",
           "  ▁pass  ",
           "  .  "
          ],
          [
           "  <bos>  ",
           "  ▁This  ",
           "  ▁film  ",
           "  ▁is  ",
           "  ▁terrible  ",
           "  ,  ",
           "  ▁best  ",
           "  ▁to  ",
           "  ▁pass  ",
           "  .  "
          ],
          [
           "  <bos>  ",
           "  ▁This  ",
           "  ▁film  ",
           "  ▁is  ",
           "  ▁terrible  ",
           "  ,  ",
           "  ▁best  ",
           "  ▁to  ",
           "  ▁pass  ",
           "  .  "
          ],
          [
           "  <bos>  ",
           "  ▁This  ",
           "  ▁film  ",
           "  ▁is  ",
           "  ▁terrible  ",
           "  ,  ",
           "  ▁best  ",
           "  ▁to  ",
           "  ▁pass  ",
           "  .  "
          ]
         ],
         "textfont": {
          "color": "black",
          "size": 12
         },
         "texttemplate": "%{text}",
         "type": "heatmap",
         "z": [
          [
           -0.00509528536349535,
           0.014957795850932598,
           0.018221812322735786,
           0.013111494481563568,
           0.004798796493560076,
           -0.006812038831412792,
           -0.001939488691277802,
           -0.02700962871313095,
           0.022444438189268112,
           -0.026587728410959244
          ],
          [
           -0.6468021869659424,
           0.07352990657091141,
           -0.10395831614732742,
           -0.11794734001159668,
           0.19841910898685455,
           -0.07124423235654831,
           -0.03672509267926216,
           -0.03225638344883919,
           0.06073807179927826,
           -0.08194699883460999
          ],
          [
           -2.3207178115844727,
           -1.0919450521469116,
           -0.2622467279434204,
           -1.131502628326416,
           -0.5350147485733032,
           -1.5976221561431885,
           -0.4779156446456909,
           -0.5893436670303345,
           -0.8797966241836548,
           -1.569451928138733
          ],
          [
           -56.160282135009766,
           0.9385982751846313,
           1.044010877609253,
           0.8188488483428955,
           0.9871791005134583,
           0.7951902747154236,
           0.43382424116134644,
           0.36684274673461914,
           0.6668524146080017,
           0.6193949580192566
          ],
          [
           -14.116135597229004,
           2.310884952545166,
           2.326404094696045,
           1.5623270273208618,
           1.4415379762649536,
           0.8277792930603027,
           1.1221511363983154,
           0.2477945238351822,
           0.48246151208877563,
           0.5101154446601868
          ],
          [
           -37.52021408081055,
           2.7686121463775635,
           2.550736427307129,
           1.2831910848617554,
           1.4030864238739014,
           0.910626232624054,
           0.6227959394454956,
           0.2079007774591446,
           0.11966484785079956,
           0.4330819845199585
          ],
          [
           44.53757858276367,
           -2.55277156829834,
           -3.2259628772735596,
           -1.5163657665252686,
           -1.9345179796218872,
           -1.146256446838379,
           -0.39942216873168945,
           -0.4877144694328308,
           -0.17368672788143158,
           -0.4826869070529938
          ],
          [
           33.20576477050781,
           -2.6847927570343018,
           -3.798605442047119,
           -1.4454498291015625,
           -1.9489717483520508,
           -1.349005937576294,
           -0.9047487378120422,
           -0.8794564604759216,
           -0.35239914059638977,
           -0.4427246153354645
          ],
          [
           1.6539781093597412,
           3.6815550327301025,
           5.180678367614746,
           2.7463366985321045,
           3.328244209289551,
           3.0880839824676514,
           1.7717375755310059,
           1.3400559425354004,
           0.737267255783081,
           1.16598641872406
          ],
          [
           5.446661949157715,
           -3.5703907012939453,
           -5.778568267822266,
           -2.5934243202209473,
           -3.488186836242676,
           -2.721294403076172,
           -1.0668209791183472,
           -1.0746879577636719,
           -0.679783284664154,
           -0.9632741808891296
          ],
          [
           5.64901876449585,
           4.140190601348877,
           5.70269775390625,
           2.200446844100952,
           4.004062652587891,
           1.9854995012283325,
           0.5975923538208008,
           1.078652262687683,
           0.9450573921203613,
           1.0784804821014404
          ],
          [
           -4.407497882843018,
           3.4433350563049316,
           6.0913872718811035,
           2.226260185241699,
           4.737837791442871,
           1.8468250036239624,
           1.2872918844223022,
           1.1478631496429443,
           0.858310341835022,
           0.9467055797576904
          ],
          [
           -28.9239559173584,
           3.8845653533935547,
           6.909946441650391,
           3.4166507720947266,
           6.385098934173584,
           3.924205780029297,
           1.5467815399169922,
           2.3995110988616943,
           1.7222241163253784,
           2.5243306159973145
          ],
          [
           -45.12339401245117,
           4.527482509613037,
           7.255807876586914,
           4.1191253662109375,
           6.863643646240234,
           5.024562358856201,
           1.9902714490890503,
           2.391407012939453,
           2.191464900970459,
           2.26244854927063
          ],
          [
           14.497267723083496,
           -4.159069061279297,
           -5.841463088989258,
           -3.1083743572235107,
           -5.118203163146973,
           -3.3938779830932617,
           -0.5959261059761047,
           -1.115046501159668,
           -1.3240437507629395,
           -0.05901992321014404
          ],
          [
           -28.544116973876953,
           5.48051118850708,
           7.181185245513916,
           4.343777656555176,
           6.976259231567383,
           4.819969654083252,
           1.575492262840271,
           1.9428986310958862,
           1.0120278596878052,
           0.3941652774810791
          ],
          [
           -38.857200622558594,
           -4.223681449890137,
           -6.6553120613098145,
           -3.330467462539673,
           -6.340941429138184,
           -4.859457969665527,
           -1.3546134233474731,
           -1.9460313320159912,
           -1.061097502708435,
           -0.07210094481706619
          ],
          [
           30.021621704101562,
           5.463661193847656,
           7.578441143035889,
           4.141524314880371,
           7.638067245483398,
           6.005537033081055,
           1.538135290145874,
           2.0768237113952637,
           0.42804667353630066,
           0.7218965888023376
          ],
          [
           46.571449279785156,
           2.9553050994873047,
           4.244020462036133,
           1.9966657161712646,
           4.565694808959961,
           3.537273645401001,
           0.9225163459777832,
           0.8672206997871399,
           1.0328477621078491,
           -0.6120001077651978
          ],
          [
           46.13104248046875,
           2.533928871154785,
           3.70222544670105,
           1.7597334384918213,
           3.6760547161102295,
           2.7573280334472656,
           -0.037760864943265915,
           -0.05677187442779541,
           1.401295781135559,
           -0.6598755717277527
          ],
          [
           -50.121185302734375,
           -0.567648708820343,
           -2.3084237575531006,
           -0.9097017645835876,
           -2.0930092334747314,
           -0.8504936695098877,
           -0.24335834383964539,
           -0.017740555107593536,
           -2.387272834777832,
           1.8210675716400146
          ],
          [
           -36.81218719482422,
           -1.1910659074783325,
           -2.7354791164398193,
           -0.1318432092666626,
           -1.5347487926483154,
           0.3693773150444031,
           0.7511980533599854,
           -0.611423671245575,
           -2.317861795425415,
           2.0788445472717285
          ],
          [
           52.11461639404297,
           -1.423226237297058,
           0.8547022938728333,
           -1.9667000770568848,
           -1.8001277446746826,
           -2.6653242111206055,
           -2.0873115062713623,
           -1.2794290781021118,
           1.0650824308395386,
           -5.685665130615234
          ],
          [
           54.88811111450195,
           -2.7993016242980957,
           -0.5939208269119263,
           -3.085878849029541,
           -2.449816942214966,
           -4.193317890167236,
           -3.520536184310913,
           -2.879671573638916,
           -0.009233901277184486,
           -7.473208904266357
          ],
          [
           -63.688087463378906,
           4.056227684020996,
           1.6139036417007446,
           3.7183330059051514,
           5.279371738433838,
           7.391529560089111,
           4.228268146514893,
           4.523171901702881,
           0.8142233490943909,
           10.127852439880371
          ],
          [
           90.07079315185547,
           -7.4421772956848145,
           -5.140291690826416,
           -6.756058692932129,
           -9.143156051635742,
           -11.550079345703125,
           -6.120102405548096,
           -8.010871887207031,
           -2.4243690967559814,
           -13.875405311584473
          ],
          [
           77.48069763183594,
           -10.336224555969238,
           -9.460041046142578,
           -10.906684875488281,
           -13.378091812133789,
           -15.599026679992676,
           -9.015137672424316,
           -11.691761016845703,
           -6.167976379394531,
           -18.1814022064209
          ],
          [
           70.20049285888672,
           -12.035828590393066,
           -10.422213554382324,
           -11.743799209594727,
           -13.780719757080078,
           -17.660459518432617,
           -11.809246063232422,
           -14.101902961730957,
           -8.372258186340332,
           -20.098031997680664
          ],
          [
           -72.68612670898438,
           13.844754219055176,
           11.293917655944824,
           12.631688117980957,
           15.476807594299316,
           22.1505184173584,
           12.931229591369629,
           15.804391860961914,
           9.276151657104492,
           22.32611846923828
          ],
          [
           -75.25601196289062,
           17.411907196044922,
           15.123867988586426,
           16.92533302307129,
           20.003992080688477,
           26.551179885864258,
           16.748077392578125,
           20.71906280517578,
           12.672527313232422,
           27.45225715637207
          ],
          [
           87.71492004394531,
           -16.831233978271484,
           -15.905506134033203,
           -16.610599517822266,
           -20.10028648376465,
           -26.49779510498047,
           -17.501712799072266,
           -20.530597686767578,
           -11.346541404724121,
           -27.573957443237305
          ],
          [
           -88.34082794189453,
           18.27649688720703,
           15.761259078979492,
           16.0457763671875,
           20.2303466796875,
           26.861299514770508,
           19.119110107421875,
           22.480579376220703,
           12.905948638916016,
           29.301502227783203
          ],
          [
           -88.748779296875,
           21.953292846679688,
           19.78537940979004,
           19.036985397338867,
           22.343936920166016,
           31.877626419067383,
           22.378173828125,
           26.95250129699707,
           14.906122207641602,
           32.04004669189453
          ],
          [
           -91.12661743164062,
           23.687414169311523,
           21.492586135864258,
           19.695777893066406,
           25.383119583129883,
           35.22959899902344,
           25.20467758178711,
           31.267269134521484,
           17.516664505004883,
           35.5384521484375
          ],
          [
           -84.3795166015625,
           21.827848434448242,
           19.595102310180664,
           18.87961196899414,
           25.001794815063477,
           36.14175796508789,
           24.562850952148438,
           30.28799057006836,
           16.52268409729004,
           35.114990234375
          ],
          [
           -101.85526275634766,
           23.622312545776367,
           21.3138370513916,
           22.112380981445312,
           25.207843780517578,
           39.10723876953125,
           26.315380096435547,
           31.789653778076172,
           16.762861251831055,
           35.966670989990234
          ],
          [
           48.89461135864258,
           -26.768709182739258,
           -25.488006591796875,
           -27.02692413330078,
           -26.458101272583008,
           -43.831581115722656,
           -29.69358253479004,
           -36.76313781738281,
           -17.03017807006836,
           -38.34415054321289
          ],
          [
           -17.630420684814453,
           -27.700862884521484,
           -28.19069480895996,
           -29.265792846679688,
           -27.73810386657715,
           -46.14305877685547,
           -30.20452308654785,
           -39.823699951171875,
           -16.25053596496582,
           -39.622562408447266
          ],
          [
           5.942836761474609,
           26.235326766967773,
           28.832910537719727,
           30.970293045043945,
           25.593839645385742,
           48.47711944580078,
           31.8311824798584,
           40.7922477722168,
           13.010237693786621,
           41.86098098754883
          ],
          [
           14.801093101501465,
           21.440200805664062,
           25.84204864501953,
           25.52748680114746,
           6.5622711181640625,
           45.62781524658203,
           26.712160110473633,
           35.15064239501953,
           -9.10720443725586,
           41.02220153808594
          ]
         ]
        }
       ],
       "layout": {
        "height": 800,
        "template": {
         "data": {
          "bar": [
           {
            "error_x": {
             "color": "#2a3f5f"
            },
            "error_y": {
             "color": "#2a3f5f"
            },
            "marker": {
             "line": {
              "color": "#E5ECF6",
              "width": 0.5
             },
             "pattern": {
              "fillmode": "overlay",
              "size": 10,
              "solidity": 0.2
             }
            },
            "type": "bar"
           }
          ],
          "barpolar": [
           {
            "marker": {
             "line": {
              "color": "#E5ECF6",
              "width": 0.5
             },
             "pattern": {
              "fillmode": "overlay",
              "size": 10,
              "solidity": 0.2
             }
            },
            "type": "barpolar"
           }
          ],
          "carpet": [
           {
            "aaxis": {
             "endlinecolor": "#2a3f5f",
             "gridcolor": "white",
             "linecolor": "white",
             "minorgridcolor": "white",
             "startlinecolor": "#2a3f5f"
            },
            "baxis": {
             "endlinecolor": "#2a3f5f",
             "gridcolor": "white",
             "linecolor": "white",
             "minorgridcolor": "white",
             "startlinecolor": "#2a3f5f"
            },
            "type": "carpet"
           }
          ],
          "choropleth": [
           {
            "colorbar": {
             "outlinewidth": 0,
             "ticks": ""
            },
            "type": "choropleth"
           }
          ],
          "contour": [
           {
            "colorbar": {
             "outlinewidth": 0,
             "ticks": ""
            },
            "colorscale": [
             [
              0,
              "#0d0887"
             ],
             [
              0.1111111111111111,
              "#46039f"
             ],
             [
              0.2222222222222222,
              "#7201a8"
             ],
             [
              0.3333333333333333,
              "#9c179e"
             ],
             [
              0.4444444444444444,
              "#bd3786"
             ],
             [
              0.5555555555555556,
              "#d8576b"
             ],
             [
              0.6666666666666666,
              "#ed7953"
             ],
             [
              0.7777777777777778,
              "#fb9f3a"
             ],
             [
              0.8888888888888888,
              "#fdca26"
             ],
             [
              1,
              "#f0f921"
             ]
            ],
            "type": "contour"
           }
          ],
          "contourcarpet": [
           {
            "colorbar": {
             "outlinewidth": 0,
             "ticks": ""
            },
            "type": "contourcarpet"
           }
          ],
          "heatmap": [
           {
            "colorbar": {
             "outlinewidth": 0,
             "ticks": ""
            },
            "colorscale": [
             [
              0,
              "#0d0887"
             ],
             [
              0.1111111111111111,
              "#46039f"
             ],
             [
              0.2222222222222222,
              "#7201a8"
             ],
             [
              0.3333333333333333,
              "#9c179e"
             ],
             [
              0.4444444444444444,
              "#bd3786"
             ],
             [
              0.5555555555555556,
              "#d8576b"
             ],
             [
              0.6666666666666666,
              "#ed7953"
             ],
             [
              0.7777777777777778,
              "#fb9f3a"
             ],
             [
              0.8888888888888888,
              "#fdca26"
             ],
             [
              1,
              "#f0f921"
             ]
            ],
            "type": "heatmap"
           }
          ],
          "heatmapgl": [
           {
            "colorbar": {
             "outlinewidth": 0,
             "ticks": ""
            },
            "colorscale": [
             [
              0,
              "#0d0887"
             ],
             [
              0.1111111111111111,
              "#46039f"
             ],
             [
              0.2222222222222222,
              "#7201a8"
             ],
             [
              0.3333333333333333,
              "#9c179e"
             ],
             [
              0.4444444444444444,
              "#bd3786"
             ],
             [
              0.5555555555555556,
              "#d8576b"
             ],
             [
              0.6666666666666666,
              "#ed7953"
             ],
             [
              0.7777777777777778,
              "#fb9f3a"
             ],
             [
              0.8888888888888888,
              "#fdca26"
             ],
             [
              1,
              "#f0f921"
             ]
            ],
            "type": "heatmapgl"
           }
          ],
          "histogram": [
           {
            "marker": {
             "pattern": {
              "fillmode": "overlay",
              "size": 10,
              "solidity": 0.2
             }
            },
            "type": "histogram"
           }
          ],
          "histogram2d": [
           {
            "colorbar": {
             "outlinewidth": 0,
             "ticks": ""
            },
            "colorscale": [
             [
              0,
              "#0d0887"
             ],
             [
              0.1111111111111111,
              "#46039f"
             ],
             [
              0.2222222222222222,
              "#7201a8"
             ],
             [
              0.3333333333333333,
              "#9c179e"
             ],
             [
              0.4444444444444444,
              "#bd3786"
             ],
             [
              0.5555555555555556,
              "#d8576b"
             ],
             [
              0.6666666666666666,
              "#ed7953"
             ],
             [
              0.7777777777777778,
              "#fb9f3a"
             ],
             [
              0.8888888888888888,
              "#fdca26"
             ],
             [
              1,
              "#f0f921"
             ]
            ],
            "type": "histogram2d"
           }
          ],
          "histogram2dcontour": [
           {
            "colorbar": {
             "outlinewidth": 0,
             "ticks": ""
            },
            "colorscale": [
             [
              0,
              "#0d0887"
             ],
             [
              0.1111111111111111,
              "#46039f"
             ],
             [
              0.2222222222222222,
              "#7201a8"
             ],
             [
              0.3333333333333333,
              "#9c179e"
             ],
             [
              0.4444444444444444,
              "#bd3786"
             ],
             [
              0.5555555555555556,
              "#d8576b"
             ],
             [
              0.6666666666666666,
              "#ed7953"
             ],
             [
              0.7777777777777778,
              "#fb9f3a"
             ],
             [
              0.8888888888888888,
              "#fdca26"
             ],
             [
              1,
              "#f0f921"
             ]
            ],
            "type": "histogram2dcontour"
           }
          ],
          "mesh3d": [
           {
            "colorbar": {
             "outlinewidth": 0,
             "ticks": ""
            },
            "type": "mesh3d"
           }
          ],
          "parcoords": [
           {
            "line": {
             "colorbar": {
              "outlinewidth": 0,
              "ticks": ""
             }
            },
            "type": "parcoords"
           }
          ],
          "pie": [
           {
            "automargin": true,
            "type": "pie"
           }
          ],
          "scatter": [
           {
            "fillpattern": {
             "fillmode": "overlay",
             "size": 10,
             "solidity": 0.2
            },
            "type": "scatter"
           }
          ],
          "scatter3d": [
           {
            "line": {
             "colorbar": {
              "outlinewidth": 0,
              "ticks": ""
             }
            },
            "marker": {
             "colorbar": {
              "outlinewidth": 0,
              "ticks": ""
             }
            },
            "type": "scatter3d"
           }
          ],
          "scattercarpet": [
           {
            "marker": {
             "colorbar": {
              "outlinewidth": 0,
              "ticks": ""
             }
            },
            "type": "scattercarpet"
           }
          ],
          "scattergeo": [
           {
            "marker": {
             "colorbar": {
              "outlinewidth": 0,
              "ticks": ""
             }
            },
            "type": "scattergeo"
           }
          ],
          "scattergl": [
           {
            "marker": {
             "colorbar": {
              "outlinewidth": 0,
              "ticks": ""
             }
            },
            "type": "scattergl"
           }
          ],
          "scattermapbox": [
           {
            "marker": {
             "colorbar": {
              "outlinewidth": 0,
              "ticks": ""
             }
            },
            "type": "scattermapbox"
           }
          ],
          "scatterpolar": [
           {
            "marker": {
             "colorbar": {
              "outlinewidth": 0,
              "ticks": ""
             }
            },
            "type": "scatterpolar"
           }
          ],
          "scatterpolargl": [
           {
            "marker": {
             "colorbar": {
              "outlinewidth": 0,
              "ticks": ""
             }
            },
            "type": "scatterpolargl"
           }
          ],
          "scatterternary": [
           {
            "marker": {
             "colorbar": {
              "outlinewidth": 0,
              "ticks": ""
             }
            },
            "type": "scatterternary"
           }
          ],
          "surface": [
           {
            "colorbar": {
             "outlinewidth": 0,
             "ticks": ""
            },
            "colorscale": [
             [
              0,
              "#0d0887"
             ],
             [
              0.1111111111111111,
              "#46039f"
             ],
             [
              0.2222222222222222,
              "#7201a8"
             ],
             [
              0.3333333333333333,
              "#9c179e"
             ],
             [
              0.4444444444444444,
              "#bd3786"
             ],
             [
              0.5555555555555556,
              "#d8576b"
             ],
             [
              0.6666666666666666,
              "#ed7953"
             ],
             [
              0.7777777777777778,
              "#fb9f3a"
             ],
             [
              0.8888888888888888,
              "#fdca26"
             ],
             [
              1,
              "#f0f921"
             ]
            ],
            "type": "surface"
           }
          ],
          "table": [
           {
            "cells": {
             "fill": {
              "color": "#EBF0F8"
             },
             "line": {
              "color": "white"
             }
            },
            "header": {
             "fill": {
              "color": "#C8D4E3"
             },
             "line": {
              "color": "white"
             }
            },
            "type": "table"
           }
          ]
         },
         "layout": {
          "annotationdefaults": {
           "arrowcolor": "#2a3f5f",
           "arrowhead": 0,
           "arrowwidth": 1
          },
          "autotypenumbers": "strict",
          "coloraxis": {
           "colorbar": {
            "outlinewidth": 0,
            "ticks": ""
           }
          },
          "colorscale": {
           "diverging": [
            [
             0,
             "#8e0152"
            ],
            [
             0.1,
             "#c51b7d"
            ],
            [
             0.2,
             "#de77ae"
            ],
            [
             0.3,
             "#f1b6da"
            ],
            [
             0.4,
             "#fde0ef"
            ],
            [
             0.5,
             "#f7f7f7"
            ],
            [
             0.6,
             "#e6f5d0"
            ],
            [
             0.7,
             "#b8e186"
            ],
            [
             0.8,
             "#7fbc41"
            ],
            [
             0.9,
             "#4d9221"
            ],
            [
             1,
             "#276419"
            ]
           ],
           "sequential": [
            [
             0,
             "#0d0887"
            ],
            [
             0.1111111111111111,
             "#46039f"
            ],
            [
             0.2222222222222222,
             "#7201a8"
            ],
            [
             0.3333333333333333,
             "#9c179e"
            ],
            [
             0.4444444444444444,
             "#bd3786"
            ],
            [
             0.5555555555555556,
             "#d8576b"
            ],
            [
             0.6666666666666666,
             "#ed7953"
            ],
            [
             0.7777777777777778,
             "#fb9f3a"
            ],
            [
             0.8888888888888888,
             "#fdca26"
            ],
            [
             1,
             "#f0f921"
            ]
           ],
           "sequentialminus": [
            [
             0,
             "#0d0887"
            ],
            [
             0.1111111111111111,
             "#46039f"
            ],
            [
             0.2222222222222222,
             "#7201a8"
            ],
            [
             0.3333333333333333,
             "#9c179e"
            ],
            [
             0.4444444444444444,
             "#bd3786"
            ],
            [
             0.5555555555555556,
             "#d8576b"
            ],
            [
             0.6666666666666666,
             "#ed7953"
            ],
            [
             0.7777777777777778,
             "#fb9f3a"
            ],
            [
             0.8888888888888888,
             "#fdca26"
            ],
            [
             1,
             "#f0f921"
            ]
           ]
          },
          "colorway": [
           "#636efa",
           "#EF553B",
           "#00cc96",
           "#ab63fa",
           "#FFA15A",
           "#19d3f3",
           "#FF6692",
           "#B6E880",
           "#FF97FF",
           "#FECB52"
          ],
          "font": {
           "color": "#2a3f5f"
          },
          "geo": {
           "bgcolor": "white",
           "lakecolor": "white",
           "landcolor": "#E5ECF6",
           "showlakes": true,
           "showland": true,
           "subunitcolor": "white"
          },
          "hoverlabel": {
           "align": "left"
          },
          "hovermode": "closest",
          "mapbox": {
           "style": "light"
          },
          "paper_bgcolor": "white",
          "plot_bgcolor": "#E5ECF6",
          "polar": {
           "angularaxis": {
            "gridcolor": "white",
            "linecolor": "white",
            "ticks": ""
           },
           "bgcolor": "#E5ECF6",
           "radialaxis": {
            "gridcolor": "white",
            "linecolor": "white",
            "ticks": ""
           }
          },
          "scene": {
           "xaxis": {
            "backgroundcolor": "#E5ECF6",
            "gridcolor": "white",
            "gridwidth": 2,
            "linecolor": "white",
            "showbackground": true,
            "ticks": "",
            "zerolinecolor": "white"
           },
           "yaxis": {
            "backgroundcolor": "#E5ECF6",
            "gridcolor": "white",
            "gridwidth": 2,
            "linecolor": "white",
            "showbackground": true,
            "ticks": "",
            "zerolinecolor": "white"
           },
           "zaxis": {
            "backgroundcolor": "#E5ECF6",
            "gridcolor": "white",
            "gridwidth": 2,
            "linecolor": "white",
            "showbackground": true,
            "ticks": "",
            "zerolinecolor": "white"
           }
          },
          "shapedefaults": {
           "line": {
            "color": "#2a3f5f"
           }
          },
          "ternary": {
           "aaxis": {
            "gridcolor": "white",
            "linecolor": "white",
            "ticks": ""
           },
           "baxis": {
            "gridcolor": "white",
            "linecolor": "white",
            "ticks": ""
           },
           "bgcolor": "#E5ECF6",
           "caxis": {
            "gridcolor": "white",
            "linecolor": "white",
            "ticks": ""
           }
          },
          "title": {
           "x": 0.05
          },
          "xaxis": {
           "automargin": true,
           "gridcolor": "white",
           "linecolor": "white",
           "ticks": "",
           "title": {
            "standoff": 15
           },
           "zerolinecolor": "white",
           "zerolinewidth": 2
          },
          "yaxis": {
           "automargin": true,
           "gridcolor": "white",
           "linecolor": "white",
           "ticks": "",
           "title": {
            "standoff": 15
           },
           "zerolinecolor": "white",
           "zerolinewidth": 2
          }
         }
        },
        "title": {
         "text": "Credences for Input Tokens"
        },
        "width": 800,
        "xaxis": {
         "tickangle": 45,
         "ticktext": [
          "<bos>",
          "▁This",
          "▁film",
          "▁is",
          "▁terrible",
          ",",
          "▁best",
          "▁to",
          "▁pass",
          "."
         ],
         "tickvals": [
          0,
          1,
          2,
          3,
          4,
          5,
          6,
          7,
          8,
          9
         ]
        }
       }
      },
      "text/html": [
       "<div>                            <div id=\"b295c2d6-c5e2-48d2-9396-e0c9091ed4c2\" class=\"plotly-graph-div\" style=\"height:800px; width:800px;\"></div>            <script type=\"text/javascript\">                require([\"plotly\"], function(Plotly) {                    window.PLOTLYENV=window.PLOTLYENV || {};                                    if (document.getElementById(\"b295c2d6-c5e2-48d2-9396-e0c9091ed4c2\")) {                    Plotly.newPlot(                        \"b295c2d6-c5e2-48d2-9396-e0c9091ed4c2\",                        [{\"colorscale\":[[0,\"#FFFFFF\"],[1,\"#FF0000\"]],\"text\":[[\"  <bos>  \",\"  \\u2581This  \",\"  \\u2581film  \",\"  \\u2581is  \",\"  \\u2581terrible  \",\"  ,  \",\"  \\u2581best  \",\"  \\u2581to  \",\"  \\u2581pass  \",\"  .  \"],[\"  <bos>  \",\"  \\u2581This  \",\"  \\u2581film  \",\"  \\u2581is  \",\"  \\u2581terrible  \",\"  ,  \",\"  \\u2581best  \",\"  \\u2581to  \",\"  \\u2581pass  \",\"  .  \"],[\"  <bos>  \",\"  \\u2581This  \",\"  \\u2581film  \",\"  \\u2581is  \",\"  \\u2581terrible  \",\"  ,  \",\"  \\u2581best  \",\"  \\u2581to  \",\"  \\u2581pass  \",\"  .  \"],[\"  <bos>  \",\"  \\u2581This  \",\"  \\u2581film  \",\"  \\u2581is  \",\"  \\u2581terrible  \",\"  ,  \",\"  \\u2581best  \",\"  \\u2581to  \",\"  \\u2581pass  \",\"  .  \"],[\"  <bos>  \",\"  \\u2581This  \",\"  \\u2581film  \",\"  \\u2581is  \",\"  \\u2581terrible  \",\"  ,  \",\"  \\u2581best  \",\"  \\u2581to  \",\"  \\u2581pass  \",\"  .  \"],[\"  <bos>  \",\"  \\u2581This  \",\"  \\u2581film  \",\"  \\u2581is  \",\"  \\u2581terrible  \",\"  ,  \",\"  \\u2581best  \",\"  \\u2581to  \",\"  \\u2581pass  \",\"  .  \"],[\"  <bos>  \",\"  \\u2581This  \",\"  \\u2581film  \",\"  \\u2581is  \",\"  \\u2581terrible  \",\"  ,  \",\"  \\u2581best  \",\"  \\u2581to  \",\"  \\u2581pass  \",\"  .  \"],[\"  <bos>  \",\"  \\u2581This  \",\"  \\u2581film  \",\"  \\u2581is  \",\"  \\u2581terrible  \",\"  ,  \",\"  \\u2581best  \",\"  \\u2581to  \",\"  \\u2581pass  \",\"  .  \"],[\"  <bos>  \",\"  \\u2581This  \",\"  \\u2581film  \",\"  \\u2581is  \",\"  \\u2581terrible  \",\"  ,  \",\"  \\u2581best  \",\"  \\u2581to  \",\"  \\u2581pass  \",\"  .  \"],[\"  <bos>  \",\"  \\u2581This  \",\"  \\u2581film  \",\"  \\u2581is  \",\"  \\u2581terrible  \",\"  ,  \",\"  \\u2581best  \",\"  \\u2581to  \",\"  \\u2581pass  \",\"  .  \"],[\"  <bos>  \",\"  \\u2581This  \",\"  \\u2581film  \",\"  \\u2581is  \",\"  \\u2581terrible  \",\"  ,  \",\"  \\u2581best  \",\"  \\u2581to  \",\"  \\u2581pass  \",\"  .  \"],[\"  <bos>  \",\"  \\u2581This  \",\"  \\u2581film  \",\"  \\u2581is  \",\"  \\u2581terrible  \",\"  ,  \",\"  \\u2581best  \",\"  \\u2581to  \",\"  \\u2581pass  \",\"  .  \"],[\"  <bos>  \",\"  \\u2581This  \",\"  \\u2581film  \",\"  \\u2581is  \",\"  \\u2581terrible  \",\"  ,  \",\"  \\u2581best  \",\"  \\u2581to  \",\"  \\u2581pass  \",\"  .  \"],[\"  <bos>  \",\"  \\u2581This  \",\"  \\u2581film  \",\"  \\u2581is  \",\"  \\u2581terrible  \",\"  ,  \",\"  \\u2581best  \",\"  \\u2581to  \",\"  \\u2581pass  \",\"  .  \"],[\"  <bos>  \",\"  \\u2581This  \",\"  \\u2581film  \",\"  \\u2581is  \",\"  \\u2581terrible  \",\"  ,  \",\"  \\u2581best  \",\"  \\u2581to  \",\"  \\u2581pass  \",\"  .  \"],[\"  <bos>  \",\"  \\u2581This  \",\"  \\u2581film  \",\"  \\u2581is  \",\"  \\u2581terrible  \",\"  ,  \",\"  \\u2581best  \",\"  \\u2581to  \",\"  \\u2581pass  \",\"  .  \"],[\"  <bos>  \",\"  \\u2581This  \",\"  \\u2581film  \",\"  \\u2581is  \",\"  \\u2581terrible  \",\"  ,  \",\"  \\u2581best  \",\"  \\u2581to  \",\"  \\u2581pass  \",\"  .  \"],[\"  <bos>  \",\"  \\u2581This  \",\"  \\u2581film  \",\"  \\u2581is  \",\"  \\u2581terrible  \",\"  ,  \",\"  \\u2581best  \",\"  \\u2581to  \",\"  \\u2581pass  \",\"  .  \"],[\"  <bos>  \",\"  \\u2581This  \",\"  \\u2581film  \",\"  \\u2581is  \",\"  \\u2581terrible  \",\"  ,  \",\"  \\u2581best  \",\"  \\u2581to  \",\"  \\u2581pass  \",\"  .  \"],[\"  <bos>  \",\"  \\u2581This  \",\"  \\u2581film  \",\"  \\u2581is  \",\"  \\u2581terrible  \",\"  ,  \",\"  \\u2581best  \",\"  \\u2581to  \",\"  \\u2581pass  \",\"  .  \"],[\"  <bos>  \",\"  \\u2581This  \",\"  \\u2581film  \",\"  \\u2581is  \",\"  \\u2581terrible  \",\"  ,  \",\"  \\u2581best  \",\"  \\u2581to  \",\"  \\u2581pass  \",\"  .  \"],[\"  <bos>  \",\"  \\u2581This  \",\"  \\u2581film  \",\"  \\u2581is  \",\"  \\u2581terrible  \",\"  ,  \",\"  \\u2581best  \",\"  \\u2581to  \",\"  \\u2581pass  \",\"  .  \"],[\"  <bos>  \",\"  \\u2581This  \",\"  \\u2581film  \",\"  \\u2581is  \",\"  \\u2581terrible  \",\"  ,  \",\"  \\u2581best  \",\"  \\u2581to  \",\"  \\u2581pass  \",\"  .  \"],[\"  <bos>  \",\"  \\u2581This  \",\"  \\u2581film  \",\"  \\u2581is  \",\"  \\u2581terrible  \",\"  ,  \",\"  \\u2581best  \",\"  \\u2581to  \",\"  \\u2581pass  \",\"  .  \"],[\"  <bos>  \",\"  \\u2581This  \",\"  \\u2581film  \",\"  \\u2581is  \",\"  \\u2581terrible  \",\"  ,  \",\"  \\u2581best  \",\"  \\u2581to  \",\"  \\u2581pass  \",\"  .  \"],[\"  <bos>  \",\"  \\u2581This  \",\"  \\u2581film  \",\"  \\u2581is  \",\"  \\u2581terrible  \",\"  ,  \",\"  \\u2581best  \",\"  \\u2581to  \",\"  \\u2581pass  \",\"  .  \"],[\"  <bos>  \",\"  \\u2581This  \",\"  \\u2581film  \",\"  \\u2581is  \",\"  \\u2581terrible  \",\"  ,  \",\"  \\u2581best  \",\"  \\u2581to  \",\"  \\u2581pass  \",\"  .  \"],[\"  <bos>  \",\"  \\u2581This  \",\"  \\u2581film  \",\"  \\u2581is  \",\"  \\u2581terrible  \",\"  ,  \",\"  \\u2581best  \",\"  \\u2581to  \",\"  \\u2581pass  \",\"  .  \"],[\"  <bos>  \",\"  \\u2581This  \",\"  \\u2581film  \",\"  \\u2581is  \",\"  \\u2581terrible  \",\"  ,  \",\"  \\u2581best  \",\"  \\u2581to  \",\"  \\u2581pass  \",\"  .  \"],[\"  <bos>  \",\"  \\u2581This  \",\"  \\u2581film  \",\"  \\u2581is  \",\"  \\u2581terrible  \",\"  ,  \",\"  \\u2581best  \",\"  \\u2581to  \",\"  \\u2581pass  \",\"  .  \"],[\"  <bos>  \",\"  \\u2581This  \",\"  \\u2581film  \",\"  \\u2581is  \",\"  \\u2581terrible  \",\"  ,  \",\"  \\u2581best  \",\"  \\u2581to  \",\"  \\u2581pass  \",\"  .  \"],[\"  <bos>  \",\"  \\u2581This  \",\"  \\u2581film  \",\"  \\u2581is  \",\"  \\u2581terrible  \",\"  ,  \",\"  \\u2581best  \",\"  \\u2581to  \",\"  \\u2581pass  \",\"  .  \"],[\"  <bos>  \",\"  \\u2581This  \",\"  \\u2581film  \",\"  \\u2581is  \",\"  \\u2581terrible  \",\"  ,  \",\"  \\u2581best  \",\"  \\u2581to  \",\"  \\u2581pass  \",\"  .  \"],[\"  <bos>  \",\"  \\u2581This  \",\"  \\u2581film  \",\"  \\u2581is  \",\"  \\u2581terrible  \",\"  ,  \",\"  \\u2581best  \",\"  \\u2581to  \",\"  \\u2581pass  \",\"  .  \"],[\"  <bos>  \",\"  \\u2581This  \",\"  \\u2581film  \",\"  \\u2581is  \",\"  \\u2581terrible  \",\"  ,  \",\"  \\u2581best  \",\"  \\u2581to  \",\"  \\u2581pass  \",\"  .  \"],[\"  <bos>  \",\"  \\u2581This  \",\"  \\u2581film  \",\"  \\u2581is  \",\"  \\u2581terrible  \",\"  ,  \",\"  \\u2581best  \",\"  \\u2581to  \",\"  \\u2581pass  \",\"  .  \"],[\"  <bos>  \",\"  \\u2581This  \",\"  \\u2581film  \",\"  \\u2581is  \",\"  \\u2581terrible  \",\"  ,  \",\"  \\u2581best  \",\"  \\u2581to  \",\"  \\u2581pass  \",\"  .  \"],[\"  <bos>  \",\"  \\u2581This  \",\"  \\u2581film  \",\"  \\u2581is  \",\"  \\u2581terrible  \",\"  ,  \",\"  \\u2581best  \",\"  \\u2581to  \",\"  \\u2581pass  \",\"  .  \"],[\"  <bos>  \",\"  \\u2581This  \",\"  \\u2581film  \",\"  \\u2581is  \",\"  \\u2581terrible  \",\"  ,  \",\"  \\u2581best  \",\"  \\u2581to  \",\"  \\u2581pass  \",\"  .  \"],[\"  <bos>  \",\"  \\u2581This  \",\"  \\u2581film  \",\"  \\u2581is  \",\"  \\u2581terrible  \",\"  ,  \",\"  \\u2581best  \",\"  \\u2581to  \",\"  \\u2581pass  \",\"  .  \"]],\"textfont\":{\"color\":\"black\",\"size\":12},\"texttemplate\":\"%{text}\",\"z\":[[-0.00509528536349535,0.014957795850932598,0.018221812322735786,0.013111494481563568,0.004798796493560076,-0.006812038831412792,-0.001939488691277802,-0.02700962871313095,0.022444438189268112,-0.026587728410959244],[-0.6468021869659424,0.07352990657091141,-0.10395831614732742,-0.11794734001159668,0.19841910898685455,-0.07124423235654831,-0.03672509267926216,-0.03225638344883919,0.06073807179927826,-0.08194699883460999],[-2.3207178115844727,-1.0919450521469116,-0.2622467279434204,-1.131502628326416,-0.5350147485733032,-1.5976221561431885,-0.4779156446456909,-0.5893436670303345,-0.8797966241836548,-1.569451928138733],[-56.160282135009766,0.9385982751846313,1.044010877609253,0.8188488483428955,0.9871791005134583,0.7951902747154236,0.43382424116134644,0.36684274673461914,0.6668524146080017,0.6193949580192566],[-14.116135597229004,2.310884952545166,2.326404094696045,1.5623270273208618,1.4415379762649536,0.8277792930603027,1.1221511363983154,0.2477945238351822,0.48246151208877563,0.5101154446601868],[-37.52021408081055,2.7686121463775635,2.550736427307129,1.2831910848617554,1.4030864238739014,0.910626232624054,0.6227959394454956,0.2079007774591446,0.11966484785079956,0.4330819845199585],[44.53757858276367,-2.55277156829834,-3.2259628772735596,-1.5163657665252686,-1.9345179796218872,-1.146256446838379,-0.39942216873168945,-0.4877144694328308,-0.17368672788143158,-0.4826869070529938],[33.20576477050781,-2.6847927570343018,-3.798605442047119,-1.4454498291015625,-1.9489717483520508,-1.349005937576294,-0.9047487378120422,-0.8794564604759216,-0.35239914059638977,-0.4427246153354645],[1.6539781093597412,3.6815550327301025,5.180678367614746,2.7463366985321045,3.328244209289551,3.0880839824676514,1.7717375755310059,1.3400559425354004,0.737267255783081,1.16598641872406],[5.446661949157715,-3.5703907012939453,-5.778568267822266,-2.5934243202209473,-3.488186836242676,-2.721294403076172,-1.0668209791183472,-1.0746879577636719,-0.679783284664154,-0.9632741808891296],[5.64901876449585,4.140190601348877,5.70269775390625,2.200446844100952,4.004062652587891,1.9854995012283325,0.5975923538208008,1.078652262687683,0.9450573921203613,1.0784804821014404],[-4.407497882843018,3.4433350563049316,6.0913872718811035,2.226260185241699,4.737837791442871,1.8468250036239624,1.2872918844223022,1.1478631496429443,0.858310341835022,0.9467055797576904],[-28.9239559173584,3.8845653533935547,6.909946441650391,3.4166507720947266,6.385098934173584,3.924205780029297,1.5467815399169922,2.3995110988616943,1.7222241163253784,2.5243306159973145],[-45.12339401245117,4.527482509613037,7.255807876586914,4.1191253662109375,6.863643646240234,5.024562358856201,1.9902714490890503,2.391407012939453,2.191464900970459,2.26244854927063],[14.497267723083496,-4.159069061279297,-5.841463088989258,-3.1083743572235107,-5.118203163146973,-3.3938779830932617,-0.5959261059761047,-1.115046501159668,-1.3240437507629395,-0.05901992321014404],[-28.544116973876953,5.48051118850708,7.181185245513916,4.343777656555176,6.976259231567383,4.819969654083252,1.575492262840271,1.9428986310958862,1.0120278596878052,0.3941652774810791],[-38.857200622558594,-4.223681449890137,-6.6553120613098145,-3.330467462539673,-6.340941429138184,-4.859457969665527,-1.3546134233474731,-1.9460313320159912,-1.061097502708435,-0.07210094481706619],[30.021621704101562,5.463661193847656,7.578441143035889,4.141524314880371,7.638067245483398,6.005537033081055,1.538135290145874,2.0768237113952637,0.42804667353630066,0.7218965888023376],[46.571449279785156,2.9553050994873047,4.244020462036133,1.9966657161712646,4.565694808959961,3.537273645401001,0.9225163459777832,0.8672206997871399,1.0328477621078491,-0.6120001077651978],[46.13104248046875,2.533928871154785,3.70222544670105,1.7597334384918213,3.6760547161102295,2.7573280334472656,-0.037760864943265915,-0.05677187442779541,1.401295781135559,-0.6598755717277527],[-50.121185302734375,-0.567648708820343,-2.3084237575531006,-0.9097017645835876,-2.0930092334747314,-0.8504936695098877,-0.24335834383964539,-0.017740555107593536,-2.387272834777832,1.8210675716400146],[-36.81218719482422,-1.1910659074783325,-2.7354791164398193,-0.1318432092666626,-1.5347487926483154,0.3693773150444031,0.7511980533599854,-0.611423671245575,-2.317861795425415,2.0788445472717285],[52.11461639404297,-1.423226237297058,0.8547022938728333,-1.9667000770568848,-1.8001277446746826,-2.6653242111206055,-2.0873115062713623,-1.2794290781021118,1.0650824308395386,-5.685665130615234],[54.88811111450195,-2.7993016242980957,-0.5939208269119263,-3.085878849029541,-2.449816942214966,-4.193317890167236,-3.520536184310913,-2.879671573638916,-0.009233901277184486,-7.473208904266357],[-63.688087463378906,4.056227684020996,1.6139036417007446,3.7183330059051514,5.279371738433838,7.391529560089111,4.228268146514893,4.523171901702881,0.8142233490943909,10.127852439880371],[90.07079315185547,-7.4421772956848145,-5.140291690826416,-6.756058692932129,-9.143156051635742,-11.550079345703125,-6.120102405548096,-8.010871887207031,-2.4243690967559814,-13.875405311584473],[77.48069763183594,-10.336224555969238,-9.460041046142578,-10.906684875488281,-13.378091812133789,-15.599026679992676,-9.015137672424316,-11.691761016845703,-6.167976379394531,-18.1814022064209],[70.20049285888672,-12.035828590393066,-10.422213554382324,-11.743799209594727,-13.780719757080078,-17.660459518432617,-11.809246063232422,-14.101902961730957,-8.372258186340332,-20.098031997680664],[-72.68612670898438,13.844754219055176,11.293917655944824,12.631688117980957,15.476807594299316,22.1505184173584,12.931229591369629,15.804391860961914,9.276151657104492,22.32611846923828],[-75.25601196289062,17.411907196044922,15.123867988586426,16.92533302307129,20.003992080688477,26.551179885864258,16.748077392578125,20.71906280517578,12.672527313232422,27.45225715637207],[87.71492004394531,-16.831233978271484,-15.905506134033203,-16.610599517822266,-20.10028648376465,-26.49779510498047,-17.501712799072266,-20.530597686767578,-11.346541404724121,-27.573957443237305],[-88.34082794189453,18.27649688720703,15.761259078979492,16.0457763671875,20.2303466796875,26.861299514770508,19.119110107421875,22.480579376220703,12.905948638916016,29.301502227783203],[-88.748779296875,21.953292846679688,19.78537940979004,19.036985397338867,22.343936920166016,31.877626419067383,22.378173828125,26.95250129699707,14.906122207641602,32.04004669189453],[-91.12661743164062,23.687414169311523,21.492586135864258,19.695777893066406,25.383119583129883,35.22959899902344,25.20467758178711,31.267269134521484,17.516664505004883,35.5384521484375],[-84.3795166015625,21.827848434448242,19.595102310180664,18.87961196899414,25.001794815063477,36.14175796508789,24.562850952148438,30.28799057006836,16.52268409729004,35.114990234375],[-101.85526275634766,23.622312545776367,21.3138370513916,22.112380981445312,25.207843780517578,39.10723876953125,26.315380096435547,31.789653778076172,16.762861251831055,35.966670989990234],[48.89461135864258,-26.768709182739258,-25.488006591796875,-27.02692413330078,-26.458101272583008,-43.831581115722656,-29.69358253479004,-36.76313781738281,-17.03017807006836,-38.34415054321289],[-17.630420684814453,-27.700862884521484,-28.19069480895996,-29.265792846679688,-27.73810386657715,-46.14305877685547,-30.20452308654785,-39.823699951171875,-16.25053596496582,-39.622562408447266],[5.942836761474609,26.235326766967773,28.832910537719727,30.970293045043945,25.593839645385742,48.47711944580078,31.8311824798584,40.7922477722168,13.010237693786621,41.86098098754883],[14.801093101501465,21.440200805664062,25.84204864501953,25.52748680114746,6.5622711181640625,45.62781524658203,26.712160110473633,35.15064239501953,-9.10720443725586,41.02220153808594]],\"type\":\"heatmap\"}],                        {\"height\":800,\"template\":{\"data\":{\"barpolar\":[{\"marker\":{\"line\":{\"color\":\"#E5ECF6\",\"width\":0.5},\"pattern\":{\"fillmode\":\"overlay\",\"size\":10,\"solidity\":0.2}},\"type\":\"barpolar\"}],\"bar\":[{\"error_x\":{\"color\":\"#2a3f5f\"},\"error_y\":{\"color\":\"#2a3f5f\"},\"marker\":{\"line\":{\"color\":\"#E5ECF6\",\"width\":0.5},\"pattern\":{\"fillmode\":\"overlay\",\"size\":10,\"solidity\":0.2}},\"type\":\"bar\"}],\"carpet\":[{\"aaxis\":{\"endlinecolor\":\"#2a3f5f\",\"gridcolor\":\"white\",\"linecolor\":\"white\",\"minorgridcolor\":\"white\",\"startlinecolor\":\"#2a3f5f\"},\"baxis\":{\"endlinecolor\":\"#2a3f5f\",\"gridcolor\":\"white\",\"linecolor\":\"white\",\"minorgridcolor\":\"white\",\"startlinecolor\":\"#2a3f5f\"},\"type\":\"carpet\"}],\"choropleth\":[{\"colorbar\":{\"outlinewidth\":0,\"ticks\":\"\"},\"type\":\"choropleth\"}],\"contourcarpet\":[{\"colorbar\":{\"outlinewidth\":0,\"ticks\":\"\"},\"type\":\"contourcarpet\"}],\"contour\":[{\"colorbar\":{\"outlinewidth\":0,\"ticks\":\"\"},\"colorscale\":[[0.0,\"#0d0887\"],[0.1111111111111111,\"#46039f\"],[0.2222222222222222,\"#7201a8\"],[0.3333333333333333,\"#9c179e\"],[0.4444444444444444,\"#bd3786\"],[0.5555555555555556,\"#d8576b\"],[0.6666666666666666,\"#ed7953\"],[0.7777777777777778,\"#fb9f3a\"],[0.8888888888888888,\"#fdca26\"],[1.0,\"#f0f921\"]],\"type\":\"contour\"}],\"heatmapgl\":[{\"colorbar\":{\"outlinewidth\":0,\"ticks\":\"\"},\"colorscale\":[[0.0,\"#0d0887\"],[0.1111111111111111,\"#46039f\"],[0.2222222222222222,\"#7201a8\"],[0.3333333333333333,\"#9c179e\"],[0.4444444444444444,\"#bd3786\"],[0.5555555555555556,\"#d8576b\"],[0.6666666666666666,\"#ed7953\"],[0.7777777777777778,\"#fb9f3a\"],[0.8888888888888888,\"#fdca26\"],[1.0,\"#f0f921\"]],\"type\":\"heatmapgl\"}],\"heatmap\":[{\"colorbar\":{\"outlinewidth\":0,\"ticks\":\"\"},\"colorscale\":[[0.0,\"#0d0887\"],[0.1111111111111111,\"#46039f\"],[0.2222222222222222,\"#7201a8\"],[0.3333333333333333,\"#9c179e\"],[0.4444444444444444,\"#bd3786\"],[0.5555555555555556,\"#d8576b\"],[0.6666666666666666,\"#ed7953\"],[0.7777777777777778,\"#fb9f3a\"],[0.8888888888888888,\"#fdca26\"],[1.0,\"#f0f921\"]],\"type\":\"heatmap\"}],\"histogram2dcontour\":[{\"colorbar\":{\"outlinewidth\":0,\"ticks\":\"\"},\"colorscale\":[[0.0,\"#0d0887\"],[0.1111111111111111,\"#46039f\"],[0.2222222222222222,\"#7201a8\"],[0.3333333333333333,\"#9c179e\"],[0.4444444444444444,\"#bd3786\"],[0.5555555555555556,\"#d8576b\"],[0.6666666666666666,\"#ed7953\"],[0.7777777777777778,\"#fb9f3a\"],[0.8888888888888888,\"#fdca26\"],[1.0,\"#f0f921\"]],\"type\":\"histogram2dcontour\"}],\"histogram2d\":[{\"colorbar\":{\"outlinewidth\":0,\"ticks\":\"\"},\"colorscale\":[[0.0,\"#0d0887\"],[0.1111111111111111,\"#46039f\"],[0.2222222222222222,\"#7201a8\"],[0.3333333333333333,\"#9c179e\"],[0.4444444444444444,\"#bd3786\"],[0.5555555555555556,\"#d8576b\"],[0.6666666666666666,\"#ed7953\"],[0.7777777777777778,\"#fb9f3a\"],[0.8888888888888888,\"#fdca26\"],[1.0,\"#f0f921\"]],\"type\":\"histogram2d\"}],\"histogram\":[{\"marker\":{\"pattern\":{\"fillmode\":\"overlay\",\"size\":10,\"solidity\":0.2}},\"type\":\"histogram\"}],\"mesh3d\":[{\"colorbar\":{\"outlinewidth\":0,\"ticks\":\"\"},\"type\":\"mesh3d\"}],\"parcoords\":[{\"line\":{\"colorbar\":{\"outlinewidth\":0,\"ticks\":\"\"}},\"type\":\"parcoords\"}],\"pie\":[{\"automargin\":true,\"type\":\"pie\"}],\"scatter3d\":[{\"line\":{\"colorbar\":{\"outlinewidth\":0,\"ticks\":\"\"}},\"marker\":{\"colorbar\":{\"outlinewidth\":0,\"ticks\":\"\"}},\"type\":\"scatter3d\"}],\"scattercarpet\":[{\"marker\":{\"colorbar\":{\"outlinewidth\":0,\"ticks\":\"\"}},\"type\":\"scattercarpet\"}],\"scattergeo\":[{\"marker\":{\"colorbar\":{\"outlinewidth\":0,\"ticks\":\"\"}},\"type\":\"scattergeo\"}],\"scattergl\":[{\"marker\":{\"colorbar\":{\"outlinewidth\":0,\"ticks\":\"\"}},\"type\":\"scattergl\"}],\"scattermapbox\":[{\"marker\":{\"colorbar\":{\"outlinewidth\":0,\"ticks\":\"\"}},\"type\":\"scattermapbox\"}],\"scatterpolargl\":[{\"marker\":{\"colorbar\":{\"outlinewidth\":0,\"ticks\":\"\"}},\"type\":\"scatterpolargl\"}],\"scatterpolar\":[{\"marker\":{\"colorbar\":{\"outlinewidth\":0,\"ticks\":\"\"}},\"type\":\"scatterpolar\"}],\"scatter\":[{\"fillpattern\":{\"fillmode\":\"overlay\",\"size\":10,\"solidity\":0.2},\"type\":\"scatter\"}],\"scatterternary\":[{\"marker\":{\"colorbar\":{\"outlinewidth\":0,\"ticks\":\"\"}},\"type\":\"scatterternary\"}],\"surface\":[{\"colorbar\":{\"outlinewidth\":0,\"ticks\":\"\"},\"colorscale\":[[0.0,\"#0d0887\"],[0.1111111111111111,\"#46039f\"],[0.2222222222222222,\"#7201a8\"],[0.3333333333333333,\"#9c179e\"],[0.4444444444444444,\"#bd3786\"],[0.5555555555555556,\"#d8576b\"],[0.6666666666666666,\"#ed7953\"],[0.7777777777777778,\"#fb9f3a\"],[0.8888888888888888,\"#fdca26\"],[1.0,\"#f0f921\"]],\"type\":\"surface\"}],\"table\":[{\"cells\":{\"fill\":{\"color\":\"#EBF0F8\"},\"line\":{\"color\":\"white\"}},\"header\":{\"fill\":{\"color\":\"#C8D4E3\"},\"line\":{\"color\":\"white\"}},\"type\":\"table\"}]},\"layout\":{\"annotationdefaults\":{\"arrowcolor\":\"#2a3f5f\",\"arrowhead\":0,\"arrowwidth\":1},\"autotypenumbers\":\"strict\",\"coloraxis\":{\"colorbar\":{\"outlinewidth\":0,\"ticks\":\"\"}},\"colorscale\":{\"diverging\":[[0,\"#8e0152\"],[0.1,\"#c51b7d\"],[0.2,\"#de77ae\"],[0.3,\"#f1b6da\"],[0.4,\"#fde0ef\"],[0.5,\"#f7f7f7\"],[0.6,\"#e6f5d0\"],[0.7,\"#b8e186\"],[0.8,\"#7fbc41\"],[0.9,\"#4d9221\"],[1,\"#276419\"]],\"sequential\":[[0.0,\"#0d0887\"],[0.1111111111111111,\"#46039f\"],[0.2222222222222222,\"#7201a8\"],[0.3333333333333333,\"#9c179e\"],[0.4444444444444444,\"#bd3786\"],[0.5555555555555556,\"#d8576b\"],[0.6666666666666666,\"#ed7953\"],[0.7777777777777778,\"#fb9f3a\"],[0.8888888888888888,\"#fdca26\"],[1.0,\"#f0f921\"]],\"sequentialminus\":[[0.0,\"#0d0887\"],[0.1111111111111111,\"#46039f\"],[0.2222222222222222,\"#7201a8\"],[0.3333333333333333,\"#9c179e\"],[0.4444444444444444,\"#bd3786\"],[0.5555555555555556,\"#d8576b\"],[0.6666666666666666,\"#ed7953\"],[0.7777777777777778,\"#fb9f3a\"],[0.8888888888888888,\"#fdca26\"],[1.0,\"#f0f921\"]]},\"colorway\":[\"#636efa\",\"#EF553B\",\"#00cc96\",\"#ab63fa\",\"#FFA15A\",\"#19d3f3\",\"#FF6692\",\"#B6E880\",\"#FF97FF\",\"#FECB52\"],\"font\":{\"color\":\"#2a3f5f\"},\"geo\":{\"bgcolor\":\"white\",\"lakecolor\":\"white\",\"landcolor\":\"#E5ECF6\",\"showlakes\":true,\"showland\":true,\"subunitcolor\":\"white\"},\"hoverlabel\":{\"align\":\"left\"},\"hovermode\":\"closest\",\"mapbox\":{\"style\":\"light\"},\"paper_bgcolor\":\"white\",\"plot_bgcolor\":\"#E5ECF6\",\"polar\":{\"angularaxis\":{\"gridcolor\":\"white\",\"linecolor\":\"white\",\"ticks\":\"\"},\"bgcolor\":\"#E5ECF6\",\"radialaxis\":{\"gridcolor\":\"white\",\"linecolor\":\"white\",\"ticks\":\"\"}},\"scene\":{\"xaxis\":{\"backgroundcolor\":\"#E5ECF6\",\"gridcolor\":\"white\",\"gridwidth\":2,\"linecolor\":\"white\",\"showbackground\":true,\"ticks\":\"\",\"zerolinecolor\":\"white\"},\"yaxis\":{\"backgroundcolor\":\"#E5ECF6\",\"gridcolor\":\"white\",\"gridwidth\":2,\"linecolor\":\"white\",\"showbackground\":true,\"ticks\":\"\",\"zerolinecolor\":\"white\"},\"zaxis\":{\"backgroundcolor\":\"#E5ECF6\",\"gridcolor\":\"white\",\"gridwidth\":2,\"linecolor\":\"white\",\"showbackground\":true,\"ticks\":\"\",\"zerolinecolor\":\"white\"}},\"shapedefaults\":{\"line\":{\"color\":\"#2a3f5f\"}},\"ternary\":{\"aaxis\":{\"gridcolor\":\"white\",\"linecolor\":\"white\",\"ticks\":\"\"},\"baxis\":{\"gridcolor\":\"white\",\"linecolor\":\"white\",\"ticks\":\"\"},\"bgcolor\":\"#E5ECF6\",\"caxis\":{\"gridcolor\":\"white\",\"linecolor\":\"white\",\"ticks\":\"\"}},\"title\":{\"x\":0.05},\"xaxis\":{\"automargin\":true,\"gridcolor\":\"white\",\"linecolor\":\"white\",\"ticks\":\"\",\"title\":{\"standoff\":15},\"zerolinecolor\":\"white\",\"zerolinewidth\":2},\"yaxis\":{\"automargin\":true,\"gridcolor\":\"white\",\"linecolor\":\"white\",\"ticks\":\"\",\"title\":{\"standoff\":15},\"zerolinecolor\":\"white\",\"zerolinewidth\":2}}},\"title\":{\"text\":\"Credences for Input Tokens\"},\"width\":800,\"xaxis\":{\"tickangle\":45,\"ticktext\":[\"<bos>\",\"\\u2581This\",\"\\u2581film\",\"\\u2581is\",\"\\u2581terrible\",\",\",\"\\u2581best\",\"\\u2581to\",\"\\u2581pass\",\".\"],\"tickvals\":[0,1,2,3,4,5,6,7,8,9]}},                        {\"responsive\": true}                    ).then(function(){\n",
       "                            \n",
       "var gd = document.getElementById('b295c2d6-c5e2-48d2-9396-e0c9091ed4c2');\n",
       "var x = new MutationObserver(function (mutations, observer) {{\n",
       "        var display = window.getComputedStyle(gd).display;\n",
       "        if (!display || display === 'none') {{\n",
       "            console.log([gd, 'removed!']);\n",
       "            Plotly.purge(gd);\n",
       "            observer.disconnect();\n",
       "        }}\n",
       "}});\n",
       "\n",
       "// Listen for the removal of the full notebook cells\n",
       "var notebookContainer = gd.closest('#notebook-container');\n",
       "if (notebookContainer) {{\n",
       "    x.observe(notebookContainer, {childList: true});\n",
       "}}\n",
       "\n",
       "// Listen for the clearing of the current output cell\n",
       "var outputEl = gd.closest('.output');\n",
       "if (outputEl) {{\n",
       "    x.observe(outputEl, {childList: true});\n",
       "}}\n",
       "\n",
       "                        })                };                });            </script>        </div>"
      ]
     },
     "metadata": {},
     "output_type": "display_data"
    }
   ],
   "source": [
    "words_corresponding_to_credences = np.array([[\" \" * 2 + word + \" \" * 2 for word in input_tokens] for layer_num in range(len(credences))])\n",
    "\n",
    "heatmap = go.Heatmap(\n",
    "    z=credences,\n",
    "    colorscale=color_scale,\n",
    "    text=words_corresponding_to_credences,  # Set the text to be equal to z\n",
    "    texttemplate=\"%{text}\",\n",
    "    textfont=dict(color='black', size=12),  # Set the text color and size\n",
    ")\n",
    "\n",
    "# Create plot layout\n",
    "layout = go.Layout(title='Credences for Input Tokens',\n",
    "                width=800,  # Set the width of the plot\n",
    "                height=800,  # Set the height of the plot\n",
    "\n",
    "                     xaxis=dict(tickvals=list(range(len(input_tokens))),\n",
    "                                ticktext=input_tokens,\n",
    "                                tickangle=45))\n",
    "\n",
    "# Create plotly figure\n",
    "fig = go.Figure(data=[heatmap], layout=layout)\n",
    "\n",
    "# Display plotly figure\n",
    "print(credences[-1].shape)\n",
    "iplot(fig)\n"
   ]
  },
  {
   "cell_type": "code",
   "execution_count": 15,
   "metadata": {},
   "outputs": [
    {
     "name": "stdout",
     "output_type": "stream",
     "text": [
      "['<bos>', '▁This', '▁film', '▁is', '▁terrible', ',', '▁best', '▁to', '▁pass', '.'] [14.801093 21.4402   25.842049 25.527487  6.562271 45.627815 26.71216\n",
      " 35.150642 -9.107204 41.0222  ]\n"
     ]
    },
    {
     "data": {
      "text/html": [
       "<div style=\"background-color: white; display: flex; white-space: pre\"><span class=\"barcode\"; style=\"color: black; background-color: rgba(133.4, 188.4941176470588, 219.69411764705882, 0.5)\" title=\"14.801093\"><bos></span><div><div style=\"background-color: white; display: flex; white-space: pre\"><span class=\"barcode\"; style=\"color: black; background-color: rgba(88.34901960784313, 161.26274509803923, 206.721568627451, 0.5)\" title=\"21.4402\"> This</span><div><div style=\"background-color: white; display: flex; white-space: pre\"><span class=\"barcode\"; style=\"color: black; background-color: rgba(62.24705882352942, 142.24705882352941, 196.0666666666667, 0.5)\" title=\"25.842049\"> film</span><div><div style=\"background-color: white; display: flex; white-space: pre\"><span class=\"barcode\"; style=\"color: black; background-color: rgba(64.31764705882354, 144.31764705882352, 197.13333333333333, 0.5)\" title=\"25.527487\"> is</span><div><div style=\"background-color: white; display: flex; white-space: pre\"><span class=\"barcode\"; style=\"color: black; background-color: rgba(186.3921568627451, 214.06666666666663, 234.93725490196078, 0.5)\" title=\"6.562271\"> terrible</span><div><div style=\"background-color: white; display: flex; white-space: pre\"><span class=\"barcode\"; style=\"color: black; background-color: rgba(8.0, 48.0, 107.0, 0.5)\" title=\"45.627815\">,</span><div><div style=\"background-color: white; display: flex; white-space: pre\"><span class=\"barcode\"; style=\"color: black; background-color: rgba(58.10588235294118, 138.10588235294117, 193.93333333333334, 0.5)\" title=\"26.71216\"> best</span><div><div style=\"background-color: white; display: flex; white-space: pre\"><span class=\"barcode\"; style=\"color: black; background-color: rgba(21.431372549019606, 98.1921568627451, 169.4313725490196, 0.5)\" title=\"35.150642\"> to</span><div><div style=\"background-color: white; display: flex; white-space: pre\"><span class=\"barcode\"; style=\"color: black; background-color: rgba(247.0, 251.0, 255.0, 0.5)\" title=\"-9.107204\"> pass</span><div><div style=\"background-color: white; display: flex; white-space: pre\"><span class=\"barcode\"; style=\"color: black; background-color: rgba(8.0, 69.74117647058823, 139.28235294117647, 0.5)\" title=\"41.0222\">.</span><div>"
      ],
      "text/plain": [
       "<IPython.core.display.HTML object>"
      ]
     },
     "metadata": {},
     "output_type": "display_data"
    }
   ],
   "source": [
    "import matplotlib.pyplot as plt\n",
    "\n",
    "def colorize(words, credences):\n",
    "    \n",
    "    max_color = float(max(credences))\n",
    "    min_color = float(min(credences))\n",
    "    normalized_credences = (credences - min_color) / (max_color - min_color)\n",
    "    \n",
    "    cmap = plt.get_cmap('Blues')\n",
    "    \n",
    "    template = '<div style=\"background-color: white; display: flex; white-space: pre\"><span class=\"barcode\"; style=\"color: black; background-color: {}\" title=\"{}\">{}</span><div>'\n",
    "    colored_string = ''\n",
    "    \n",
    "    for word, credence, norm_credence in zip(words, credences, normalized_credences):\n",
    "        word = word.replace('▁', ' ')\n",
    "        color = cmap(norm_credence)[:3]\n",
    "        max_col_num = int(255) # half intensity\n",
    "        # color = 'rgb(' + str(int(color[0]*max_col_num)) + ',' + str(int(color[1]*max_col_num)) + ',' + str(int(color[2]*max_col_num)) + ')'\n",
    "        color = f'rgba({color[0]*255}, {color[1]*255}, {color[2]*255}, {0.5})' # TODO figure out how to give it white background\n",
    "        # print(word, credence, norm_credence)\n",
    "        colored_string += template.format(color, str(credence), word)\n",
    "    \n",
    "    return colored_string\n",
    "\n",
    "# example usage:\n",
    "words = input_tokens\n",
    "colors = credences[-1] # associated values\n",
    "\n",
    "# Colorizing the text\n",
    "print(words, colors)\n",
    "colored_string = colorize(words, colors)\n",
    "\n",
    "# To display the colored string in Jupyter Notebook\n",
    "display(HTML(colored_string))"
   ]
  },
  {
   "cell_type": "code",
   "execution_count": 16,
   "metadata": {},
   "outputs": [
    {
     "name": "stdout",
     "output_type": "stream",
     "text": [
      "['A mitochondrion (/ˌmaɪtəˈkɒndriən/; pl mitochondria) is an organelle found in the cells of most eukaryotes, such as animals, plants and fungi.', 'Mitochondria have a double membrane structure and use aerobic respiration to generate adenosine triphosphate (ATP), which is used throughout the cell as a source of chemical energy.', 'They were discovered by Albert von Kölliker in 1857 in the voluntary muscles of insects.', 'The term mitochondrion was coined by Carl Benda in 1898.', 'The mitochondrion is popularly nicknamed the \"powerhouse of the cell\", a phrase coined by Philip Siekevitz in a 1957 article of the same name.', '']\n"
     ]
    }
   ],
   "source": [
    "def extract_sentences(text):\n",
    "    sentences = re.split(r'(?<!\\w\\.\\w.)(?<![A-Z][a-z]\\.)(?<=\\.|\\?)\\s', text)\n",
    "    return sentences\n",
    "\n",
    "mitochrondria_text = \"\"\"A mitochondrion (/ˌmaɪtəˈkɒndriən/; pl mitochondria) is an organelle found in the cells of most eukaryotes, such as animals, plants and fungi. Mitochondria have a double membrane structure and use aerobic respiration to generate adenosine triphosphate (ATP), which is used throughout the cell as a source of chemical energy. They were discovered by Albert von Kölliker in 1857 in the voluntary muscles of insects. The term mitochondrion was coined by Carl Benda in 1898. The mitochondrion is popularly nicknamed the \"powerhouse of the cell\", a phrase coined by Philip Siekevitz in a 1957 article of the same name.\n",
    "\"\"\"\n",
    "\n",
    "print(extract_sentences(mitochrondria_text))"
   ]
  },
  {
   "cell_type": "code",
   "execution_count": 34,
   "metadata": {},
   "outputs": [
    {
     "data": {
      "text/html": [
       "<div style=\"background-color: white; display: flex; white-space: pre\"><span class=\"barcode\"; style=\"color: black; background-color: rgba(114.2, 177.9529411764706, 215.55294117647057, 0.5)\" title=\"18.783876\"> I</span><div><div style=\"background-color: white; display: flex; white-space: pre\"><span class=\"barcode\"; style=\"color: black; background-color: rgba(8.0, 48.0, 107.0, 0.5)\" title=\"43.15841\"> love</span><div><div style=\"background-color: white; display: flex; white-space: pre\"><span class=\"barcode\"; style=\"color: black; background-color: rgba(32.411764705882355, 112.24705882352941, 180.41176470588235, 0.5)\" title=\"31.429506\"> this</span><div><div style=\"background-color: white; display: flex; white-space: pre\"><span class=\"barcode\"; style=\"color: black; background-color: rgba(158.78431372549022, 202.33333333333331, 225.27450980392157, 0.5)\" title=\"13.658363\"> movie</span><div><div style=\"background-color: white; display: flex; white-space: pre\"><span class=\"barcode\"; style=\"color: black; background-color: rgba(138.20000000000002, 191.12941176470588, 220.7294117647059, 0.5)\" title=\"16.067484\"> so</span><div><div style=\"background-color: white; display: flex; white-space: pre\"><span class=\"barcode\"; style=\"color: black; background-color: rgba(247.0, 251.0, 255.0, 0.5)\" title=\"-3.9316347\"> much</span><div>"
      ],
      "text/plain": [
       "<IPython.core.display.HTML object>"
      ]
     },
     "metadata": {},
     "output_type": "display_data"
    },
    {
     "data": {
      "text/html": [
       "<div style=\"background-color: white; display: flex; white-space: pre\"><span class=\"barcode\"; style=\"color: black; background-color: rgba(247.0, 251.0, 255.0, 0.5)\" title=\"13.174173\"> W</span><div><div style=\"background-color: white; display: flex; white-space: pre\"><span class=\"barcode\"; style=\"color: black; background-color: rgba(8.0, 55.24705882352941, 117.7607843137255, 0.5)\" title=\"41.94195\">ow</span><div><div style=\"background-color: white; display: flex; white-space: pre\"><span class=\"barcode\"; style=\"color: black; background-color: rgba(34.29411764705883, 114.29411764705881, 181.66666666666669, 0.5)\" title=\"35.282913\"> this</span><div><div style=\"background-color: white; display: flex; white-space: pre\"><span class=\"barcode\"; style=\"color: black; background-color: rgba(8.0, 48.0, 107.0, 0.5)\" title=\"42.814865\"> movie</span><div><div style=\"background-color: white; display: flex; white-space: pre\"><span class=\"barcode\"; style=\"color: black; background-color: rgba(144.60000000000002, 194.64313725490197, 222.10980392156864, 0.5)\" title=\"25.217016\"> is</span><div><div style=\"background-color: white; display: flex; white-space: pre\"><span class=\"barcode\"; style=\"color: black; background-color: rgba(30.843137254901965, 110.2392156862745, 178.843137254902, 0.5)\" title=\"35.73617\"> terrible</span><div>"
      ],
      "text/plain": [
       "<IPython.core.display.HTML object>"
      ]
     },
     "metadata": {},
     "output_type": "display_data"
    }
   ],
   "source": [
    "# path = '/home/waree/elk-reporters/huggyllama/llama-13b/sethapun/imdb_misspelled_0/llama13b-imdb0/reporters'\n",
    "path = '/mnt/ssd-1/spar/jon/elk-reporters/gpt2/imdb/agitated-driscoll/reporters'\n",
    "reporter_paths = [\n",
    "    '/home/jon/elk-reporters/huggyllama/llama-13b/azhx/counterfact-easy/stoic-jang/reporters',\n",
    "]\n",
    "# reporter_weights = load_all_reporters(model.config.num_hidden_layers, path)\n",
    "# print(reporter_weights.shape)\n",
    "# for path in reporter_paths:\n",
    "#     reporter_weights = \n",
    "\n",
    "# reporter_weights = load_all_reporters(model.config.num_hidden_layers, reporter_paths[0])\n",
    "\n",
    "def extract_sentences(text):\n",
    "    sentences = re.split(r'(?<!\\w\\.\\w.)(?<![A-Z][a-z]\\.)(?<=\\.|\\?)\\s', text)\n",
    "    return [sentence for sentence in sentences if sentence != '']\n",
    "\n",
    "def render_sentence(reporter, sentence):\n",
    "    json_file = 'credences.json'\n",
    "    try:\n",
    "        credence_records = json.load(open(json_file, 'r'))\n",
    "    except:\n",
    "        credence_records = []\n",
    "\n",
    "    for record in credence_records:\n",
    "        if record['sentence'] == sentence and record['reporter_path'] == reporter.path:\n",
    "            print('found')\n",
    "            return record\n",
    "    print('not found')\n",
    "\n",
    "    input_ids = tokenizer.encode(sentence, return_tensors=\"pt\", add_special_tokens=False)\n",
    "    words = tokenizer.convert_ids_to_tokens(input_ids[0])\n",
    "    outputs = model(input_ids, output_hidden_states=True)\n",
    "    reporter_weights = reporter.weights\n",
    "    hidden_states = outputs.hidden_states\n",
    "    # print(hidden_states[0].shape)\n",
    "    # print(len(hidden_states))\n",
    "    cat_hidden_states = torch.cat(hidden_states[:-1], dim=0)\n",
    "    # Use einsum to do multiplication \n",
    "    result = torch.einsum('bse,be->bs', cat_hidden_states, reporter_weights)\n",
    "    # print(result[0])\n",
    "    # print(result.shape)\n",
    "\n",
    "    # sigmoid_result = torch.sigmoid(result)\n",
    "    # softmax_result = torch.softmax(result, dim = -1)\n",
    "    torch.set_printoptions(precision=1)\n",
    "    credences = result.detach().numpy()[-1] # last layer\n",
    "    # print(words, credences[-1])\n",
    "    colored_string = colorize(words, credences)\n",
    "\n",
    "    # write output to json: reporter_desc, sentence, credences\n",
    "    credence_record = {\n",
    "        'reporter_path': reporter.path,\n",
    "        'sentence': sentence,\n",
    "        'credences': credences.tolist(),\n",
    "        'rendered': colored_string\n",
    "    }\n",
    "    # write to json\n",
    "    credence_records.append(credence_record)\n",
    "    \n",
    "    with open(json_file, 'w') as f:\n",
    "        json.dump(credence_records, f, indent=4)\n",
    "\n",
    "    return credence_record\n",
    "    \n",
    "def viz(reporter, sentence):\n",
    "    record = render_sentence(reporter, sentence)\n",
    "    display(HTML(record['colored_string']))\n",
    "\n",
    "reporter = Reporter.from_path(reporter_paths[0])\n",
    "\n",
    "viz(reporter, \"I love this movie so much\")\n",
    "viz(reporter, \"Wow this movie is terrible\")\n",
    "\n"
   ]
  },
  {
   "cell_type": "code",
   "execution_count": 18,
   "metadata": {},
   "outputs": [
    {
     "data": {
      "text/html": [
       "<pre style=\"white-space:pre;overflow-x:auto;line-height:normal;font-family:Menlo,'DejaVu Sans Mono',consolas,'Courier New',monospace\"><span style=\"color: #800000; text-decoration-color: #800000\">╭─────────────────────────────── </span><span style=\"color: #800000; text-decoration-color: #800000; font-weight: bold\">Traceback </span><span style=\"color: #bf7f7f; text-decoration-color: #bf7f7f; font-weight: bold\">(most recent call last)</span><span style=\"color: #800000; text-decoration-color: #800000\"> ────────────────────────────────╮</span>\n",
       "<span style=\"color: #800000; text-decoration-color: #800000\">│</span> in <span style=\"color: #00ff00; text-decoration-color: #00ff00\">&lt;module&gt;</span>:<span style=\"color: #0000ff; text-decoration-color: #0000ff\">1</span>                                                                                    <span style=\"color: #800000; text-decoration-color: #800000\">│</span>\n",
       "<span style=\"color: #800000; text-decoration-color: #800000\">│</span>                                                                                                  <span style=\"color: #800000; text-decoration-color: #800000\">│</span>\n",
       "<span style=\"color: #800000; text-decoration-color: #800000\">│</span> <span style=\"color: #800000; text-decoration-color: #800000\">❱ </span> 1 reporters = [Reporter(path, load_all_reporters(model.config.num_hidden_layers, path), de    <span style=\"color: #800000; text-decoration-color: #800000\">│</span>\n",
       "<span style=\"color: #800000; text-decoration-color: #800000\">│</span>   <span style=\"color: #7f7f7f; text-decoration-color: #7f7f7f\"> 2 </span>                                                                                            <span style=\"color: #800000; text-decoration-color: #800000\">│</span>\n",
       "<span style=\"color: #800000; text-decoration-color: #800000\">│</span>   <span style=\"color: #7f7f7f; text-decoration-color: #7f7f7f\"> 3 </span>sentences = extract_sentences(mitochrondria_text)                                           <span style=\"color: #800000; text-decoration-color: #800000\">│</span>\n",
       "<span style=\"color: #800000; text-decoration-color: #800000\">│</span>   <span style=\"color: #7f7f7f; text-decoration-color: #7f7f7f\"> 4 </span>                                                                                            <span style=\"color: #800000; text-decoration-color: #800000\">│</span>\n",
       "<span style=\"color: #800000; text-decoration-color: #800000\">│</span>                                                                                                  <span style=\"color: #800000; text-decoration-color: #800000\">│</span>\n",
       "<span style=\"color: #800000; text-decoration-color: #800000\">│</span> in <span style=\"color: #00ff00; text-decoration-color: #00ff00\">&lt;listcomp&gt;</span>:<span style=\"color: #0000ff; text-decoration-color: #0000ff\">1</span>                                                                                  <span style=\"color: #800000; text-decoration-color: #800000\">│</span>\n",
       "<span style=\"color: #800000; text-decoration-color: #800000\">│</span>                                                                                                  <span style=\"color: #800000; text-decoration-color: #800000\">│</span>\n",
       "<span style=\"color: #800000; text-decoration-color: #800000\">│</span> <span style=\"color: #800000; text-decoration-color: #800000\">❱ </span> 1 reporters = [Reporter(path, load_all_reporters(model.config.num_hidden_layers, path), de    <span style=\"color: #800000; text-decoration-color: #800000\">│</span>\n",
       "<span style=\"color: #800000; text-decoration-color: #800000\">│</span>   <span style=\"color: #7f7f7f; text-decoration-color: #7f7f7f\"> 2 </span>                                                                                            <span style=\"color: #800000; text-decoration-color: #800000\">│</span>\n",
       "<span style=\"color: #800000; text-decoration-color: #800000\">│</span>   <span style=\"color: #7f7f7f; text-decoration-color: #7f7f7f\"> 3 </span>sentences = extract_sentences(mitochrondria_text)                                           <span style=\"color: #800000; text-decoration-color: #800000\">│</span>\n",
       "<span style=\"color: #800000; text-decoration-color: #800000\">│</span>   <span style=\"color: #7f7f7f; text-decoration-color: #7f7f7f\"> 4 </span>                                                                                            <span style=\"color: #800000; text-decoration-color: #800000\">│</span>\n",
       "<span style=\"color: #800000; text-decoration-color: #800000\">╰──────────────────────────────────────────────────────────────────────────────────────────────────╯</span>\n",
       "<span style=\"color: #ff0000; text-decoration-color: #ff0000; font-weight: bold\">ValueError: </span>too many values to unpack <span style=\"font-weight: bold\">(</span>expected <span style=\"color: #008080; text-decoration-color: #008080; font-weight: bold\">2</span><span style=\"font-weight: bold\">)</span>\n",
       "</pre>\n"
      ],
      "text/plain": [
       "\u001b[31m╭─\u001b[0m\u001b[31m──────────────────────────────\u001b[0m\u001b[31m \u001b[0m\u001b[1;31mTraceback \u001b[0m\u001b[1;2;31m(most recent call last)\u001b[0m\u001b[31m \u001b[0m\u001b[31m───────────────────────────────\u001b[0m\u001b[31m─╮\u001b[0m\n",
       "\u001b[31m│\u001b[0m in \u001b[92m<module>\u001b[0m:\u001b[94m1\u001b[0m                                                                                    \u001b[31m│\u001b[0m\n",
       "\u001b[31m│\u001b[0m                                                                                                  \u001b[31m│\u001b[0m\n",
       "\u001b[31m│\u001b[0m \u001b[31m❱ \u001b[0m 1 reporters = [Reporter(path, load_all_reporters(model.config.num_hidden_layers, path), de    \u001b[31m│\u001b[0m\n",
       "\u001b[31m│\u001b[0m   \u001b[2m 2 \u001b[0m                                                                                            \u001b[31m│\u001b[0m\n",
       "\u001b[31m│\u001b[0m   \u001b[2m 3 \u001b[0msentences = extract_sentences(mitochrondria_text)                                           \u001b[31m│\u001b[0m\n",
       "\u001b[31m│\u001b[0m   \u001b[2m 4 \u001b[0m                                                                                            \u001b[31m│\u001b[0m\n",
       "\u001b[31m│\u001b[0m                                                                                                  \u001b[31m│\u001b[0m\n",
       "\u001b[31m│\u001b[0m in \u001b[92m<listcomp>\u001b[0m:\u001b[94m1\u001b[0m                                                                                  \u001b[31m│\u001b[0m\n",
       "\u001b[31m│\u001b[0m                                                                                                  \u001b[31m│\u001b[0m\n",
       "\u001b[31m│\u001b[0m \u001b[31m❱ \u001b[0m 1 reporters = [Reporter(path, load_all_reporters(model.config.num_hidden_layers, path), de    \u001b[31m│\u001b[0m\n",
       "\u001b[31m│\u001b[0m   \u001b[2m 2 \u001b[0m                                                                                            \u001b[31m│\u001b[0m\n",
       "\u001b[31m│\u001b[0m   \u001b[2m 3 \u001b[0msentences = extract_sentences(mitochrondria_text)                                           \u001b[31m│\u001b[0m\n",
       "\u001b[31m│\u001b[0m   \u001b[2m 4 \u001b[0m                                                                                            \u001b[31m│\u001b[0m\n",
       "\u001b[31m╰──────────────────────────────────────────────────────────────────────────────────────────────────╯\u001b[0m\n",
       "\u001b[1;91mValueError: \u001b[0mtoo many values to unpack \u001b[1m(\u001b[0mexpected \u001b[1;36m2\u001b[0m\u001b[1m)\u001b[0m\n"
      ]
     },
     "metadata": {},
     "output_type": "display_data"
    }
   ],
   "source": [
    "reporters = [Reporter(path, load_all_reporters(model.config.num_hidden_layers, path), desc) for path, desc in reporter_paths]\n",
    "\n",
    "sentences = extract_sentences(mitochrondria_text)\n",
    "\n",
    "for reporter in reporters[2:3]:\n",
    "    for sentence in sentences:\n",
    "        # print(sentence)\n",
    "        # print(tokenizer.encode(sentence))\n",
    "        # input_ids=tokenizer.encode(sentence)\n",
    "        # print(tokenizer.convert_ids_to_tokens(input_ids[0]))\n",
    "        viz(reporter.weights, sentence)\n"
   ]
  },
  {
   "cell_type": "code",
   "execution_count": 19,
   "metadata": {},
   "outputs": [
    {
     "data": {
      "text/html": [
       "<pre style=\"white-space:pre;overflow-x:auto;line-height:normal;font-family:Menlo,'DejaVu Sans Mono',consolas,'Courier New',monospace\"><span style=\"color: #800000; text-decoration-color: #800000\">╭─────────────────────────────── </span><span style=\"color: #800000; text-decoration-color: #800000; font-weight: bold\">Traceback </span><span style=\"color: #bf7f7f; text-decoration-color: #bf7f7f; font-weight: bold\">(most recent call last)</span><span style=\"color: #800000; text-decoration-color: #800000\"> ────────────────────────────────╮</span>\n",
       "<span style=\"color: #800000; text-decoration-color: #800000\">│</span> in <span style=\"color: #00ff00; text-decoration-color: #00ff00\">&lt;module&gt;</span>:<span style=\"color: #0000ff; text-decoration-color: #0000ff\">1</span>                                                                                    <span style=\"color: #800000; text-decoration-color: #800000\">│</span>\n",
       "<span style=\"color: #800000; text-decoration-color: #800000\">│</span>                                                                                                  <span style=\"color: #800000; text-decoration-color: #800000\">│</span>\n",
       "<span style=\"color: #800000; text-decoration-color: #800000\">│</span> <span style=\"color: #800000; text-decoration-color: #800000\">❱ </span>1 <span style=\"color: #0000ff; text-decoration-color: #0000ff\">for</span> reporter <span style=\"color: #ff00ff; text-decoration-color: #ff00ff\">in</span> reporters[<span style=\"color: #0000ff; text-decoration-color: #0000ff\">2</span>:<span style=\"color: #0000ff; text-decoration-color: #0000ff\">3</span>]:                                                              <span style=\"color: #800000; text-decoration-color: #800000\">│</span>\n",
       "<span style=\"color: #800000; text-decoration-color: #800000\">│</span>   <span style=\"color: #7f7f7f; text-decoration-color: #7f7f7f\">2 </span><span style=\"color: #7f7f7f; text-decoration-color: #7f7f7f\">│   </span>sentence = <span style=\"color: #808000; text-decoration-color: #808000\">' '</span>.join(sentences)[:-<span style=\"color: #0000ff; text-decoration-color: #0000ff\">1</span>]                                                      <span style=\"color: #800000; text-decoration-color: #800000\">│</span>\n",
       "<span style=\"color: #800000; text-decoration-color: #800000\">│</span>   <span style=\"color: #7f7f7f; text-decoration-color: #7f7f7f\">3 </span><span style=\"color: #7f7f7f; text-decoration-color: #7f7f7f\">│   </span>viz(reporter.weights, sentence)                                                          <span style=\"color: #800000; text-decoration-color: #800000\">│</span>\n",
       "<span style=\"color: #800000; text-decoration-color: #800000\">│</span>   <span style=\"color: #7f7f7f; text-decoration-color: #7f7f7f\">4 </span><span style=\"color: #7f7f7f; text-decoration-color: #7f7f7f\">│   </span><span style=\"color: #7f7f7f; text-decoration-color: #7f7f7f\"># for sentence_no in range(len(sentences)):</span>                                              <span style=\"color: #800000; text-decoration-color: #800000\">│</span>\n",
       "<span style=\"color: #800000; text-decoration-color: #800000\">╰──────────────────────────────────────────────────────────────────────────────────────────────────╯</span>\n",
       "<span style=\"color: #ff0000; text-decoration-color: #ff0000; font-weight: bold\">NameError: </span>name <span style=\"color: #008000; text-decoration-color: #008000\">'reporters'</span> is not defined\n",
       "</pre>\n"
      ],
      "text/plain": [
       "\u001b[31m╭─\u001b[0m\u001b[31m──────────────────────────────\u001b[0m\u001b[31m \u001b[0m\u001b[1;31mTraceback \u001b[0m\u001b[1;2;31m(most recent call last)\u001b[0m\u001b[31m \u001b[0m\u001b[31m───────────────────────────────\u001b[0m\u001b[31m─╮\u001b[0m\n",
       "\u001b[31m│\u001b[0m in \u001b[92m<module>\u001b[0m:\u001b[94m1\u001b[0m                                                                                    \u001b[31m│\u001b[0m\n",
       "\u001b[31m│\u001b[0m                                                                                                  \u001b[31m│\u001b[0m\n",
       "\u001b[31m│\u001b[0m \u001b[31m❱ \u001b[0m1 \u001b[94mfor\u001b[0m reporter \u001b[95min\u001b[0m reporters[\u001b[94m2\u001b[0m:\u001b[94m3\u001b[0m]:                                                              \u001b[31m│\u001b[0m\n",
       "\u001b[31m│\u001b[0m   \u001b[2m2 \u001b[0m\u001b[2m│   \u001b[0msentence = \u001b[33m'\u001b[0m\u001b[33m \u001b[0m\u001b[33m'\u001b[0m.join(sentences)[:-\u001b[94m1\u001b[0m]                                                      \u001b[31m│\u001b[0m\n",
       "\u001b[31m│\u001b[0m   \u001b[2m3 \u001b[0m\u001b[2m│   \u001b[0mviz(reporter.weights, sentence)                                                          \u001b[31m│\u001b[0m\n",
       "\u001b[31m│\u001b[0m   \u001b[2m4 \u001b[0m\u001b[2m│   \u001b[0m\u001b[2m# for sentence_no in range(len(sentences)):\u001b[0m                                              \u001b[31m│\u001b[0m\n",
       "\u001b[31m╰──────────────────────────────────────────────────────────────────────────────────────────────────╯\u001b[0m\n",
       "\u001b[1;91mNameError: \u001b[0mname \u001b[32m'reporters'\u001b[0m is not defined\n"
      ]
     },
     "metadata": {},
     "output_type": "display_data"
    }
   ],
   "source": [
    "for reporter in reporters[2:3]:\n",
    "    sentence = ' '.join(sentences)[:-1]\n",
    "    viz(reporter.weights, sentence)\n",
    "    # for sentence_no in range(len(sentences)):\n",
    "    #     sentence = ' '.join(sentences[0:sentence_no+1])[:-1]\n",
    "    #     print(sentence)\n",
    "    #     # viz(reporter.weights, sentence)"
   ]
  },
  {
   "attachments": {},
   "cell_type": "markdown",
   "metadata": {},
   "source": [
    "# Sanity Checks"
   ]
  },
  {
   "cell_type": "code",
   "execution_count": 20,
   "metadata": {},
   "outputs": [],
   "source": [
    "# # Use einsum to do multiplication \n",
    "\n",
    "# reporter_weights_repeat = repeat(reporter_weights, 'b e -> b c e', c=len(input_tokens) + 1)\n",
    "# result = torch.einsum('bse,bse->bs', cat_hidden_states, reporter_weights_repeat)\n",
    "# print(result.shape)\n",
    "\n",
    "# sigmoid_result = torch.sigmoid(result)\n",
    "# softmax_result = torch.softmax(result, dim = -1)\n",
    "# torch.set_printoptions(precision=1)"
   ]
  },
  {
   "cell_type": "code",
   "execution_count": 21,
   "metadata": {},
   "outputs": [
    {
     "name": "stdout",
     "output_type": "stream",
     "text": [
      "tensor([[-5.1e-03,  1.5e-02,  1.8e-02,  1.3e-02,  4.8e-03, -6.8e-03, -1.9e-03,\n",
      "         -2.7e-02,  2.2e-02, -2.7e-02],\n",
      "        [-6.5e-01,  7.4e-02, -1.0e-01, -1.2e-01,  2.0e-01, -7.1e-02, -3.7e-02,\n",
      "         -3.2e-02,  6.1e-02, -8.2e-02],\n",
      "        [-2.3e+00, -1.1e+00, -2.6e-01, -1.1e+00, -5.4e-01, -1.6e+00, -4.8e-01,\n",
      "         -5.9e-01, -8.8e-01, -1.6e+00],\n",
      "        [-5.6e+01,  9.4e-01,  1.0e+00,  8.2e-01,  9.9e-01,  8.0e-01,  4.3e-01,\n",
      "          3.7e-01,  6.7e-01,  6.2e-01],\n",
      "        [-1.4e+01,  2.3e+00,  2.3e+00,  1.6e+00,  1.4e+00,  8.3e-01,  1.1e+00,\n",
      "          2.5e-01,  4.8e-01,  5.1e-01],\n",
      "        [-3.8e+01,  2.8e+00,  2.6e+00,  1.3e+00,  1.4e+00,  9.1e-01,  6.2e-01,\n",
      "          2.1e-01,  1.2e-01,  4.3e-01],\n",
      "        [ 4.5e+01, -2.6e+00, -3.2e+00, -1.5e+00, -1.9e+00, -1.1e+00, -4.0e-01,\n",
      "         -4.9e-01, -1.7e-01, -4.8e-01],\n",
      "        [ 3.3e+01, -2.7e+00, -3.8e+00, -1.4e+00, -1.9e+00, -1.3e+00, -9.0e-01,\n",
      "         -8.8e-01, -3.5e-01, -4.4e-01],\n",
      "        [ 1.7e+00,  3.7e+00,  5.2e+00,  2.7e+00,  3.3e+00,  3.1e+00,  1.8e+00,\n",
      "          1.3e+00,  7.4e-01,  1.2e+00],\n",
      "        [ 5.4e+00, -3.6e+00, -5.8e+00, -2.6e+00, -3.5e+00, -2.7e+00, -1.1e+00,\n",
      "         -1.1e+00, -6.8e-01, -9.6e-01],\n",
      "        [ 5.6e+00,  4.1e+00,  5.7e+00,  2.2e+00,  4.0e+00,  2.0e+00,  6.0e-01,\n",
      "          1.1e+00,  9.5e-01,  1.1e+00],\n",
      "        [-4.4e+00,  3.4e+00,  6.1e+00,  2.2e+00,  4.7e+00,  1.8e+00,  1.3e+00,\n",
      "          1.1e+00,  8.6e-01,  9.5e-01],\n",
      "        [-2.9e+01,  3.9e+00,  6.9e+00,  3.4e+00,  6.4e+00,  3.9e+00,  1.5e+00,\n",
      "          2.4e+00,  1.7e+00,  2.5e+00],\n",
      "        [-4.5e+01,  4.5e+00,  7.3e+00,  4.1e+00,  6.9e+00,  5.0e+00,  2.0e+00,\n",
      "          2.4e+00,  2.2e+00,  2.3e+00],\n",
      "        [ 1.4e+01, -4.2e+00, -5.8e+00, -3.1e+00, -5.1e+00, -3.4e+00, -6.0e-01,\n",
      "         -1.1e+00, -1.3e+00, -5.9e-02],\n",
      "        [-2.9e+01,  5.5e+00,  7.2e+00,  4.3e+00,  7.0e+00,  4.8e+00,  1.6e+00,\n",
      "          1.9e+00,  1.0e+00,  3.9e-01],\n",
      "        [-3.9e+01, -4.2e+00, -6.7e+00, -3.3e+00, -6.3e+00, -4.9e+00, -1.4e+00,\n",
      "         -1.9e+00, -1.1e+00, -7.2e-02],\n",
      "        [ 3.0e+01,  5.5e+00,  7.6e+00,  4.1e+00,  7.6e+00,  6.0e+00,  1.5e+00,\n",
      "          2.1e+00,  4.3e-01,  7.2e-01],\n",
      "        [ 4.7e+01,  3.0e+00,  4.2e+00,  2.0e+00,  4.6e+00,  3.5e+00,  9.2e-01,\n",
      "          8.7e-01,  1.0e+00, -6.1e-01],\n",
      "        [ 4.6e+01,  2.5e+00,  3.7e+00,  1.8e+00,  3.7e+00,  2.8e+00, -3.8e-02,\n",
      "         -5.7e-02,  1.4e+00, -6.6e-01],\n",
      "        [-5.0e+01, -5.7e-01, -2.3e+00, -9.1e-01, -2.1e+00, -8.5e-01, -2.4e-01,\n",
      "         -1.8e-02, -2.4e+00,  1.8e+00],\n",
      "        [-3.7e+01, -1.2e+00, -2.7e+00, -1.3e-01, -1.5e+00,  3.7e-01,  7.5e-01,\n",
      "         -6.1e-01, -2.3e+00,  2.1e+00],\n",
      "        [ 5.2e+01, -1.4e+00,  8.5e-01, -2.0e+00, -1.8e+00, -2.7e+00, -2.1e+00,\n",
      "         -1.3e+00,  1.1e+00, -5.7e+00],\n",
      "        [ 5.5e+01, -2.8e+00, -5.9e-01, -3.1e+00, -2.4e+00, -4.2e+00, -3.5e+00,\n",
      "         -2.9e+00, -9.2e-03, -7.5e+00],\n",
      "        [-6.4e+01,  4.1e+00,  1.6e+00,  3.7e+00,  5.3e+00,  7.4e+00,  4.2e+00,\n",
      "          4.5e+00,  8.1e-01,  1.0e+01],\n",
      "        [ 9.0e+01, -7.4e+00, -5.1e+00, -6.8e+00, -9.1e+00, -1.2e+01, -6.1e+00,\n",
      "         -8.0e+00, -2.4e+00, -1.4e+01],\n",
      "        [ 7.7e+01, -1.0e+01, -9.5e+00, -1.1e+01, -1.3e+01, -1.6e+01, -9.0e+00,\n",
      "         -1.2e+01, -6.2e+00, -1.8e+01],\n",
      "        [ 7.0e+01, -1.2e+01, -1.0e+01, -1.2e+01, -1.4e+01, -1.8e+01, -1.2e+01,\n",
      "         -1.4e+01, -8.4e+00, -2.0e+01],\n",
      "        [-7.3e+01,  1.4e+01,  1.1e+01,  1.3e+01,  1.5e+01,  2.2e+01,  1.3e+01,\n",
      "          1.6e+01,  9.3e+00,  2.2e+01],\n",
      "        [-7.5e+01,  1.7e+01,  1.5e+01,  1.7e+01,  2.0e+01,  2.7e+01,  1.7e+01,\n",
      "          2.1e+01,  1.3e+01,  2.7e+01],\n",
      "        [ 8.8e+01, -1.7e+01, -1.6e+01, -1.7e+01, -2.0e+01, -2.6e+01, -1.8e+01,\n",
      "         -2.1e+01, -1.1e+01, -2.8e+01],\n",
      "        [-8.8e+01,  1.8e+01,  1.6e+01,  1.6e+01,  2.0e+01,  2.7e+01,  1.9e+01,\n",
      "          2.2e+01,  1.3e+01,  2.9e+01],\n",
      "        [-8.9e+01,  2.2e+01,  2.0e+01,  1.9e+01,  2.2e+01,  3.2e+01,  2.2e+01,\n",
      "          2.7e+01,  1.5e+01,  3.2e+01],\n",
      "        [-9.1e+01,  2.4e+01,  2.1e+01,  2.0e+01,  2.5e+01,  3.5e+01,  2.5e+01,\n",
      "          3.1e+01,  1.8e+01,  3.6e+01],\n",
      "        [-8.4e+01,  2.2e+01,  2.0e+01,  1.9e+01,  2.5e+01,  3.6e+01,  2.5e+01,\n",
      "          3.0e+01,  1.7e+01,  3.5e+01],\n",
      "        [-1.0e+02,  2.4e+01,  2.1e+01,  2.2e+01,  2.5e+01,  3.9e+01,  2.6e+01,\n",
      "          3.2e+01,  1.7e+01,  3.6e+01],\n",
      "        [ 4.9e+01, -2.7e+01, -2.5e+01, -2.7e+01, -2.6e+01, -4.4e+01, -3.0e+01,\n",
      "         -3.7e+01, -1.7e+01, -3.8e+01],\n",
      "        [-1.8e+01, -2.8e+01, -2.8e+01, -2.9e+01, -2.8e+01, -4.6e+01, -3.0e+01,\n",
      "         -4.0e+01, -1.6e+01, -4.0e+01],\n",
      "        [ 5.9e+00,  2.6e+01,  2.9e+01,  3.1e+01,  2.6e+01,  4.8e+01,  3.2e+01,\n",
      "          4.1e+01,  1.3e+01,  4.2e+01],\n",
      "        [ 1.5e+01,  2.1e+01,  2.6e+01,  2.6e+01,  6.6e+00,  4.6e+01,  2.7e+01,\n",
      "          3.5e+01, -9.1e+00,  4.1e+01]], grad_fn=<ViewBackward0>)\n"
     ]
    }
   ],
   "source": [
    "print(result)"
   ]
  }
 ],
 "metadata": {
  "kernelspec": {
   "display_name": "Python 3 (ipykernel)",
   "language": "python",
   "name": "python3"
  },
  "language_info": {
   "codemirror_mode": {
    "name": "ipython",
    "version": 3
   },
   "file_extension": ".py",
   "mimetype": "text/x-python",
   "name": "python",
   "nbconvert_exporter": "python",
   "pygments_lexer": "ipython3",
   "version": "3.10.11"
  }
 },
 "nbformat": 4,
 "nbformat_minor": 2
}
