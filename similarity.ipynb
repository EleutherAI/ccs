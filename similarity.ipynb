{
 "cells": [
  {
   "cell_type": "code",
   "execution_count": 2,
   "metadata": {},
   "outputs": [
    {
     "name": "stderr",
     "output_type": "stream",
     "text": [
      "/mnt/ssd-1/spar/waree/miniconda3/lib/python3.10/site-packages/tqdm/auto.py:22: TqdmWarning: IProgress not found. Please update jupyter and ipywidgets. See https://ipywidgets.readthedocs.io/en/stable/user_install.html\n",
      "  from .autonotebook import tqdm as notebook_tqdm\n"
     ]
    }
   ],
   "source": [
    "import torch\n",
    "from transformers import AutoTokenizer, AutoModel\n",
    "from pathlib import Path\n",
    "from einops import rearrange, repeat\n",
    "import os\n",
    "import numpy as np\n",
    "import matplotlib\n",
    "import matplotlib.pyplot as plt"
   ]
  },
  {
   "cell_type": "code",
   "execution_count": 3,
   "metadata": {},
   "outputs": [],
   "source": [
    "num_hidden_layers = 40\n",
    "layers_arr = np.arange(num_hidden_layers)"
   ]
  },
  {
   "attachments": {},
   "cell_type": "markdown",
   "metadata": {},
   "source": [
    "So in code I would take each weight like v1 = lr_reporter.linear.weight  or something and v2 = vinc_reporter.weight, and then v1 /= np.linalg.norm(v1), v2 /= np.linalg.norm(v2) and finally cosine_sim = v1.T @ v2"
   ]
  },
  {
   "cell_type": "code",
   "execution_count": 4,
   "metadata": {},
   "outputs": [],
   "source": [
    "def load_and_stack_layers(num_layers: int, prefix_path: str) -> torch.Tensor:\n",
    "    layers = []\n",
    "    for i in range(num_layers):\n",
    "        layer_path = f\"{prefix_path}/layer_{i}.pt\"\n",
    "        layer = torch.load(layer_path)\n",
    "        layers.append(layer.weight.cpu())\n",
    "    stacked = torch.cat(layers, dim=0)\n",
    "    return stacked"
   ]
  },
  {
   "cell_type": "code",
   "execution_count": 12,
   "metadata": {},
   "outputs": [],
   "source": [
    "def similarity(reporter1_path: str, reporter2_path: str):\n",
    "    rep1_weights = load_and_stack_layers(num_hidden_layers,path1)\n",
    "    rep2_weights = load_and_stack_layers(num_hidden_layers,path2)\n",
    "    rep1_magnitude = torch.norm(rep1_weights, dim=-1, keepdim=True)\n",
    "    rep2_magnitude = torch.norm(rep2_weights, dim=-1, keepdim=True)\n",
    "    rep1_normalized = rep1_weights/rep1_magnitude\n",
    "    rep2_normalized = rep2_weights/rep2_magnitude\n",
    "    cosine_sim = torch.einsum(\"ij,ij->i\", rep1_normalized, rep2_normalized)\n",
    "    return cosine_sim\n",
    "    "
   ]
  },
  {
   "cell_type": "code",
   "execution_count": 18,
   "metadata": {},
   "outputs": [],
   "source": [
    "path1 = '/home/waree/elk-reporters/huggyllama/llama-13b/sethapun/imdb_misspelled_0/llama13b-imdb0/reporters'\n",
    "#path2 = '/home/waree/elk-reporters/huggyllama/llama-13b/sethapun/imdb_misspelled_0/llama13b-imdb0/lr_models'\n",
    "path2 = '/home/waree/elk-reporters/huggyllama/llama-13b/sethapun/imdb_misspelled_5/sleepy-mirzakhani/reporters'"
   ]
  },
  {
   "cell_type": "code",
   "execution_count": 5,
   "metadata": {},
   "outputs": [],
   "source": [
    "path = '/home/waree/elk-reporters/huggyllama/llama-13b/sethapun/imdb_misspelled_0/nervous-franklin/reporters'\n",
    "stack = load_and_stack_layers(num_hidden_layers, path)"
   ]
  },
  {
   "cell_type": "code",
   "execution_count": 8,
   "metadata": {},
   "outputs": [
    {
     "ename": "AttributeError",
     "evalue": "'Classifier' object has no attribute 'weight'",
     "output_type": "error",
     "traceback": [
      "\u001b[0;31m---------------------------------------------------------------------------\u001b[0m",
      "\u001b[0;31mAttributeError\u001b[0m                            Traceback (most recent call last)",
      "Cell \u001b[0;32mIn[8], line 2\u001b[0m\n\u001b[1;32m      1\u001b[0m path2 \u001b[39m=\u001b[39m \u001b[39m'\u001b[39m\u001b[39m/home/waree/elk-reporters/huggyllama/llama-13b/sethapun/imdb_misspelled_0/nervous-franklin/lr_models\u001b[39m\u001b[39m'\u001b[39m\n\u001b[0;32m----> 2\u001b[0m stack2 \u001b[39m=\u001b[39m load_and_stack_layers(num_hidden_layers, path2)\n",
      "Cell \u001b[0;32mIn[4], line 6\u001b[0m, in \u001b[0;36mload_and_stack_layers\u001b[0;34m(num_layers, prefix_path)\u001b[0m\n\u001b[1;32m      4\u001b[0m     layer_path \u001b[39m=\u001b[39m \u001b[39mf\u001b[39m\u001b[39m\"\u001b[39m\u001b[39m{\u001b[39;00mprefix_path\u001b[39m}\u001b[39;00m\u001b[39m/layer_\u001b[39m\u001b[39m{\u001b[39;00mi\u001b[39m}\u001b[39;00m\u001b[39m.pt\u001b[39m\u001b[39m\"\u001b[39m\n\u001b[1;32m      5\u001b[0m     layer \u001b[39m=\u001b[39m torch\u001b[39m.\u001b[39mload(layer_path)\n\u001b[0;32m----> 6\u001b[0m     layers\u001b[39m.\u001b[39mappend(layer\u001b[39m.\u001b[39;49mweight\u001b[39m.\u001b[39mcpu())\n\u001b[1;32m      7\u001b[0m stacked \u001b[39m=\u001b[39m torch\u001b[39m.\u001b[39mcat(layers, dim\u001b[39m=\u001b[39m\u001b[39m0\u001b[39m)\n\u001b[1;32m      8\u001b[0m \u001b[39mreturn\u001b[39;00m stacked\n",
      "File \u001b[0;32m/mnt/ssd-1/spar/waree/miniconda3/lib/python3.10/site-packages/torch/nn/modules/module.py:1269\u001b[0m, in \u001b[0;36mModule.__getattr__\u001b[0;34m(self, name)\u001b[0m\n\u001b[1;32m   1267\u001b[0m     \u001b[39mif\u001b[39;00m name \u001b[39min\u001b[39;00m modules:\n\u001b[1;32m   1268\u001b[0m         \u001b[39mreturn\u001b[39;00m modules[name]\n\u001b[0;32m-> 1269\u001b[0m \u001b[39mraise\u001b[39;00m \u001b[39mAttributeError\u001b[39;00m(\u001b[39m\"\u001b[39m\u001b[39m'\u001b[39m\u001b[39m{}\u001b[39;00m\u001b[39m'\u001b[39m\u001b[39m object has no attribute \u001b[39m\u001b[39m'\u001b[39m\u001b[39m{}\u001b[39;00m\u001b[39m'\u001b[39m\u001b[39m\"\u001b[39m\u001b[39m.\u001b[39mformat(\n\u001b[1;32m   1270\u001b[0m     \u001b[39mtype\u001b[39m(\u001b[39mself\u001b[39m)\u001b[39m.\u001b[39m\u001b[39m__name__\u001b[39m, name))\n",
      "\u001b[0;31mAttributeError\u001b[0m: 'Classifier' object has no attribute 'weight'"
     ]
    }
   ],
   "source": [
    "path2 = '/home/waree/elk-reporters/huggyllama/llama-13b/sethapun/imdb_misspelled_0/nervous-franklin/lr_models'\n",
    "stack2 = load_and_stack_layers(num_hidden_layers, path2)"
   ]
  },
  {
   "cell_type": "code",
   "execution_count": 11,
   "metadata": {},
   "outputs": [],
   "source": [
    "loaded = torch.load('/home/waree/elk-reporters/huggyllama/llama-13b/sethapun/imdb_misspelled_0/nervous-franklin/lr_models/layer_1.pt')"
   ]
  },
  {
   "cell_type": "code",
   "execution_count": 21,
   "metadata": {},
   "outputs": [
    {
     "data": {
      "text/plain": [
       "Classifier(\n",
       "  (linear): Linear(in_features=5120, out_features=1, bias=True)\n",
       ")"
      ]
     },
     "execution_count": 21,
     "metadata": {},
     "output_type": "execute_result"
    }
   ],
   "source": [
    "loaded"
   ]
  },
  {
   "cell_type": "code",
   "execution_count": 22,
   "metadata": {},
   "outputs": [
    {
     "ename": "RuntimeError",
     "evalue": "Invalid magic number; corrupt file?",
     "output_type": "error",
     "traceback": [
      "\u001b[0;31m---------------------------------------------------------------------------\u001b[0m",
      "\u001b[0;31mRuntimeError\u001b[0m                              Traceback (most recent call last)",
      "Cell \u001b[0;32mIn[22], line 15\u001b[0m\n\u001b[1;32m      7\u001b[0m ax\u001b[39m.\u001b[39mgrid(\u001b[39mTrue\u001b[39;00m)\n\u001b[1;32m      9\u001b[0m \u001b[39m# Set line colors and styles\u001b[39;00m\n\u001b[1;32m     10\u001b[0m \u001b[39m# line_colors = ['black', 'blue', 'red', 'green', 'orange','purple', 'teal', 'pink', 'sage', 'grey']\u001b[39;00m\n\u001b[1;32m     11\u001b[0m \u001b[39m# ccs_line_style = '--'\u001b[39;00m\n\u001b[1;32m     12\u001b[0m \u001b[39m# lr_line_style = ':'\u001b[39;00m\n\u001b[1;32m     13\u001b[0m \u001b[39m# zs_line_style = '-.'\u001b[39;00m\n\u001b[0;32m---> 15\u001b[0m sim \u001b[39m=\u001b[39m similarity(path1, path2)\n\u001b[1;32m     17\u001b[0m ax\u001b[39m.\u001b[39mplot(layers_arr,sim)\n\u001b[1;32m     19\u001b[0m \u001b[39m# experiment = data[(model, train_dataset, test_dataset, 'ccs')]\u001b[39;00m\n\u001b[1;32m     20\u001b[0m \u001b[39m# layers = experiment['layer']\u001b[39;00m\n\u001b[1;32m     21\u001b[0m \u001b[39m# acc = experiment['acc']\u001b[39;00m\n\u001b[0;32m   (...)\u001b[0m\n\u001b[1;32m     36\u001b[0m                 \n\u001b[1;32m     37\u001b[0m \u001b[39m#ax.legend(bbox_to_anchor=(1.05, 1), loc='upper left')\u001b[39;00m\n",
      "Cell \u001b[0;32mIn[12], line 3\u001b[0m, in \u001b[0;36msimilarity\u001b[0;34m(reporter1_path, reporter2_path)\u001b[0m\n\u001b[1;32m      1\u001b[0m \u001b[39mdef\u001b[39;00m \u001b[39msimilarity\u001b[39m(reporter1_path: \u001b[39mstr\u001b[39m, reporter2_path: \u001b[39mstr\u001b[39m):\n\u001b[1;32m      2\u001b[0m     rep1_weights \u001b[39m=\u001b[39m load_and_stack_layers(num_hidden_layers,path1)\n\u001b[0;32m----> 3\u001b[0m     rep2_weights \u001b[39m=\u001b[39m load_and_stack_layers(num_hidden_layers,path2)\n\u001b[1;32m      4\u001b[0m     rep1_magnitude \u001b[39m=\u001b[39m torch\u001b[39m.\u001b[39mnorm(rep1_weights, dim\u001b[39m=\u001b[39m\u001b[39m-\u001b[39m\u001b[39m1\u001b[39m, keepdim\u001b[39m=\u001b[39m\u001b[39mTrue\u001b[39;00m)\n\u001b[1;32m      5\u001b[0m     rep2_magnitude \u001b[39m=\u001b[39m torch\u001b[39m.\u001b[39mnorm(rep2_weights, dim\u001b[39m=\u001b[39m\u001b[39m-\u001b[39m\u001b[39m1\u001b[39m, keepdim\u001b[39m=\u001b[39m\u001b[39mTrue\u001b[39;00m)\n",
      "Cell \u001b[0;32mIn[20], line 5\u001b[0m, in \u001b[0;36mload_and_stack_layers\u001b[0;34m(num_layers, prefix_path)\u001b[0m\n\u001b[1;32m      3\u001b[0m \u001b[39mfor\u001b[39;00m i \u001b[39min\u001b[39;00m \u001b[39mrange\u001b[39m(num_layers):\n\u001b[1;32m      4\u001b[0m     layer_path \u001b[39m=\u001b[39m \u001b[39mf\u001b[39m\u001b[39m\"\u001b[39m\u001b[39m{\u001b[39;00mprefix_path\u001b[39m}\u001b[39;00m\u001b[39m/layer_\u001b[39m\u001b[39m{\u001b[39;00mi\u001b[39m}\u001b[39;00m\u001b[39m.pt\u001b[39m\u001b[39m\"\u001b[39m\n\u001b[0;32m----> 5\u001b[0m     layer \u001b[39m=\u001b[39m torch\u001b[39m.\u001b[39;49mload(layer_path)\n\u001b[1;32m      6\u001b[0m     layers\u001b[39m.\u001b[39mappend(layer\u001b[39m.\u001b[39mweight\u001b[39m.\u001b[39mcpu())\n\u001b[1;32m      7\u001b[0m stacked \u001b[39m=\u001b[39m torch\u001b[39m.\u001b[39mcat(layers, dim\u001b[39m=\u001b[39m\u001b[39m0\u001b[39m)\n",
      "File \u001b[0;32m/mnt/ssd-1/spar/waree/miniconda3/lib/python3.10/site-packages/torch/serialization.py:795\u001b[0m, in \u001b[0;36mload\u001b[0;34m(f, map_location, pickle_module, weights_only, **pickle_load_args)\u001b[0m\n\u001b[1;32m    793\u001b[0m     \u001b[39mexcept\u001b[39;00m \u001b[39mRuntimeError\u001b[39;00m \u001b[39mas\u001b[39;00m e:\n\u001b[1;32m    794\u001b[0m         \u001b[39mraise\u001b[39;00m pickle\u001b[39m.\u001b[39mUnpicklingError(UNSAFE_MESSAGE \u001b[39m+\u001b[39m \u001b[39mstr\u001b[39m(e)) \u001b[39mfrom\u001b[39;00m \u001b[39mNone\u001b[39;00m\n\u001b[0;32m--> 795\u001b[0m \u001b[39mreturn\u001b[39;00m _legacy_load(opened_file, map_location, pickle_module, \u001b[39m*\u001b[39;49m\u001b[39m*\u001b[39;49mpickle_load_args)\n",
      "File \u001b[0;32m/mnt/ssd-1/spar/waree/miniconda3/lib/python3.10/site-packages/torch/serialization.py:1004\u001b[0m, in \u001b[0;36m_legacy_load\u001b[0;34m(f, map_location, pickle_module, **pickle_load_args)\u001b[0m\n\u001b[1;32m   1002\u001b[0m magic_number \u001b[39m=\u001b[39m pickle_module\u001b[39m.\u001b[39mload(f, \u001b[39m*\u001b[39m\u001b[39m*\u001b[39mpickle_load_args)\n\u001b[1;32m   1003\u001b[0m \u001b[39mif\u001b[39;00m magic_number \u001b[39m!=\u001b[39m MAGIC_NUMBER:\n\u001b[0;32m-> 1004\u001b[0m     \u001b[39mraise\u001b[39;00m \u001b[39mRuntimeError\u001b[39;00m(\u001b[39m\"\u001b[39m\u001b[39mInvalid magic number; corrupt file?\u001b[39m\u001b[39m\"\u001b[39m)\n\u001b[1;32m   1005\u001b[0m protocol_version \u001b[39m=\u001b[39m pickle_module\u001b[39m.\u001b[39mload(f, \u001b[39m*\u001b[39m\u001b[39m*\u001b[39mpickle_load_args)\n\u001b[1;32m   1006\u001b[0m \u001b[39mif\u001b[39;00m protocol_version \u001b[39m!=\u001b[39m PROTOCOL_VERSION:\n",
      "\u001b[0;31mRuntimeError\u001b[0m: Invalid magic number; corrupt file?"
     ]
    },
    {
     "data": {
      "image/png": "[encoded data removed]",
      "text/plain": [
       "<Figure size 640x480 with 1 Axes>"
      ]
     },
     "metadata": {},
     "output_type": "display_data"
    }
   ],
   "source": [
    "model = 'llama13b'\n",
    "\n",
    "fig, ax = plt.subplots()\n",
    "ax.set_title(fr\"{model} trained and tested on imdb, similarity between LR and VINC\")\n",
    "ax.set_xlabel(\"layer\")\n",
    "ax.set_ylabel(\"similarity\")\n",
    "ax.grid(True)\n",
    "\n",
    "# Set line colors and styles\n",
    "# line_colors = ['black', 'blue', 'red', 'green', 'orange','purple', 'teal', 'pink', 'sage', 'grey']\n",
    "# ccs_line_style = '--'\n",
    "# lr_line_style = ':'\n",
    "# zs_line_style = '-.'\n",
    "\n",
    "sim = similarity(path1, path2)\n",
    "    \n",
    "ax.plot(layers_arr,sim)\n",
    "\n",
    "# experiment = data[(model, train_dataset, test_dataset, 'ccs')]\n",
    "# layers = experiment['layer']\n",
    "# acc = experiment['acc']\n",
    "# ax.plot(layers, acc, label=f'CCS tested on {test_dataset}',\n",
    "#             color=line_color, linestyle=ccs_line_style)\n",
    "\n",
    "# if 'lm_acc' in experiment.columns:\n",
    "#     lm_acc = experiment['lm_acc']\n",
    "#     # Set line color and style for zero-shot dataset\n",
    "#     ax.plot(layers, lm_acc, label='zero-shot language model output',\n",
    "#             color=line_color, linestyle=zs_line_style)\n",
    "\n",
    "# if 'lr_acc' in experiment.columns:\n",
    "#     lr_acc = experiment['lr_acc']\n",
    "#     # Set line color and style for logistic regression dataset\n",
    "#     ax.plot(layers, lr_acc, label='logistic regression',\n",
    "#             color=line_color, linestyle=lr_line_style)\n",
    "                \n",
    "#ax.legend(bbox_to_anchor=(1.05, 1), loc='upper left')\n",
    "plt.show()"
   ]
  }
 ],
 "metadata": {
  "kernelspec": {
   "display_name": "base",
   "language": "python",
   "name": "python3"
  },
  "language_info": {
   "codemirror_mode": {
    "name": "ipython",
    "version": 3
   },
   "file_extension": ".py",
   "mimetype": "text/x-python",
   "name": "python",
   "nbconvert_exporter": "python",
   "pygments_lexer": "ipython3",
   "version": "3.10.9"
  },
  "orig_nbformat": 4
 },
 "nbformat": 4,
 "nbformat_minor": 2
}
