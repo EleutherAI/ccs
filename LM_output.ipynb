{
 "cells": [
  {
   "cell_type": "code",
   "execution_count": 1,
   "metadata": {},
   "outputs": [
    {
     "name": "stderr",
     "output_type": "stream",
     "text": [
      "/mnt/ssd-1/spar/waree/miniconda3/lib/python3.10/site-packages/tqdm/auto.py:22: TqdmWarning: IProgress not found. Please update jupyter and ipywidgets. See https://ipywidgets.readthedocs.io/en/stable/user_install.html\n",
      "  from .autonotebook import tqdm as notebook_tqdm\n",
      "Loading checkpoint shards: 100%|██████████| 3/3 [00:46<00:00, 15.45s/it]\n"
     ]
    }
   ],
   "source": [
    "from transformers import pipeline\n",
    "\n",
    "model_name = \"huggyllama/llama-13b\"\n",
    "generator = pipeline(\"text-generation\", model=model_name, device_map=\"auto\")"
   ]
  },
  {
   "attachments": {},
   "cell_type": "markdown",
   "metadata": {},
   "source": [
    "## Arithmetic\n"
   ]
  },
  {
   "attachments": {},
   "cell_type": "markdown",
   "metadata": {},
   "source": [
    "Asking expression = ? Works sort of fine up until some amount of digits, even though the following generated text is wrong and/or unhelpful."
   ]
  },
  {
   "cell_type": "code",
   "execution_count": 5,
   "metadata": {},
   "outputs": [
    {
     "name": "stdout",
     "output_type": "stream",
     "text": [
      "1 + 1 = 2.\n",
      "The first step is to find the number of ways to choose 1 from 2.\n",
      "The second step is to find the number of ways to choose 1 from 3.\n",
      "The third step is to find the number of ways to choose 1 from 4.\n",
      "The fourth step is to find the number of ways to choose 1 from 5.\n",
      "The fifth step is to find the number of ways to choose 1\n"
     ]
    }
   ],
   "source": [
    "input_text = \"1 + 1 = \"\n",
    "generated_text = generator(input_text, max_length=100)[0]['generated_text']\n",
    "\n",
    "print(generated_text)"
   ]
  },
  {
   "cell_type": "code",
   "execution_count": 15,
   "metadata": {},
   "outputs": [
    {
     "name": "stderr",
     "output_type": "stream",
     "text": [
      "/mnt/ssd-1/spar/waree/miniconda3/lib/python3.10/site-packages/transformers/pipelines/base.py:1070: UserWarning: You seem to be using the pipelines sequentially on GPU. In order to maximize efficiency please use a dataset\n",
      "  warnings.warn(\n"
     ]
    },
    {
     "name": "stdout",
     "output_type": "stream",
     "text": [
      "Show your work step by step. 1 + 1 = 2.\n",
      "\n",
      "Comment: @JonathanLeffler I'm not sure what you mean by \"the first time\". I'm not sure what you mean by \"the second time\". I'm not sure what you mean by \"the third time\". I'm not sure what you mean by \"the fourth time\". I'm not sure what you mean by \"the fifth time\". I'm\n"
     ]
    }
   ],
   "source": [
    "input_text = \"Show your work step by step. 1 + 1 = \"\n",
    "generated_text = generator(input_text, max_length=100)[0]['generated_text']\n",
    "\n",
    "print(generated_text)"
   ]
  },
  {
   "cell_type": "code",
   "execution_count": 6,
   "metadata": {},
   "outputs": [
    {
     "name": "stdout",
     "output_type": "stream",
     "text": [
      "2 + 2 = 4.\n",
      "The problem is that the 2 + 2 = 4 is not a fact. It is a conclusion. It is a conclusion based on the assumption that the two numbers are 2 and 2.\n",
      "The problem is that the two numbers are not 2 and 2. They are 2 and 2.000000000000000000000000\n"
     ]
    }
   ],
   "source": [
    "input_text = \"2 + 2 = \"\n",
    "generated_text = generator(input_text, max_length=100)[0]['generated_text']\n",
    "\n",
    "print(generated_text)"
   ]
  },
  {
   "cell_type": "code",
   "execution_count": 16,
   "metadata": {},
   "outputs": [
    {
     "name": "stdout",
     "output_type": "stream",
     "text": [
      "Show your work step by step. 2 + 2 = 4.\n",
      "\n",
      "Comment: @JonathanLeffler I'm not sure what you mean by \"the result is not a number\". I'm not sure what you mean by \"the result is not a number\". I'm not sure what you mean by \"the result is not a number\". I'm not sure what you mean by \"the result is not a number\". I'm not sure\n"
     ]
    }
   ],
   "source": [
    "input_text = \"Show your work step by step. 2 + 2 = \"\n",
    "generated_text = generator(input_text, max_length=100)[0]['generated_text']\n",
    "\n",
    "print(generated_text)"
   ]
  },
  {
   "attachments": {},
   "cell_type": "markdown",
   "metadata": {},
   "source": [
    "When we start asking if the answer is something instead of directly asking for the answer itself, the output it plain unhelpful most of the time."
   ]
  },
  {
   "cell_type": "code",
   "execution_count": 12,
   "metadata": {},
   "outputs": [
    {
     "name": "stdout",
     "output_type": "stream",
     "text": [
      "Is 1 + 1 = 2?\n",
      "Is 1 + 1 = 2?\n",
      "I'm not sure if this is the right place to post this, but I'm not sure where else to post it.\n",
      "I'm not sure if this is the right place to post this, but I'm not sure where else to post it. I'm not sure if this is the right place to post this, but I'm not sure where else to post it. I'm not sure if this is the right place to post this, but I'm not sure where else to post it. I'm not sure if this is the right place to post this, but I'm not sure where else to post it. I'm not sure if this is the right place to post this, but I'm not sure where else to post it. I'm not sure if this is the right place to post this, but I'm not sure where else to post it. I'm not sure if this is the right place to post this, but I'm not sure where else to post it. I'm not sure if this is the right place to post this, but I'm not sure where else to post it. I'm not sure if this is the right place to post this, but I'm not sure where else to post it. I'm not sure if this is the right place to post this, but I'm not sure where else to post it. I'm not sure if this is the right place to post this, but I'm not sure where else to post it. I'm not sure if this is the right place to post this, but I'm not sure where else to post it. I'm not sure if this is the right place to post this, but I'm not sure where else to post it. I'm not sure if this is the right place to post this, but I'm not sure where else to post it. I'm not sure if this is the right place to post this, but I'm not sure where else to post it. I'm not sure if this is the right place to post this, but I'm not sure where else to post it. I'm not sure if this is the right place to post this, but I'm not sure where else to post it. I'm not sure if this is the right place to post this, but I'm not sure where else to post it. I'm not sure if this is the right place to post this, but I'm not sure where else to post it. I'm not sure if this is the right place to post this, but I'm not sure where else to post it. I'm not sure if this is the right place to post this, but I'm not sure where else to post it. I'm not sure if this is the right place to post this, but I'm not sure where else to post it. I'm not sure if this is the right place to post this, but I'm not sure where else to post it. I'm not sure if this is the right place to post this, but I'm not sure where else to post it. I'm not sure if this is the right place to post this, but I'm not sure where else to post it. I'm not sure if this is the right place to post this, but I'm not sure where else to post it. I'm not sure if this is the right place to post this, but I'm not sure where else to post it. I'm not sure if this is the right place to post this, but I'm not sure where else to post it. I'm not sure if this is the right place to post this, but I'm not sure where else to post it. I'm not sure if this is the right place to post this, but I'm not sure where else to post it. I'm not sure if this is the right place to post this, but I'm not sure where else to post it. I'm not sure if this is the right place to post this, but I'm not sure where else to post it. I'm not sure if this is the right place to post this, but I'm not sure where else to post it. I'm not sure if this is the right place to post this, but I'm not sure where else to post it. I'm not sure if this is the right place to post this, but I'm not sure where else to post it. I'm not sure\n"
     ]
    }
   ],
   "source": [
    "input_text = \"Is 1 + 1 = 2?\"\n",
    "generated_text = generator(input_text, max_length=1000)[0]['generated_text']\n",
    "\n",
    "print(generated_text)"
   ]
  },
  {
   "cell_type": "code",
   "execution_count": 7,
   "metadata": {},
   "outputs": [
    {
     "name": "stdout",
     "output_type": "stream",
     "text": [
      "Is 1 + 1 = 0?\n",
      "\n",
      "Comment: @JonathanLeffler: I'm not sure what you mean by \"the same as the original\".  The original is a pointer to a `char` array, and the new one is a pointer to a `char` array.  The new one is not the same as the original, but it is the same type.\n",
      "\n",
      "Comment: @JonathanLeffler: I'm not\n"
     ]
    }
   ],
   "source": [
    "input_text = \"Is 1 + 1 = 0?\"\n",
    "generated_text = generator(input_text, max_length=100)[0]['generated_text']\n",
    "\n",
    "print(generated_text)"
   ]
  },
  {
   "attachments": {},
   "cell_type": "markdown",
   "metadata": {},
   "source": [
    "When we try to add \"yes or no\"? ..."
   ]
  },
  {
   "cell_type": "code",
   "execution_count": 4,
   "metadata": {},
   "outputs": [
    {
     "name": "stdout",
     "output_type": "stream",
     "text": [
      "The following is a math problem. You will need to answer correctly. Is 1 + 1 = 2, yes or no?\n",
      "If you answered yes, you are a racist.\n",
      "If you answered no, you are a racist.\n",
      "If you answered yes, you are a sexist.\n",
      "If you answered no, you are a sexist.\n",
      "If you answered yes, you are a homophobe.\n",
      "If you answered no, you are a homoph\n"
     ]
    }
   ],
   "source": [
    "input_text = \"The following is a math problem. You will need to answer correctly. Is 1 + 1 = 2, yes or no?\"\n",
    "generated_text = generator(input_text, max_length=100)[0]['generated_text']\n",
    "\n",
    "print(generated_text)"
   ]
  },
  {
   "cell_type": "code",
   "execution_count": 12,
   "metadata": {},
   "outputs": [
    {
     "name": "stdout",
     "output_type": "stream",
     "text": [
      "The following is a math problem. You will need to answer correctly. Is 5 + 7 = 2, yes or no?\n",
      "If you answered yes, you are a liberal.\n",
      "If you answered no, you are a conservative.\n",
      "If you answered, \"I don't know,\" you are a moderate.\n",
      "If you answered, \"I don't know, but I'm willing to give it a try,\" you are a libertarian.\n",
      "If\n"
     ]
    }
   ],
   "source": [
    "input_text = \"The following is a math problem. You will need to answer correctly. Is 5 + 7 = 2, yes or no?\"\n",
    "generated_text = generator(input_text, max_length=100)[0]['generated_text']\n",
    "\n",
    "print(generated_text)"
   ]
  },
  {
   "cell_type": "code",
   "execution_count": 17,
   "metadata": {},
   "outputs": [
    {
     "name": "stdout",
     "output_type": "stream",
     "text": [
      "The following is a math problem. You will need to answer correctly. Is 101 + 205 = 306, yes or no?\n",
      "If you answered yes, you are correct. If you answered no, you are correct.\n",
      "The following is a math problem. You will need to answer correctly. Is 101 + 205 = 306, yes or no?\n",
      "If you answered yes, you are correct. If you\n"
     ]
    }
   ],
   "source": [
    "input_text = \"The following is a math problem. You will need to answer correctly. Is 101 + 205 = 306, yes or no?\"\n",
    "generated_text = generator(input_text, max_length=100)[0]['generated_text']\n",
    "\n",
    "print(generated_text)"
   ]
  },
  {
   "attachments": {},
   "cell_type": "markdown",
   "metadata": {},
   "source": [
    "The following is how the LM is prompted when we test/train CCS and VINC and logistic regression. It seems that the output is unhelpful but still somewhat relevant, which is what happens for IMDB aswell."
   ]
  },
  {
   "cell_type": "code",
   "execution_count": 2,
   "metadata": {},
   "outputs": [
    {
     "name": "stdout",
     "output_type": "stream",
     "text": [
      "The following is a math problem. You will need to answer correctly. Is 1 + 1 = 2, yes or no? Yes or no?\n",
      "The following is a math problem. You will need to answer correctly. Is 1 + 1 = 2, yes or no? Yes or no?\n",
      "The following is a math problem. You will need to answer correctly. Is 1 + 1 = 2, yes or no? Yes or no?\n",
      "The\n"
     ]
    }
   ],
   "source": [
    "input_text = \"The following is a math problem. You will need to answer correctly. Is 1 + 1 = 2, yes or no? Yes\"\n",
    "generated_text = generator(input_text, max_length=100)[0]['generated_text']\n",
    "\n",
    "print(generated_text)"
   ]
  },
  {
   "cell_type": "code",
   "execution_count": 23,
   "metadata": {},
   "outputs": [
    {
     "name": "stderr",
     "output_type": "stream",
     "text": [
      "/mnt/ssd-1/spar/waree/miniconda3/lib/python3.10/site-packages/transformers/pipelines/base.py:1070: UserWarning: You seem to be using the pipelines sequentially on GPU. In order to maximize efficiency please use a dataset\n",
      "  warnings.warn(\n"
     ]
    },
    {
     "name": "stdout",
     "output_type": "stream",
     "text": [
      "The following is a math problem. You will need to answer correctly. Is 1 + 1 = 2, yes or no? No, it is not.\n",
      "The following is a math problem. You will need to answer correctly. Is 1 + 1 = 2, yes or no? No, it is not.\n",
      "The following is a math problem. You will need to answer correctly. Is 1 + 1 = 2, yes or no? No,\n"
     ]
    }
   ],
   "source": [
    "input_text = \"The following is a math problem. You will need to answer correctly. Is 1 + 1 = 2, yes or no? No\"\n",
    "generated_text = generator(input_text, max_length=100)[0]['generated_text']\n",
    "\n",
    "print(generated_text)"
   ]
  },
  {
   "cell_type": "code",
   "execution_count": 22,
   "metadata": {},
   "outputs": [
    {
     "name": "stdout",
     "output_type": "stream",
     "text": [
      "The following is a math problem. You will need to answer correctly. Is 1 + 1 = 2, yes or no? Yes.\n",
      "The following is a math problem. You will need to answer correctly. Is 1 + 1 = 2, yes or no? Yes.\n",
      "The following is a math problem. You will need to answer correctly. Is 1 + 1 = 2, yes or no? Yes. The following is a math problem. You\n"
     ]
    }
   ],
   "source": [
    "input_text = \"The following is a math problem. You will need to answer correctly. Is 1 + 1 = 2, yes or no? Yes.\"\n",
    "generated_text = generator(input_text, max_length=100)[0]['generated_text']\n",
    "\n",
    "print(generated_text)"
   ]
  },
  {
   "cell_type": "code",
   "execution_count": 18,
   "metadata": {},
   "outputs": [
    {
     "name": "stdout",
     "output_type": "stream",
     "text": [
      "The following is a math problem. You will need to answer correctly. Is 1 + 1 = 2, yes or no? No.\n",
      "The following is a math problem. You will need to answer correctly. Is 1 + 1 = 2, yes or no? No.\n",
      "The following is a math problem. You will need to answer correctly. Is 1 + 1 = 2, yes or no? No. The following is a math problem. You\n"
     ]
    }
   ],
   "source": [
    "input_text = \"The following is a math problem. You will need to answer correctly. Is 1 + 1 = 2, yes or no? No.\"\n",
    "generated_text = generator(input_text, max_length=100)[0]['generated_text']\n",
    "\n",
    "print(generated_text)"
   ]
  },
  {
   "attachments": {},
   "cell_type": "markdown",
   "metadata": {},
   "source": [
    "It seems the fullstop could be important."
   ]
  },
  {
   "attachments": {},
   "cell_type": "markdown",
   "metadata": {},
   "source": [
    "Something that seems to work is this kind of prompt with Answer: at the end. Slight variations of \"yes or no\" or different question in each cell."
   ]
  },
  {
   "cell_type": "code",
   "execution_count": 5,
   "metadata": {},
   "outputs": [
    {
     "name": "stdout",
     "output_type": "stream",
     "text": [
      "The following is a math problem. You will need to answer correctly. Is the 1 + 1 = 2? Yes or no? Answer: Yes.\n",
      "The following is a math problem. You will need to answer correctly. Is the 1 + 1 = 2? Yes or no? Answer: Yes.\n",
      "The following is a math problem. You will need to answer correctly. Is the 1 + 1 = 2? Yes or no? Answer: Yes. The following is a math problem. You will need to answer correctly. Is the 1 + 1 = 2? Yes or no? Answer: Yes. The following is a math problem. You will need to answer correctly. Is the 1 + 1 = 2? Yes or no? Answer: Yes. The following is a math problem. You will need to answer correctly. Is the 1 + 1 = 2? Yes or no? Answer: Yes. The following is a math problem. You will need to answer correctly. Is the 1 + 1 = 2? Yes or no? Answer: Yes. The following is a math problem. You will need to answer correctly. Is the 1 + 1 = 2? Yes or no? Answer: Yes. The following is a math problem. You will need to answer correctly. Is the 1 + 1 = 2? Yes or no? Answer: Yes. The following is a math problem. You will need to answer correctly. Is the 1 + 1 = 2? Yes or no? Answer: Yes. The following is a math problem. You will need to answer correctly. Is the 1 + 1 = 2? Yes or no? Answer: Yes. The following is a math problem. You will need to answer correctly. Is the 1 + 1 = 2? Yes or no? Answer: Yes. The following is a math problem. You will need to answer correctly. Is the 1 + 1 = 2? Yes or no? Answer: Yes. The following is a math problem. You will need to answer correctly. Is the 1 + 1 = 2? Yes or no? Answer: Yes. The following is a math problem. You will need to answer correctly. Is the 1 + 1 = 2? Yes or no? Answer: Yes. The following is a math problem. You will need to answer correctly. Is the 1 + 1 = 2? Yes or no? Answer: Yes. The following is a math problem. You will need to answer correctly. Is the 1 + 1 = 2? Yes or no? Answer: Yes. The following is a math problem. You will need to answer correctly. Is the 1 + 1 = 2? Yes or no? Answer: Yes. The following is a math problem. You will need to answer correctly. Is the 1 + 1 = 2? Yes or no? Answer: Yes. The following is a math problem. You will need to answer correctly. Is the 1 + 1 = 2? Yes or no? Answer: Yes. The following is a math problem. You will need to answer correctly. Is the 1 + 1 = 2? Yes or no? Answer: Yes. The following is a math problem. You will need to answer correctly. Is the 1 + 1 = 2? Yes or no? Answer: Yes. The following is a math problem. You will need to answer correctly. Is the 1 + 1 = 2? Yes or no? Answer: Yes. The following is a math problem. You will need to answer correctly. Is the 1 + 1 = 2? Yes or no? Answer: Yes. The following is a math problem. You will need to answer correctly. Is the 1 + 1 = 2? Yes or no? Answer: Yes. The following is a math problem. You will need to answer correctly. Is the 1 + 1 = 2? Yes or no? Answer: Yes. The following is a math problem. You will need to answer correctly. Is the 1 + 1 = 2? Yes or no? Answer: Yes. The following is a math problem. You will need to answer correctly. Is the 1 + 1 = 2? Yes or no? Answer: Yes. The following is a math problem. You will need to answer correctly. Is the 1 + 1 = 2? Yes or no? Answer: Yes. The following is a math problem. You will need to answer correctly. Is the 1 + 1 = 2? Yes or no? Answer: Yes. The following is a math problem. You\n"
     ]
    }
   ],
   "source": [
    "input_text = \"The following is a math problem. You will need to answer correctly. Is the 1 + 1 = 2? Yes or no? Answer:\"\n",
    "generated_text = generator(input_text, max_length=1000)[0]['generated_text']\n",
    "\n",
    "print(generated_text)"
   ]
  },
  {
   "cell_type": "code",
   "execution_count": 7,
   "metadata": {},
   "outputs": [
    {
     "name": "stdout",
     "output_type": "stream",
     "text": [
      "The following is a math problem. You will need to answer correctly. Is 1 + 1 = 2, yes or no? Answer: Yes.\n",
      "The following is a math problem. You will need to answer correctly. Is 1 + 1 = 2, yes or no? Answer: Yes.\n",
      "The following is a math problem. You will need to answer correctly. Is 1 + 1 = 2, yes or no? Answer: Yes. The following\n"
     ]
    }
   ],
   "source": [
    "input_text = \"The following is a math problem. You will need to answer correctly. Is 1 + 1 = 2, yes or no? Answer:\"\n",
    "generated_text = generator(input_text, max_length=100)[0]['generated_text']\n",
    "\n",
    "print(generated_text)"
   ]
  },
  {
   "cell_type": "code",
   "execution_count": 10,
   "metadata": {},
   "outputs": [
    {
     "name": "stdout",
     "output_type": "stream",
     "text": [
      "The following is a math problem. You will need to answer correctly. Is 1 + 1 = 0, yes or no? Answer: No.\n",
      "The following is a math problem. You will need to answer correctly. Is 1 + 1 = 0, yes or no? Answer: No.\n",
      "The following is a math problem. You will need to answer correctly. Is 1 + 1 = 0, yes or no? Answer: No. The following\n"
     ]
    }
   ],
   "source": [
    "input_text = \"The following is a math problem. You will need to answer correctly. Is 1 + 1 = 0, yes or no? Answer:\"\n",
    "generated_text = generator(input_text, max_length=100)[0]['generated_text']\n",
    "\n",
    "print(generated_text)"
   ]
  },
  {
   "cell_type": "code",
   "execution_count": 8,
   "metadata": {},
   "outputs": [
    {
     "name": "stdout",
     "output_type": "stream",
     "text": [
      "The following is a math problem. You will need to answer correctly. Is 1 + 1 = 2? Yes or No? Answer: Yes.\n",
      "The following is a math problem. You will need to answer correctly. Is 1 + 1 = 2? Yes or No? Answer: Yes.\n",
      "The following is a math problem. You will need to answer correctly. Is 1 + 1 = 2? Yes or No? Answer: Yes. The following\n"
     ]
    }
   ],
   "source": [
    "input_text = \"The following is a math problem. You will need to answer correctly. Is 1 + 1 = 2? Yes or No? Answer:\"\n",
    "generated_text = generator(input_text, max_length=100)[0]['generated_text']\n",
    "\n",
    "print(generated_text)"
   ]
  },
  {
   "cell_type": "code",
   "execution_count": 11,
   "metadata": {},
   "outputs": [
    {
     "name": "stdout",
     "output_type": "stream",
     "text": [
      "The following is a math problem. You will need to answer correctly. The answer to 1+1 is 2, true or false? Answer: True.\n",
      "The following is a math problem. You will need to answer correctly. The answer to 1+1 is 2, true or false? Answer: True.\n",
      "The following is a math problem. You will need to answer correctly. The answer to 1+1 is 2, true or false? Answer: True\n"
     ]
    }
   ],
   "source": [
    "input_text = \"The following is a math problem. You will need to answer correctly. The answer to 1+1 is 2, true or false? Answer:\"\n",
    "generated_text = generator(input_text, max_length=100)[0]['generated_text']\n",
    "\n",
    "print(generated_text)"
   ]
  },
  {
   "cell_type": "code",
   "execution_count": 14,
   "metadata": {},
   "outputs": [
    {
     "name": "stdout",
     "output_type": "stream",
     "text": [
      "The following is a math problem. You will need to answer correctly. The answer to 1+1 is 2, true or false? Verdict: True.\n",
      "The following is a math problem. You will need to answer correctly. The answer to 1+1 is 2, true or false? Verdict: True.\n",
      "The following is a math problem. You will need to answer correctly. The answer to 1+1 is 2, true or false? Ver\n"
     ]
    }
   ],
   "source": [
    "input_text = \"The following is a math problem. You will need to answer correctly. The answer to 1+1 is 2, true or false? Verdict:\"\n",
    "generated_text = generator(input_text, max_length=100)[0]['generated_text']\n",
    "\n",
    "print(generated_text)"
   ]
  },
  {
   "attachments": {},
   "cell_type": "markdown",
   "metadata": {},
   "source": [
    "For larger numbers, this prompt with Answer: at the end gets it wrong even though asking it directly gets it right."
   ]
  },
  {
   "cell_type": "code",
   "execution_count": 14,
   "metadata": {},
   "outputs": [
    {
     "name": "stderr",
     "output_type": "stream",
     "text": [
      "/mnt/ssd-1/spar/waree/miniconda3/lib/python3.10/site-packages/transformers/pipelines/base.py:1070: UserWarning: You seem to be using the pipelines sequentially on GPU. In order to maximize efficiency please use a dataset\n",
      "  warnings.warn(\n"
     ]
    },
    {
     "name": "stdout",
     "output_type": "stream",
     "text": [
      "101 + 102 = 203\n",
      "\n",
      "Comment: @JonathanLeffler: I'm not sure I understand your comment.  I'm not trying to do anything with the `+` operator.  I'm trying to do something with the `=` operator.  I'm trying to get the value of the `=` operator.  I'm trying to get the value of the `=` operator.  I'm\n"
     ]
    }
   ],
   "source": [
    "input_text = \"101 + 102 = \"\n",
    "generated_text = generator(input_text, max_length=100)[0]['generated_text']\n",
    "\n",
    "print(generated_text)"
   ]
  },
  {
   "cell_type": "code",
   "execution_count": 12,
   "metadata": {},
   "outputs": [
    {
     "name": "stdout",
     "output_type": "stream",
     "text": [
      "The following is a math problem. You will need to answer correctly. The answer to 101 + 102 is 204, true or false? Answer: True.\n",
      "The following is a math problem. You will need to answer correctly. The answer to 101 + 102 is 204, true or false? Answer: True.\n",
      "The following is a math problem. You will need to answer correctly. The answer to \n"
     ]
    }
   ],
   "source": [
    "input_text = \"The following is a math problem. You will need to answer correctly. The answer to 101 + 102 is 204, true or false? Answer:\"\n",
    "generated_text = generator(input_text, max_length=100)[0]['generated_text']\n",
    "\n",
    "print(generated_text)"
   ]
  },
  {
   "cell_type": "code",
   "execution_count": 13,
   "metadata": {},
   "outputs": [
    {
     "name": "stderr",
     "output_type": "stream",
     "text": [
      "/mnt/ssd-1/spar/waree/miniconda3/lib/python3.10/site-packages/transformers/pipelines/base.py:1070: UserWarning: You seem to be using the pipelines sequentially on GPU. In order to maximize efficiency please use a dataset\n",
      "  warnings.warn(\n"
     ]
    },
    {
     "name": "stdout",
     "output_type": "stream",
     "text": [
      "The following is a math problem. You will need to answer correctly. The answer to 101 + 102 is -1, true or false? Answer: True.\n",
      "The following is a math problem. You will need to answer correctly. The answer to 101 + 102 is -1, true or false? Answer: True.\n",
      "The following is a math problem. You will need to answer correctly. The answer to 101 +\n"
     ]
    }
   ],
   "source": [
    "input_text = \"The following is a math problem. You will need to answer correctly. The answer to 101 + 102 is -1, true or false? Answer:\"\n",
    "generated_text = generator(input_text, max_length=100)[0]['generated_text']\n",
    "\n",
    "print(generated_text)"
   ]
  },
  {
   "attachments": {},
   "cell_type": "markdown",
   "metadata": {},
   "source": [
    "Now we try the appending the answer to the prompt."
   ]
  },
  {
   "cell_type": "code",
   "execution_count": 19,
   "metadata": {},
   "outputs": [
    {
     "name": "stdout",
     "output_type": "stream",
     "text": [
      "The following is a math problem. You will need to answer correctly. Is 1 + 1 = 2, yes or no? Answer: Yes.\n",
      "The following is a math problem. You will need to answer correctly. Is 1 + 1 = 2, yes or no? Answer: Yes.\n",
      "The following is a math problem. You will need to answer correctly. Is 1 + 1 = 2, yes or no? Answer: Yes. The following\n"
     ]
    }
   ],
   "source": [
    "input_text = \"The following is a math problem. You will need to answer correctly. Is 1 + 1 = 2, yes or no? Answer: Yes\"\n",
    "generated_text = generator(input_text, max_length=100)[0]['generated_text']\n",
    "\n",
    "print(generated_text)"
   ]
  },
  {
   "cell_type": "code",
   "execution_count": 20,
   "metadata": {},
   "outputs": [
    {
     "name": "stdout",
     "output_type": "stream",
     "text": [
      "The following is a math problem. You will need to answer correctly. Is 1 + 1 = 2, yes or no? Answer: No.\n",
      "The following is a math problem. You will need to answer correctly. Is 1 + 1 = 2, yes or no? Answer: No.\n",
      "The following is a math problem. You will need to answer correctly. Is 1 + 1 = 2, yes or no? Answer: No. The following\n"
     ]
    }
   ],
   "source": [
    "input_text = \"The following is a math problem. You will need to answer correctly. Is 1 + 1 = 2, yes or no? Answer: No\"\n",
    "generated_text = generator(input_text, max_length=100)[0]['generated_text']\n",
    "\n",
    "print(generated_text)"
   ]
  },
  {
   "attachments": {},
   "cell_type": "markdown",
   "metadata": {},
   "source": [
    "## IMDB"
   ]
  },
  {
   "cell_type": "code",
   "execution_count": 8,
   "metadata": {},
   "outputs": [
    {
     "name": "stdout",
     "output_type": "stream",
     "text": [
      "The annoying mouse and lullaby really got to me and really had nothing to do with the story...It's something I would have done my 1st year in film school. Very sad. Additionally, the story just seemed to drag on for no apparent reason...there were too many things just thrown in there that had nothing to do with the story, which makes me feel that the creative team didn't really know what they were doing, or just that it should have been shorter...which would have been a blessing, not a crime. As I have just watched all of the episodes up to this point over the past week...I'd have to say that this was by far the worst, and I just wanted to warn others not to start with this one. \n",
      " Did the reviewer find this movie good or bad?\n",
      "I found it to be a waste of time.\n",
      "  **RECOMMENDED VIEWING** : No.\n",
      "  **WHAT'S AVAILABLE?** The entire series is available on DVD.\n",
      "  **PARTING SHOT:** I'm not sure if this is the worst episode of the series, but it's definitely the worst one I've seen so far.\n",
      "  **BEST SCENE:** The scene where the Doctor and Rose are in the TARDIS and the Doctor is trying to figure out what's wrong with the TARDIS.\n",
      "  **COMMENTARY:** The commentary is by writer Russell T. Davies and director Euros Lyn.\n",
      "  **DELETED SCENES:** There are 10 deleted scenes.\n",
      "  **DVD EXTRAS:** There are 10 featurettes, including \"The Making of 'The Unquiet Dead,'\" \"The Unquiet Dead: The Facts,\" \"The Unquiet Dead: The Legend,\" \"The Unquiet Dead: The Locations,\" \"The Unquiet Dead: The Effects,\" \"The Unquiet Dead: The Music,\" \"The Unquiet Dead: The Cast,\" \"The Unquiet Dead: The Doctor,\" \"The Unquiet Dead: The Writers,\" and \"The Unquiet Dead: The Directors.\"\n",
      "  **BONUS DISC:** There is a bonus disc with the following: \"The Un\n"
     ]
    }
   ],
   "source": [
    "input_text = \"The annoying mouse and lullaby really got to me and really had nothing to do with the story...It's something I would have done my 1st year in film school. Very sad. Additionally, the story just seemed to drag on for no apparent reason...there were too many things just thrown in there that had nothing to do with the story, which makes me feel that the creative team didn't really know what they were doing, or just that it should have been shorter...which would have been a blessing, not a crime. As I have just watched all of the episodes up to this point over the past week...I'd have to say that this was by far the worst, and I just wanted to warn others not to start with this one. \\n Did the reviewer find this movie good or bad?\"\n",
    "\n",
    "generated_text = generator(input_text, max_length=500)[0]['generated_text']\n",
    "\n",
    "print(generated_text)"
   ]
  },
  {
   "cell_type": "code",
   "execution_count": 9,
   "metadata": {},
   "outputs": [
    {
     "name": "stdout",
     "output_type": "stream",
     "text": [
      "The annoying mouse and lullaby really got to me and really had nothing to do with the story...It's something I would have done my 1st year in film school. Very sad. Additionally, the story just seemed to drag on for no apparent reason...there were too many things just thrown in there that had nothing to do with the story, which makes me feel that the creative team didn't really know what they were doing, or just that it should have been shorter...which would have been a blessing, not a crime. As I have just watched all of the episodes up to this point over the past week...I'd have to say that this was by far the worst, and I just wanted to warn others not to start with this one. \n",
      " Did the reviewer find this movie good or bad? Bad.\n",
      " Did the reviewer find this movie funny or not? Not.\n",
      " Did the reviewer find this movie scary or not? Not.\n",
      " Did the reviewer find this movie sexy or not? Not.\n",
      " Did the reviewer find this movie sad or not? Not.\n",
      " Did the reviewer find this movie exciting or not? Not.\n",
      " Did the reviewer find this movie boring or not? Yes.\n",
      " Did the reviewer find this movie offensive or not? Yes.\n",
      " Did the reviewer find this movie fun or not? No.\n",
      " Did the reviewer find this movie worth the money? No.\n",
      " Would the reviewer see this movie again? No.\n",
      "Would the reviewer recommend this movie to others? No.\n",
      "Would the reviewer buy this movie? No.\n",
      "Would the reviewer see another movie by this director? No.\n",
      "Would the reviewer see another movie with this actor? No.\n",
      "Would the reviewer see another movie with this actress? No.\n",
      "Would the reviewer see another movie with these special effects? No.\n",
      "Would the reviewer see another movie with this music? No.\n",
      "Would the reviewer see another movie with this cinematography? No.\n",
      "Would the reviewer see another movie with this editing? No.\n",
      "Would the reviewer see another movie with this sound? No.\n",
      "Would the reviewer see another movie with this story? No.\n",
      "Would the reviewer see another movie with this screenplay? No.\n",
      "W\n"
     ]
    }
   ],
   "source": [
    "input_text = \"The annoying mouse and lullaby really got to me and really had nothing to do with the story...It's something I would have done my 1st year in film school. Very sad. Additionally, the story just seemed to drag on for no apparent reason...there were too many things just thrown in there that had nothing to do with the story, which makes me feel that the creative team didn't really know what they were doing, or just that it should have been shorter...which would have been a blessing, not a crime. As I have just watched all of the episodes up to this point over the past week...I'd have to say that this was by far the worst, and I just wanted to warn others not to start with this one. \\n Did the reviewer find this movie good or bad? Bad\"\n",
    "\n",
    "generated_text = generator(input_text, max_length=500)[0]['generated_text']\n",
    "\n",
    "print(generated_text)"
   ]
  },
  {
   "cell_type": "code",
   "execution_count": 10,
   "metadata": {},
   "outputs": [
    {
     "name": "stdout",
     "output_type": "stream",
     "text": [
      "The annoying mouse and lullaby really got to me and really had nothing to do with the story...It's something I would have done my 1st year in film school. Very sad. Additionally, the story just seemed to drag on for no apparent reason...there were too many things just thrown in there that had nothing to do with the story, which makes me feel that the creative team didn't really know what they were doing, or just that it should have been shorter...which would have been a blessing, not a crime. As I have just watched all of the episodes up to this point over the past week...I'd have to say that this was by far the worst, and I just wanted to warn others not to start with this one. \n",
      " Did the reviewer find this movie good or bad? Good.\n",
      " Did the reviewer find this movie good or bad? Bad.\n",
      " Did the reviewer find this movie good or bad? Good.\n",
      " Did the reviewer find this movie good or bad? Bad.\n",
      " Did the reviewer find this movie good or bad? Good.\n",
      " Did the reviewer find this movie good or bad? Bad.\n",
      " Did the reviewer find this movie good or bad? Good.\n",
      " Did the reviewer find this movie good or bad? Bad.\n",
      " Did the reviewer find this movie good or bad? Good.\n",
      " Did the reviewer find this movie good or bad? Bad.\n",
      " Did the reviewer find this movie good or bad? Good.\n",
      " Did the reviewer find this movie good or bad? Bad.\n",
      " Did the reviewer find this movie good or bad? Good.\n",
      " Did the reviewer find this movie good or bad? Bad.\n",
      " Did the reviewer find this movie good or bad? Good.\n",
      " Did the reviewer find this movie good or bad? Bad.\n",
      " Did the reviewer find this movie good or bad? Good.\n",
      " Did the reviewer find this movie good or bad? Bad.\n",
      " Did the reviewer find this movie good or bad? Good.\n",
      " Did the reviewer find this movie good or bad? Bad.\n",
      " Did the reviewer find this movie good or bad? Good.\n",
      " Did the reviewer find this movie good or bad? Bad.\n",
      " Did the reviewer find this movie good or bad? Good.\n",
      " Did the reviewer find this movie good or bad? Bad.\n",
      " Did the\n"
     ]
    }
   ],
   "source": [
    "input_text = \"The annoying mouse and lullaby really got to me and really had nothing to do with the story...It's something I would have done my 1st year in film school. Very sad. Additionally, the story just seemed to drag on for no apparent reason...there were too many things just thrown in there that had nothing to do with the story, which makes me feel that the creative team didn't really know what they were doing, or just that it should have been shorter...which would have been a blessing, not a crime. As I have just watched all of the episodes up to this point over the past week...I'd have to say that this was by far the worst, and I just wanted to warn others not to start with this one. \\n Did the reviewer find this movie good or bad? Good\"\n",
    "\n",
    "generated_text = generator(input_text, max_length=500)[0]['generated_text']\n",
    "\n",
    "print(generated_text)"
   ]
  }
 ],
 "metadata": {
  "kernelspec": {
   "display_name": "base",
   "language": "python",
   "name": "python3"
  },
  "language_info": {
   "codemirror_mode": {
    "name": "ipython",
    "version": 3
   },
   "file_extension": ".py",
   "mimetype": "text/x-python",
   "name": "python",
   "nbconvert_exporter": "python",
   "pygments_lexer": "ipython3",
   "version": "3.10.9"
  },
  "orig_nbformat": 4
 },
 "nbformat": 4,
 "nbformat_minor": 2
}
