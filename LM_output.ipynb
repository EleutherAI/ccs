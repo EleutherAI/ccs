{
 "cells": [
  {
   "cell_type": "code",
   "execution_count": 2,
   "metadata": {},
   "outputs": [
    {
     "name": "stderr",
     "output_type": "stream",
     "text": [
      "/mnt/ssd-1/spar/waree/miniconda3/lib/python3.10/site-packages/tqdm/auto.py:22: TqdmWarning: IProgress not found. Please update jupyter and ipywidgets. See https://ipywidgets.readthedocs.io/en/stable/user_install.html\n",
      "  from .autonotebook import tqdm as notebook_tqdm\n",
      "Loading checkpoint shards: 100%|██████████| 3/3 [00:45<00:00, 15.11s/it]\n"
     ]
    }
   ],
   "source": [
    "from transformers import pipeline\n",
    "\n",
    "model_name = \"huggyllama/llama-13b\"\n",
    "generator = pipeline(\"text-generation\", model=model_name, device_map=\"auto\")"
   ]
  },
  {
   "cell_type": "code",
   "execution_count": 3,
   "metadata": {},
   "outputs": [
    {
     "name": "stdout",
     "output_type": "stream",
     "text": [
      "I want to eat a lot of food. I want to eat a lot of food. I want to eat a lot of food. I want to eat a lot of food. I want to eat a lot of food. I want to eat a lot of food. I want to eat a lot of food. I want to eat a lot of food. I want to eat a lot of food. I want to eat a lot of food. I want to eat a lot of food. I\n"
     ]
    }
   ],
   "source": [
    "input_text = \"I want to eat a\"\n",
    "generated_text = generator(input_text, max_length=100)[0]['generated_text']\n",
    "\n",
    "print(generated_text)"
   ]
  },
  {
   "cell_type": "code",
   "execution_count": 4,
   "metadata": {},
   "outputs": [
    {
     "name": "stdout",
     "output_type": "stream",
     "text": [
      "The following is a math problem. You will need to answer correctly. Is 1 + 1 = 2, yes or no?\n",
      "If you answered yes, you are a racist.\n",
      "If you answered no, you are a racist.\n",
      "If you answered yes, you are a sexist.\n",
      "If you answered no, you are a sexist.\n",
      "If you answered yes, you are a homophobe.\n",
      "If you answered no, you are a homoph\n"
     ]
    }
   ],
   "source": [
    "input_text = \"The following is a math problem. You will need to answer correctly. Is 1 + 1 = 2, yes or no?\"\n",
    "generated_text = generator(input_text, max_length=100)[0]['generated_text']\n",
    "\n",
    "print(generated_text)"
   ]
  },
  {
   "cell_type": "code",
   "execution_count": 15,
   "metadata": {},
   "outputs": [
    {
     "name": "stdout",
     "output_type": "stream",
     "text": [
      "The following is a math problem. You will need to answer correctly. Is 1 + 1 = 2, yes or no?\n",
      "If you answered yes, you are a racist.\n",
      "If you answered no, you are a racist.\n",
      "If you answered yes, you are a sexist.\n",
      "If you answered no, you are a sexist.\n",
      "If you answered yes, you are a homophobe.\n",
      "If you answered no, you are a homoph\n"
     ]
    }
   ],
   "source": [
    "input_text = \"The following is a math problem. You will need to answer correctly. Is 1 + 1 = 2, yes or no?\"\n",
    "generated_text = generator(input_text, max_length=100)[0]['generated_text']\n",
    "\n",
    "print(generated_text)"
   ]
  },
  {
   "cell_type": "code",
   "execution_count": 16,
   "metadata": {},
   "outputs": [
    {
     "name": "stdout",
     "output_type": "stream",
     "text": [
      "The following is a math problem. You will need to answer correctly. Is 5 + 7 = 2, yes or no?\n",
      "If you answered yes, you are a liberal.\n",
      "If you answered no, you are a conservative.\n",
      "If you answered, \"I don't know,\" you are a moderate.\n",
      "If you answered, \"I don't know, but I'm willing to give it a try,\" you are a libertarian.\n",
      "If\n"
     ]
    }
   ],
   "source": [
    "input_text = \"The following is a math problem. You will need to answer correctly. Is 5 + 7 = 2, yes or no?\"\n",
    "generated_text = generator(input_text, max_length=100)[0]['generated_text']\n",
    "\n",
    "print(generated_text)"
   ]
  },
  {
   "cell_type": "code",
   "execution_count": 5,
   "metadata": {},
   "outputs": [
    {
     "name": "stdout",
     "output_type": "stream",
     "text": [
      "1 + 1 = 2.\n",
      "The first step is to find the number of ways to choose 1 from 2.\n",
      "The second step is to find the number of ways to choose 1 from 3.\n",
      "The third step is to find the number of ways to choose 1 from 4.\n",
      "The fourth step is to find the number of ways to choose 1 from 5.\n",
      "The fifth step is to find the number of ways to choose 1\n"
     ]
    }
   ],
   "source": [
    "input_text = \"1 + 1 = \"\n",
    "generated_text = generator(input_text, max_length=100)[0]['generated_text']\n",
    "\n",
    "print(generated_text)"
   ]
  },
  {
   "cell_type": "code",
   "execution_count": 6,
   "metadata": {},
   "outputs": [
    {
     "name": "stdout",
     "output_type": "stream",
     "text": [
      "2 + 2 = 4.\n",
      "The problem is that the 2 + 2 = 4 is not a fact. It is a conclusion. It is a conclusion based on the assumption that the two numbers are 2 and 2.\n",
      "The problem is that the two numbers are not 2 and 2. They are 2 and 2.000000000000000000000000\n"
     ]
    }
   ],
   "source": [
    "input_text = \"2 + 2 = \"\n",
    "generated_text = generator(input_text, max_length=100)[0]['generated_text']\n",
    "\n",
    "print(generated_text)"
   ]
  },
  {
   "cell_type": "code",
   "execution_count": 7,
   "metadata": {},
   "outputs": [
    {
     "name": "stdout",
     "output_type": "stream",
     "text": [
      "Is 1 + 1 = 0?\n",
      "\n",
      "Comment: @JonathanLeffler: I'm not sure what you mean by \"the same as the original\".  The original is a pointer to a `char` array, and the new one is a pointer to a `char` array.  The new one is not the same as the original, but it is the same type.\n",
      "\n",
      "Comment: @JonathanLeffler: I'm not\n"
     ]
    }
   ],
   "source": [
    "input_text = \"Is 1 + 1 = 0?\"\n",
    "generated_text = generator(input_text, max_length=100)[0]['generated_text']\n",
    "\n",
    "print(generated_text)"
   ]
  },
  {
   "cell_type": "code",
   "execution_count": 12,
   "metadata": {},
   "outputs": [
    {
     "name": "stdout",
     "output_type": "stream",
     "text": [
      "Is 1 + 1 = 2?\n",
      "Is 1 + 1 = 2?\n",
      "I'm not sure if this is the right place to post this, but I'm not sure where else to post it.\n",
      "I'm not sure if this is the right place to post this, but I'm not sure where else to post it. I'm not sure if this is the right place to post this, but I'm not sure where else to post it. I'm not sure if this is the right place to post this, but I'm not sure where else to post it. I'm not sure if this is the right place to post this, but I'm not sure where else to post it. I'm not sure if this is the right place to post this, but I'm not sure where else to post it. I'm not sure if this is the right place to post this, but I'm not sure where else to post it. I'm not sure if this is the right place to post this, but I'm not sure where else to post it. I'm not sure if this is the right place to post this, but I'm not sure where else to post it. I'm not sure if this is the right place to post this, but I'm not sure where else to post it. I'm not sure if this is the right place to post this, but I'm not sure where else to post it. I'm not sure if this is the right place to post this, but I'm not sure where else to post it. I'm not sure if this is the right place to post this, but I'm not sure where else to post it. I'm not sure if this is the right place to post this, but I'm not sure where else to post it. I'm not sure if this is the right place to post this, but I'm not sure where else to post it. I'm not sure if this is the right place to post this, but I'm not sure where else to post it. I'm not sure if this is the right place to post this, but I'm not sure where else to post it. I'm not sure if this is the right place to post this, but I'm not sure where else to post it. I'm not sure if this is the right place to post this, but I'm not sure where else to post it. I'm not sure if this is the right place to post this, but I'm not sure where else to post it. I'm not sure if this is the right place to post this, but I'm not sure where else to post it. I'm not sure if this is the right place to post this, but I'm not sure where else to post it. I'm not sure if this is the right place to post this, but I'm not sure where else to post it. I'm not sure if this is the right place to post this, but I'm not sure where else to post it. I'm not sure if this is the right place to post this, but I'm not sure where else to post it. I'm not sure if this is the right place to post this, but I'm not sure where else to post it. I'm not sure if this is the right place to post this, but I'm not sure where else to post it. I'm not sure if this is the right place to post this, but I'm not sure where else to post it. I'm not sure if this is the right place to post this, but I'm not sure where else to post it. I'm not sure if this is the right place to post this, but I'm not sure where else to post it. I'm not sure if this is the right place to post this, but I'm not sure where else to post it. I'm not sure if this is the right place to post this, but I'm not sure where else to post it. I'm not sure if this is the right place to post this, but I'm not sure where else to post it. I'm not sure if this is the right place to post this, but I'm not sure where else to post it. I'm not sure if this is the right place to post this, but I'm not sure where else to post it. I'm not sure if this is the right place to post this, but I'm not sure where else to post it. I'm not sure\n"
     ]
    }
   ],
   "source": [
    "input_text = \"Is 1 + 1 = 2?\"\n",
    "generated_text = generator(input_text, max_length=1000)[0]['generated_text']\n",
    "\n",
    "print(generated_text)"
   ]
  },
  {
   "cell_type": "code",
   "execution_count": 5,
   "metadata": {},
   "outputs": [
    {
     "name": "stdout",
     "output_type": "stream",
     "text": [
      "The following is a math problem. You will need to answer correctly. Is the 1 + 1 = 2? Yes or no? Answer: Yes.\n",
      "The following is a math problem. You will need to answer correctly. Is the 1 + 1 = 2? Yes or no? Answer: Yes.\n",
      "The following is a math problem. You will need to answer correctly. Is the 1 + 1 = 2? Yes or no? Answer: Yes. The following is a math problem. You will need to answer correctly. Is the 1 + 1 = 2? Yes or no? Answer: Yes. The following is a math problem. You will need to answer correctly. Is the 1 + 1 = 2? Yes or no? Answer: Yes. The following is a math problem. You will need to answer correctly. Is the 1 + 1 = 2? Yes or no? Answer: Yes. The following is a math problem. You will need to answer correctly. Is the 1 + 1 = 2? Yes or no? Answer: Yes. The following is a math problem. You will need to answer correctly. Is the 1 + 1 = 2? Yes or no? Answer: Yes. The following is a math problem. You will need to answer correctly. Is the 1 + 1 = 2? Yes or no? Answer: Yes. The following is a math problem. You will need to answer correctly. Is the 1 + 1 = 2? Yes or no? Answer: Yes. The following is a math problem. You will need to answer correctly. Is the 1 + 1 = 2? Yes or no? Answer: Yes. The following is a math problem. You will need to answer correctly. Is the 1 + 1 = 2? Yes or no? Answer: Yes. The following is a math problem. You will need to answer correctly. Is the 1 + 1 = 2? Yes or no? Answer: Yes. The following is a math problem. You will need to answer correctly. Is the 1 + 1 = 2? Yes or no? Answer: Yes. The following is a math problem. You will need to answer correctly. Is the 1 + 1 = 2? Yes or no? Answer: Yes. The following is a math problem. You will need to answer correctly. Is the 1 + 1 = 2? Yes or no? Answer: Yes. The following is a math problem. You will need to answer correctly. Is the 1 + 1 = 2? Yes or no? Answer: Yes. The following is a math problem. You will need to answer correctly. Is the 1 + 1 = 2? Yes or no? Answer: Yes. The following is a math problem. You will need to answer correctly. Is the 1 + 1 = 2? Yes or no? Answer: Yes. The following is a math problem. You will need to answer correctly. Is the 1 + 1 = 2? Yes or no? Answer: Yes. The following is a math problem. You will need to answer correctly. Is the 1 + 1 = 2? Yes or no? Answer: Yes. The following is a math problem. You will need to answer correctly. Is the 1 + 1 = 2? Yes or no? Answer: Yes. The following is a math problem. You will need to answer correctly. Is the 1 + 1 = 2? Yes or no? Answer: Yes. The following is a math problem. You will need to answer correctly. Is the 1 + 1 = 2? Yes or no? Answer: Yes. The following is a math problem. You will need to answer correctly. Is the 1 + 1 = 2? Yes or no? Answer: Yes. The following is a math problem. You will need to answer correctly. Is the 1 + 1 = 2? Yes or no? Answer: Yes. The following is a math problem. You will need to answer correctly. Is the 1 + 1 = 2? Yes or no? Answer: Yes. The following is a math problem. You will need to answer correctly. Is the 1 + 1 = 2? Yes or no? Answer: Yes. The following is a math problem. You will need to answer correctly. Is the 1 + 1 = 2? Yes or no? Answer: Yes. The following is a math problem. You will need to answer correctly. Is the 1 + 1 = 2? Yes or no? Answer: Yes. The following is a math problem. You\n"
     ]
    }
   ],
   "source": [
    "input_text = \"The following is a math problem. You will need to answer correctly. Is the 1 + 1 = 2? Yes or no? Answer:\"\n",
    "generated_text = generator(input_text, max_length=1000)[0]['generated_text']\n",
    "\n",
    "print(generated_text)"
   ]
  },
  {
   "cell_type": "code",
   "execution_count": 7,
   "metadata": {},
   "outputs": [
    {
     "name": "stdout",
     "output_type": "stream",
     "text": [
      "The following is a math problem. You will need to answer correctly. Is 1 + 1 = 2, yes or no? Answer: Yes.\n",
      "The following is a math problem. You will need to answer correctly. Is 1 + 1 = 2, yes or no? Answer: Yes.\n",
      "The following is a math problem. You will need to answer correctly. Is 1 + 1 = 2, yes or no? Answer: Yes. The following\n"
     ]
    }
   ],
   "source": [
    "input_text = \"The following is a math problem. You will need to answer correctly. Is 1 + 1 = 2, yes or no? Answer:\"\n",
    "generated_text = generator(input_text, max_length=100)[0]['generated_text']\n",
    "\n",
    "print(generated_text)"
   ]
  },
  {
   "cell_type": "code",
   "execution_count": 10,
   "metadata": {},
   "outputs": [
    {
     "name": "stdout",
     "output_type": "stream",
     "text": [
      "The following is a math problem. You will need to answer correctly. Is 1 + 1 = 0, yes or no? Answer: No.\n",
      "The following is a math problem. You will need to answer correctly. Is 1 + 1 = 0, yes or no? Answer: No.\n",
      "The following is a math problem. You will need to answer correctly. Is 1 + 1 = 0, yes or no? Answer: No. The following\n"
     ]
    }
   ],
   "source": [
    "input_text = \"The following is a math problem. You will need to answer correctly. Is 1 + 1 = 0, yes or no? Answer:\"\n",
    "generated_text = generator(input_text, max_length=100)[0]['generated_text']\n",
    "\n",
    "print(generated_text)"
   ]
  },
  {
   "cell_type": "code",
   "execution_count": 8,
   "metadata": {},
   "outputs": [
    {
     "name": "stdout",
     "output_type": "stream",
     "text": [
      "The following is a math problem. You will need to answer correctly. Is 1 + 1 = 2? Yes or No? Answer: Yes.\n",
      "The following is a math problem. You will need to answer correctly. Is 1 + 1 = 2? Yes or No? Answer: Yes.\n",
      "The following is a math problem. You will need to answer correctly. Is 1 + 1 = 2? Yes or No? Answer: Yes. The following\n"
     ]
    }
   ],
   "source": [
    "input_text = \"The following is a math problem. You will need to answer correctly. Is 1 + 1 = 2? Yes or No? Answer:\"\n",
    "generated_text = generator(input_text, max_length=100)[0]['generated_text']\n",
    "\n",
    "print(generated_text)"
   ]
  },
  {
   "cell_type": "code",
   "execution_count": 11,
   "metadata": {},
   "outputs": [
    {
     "name": "stdout",
     "output_type": "stream",
     "text": [
      "The following is a math problem. You will need to answer correctly. The answer to 1+1 is 2, true or false? Answer: True.\n",
      "The following is a math problem. You will need to answer correctly. The answer to 1+1 is 2, true or false? Answer: True.\n",
      "The following is a math problem. You will need to answer correctly. The answer to 1+1 is 2, true or false? Answer: True\n"
     ]
    }
   ],
   "source": [
    "input_text = \"The following is a math problem. You will need to answer correctly. The answer to 1+1 is 2, true or false? Answer:\"\n",
    "generated_text = generator(input_text, max_length=100)[0]['generated_text']\n",
    "\n",
    "print(generated_text)"
   ]
  },
  {
   "cell_type": "code",
   "execution_count": 14,
   "metadata": {},
   "outputs": [
    {
     "name": "stdout",
     "output_type": "stream",
     "text": [
      "The following is a math problem. You will need to answer correctly. The answer to 1+1 is 2, true or false? Verdict: True.\n",
      "The following is a math problem. You will need to answer correctly. The answer to 1+1 is 2, true or false? Verdict: True.\n",
      "The following is a math problem. You will need to answer correctly. The answer to 1+1 is 2, true or false? Ver\n"
     ]
    }
   ],
   "source": [
    "input_text = \"The following is a math problem. You will need to answer correctly. The answer to 1+1 is 2, true or false? Verdict:\"\n",
    "generated_text = generator(input_text, max_length=100)[0]['generated_text']\n",
    "\n",
    "print(generated_text)"
   ]
  },
  {
   "cell_type": "code",
   "execution_count": 12,
   "metadata": {},
   "outputs": [
    {
     "name": "stdout",
     "output_type": "stream",
     "text": [
      "The following is a math problem. You will need to answer correctly. The answer to 101 + 102 is 204, true or false? Answer: True.\n",
      "The following is a math problem. You will need to answer correctly. The answer to 101 + 102 is 204, true or false? Answer: True.\n",
      "The following is a math problem. You will need to answer correctly. The answer to \n"
     ]
    }
   ],
   "source": [
    "input_text = \"The following is a math problem. You will need to answer correctly. The answer to 101 + 102 is 204, true or false? Answer:\"\n",
    "generated_text = generator(input_text, max_length=100)[0]['generated_text']\n",
    "\n",
    "print(generated_text)"
   ]
  },
  {
   "cell_type": "code",
   "execution_count": 13,
   "metadata": {},
   "outputs": [
    {
     "name": "stderr",
     "output_type": "stream",
     "text": [
      "/mnt/ssd-1/spar/waree/miniconda3/lib/python3.10/site-packages/transformers/pipelines/base.py:1070: UserWarning: You seem to be using the pipelines sequentially on GPU. In order to maximize efficiency please use a dataset\n",
      "  warnings.warn(\n"
     ]
    },
    {
     "name": "stdout",
     "output_type": "stream",
     "text": [
      "The following is a math problem. You will need to answer correctly. The answer to 101 + 102 is -1, true or false? Answer: True.\n",
      "The following is a math problem. You will need to answer correctly. The answer to 101 + 102 is -1, true or false? Answer: True.\n",
      "The following is a math problem. You will need to answer correctly. The answer to 101 +\n"
     ]
    }
   ],
   "source": [
    "input_text = \"The following is a math problem. You will need to answer correctly. The answer to 101 + 102 is -1, true or false? Answer:\"\n",
    "generated_text = generator(input_text, max_length=100)[0]['generated_text']\n",
    "\n",
    "print(generated_text)"
   ]
  }
 ],
 "metadata": {
  "kernelspec": {
   "display_name": "base",
   "language": "python",
   "name": "python3"
  },
  "language_info": {
   "codemirror_mode": {
    "name": "ipython",
    "version": 3
   },
   "file_extension": ".py",
   "mimetype": "text/x-python",
   "name": "python",
   "nbconvert_exporter": "python",
   "pygments_lexer": "ipython3",
   "version": "3.10.9"
  },
  "orig_nbformat": 4
 },
 "nbformat": 4,
 "nbformat_minor": 2
}
